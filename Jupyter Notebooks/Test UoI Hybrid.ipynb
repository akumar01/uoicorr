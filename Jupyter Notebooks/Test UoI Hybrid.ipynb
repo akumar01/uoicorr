{
 "cells": [
  {
   "cell_type": "code",
   "execution_count": 1,
   "metadata": {},
   "outputs": [],
   "source": [
    "# %load uoicorr_imports.py\n",
    "import h5py\n",
    "\n",
    "import numpy as np\n",
    "import matplotlib.pyplot as plt\n",
    "from scipy.signal import correlate\n",
    "from math import floor, ceil\n",
    "\n",
    "# Script to add the entire project directory structure to the python path\n",
    "import sys, os\n",
    "\n",
    "# Hack to import pyuoi\n",
    "parent_path, current_dir = os.path.split(os.path.abspath('.'))\n",
    "while current_dir not in ['nse']:\n",
    "\tparent_path, current_dir = os.path.split(parent_path)\n",
    "p = os.path.join(parent_path, current_dir)\n",
    "# Add analysis\n",
    "if p not in sys.path:\n",
    "\tsys.path.append(p)\n",
    "\n",
    "# And standard list of subdirectories\n",
    "if '%s\\\\pyuoi' % p not in sys.path:\n",
    "\tsys.path.append('%s\\\\pyuoi' % p)\n",
    "\n",
    "from pyuoi.linear_model.lasso import UoI_Lasso\n",
    "from pyuoi.linear_model.elasticnet import UoI_ElasticNet\n",
    "from pyuoi.linear_model.hybrid import UoI_Hybrid\n",
    "\n",
    "from postprocess import postprocess_file, postprocess_dir"
   ]
  },
  {
   "cell_type": "code",
   "execution_count": 2,
   "metadata": {},
   "outputs": [],
   "source": [
    "from utils import gen_data, gen_beta, gen_covariance\n",
    "beta = gen_beta(n_features = 60, block_size = 60, sparsity = 0.4)\n",
    "covariance = gen_covariance('falloff')\n",
    "X, X_test, y, y_test = gen_data(300, 60, 0.3, covariance, beta)"
   ]
  },
  {
   "cell_type": "code",
   "execution_count": 3,
   "metadata": {},
   "outputs": [],
   "source": [
    "uoi = UoI_Hybrid(\n",
    "    normalize=True,\n",
    "    n_boots_sel=48,\n",
    "    n_boots_est=48,\n",
    "    alphas = [0.1, 0.25, 0.5, 0.9, 0.95, 0.99, 1],\n",
    "    estimation_score= 'r2',\n",
    "    warm_start = False\n",
    ")"
   ]
  },
  {
   "cell_type": "code",
   "execution_count": 4,
   "metadata": {},
   "outputs": [
    {
     "data": {
      "text/plain": [
       "UoI_Hybrid(alphas=[0.1, 0.25, 0.5, 0.9, 0.95, 0.99, 1], comm=None,\n",
       "      copy_X=True, eps=0.001, estimation_frac=0.9, estimation_score='r2',\n",
       "      fit_intercept=True, max_iter=None, n_boots_est=48, n_boots_sel=48,\n",
       "      n_lambdas=48, normalize=True, random_state=None, selection_frac=0.9,\n",
       "      stability_selection=1.0, warm_start=False)"
      ]
     },
     "execution_count": 4,
     "metadata": {},
     "output_type": "execute_result"
    }
   ],
   "source": [
    "uoi.fit(X, y)"
   ]
  },
  {
   "cell_type": "code",
   "execution_count": 5,
   "metadata": {},
   "outputs": [
    {
     "data": {
      "text/plain": [
       "array([[False, False, False, ..., False, False, False],\n",
       "       [False, False, False, ..., False, False, False],\n",
       "       [False, False, False, ..., False, False, False],\n",
       "       ...,\n",
       "       [ True,  True,  True, ...,  True, False, False],\n",
       "       [ True,  True,  True, ...,  True, False,  True],\n",
       "       [ True,  True,  True, ...,  True, False,  True]])"
      ]
     },
     "execution_count": 5,
     "metadata": {},
     "output_type": "execute_result"
    }
   ],
   "source": [
    "uoi.supports_en_"
   ]
  },
  {
   "cell_type": "code",
   "execution_count": 8,
   "metadata": {},
   "outputs": [
    {
     "data": {
      "text/plain": [
       "<matplotlib.colorbar.Colorbar at 0x1526ef5b710>"
      ]
     },
     "execution_count": 8,
     "metadata": {},
     "output_type": "execute_result"
    },
    {
     "data": {
      "image/png": "[encoded data removed]",
      "text/plain": [
       "<Figure size 432x288 with 2 Axes>"
      ]
     },
     "metadata": {
      "needs_background": "light"
     },
     "output_type": "display_data"
    }
   ],
   "source": [
    "plt.pcolor(1 * uoi.supports_en_, cmap = 'Greys')\n",
    "plt.colorbar()"
   ]
  },
  {
   "cell_type": "code",
   "execution_count": 10,
   "metadata": {},
   "outputs": [
    {
     "data": {
      "text/plain": [
       "<matplotlib.collections.PolyCollection at 0x1526f0baeb8>"
      ]
     },
     "execution_count": 10,
     "metadata": {},
     "output_type": "execute_result"
    },
    {
     "data": {
      "image/png": "[encoded data removed]",
      "text/plain": [
       "<Figure size 432x288 with 1 Axes>"
      ]
     },
     "metadata": {
      "needs_background": "light"
     },
     "output_type": "display_data"
    }
   ],
   "source": [
    "plt.pcolor(1 * uoi.supports_lasso_, cmap = 'Greys')"
   ]
  },
  {
   "cell_type": "markdown",
   "metadata": {},
   "source": [
    "### Scatter of false positive and false negatives within each model support"
   ]
  },
  {
   "cell_type": "code",
   "execution_count": 5,
   "metadata": {},
   "outputs": [],
   "source": [
    "fn_en = np.zeros(uoi.supports_en_.shape[0])\n",
    "fp_en = np.zeros(fn_en.size)\n",
    "\n",
    "for i in range(fn_en.size):\n",
    "    fn_en[i] = np.count_nonzero(beta[uoi.supports_en_[i, :] == 0, 0])\n",
    "    fp_en[i] = np.count_nonzero(uoi.supports_en_[i, :][beta.ravel() == 0])\n",
    "\n",
    "fn_lasso = np.zeros(uoi.supports_lasso_.shape[0])\n",
    "fp_lasso = np.zeros(fn_lasso.size)\n",
    "for i in range(fn_lasso.size):\n",
    "    fn_lasso[i] = np.count_nonzero(beta[uoi.supports_lasso_[i, :] == 0, 0])\n",
    "    fp_lasso[i] = np.count_nonzero(uoi.supports_lasso_[i, :][beta.ravel() == 0])\n",
    "\n",
    "fn_naive = np.zeros(uoi.supports_naive.shape[0])\n",
    "fp_naive = np.zeros(fn_naive.size)\n",
    "\n",
    "for i in range(fn_naive.size):\n",
    "    fn_naive[i] = np.count_nonzero(beta[uoi.supports_naive[i, :] == 0, 0])\n",
    "    fp_naive[i] = np.count_nonzero(uoi.supports_naive[i, :][beta.ravel() == 0])    "
   ]
  },
  {
   "cell_type": "code",
   "execution_count": 6,
   "metadata": {},
   "outputs": [
    {
     "data": {
      "text/plain": [
       "<matplotlib.collections.PathCollection at 0x1f2ce3b0630>"
      ]
     },
     "execution_count": 6,
     "metadata": {},
     "output_type": "execute_result"
    },
    {
     "data": {
      "image/png": "[encoded data removed]",
      "text/plain": [
       "<Figure size 432x288 with 1 Axes>"
      ]
     },
     "metadata": {
      "needs_background": "light"
     },
     "output_type": "display_data"
    }
   ],
   "source": [
    "plt.scatter(fn_en/24, fp_en/24)\n",
    "plt.scatter(fn_lasso/24, fp_lasso/24)\n",
    "plt.scatter(fn_naive/24, fp_naive/24)"
   ]
  },
  {
   "cell_type": "code",
   "execution_count": null,
   "metadata": {},
   "outputs": [],
   "source": []
  }
 ],
 "metadata": {
  "kernelspec": {
   "display_name": "Python 3",
   "language": "python",
   "name": "python3"
  },
  "language_info": {
   "codemirror_mode": {
    "name": "ipython",
    "version": 3
   },
   "file_extension": ".py",
   "mimetype": "text/x-python",
   "name": "python",
   "nbconvert_exporter": "python",
   "pygments_lexer": "ipython3",
   "version": "3.6.6"
  }
 },
 "nbformat": 4,
 "nbformat_minor": 2
}
