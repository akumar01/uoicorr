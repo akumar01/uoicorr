{
 "cells": [
  {
   "cell_type": "code",
   "execution_count": 1,
   "metadata": {},
   "outputs": [],
   "source": [
    "# %load uoicorr_imports.py\n",
    "%load_ext autoreload\n",
    "%autoreload 2\n",
    "\n",
    "import h5py\n",
    "\n",
    "import numpy as np\n",
    "import matplotlib.pyplot as plt\n",
    "from scipy.signal import correlate\n",
    "from math import floor, ceil\n",
    "\n",
    "# Script to add the entire project directory structure to the python path\n",
    "import sys, os\n",
    "\n",
    "# Hack to import pyuoi\n",
    "parent_path, current_dir = os.path.split(os.path.abspath('.'))\n",
    "while current_dir not in ['nse']:\n",
    "\tparent_path, current_dir = os.path.split(parent_path)\n",
    "p = os.path.join(parent_path, current_dir)\n",
    "# Add analysis\n",
    "if p not in sys.path:\n",
    "\tsys.path.append(p)\n",
    "\n",
    "# And standard list of subdirectories\n",
    "if '%s\\\\pyuoi' % p not in sys.path:\n",
    "\tsys.path.append('%s\\\\pyuoi' % p)\n",
    "\n",
    "from pyuoi.linear_model.lasso import UoI_Lasso\n",
    "from pyuoi.linear_model.elasticnet import UoI_ElasticNet\n",
    "\n",
    "from postprocess import postprocess_file, postprocess_dir"
   ]
  },
  {
   "cell_type": "code",
   "execution_count": 3,
   "metadata": {},
   "outputs": [],
   "source": [
    "os.chdir('C:/Users/Ankit/nse/uoicorr')\n",
    "dat = postprocess_dir('est_comparison')"
   ]
  },
  {
   "cell_type": "code",
   "execution_count": 7,
   "metadata": {},
   "outputs": [
    {
     "data": {
      "text/plain": [
       "AIC_fn         [[[[ 9. 10.  9.  8.], [3. 2. 3. 0.], [2. 2. 2....\n",
       "AIC_fp         [[[[0. 0. 0. 0.], [0. 0. 0. 0.], [0. 0. 0. 0.]...\n",
       "AIC_scores     [[[[ 0.01386795 -0.0140506   0.12281205  0.325...\n",
       "AICc_fn        [[[[0. 0. 7. 0.], [0. 0. 1. 0.], [2. 2. 2. 2.]...\n",
       "AICc_fp        [[[[0. 0. 3. 0.], [26.  0. 25.  0.], [0. 0. 0....\n",
       "AICc_scores    [[[[       nan        nan 0.30145801        na...\n",
       "BIC_fn         [[[[10. 10.  9.  9.], [4. 2. 3. 0.], [3. 2. 2....\n",
       "BIC_fp         [[[[0. 0. 0. 0.], [0. 0. 0. 0.], [0. 0. 0. 0.]...\n",
       "BIC_scores     [[[[-1.08816273e-06 -1.40506035e-02  1.2676320...\n",
       "betadist                                             ['uniform']\n",
       "betas          [[[[0.         0.         0.         0.       ...\n",
       "block_size                                       [6, 12, 20, 30]\n",
       "correlation                                                    0\n",
       "r2_fn          [[[[2. 2. 4. 1.], [0. 1. 2. 0.], [0. 1. 1. 0.]...\n",
       "r2_fp          [[[[16. 10. 21. 15.], [15.  6.  6. 26.], [ 3. ...\n",
       "r2_scores      [[[[ 0.73752683  0.72215325 -0.11577865  0.449...\n",
       "sparsity                                                     0.2\n",
       "Name: 0, dtype: object"
      ]
     },
     "execution_count": 7,
     "metadata": {},
     "output_type": "execute_result"
    }
   ],
   "source": [
    "dat.iloc[0]"
   ]
  },
  {
   "cell_type": "code",
   "execution_count": 18,
   "metadata": {},
   "outputs": [
    {
     "ename": "AttributeError",
     "evalue": "'numpy.ndarray' object has no attribute 'values'",
     "output_type": "error",
     "traceback": [
      "\u001b[1;31m---------------------------------------------------------------------------\u001b[0m",
      "\u001b[1;31mAttributeError\u001b[0m                            Traceback (most recent call last)",
      "\u001b[1;32m<ipython-input-18-39572275cc45>\u001b[0m in \u001b[0;36m<module>\u001b[1;34m\u001b[0m\n\u001b[1;32m----> 1\u001b[1;33m \u001b[0mdat\u001b[0m\u001b[1;33m.\u001b[0m\u001b[0miloc\u001b[0m\u001b[1;33m[\u001b[0m\u001b[1;36m0\u001b[0m\u001b[1;33m]\u001b[0m\u001b[1;33m.\u001b[0m\u001b[0mr2_scores\u001b[0m\u001b[1;33m.\u001b[0m\u001b[0mvalues\u001b[0m\u001b[1;33m.\u001b[0m\u001b[0mshape\u001b[0m\u001b[1;33m\u001b[0m\u001b[0m\n\u001b[0m",
      "\u001b[1;31mAttributeError\u001b[0m: 'numpy.ndarray' object has no attribute 'values'"
     ]
    }
   ],
   "source": [
    "dat.iloc[0].r2_scores.va"
   ]
  },
  {
   "cell_type": "markdown",
   "metadata": {},
   "source": [
    "### Plot the performance of the four estimation scores on a 2D grid of sparsities and number of samples --> do so for each block_size and correlation strength"
   ]
  },
  {
   "cell_type": "code",
   "execution_count": 31,
   "metadata": {},
   "outputs": [],
   "source": [
    "d = dat.loc[dat['correlation'] == 0]\n",
    "\n",
    "# Which block size to use out of [6, 12, 20, 30]\n",
    "block_idx = 0\n",
    "\n",
    "# Assemble scores for various sparsities\n",
    "r2_scores_avg = np.zeros((10, 10))\n",
    "for i, s in enumerate(np.unique(d.iloc[:, 16])):\n",
    "    r2_scores_avg[i, :] = np.mean(d.loc[dat['sparsity'] == s].r2_scores.values[0][:, :, :, block_idx], 0)"
   ]
  },
  {
   "cell_type": "code",
   "execution_count": 43,
   "metadata": {},
   "outputs": [],
   "source": [
    "os.chdir('C:\\\\Users\\\\Ankit\\\\nse\\\\uoicorr')"
   ]
  },
  {
   "cell_type": "code",
   "execution_count": 45,
   "metadata": {},
   "outputs": [
    {
     "name": "stderr",
     "output_type": "stream",
     "text": [
      "C:\\Users\\Ankit\\Miniconda3\\envs\\nse\\lib\\site-packages\\ipykernel_launcher.py:20: RuntimeWarning: Mean of empty slice\n"
     ]
    }
   ],
   "source": [
    "correlations = [0, 0.2, 0.4, 0.6, 0.8, 1]\n",
    "block_sizes = [6, 12, 20, 30]\n",
    "\n",
    "for cidx, correlation in enumerate(correlations):\n",
    "    for bidx, block_size in enumerate(block_sizes):\n",
    "\n",
    "        d = dat.loc[dat['correlation'] == correlation]\n",
    "\n",
    "        # Assemble scores for various sparsities\n",
    "        r2_scores_avg = np.zeros((10, 10))\n",
    "        BIC_scores_avg = np.zeros((10, 10))\n",
    "        AIC_scores_avg = np.zeros((10, 10))\n",
    "        AICc_scores_avg = np.zeros((10, 10))\n",
    "\n",
    "        for i, s in enumerate(np.unique(d.iloc[:, 16])):\n",
    "            r2_scores_avg[i, :] = np.mean(d.loc[dat['sparsity'] == s].r2_scores.values[0][:, :, :, bidx], 0)\n",
    "            BIC_scores_avg[i, :] = np.mean(d.loc[dat['sparsity'] == s].BIC_scores.values[0][:, :, :, bidx], 0)\n",
    "            AIC_scores_avg[i, :] = np.mean(d.loc[dat['sparsity'] == s].AIC_scores.values[0][:, :, :, bidx], 0)\n",
    "            # AICc will have some nan values so use nanmean\n",
    "            AICc_scores_avg[i, :] = np.nanmean(d.loc[dat['sparsity'] == s].AICc_scores.values[0][:, :, :, bidx], 0)\n",
    "\n",
    "        fig, ax = plt.subplots(2, 2, figsize = (15, 15))\n",
    "\n",
    "        scores = [r2_scores_avg, BIC_scores_avg, AIC_scores_avg, AICc_scores_avg]\n",
    "        snames = ['R2', 'BIC', 'AIC', 'AICc']\n",
    "        for j in range(len(scores)):\n",
    "            a = ax[np.unravel_index(j, (2, 2))]\n",
    "\n",
    "            a.set_aspect('equal')\n",
    "            c = a.pcolor(scores[j], cmap = 'Greys', vmin = 0, vmax = 1)\n",
    "            a.set_xticks(np.arange(11)[:-1]+0.5)\n",
    "            a.set_yticks(np.arange(11)[:-1]+0.5)\n",
    "            a.set_ylabel('Sparsity', fontsize = 16)\n",
    "            a.set_xlabel('Sample size', fontsize = 16)\n",
    "            a.set_xticklabels(n_features * np.linspace(1, 50, 10).astype(int))\n",
    "            a.set_yticklabels(np.linspace(0.2, 1, 10))\n",
    "            # get the current labels \n",
    "            labels = [item.get_text() for item in a.get_yticklabels()]\n",
    "            # Beat them into submission and set them back again\n",
    "            a.set_yticklabels([str(round(float(label), 2)) for label in labels])\n",
    "            a.set_title('R^2 score using %s estimation score' % snames[j], fontsize = 16)\n",
    "\n",
    "        fig.suptitle('Correlation = %f, Block Size = %f' % (correlation, block_size), fontsize = 16)\n",
    "        fig.savefig('figs/est_comparison/%d_%d.png' % (cidx, bidx))\n",
    "        plt.close()"
   ]
  },
  {
   "cell_type": "markdown",
   "metadata": {},
   "source": [
    "### Repeat for selection accuracy"
   ]
  },
  {
   "cell_type": "code",
   "execution_count": 63,
   "metadata": {},
   "outputs": [],
   "source": [
    "correlations = [0, 0.2, 0.4, 0.6, 0.8, 1]\n",
    "block_sizes = [6, 12, 20, 30]\n",
    "\n",
    "for cidx, correlation in enumerate(correlations):\n",
    "    for bidx, block_size in enumerate(block_sizes):\n",
    "\n",
    "        d = dat.loc[dat['correlation'] == correlation]\n",
    "\n",
    "        # Assemble selection accuracy averages\n",
    "        r2_fp_avg = np.zeros((10, 10))\n",
    "        BIC_fp_avg = np.zeros((10, 10))\n",
    "        AIC_fp_avg = np.zeros((10, 10))\n",
    "        AICc_fp_avg = np.zeros((10, 10))\n",
    "        \n",
    "        r2_fn_avg = np.zeros((10, 10))\n",
    "        BIC_fn_avg = np.zeros((10, 10))\n",
    "        AIC_fn_avg = np.zeros((10, 10))\n",
    "        AICc_fn_avg = np.zeros((10, 10))\n",
    "\n",
    "        r2_sa_avg = np.zeros((10, 10))\n",
    "        BIC_sa_avg = np.zeros((10, 10))\n",
    "        AIC_sa_avg = np.zeros((10, 10))\n",
    "        AICc_sa_avg = np.zeros((10, 10))\n",
    "\n",
    "        for i, s in enumerate(np.unique(d.iloc[:, 16])):\n",
    "            r2_fp_avg[i, :] = np.mean(d.loc[dat['sparsity'] == s].r2_fp.values[0][:, :, :, bidx], 0)\n",
    "            BIC_fp_avg[i, :] = np.mean(d.loc[dat['sparsity'] == s].BIC_fp.values[0][:, :, :, bidx], 0)\n",
    "            AIC_fp_avg[i, :] = np.mean(d.loc[dat['sparsity'] == s].AIC_fp.values[0][:, :, :, bidx], 0)\n",
    "            # AICc will have some nan values so use nanmean\n",
    "            AICc_fp_avg[i, :] = np.nanmean(d.loc[dat['sparsity'] == s].AICc_fp.values[0][:, :, :, bidx], 0)\n",
    "\n",
    "            r2_fn_avg[i, :] = np.mean(d.loc[dat['sparsity'] == s].r2_fn.values[0][:, :, :, bidx], 0)\n",
    "            BIC_fn_avg[i, :] = np.mean(d.loc[dat['sparsity'] == s].BIC_fn.values[0][:, :, :, bidx], 0)\n",
    "            AIC_fn_avg[i, :] = np.mean(d.loc[dat['sparsity'] == s].AIC_fn.values[0][:, :, :, bidx], 0)\n",
    "            # AICc will have some nan values so use nanmean\n",
    "            AICc_fn_avg[i, :] = np.nanmean(d.loc[dat['sparsity'] == s].AICc_fn.values[0][:, :, :, bidx], 0)\n",
    "\n",
    "            non_zero_beta = np.count_nonzero(d.loc[dat['sparsity'] == s].betas.values[0][:, :, bidx, :], 2)\n",
    "            \n",
    "            r2_sa_avg[i, :] = 1 - (r2_fp_avg[i, :] + r2_fn_avg[i, :])/(non_zero_beta)\n",
    "            BIC_sa_avg[i, :] = 1 - (BIC_fp_avg[i, :] + BIC_fn_avg[i, :])/(non_zero_beta)\n",
    "            AIC_sa_avg[i, :] = 1 - (AIC_fp_avg[i, :] + AIC_fn_avg[i, :])/(non_zero_beta)\n",
    "            AICc_sa_avg[i, :] = 1 - (AICc_fp_avg[i, :] + AICc_fn_avg[i, :])/(non_zero_beta)\n",
    "            \n",
    "            \n",
    "            \n",
    "            \n",
    "        fig, ax = plt.subplots(2, 2, figsize = (15, 15))\n",
    "\n",
    "        sa = [r2_sa_avg, BIC_sa_avg, AIC_sa_avg, AICc_sa_avg]\n",
    "        snames = ['R2', 'BIC', 'AIC', 'AICc']\n",
    "        for j in range(len(scores)):\n",
    "            a = ax[np.unravel_index(j, (2, 2))]\n",
    "\n",
    "            a.set_aspect('equal')\n",
    "            c = a.pcolor(sa[j], cmap = 'Greys', vmin = 0, vmax = 1)\n",
    "            a.set_xticks(np.arange(11)[:-1]+0.5)\n",
    "            a.set_yticks(np.arange(11)[:-1]+0.5)\n",
    "            a.set_ylabel('Sparsity', fontsize = 16)\n",
    "            a.set_xlabel('Sample size', fontsize = 16)\n",
    "            a.set_xticklabels(n_features * np.linspace(1, 50, 10).astype(int))\n",
    "            a.set_yticklabels(np.linspace(0.2, 1, 10))\n",
    "            # get the current labels \n",
    "            labels = [item.get_text() for item in a.get_yticklabels()]\n",
    "            # Beat them into submission and set them back again\n",
    "            a.set_yticklabels([str(round(float(label), 2)) for label in labels])\n",
    "            a.set_title('Selection accuracy score using %s estimation score' % snames[j], fontsize = 16)\n",
    "\n",
    "        fig.suptitle('Correlation = %f, Block Size = %f' % (correlation, block_size), fontsize = 16)\n",
    "        fig.savefig('figs/est_comparison/sa_%d_%d.png' % (cidx, bidx))\n",
    "        plt.close()"
   ]
  },
  {
   "cell_type": "code",
   "execution_count": 53,
   "metadata": {},
   "outputs": [
    {
     "data": {
      "text/plain": [
       "array([[ 5.8,  1. ,  2. ,  2.6,  1. ,  0.8,  0. ,  0. ,  0.2,  0.8],\n",
       "       [ 6.8,  2.4,  0.2,  0.6,  0. ,  0.6,  0.2,  1. ,  1.2,  0. ],\n",
       "       [15. ,  1.8,  2.4,  3. ,  0. ,  0. ,  0.4,  0. ,  0.2,  0.2],\n",
       "       [15.4,  3. ,  0.2,  1.6,  0.2,  0.6,  0. ,  1.4,  0. ,  0. ],\n",
       "       [18. ,  2.6,  0.2,  0. ,  0.4,  0. ,  0. ,  0. ,  0. ,  0. ],\n",
       "       [21.4,  0.2,  0.6,  0. ,  0. ,  1.2,  0. ,  0. ,  0. ,  0. ],\n",
       "       [31.4,  1.4,  0. ,  0.2,  0. ,  0. ,  0. ,  0. ,  0. ,  0. ],\n",
       "       [31. ,  0.8,  0.6,  0. ,  0. ,  0. ,  0. ,  0. ,  0. ,  0. ],\n",
       "       [33.8,  1. ,  2.2,  0.2,  0. ,  0. ,  0. ,  0. ,  0. ,  0. ],\n",
       "       [50. ,  0.8,  0. ,  0.2,  0.6,  0. ,  0. ,  0. ,  0. ,  0. ]])"
      ]
     },
     "execution_count": 53,
     "metadata": {},
     "output_type": "execute_result"
    }
   ],
   "source": [
    "r2_fn_avg"
   ]
  },
  {
   "cell_type": "code",
   "execution_count": 60,
   "metadata": {},
   "outputs": [
    {
     "data": {
      "text/plain": [
       "(1, 10, 60)"
      ]
     },
     "execution_count": 60,
     "metadata": {},
     "output_type": "execute_result"
    }
   ],
   "source": [
    "d.iloc[0].betas[:, :, 0, :].shape"
   ]
  },
  {
   "cell_type": "code",
   "execution_count": null,
   "metadata": {},
   "outputs": [],
   "source": []
  }
 ],
 "metadata": {
  "kernelspec": {
   "display_name": "Python 3",
   "language": "python",
   "name": "python3"
  },
  "language_info": {
   "codemirror_mode": {
    "name": "ipython",
    "version": 3
   },
   "file_extension": ".py",
   "mimetype": "text/x-python",
   "name": "python",
   "nbconvert_exporter": "python",
   "pygments_lexer": "ipython3",
   "version": "3.6.6"
  }
 },
 "nbformat": 4,
 "nbformat_minor": 2
}
