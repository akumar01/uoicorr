{
 "cells": [
  {
   "cell_type": "code",
   "execution_count": 1,
   "metadata": {},
   "outputs": [],
   "source": [
    "# %load ../uoicorr_imports.py\n",
    "%load_ext autoreload\n",
    "%autoreload 2\n",
    "\n",
    "import h5py\n",
    "\n",
    "import numpy as np\n",
    "import matplotlib.pyplot as plt\n",
    "\n",
    "import sys, os, pdb\n",
    "\n",
    "# Hack to import pyuoi\n",
    "parent_path, current_dir = os.path.split(os.path.abspath('.'))\n",
    "while current_dir not in ['nse']:\n",
    "\tparent_path, current_dir = os.path.split(parent_path)\n",
    "p = os.path.join(parent_path, current_dir)\n",
    "# Add analysis\n",
    "if p not in sys.path:\n",
    "\tsys.path.append(p)\n",
    "\n",
    "# And standard list of subdirectories\n",
    "if '%s\\\\pyuoi' % p not in sys.path:\n",
    "\tsys.path.append('%s\\\\pyuoi' % p)\n",
    "\n",
    "from pyuoi.linear_model.lasso import UoI_Lasso\n",
    "from pyuoi.linear_model.elasticnet import UoI_ElasticNet\n",
    "\n",
    "if '%s\\\\uoicorr' % p not in sys.path:\n",
    "    sys.path.append('%s\\\\uoicorr' % p)\n",
    "\n",
    "from postprocess import postprocess_file, postprocess_dir"
   ]
  },
  {
   "cell_type": "code",
   "execution_count": 5,
   "metadata": {},
   "outputs": [],
   "source": [
    "data = postprocess_dir('C:\\\\Users\\\\akumar\\\\nse\\\\uoicorr\\\\data\\\\01162019b')"
   ]
  },
  {
   "cell_type": "code",
   "execution_count": 7,
   "metadata": {},
   "outputs": [],
   "source": [
    "dat = []\n",
    "dat.append(data.loc[data['betadist'] == 'laplace'])\n",
    "dat.append(data.loc[data['betadist'] == 'uniform'])\n",
    "dat.append(data.loc[data['betadist'] == 'inversexp'])\n",
    "dat.append(data.loc[data['betadist'] == 'clustered'])"
   ]
  },
  {
   "cell_type": "code",
   "execution_count": 14,
   "metadata": {},
   "outputs": [
    {
     "data": {
      "text/plain": [
       "beta_hats               [[0.0, 0.0, 0.0, 0.0, 0.0, 0.0, 0.0, 0.0, 0.0,...\n",
       "betadist                                                          uniform\n",
       "betas                   [[0.0, 0.0, 0.0, 0.0, 0.0, 0.0, 0.0, 0.0, 0.0,...\n",
       "block_size                                                           1000\n",
       "cov_params                                             {'correlation': 0}\n",
       "cov_type                                                            block\n",
       "est_score                                                              r2\n",
       "exp_type                                                               EN\n",
       "fn                                             [6.0, 5.0, 7.0, 8.0, 12.0]\n",
       "fp                                    [524.0, 585.0, 571.0, 588.0, 543.0]\n",
       "kappa                                                                 0.3\n",
       "l1_ratios                          [0.1, 0.2, 0.5, 0.75, 0.9, 0.95, 0.99]\n",
       "n_alphas                                                               48\n",
       "n_features                                                           1000\n",
       "n_samples                                                            3000\n",
       "r2                      [0.6715047298033379, 0.6849739735686236, 0.673...\n",
       "r2_true                 [0.6714986648877901, 0.6850332995187897, 0.673...\n",
       "reps                                                                    5\n",
       "results_file            /global/homes/a/akumar25/uoicorr/01162019b/job...\n",
       "selection_thres_mins                                                [1.0]\n",
       "sparsity                                                              0.3\n",
       "Name: 15, dtype: object"
      ]
     },
     "execution_count": 14,
     "metadata": {},
     "output_type": "execute_result"
    }
   ],
   "source": [
    "data.iloc[15]"
   ]
  },
  {
   "cell_type": "code",
   "execution_count": 10,
   "metadata": {},
   "outputs": [
    {
     "data": {
      "image/png": "[encoded data removed]",
      "text/plain": [
       "<Figure size 1080x1080 with 12 Axes>"
      ]
     },
     "metadata": {
      "needs_background": "light"
     },
     "output_type": "display_data"
    }
   ],
   "source": [
    "# Plot prediction accuracy, selection accuracy, estimation error\n",
    "\n",
    "# Need to understand estimation error and run more simulations for estimation variability \n",
    "fig, ax = plt.subplots(3, 4, figsize = (15, 15))\n",
    "\n",
    "for i, d in enumerate(dat):\n",
    "    full = d.loc[d['sparsity'] == 1]\n",
    "    ax[0, i].hist(full.betas.ravel(), bins = 100)\n",
    "#   ax[1, i].plot(d.iloc[:, 7].values, '-o')\n",
    "#    ax[2, i].plot((1000 - d.iloc[:, 5].values - d.iloc[:, 6].values)/1000, '-o')\n",
    "\n"
   ]
  },
  {
   "cell_type": "code",
   "execution_count": 15,
   "metadata": {},
   "outputs": [],
   "source": [
    "x = [1, 2, 3, 0, 0, 4, 0, 5]"
   ]
  },
  {
   "cell_type": "code",
   "execution_count": 23,
   "metadata": {},
   "outputs": [
    {
     "data": {
      "text/plain": [
       "array([0, 1, 2, 5, 7])"
      ]
     },
     "execution_count": 23,
     "metadata": {},
     "output_type": "execute_result"
    }
   ],
   "source": [
    "np.nonzero(x)[0].astype(int)"
   ]
  },
  {
   "cell_type": "code",
   "execution_count": 29,
   "metadata": {},
   "outputs": [
    {
     "data": {
      "text/plain": [
       "[1, 2, 3, 4, 5]"
      ]
     },
     "execution_count": 29,
     "metadata": {},
     "output_type": "execute_result"
    }
   ],
   "source": [
    "[x[j] for j in np.nonzero(x)[0]]"
   ]
  },
  {
   "cell_type": "code",
   "execution_count": null,
   "metadata": {},
   "outputs": [],
   "source": []
  }
 ],
 "metadata": {
  "kernelspec": {
   "display_name": "Python 3",
   "language": "python",
   "name": "python3"
  },
  "language_info": {
   "codemirror_mode": {
    "name": "ipython",
    "version": 3
   },
   "file_extension": ".py",
   "mimetype": "text/x-python",
   "name": "python",
   "nbconvert_exporter": "python",
   "pygments_lexer": "ipython3",
   "version": "3.6.6"
  }
 },
 "nbformat": 4,
 "nbformat_minor": 2
}
