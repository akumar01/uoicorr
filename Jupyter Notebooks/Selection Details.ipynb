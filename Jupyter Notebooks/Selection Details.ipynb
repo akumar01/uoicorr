{
 "cells": [
  {
   "cell_type": "code",
   "execution_count": 1,
   "metadata": {},
   "outputs": [],
   "source": [
    "# %load ../uoicorr_imports.py\n",
    "%load_ext autoreload\n",
    "%autoreload 2\n",
    "\n",
    "import h5py\n",
    "\n",
    "import numpy as np\n",
    "import matplotlib.pyplot as plt\n",
    "\n",
    "import sys, os, pdb\n",
    "\n",
    "# Hack to import pyuoi\n",
    "parent_path, current_dir = os.path.split(os.path.abspath('.'))\n",
    "while current_dir not in ['nse']:\n",
    "\tparent_path, current_dir = os.path.split(parent_path)\n",
    "p = os.path.join(parent_path, current_dir)\n",
    "# Add analysis\n",
    "if p not in sys.path:\n",
    "\tsys.path.append(p)\n",
    "\n",
    "# And standard list of subdirectories\n",
    "if '%s\\\\pyuoi' % p not in sys.path:\n",
    "\tsys.path.append('%s\\\\pyuoi' % p)\n",
    "\n",
    "from pyuoi.linear_model.lasso import UoI_Lasso\n",
    "from pyuoi.linear_model.elasticnet import UoI_ElasticNet\n",
    "\n",
    "if '%s\\\\uoicorr' % p not in sys.path:\n",
    "    sys.path.append('%s\\\\uoicorr' % p)\n",
    "\n",
    "from postprocess import postprocess_file, postprocess_dir"
   ]
  },
  {
   "cell_type": "code",
   "execution_count": 2,
   "metadata": {},
   "outputs": [],
   "source": [
    "from utils import block_covariance"
   ]
  },
  {
   "cell_type": "markdown",
   "metadata": {},
   "source": [
    "### Basic question to be answered: To what extent is there a relationship between the correlation of two variables and the magnitudes assigned by Elastic Net, UoI Elastic Net? What are the magnitudes of the false positives/false negatives of UoI Elastic Net and Elastic Net?"
   ]
  },
  {
   "cell_type": "code",
   "execution_count": 3,
   "metadata": {},
   "outputs": [
    {
     "name": "stdout",
     "output_type": "stream",
     "text": [
      "(120, 19)\n"
     ]
    }
   ],
   "source": [
    "# Start with block correlati\"ons, and see to what extent coefficient magnitudes are similar\n",
    "uoien = postprocess_dir('C:\\\\Users\\\\akumar\\\\nse\\\\uoicorr\\\\data\\\\01132019b', True)"
   ]
  },
  {
   "cell_type": "code",
   "execution_count": 4,
   "metadata": {},
   "outputs": [
    {
     "name": "stdout",
     "output_type": "stream",
     "text": [
      "(120, 19)\n"
     ]
    }
   ],
   "source": [
    "en = postprocess_dir('C:\\\\Users\\\\akumar\\\\nse\\\\uoicorr\\\\data\\\\01142019b', True)"
   ]
  },
  {
   "cell_type": "code",
   "execution_count": 10,
   "metadata": {},
   "outputs": [
    {
     "data": {
      "text/plain": [
       "beta_hats               [[[5.968881261802955, 3.038212517676468, 8.906...\n",
       "betadist                                                          uniform\n",
       "betas                   [[7.296281384976813, 1.9578057283748973, 8.103...\n",
       "block_size                                                              6\n",
       "cov_params                                                              0\n",
       "est_score                                                              r2\n",
       "fn                      [[11.0], [10.0], [13.0], [12.0], [8.0], [14.0]...\n",
       "fp                      [[0.0], [0.0], [0.0], [0.0], [0.0], [0.0], [0....\n",
       "kappa                                                                 0.3\n",
       "l1_ratios                          [0.1, 0.2, 0.5, 0.75, 0.9, 0.95, 0.99]\n",
       "n_alphas                                                               48\n",
       "n_features                                                             60\n",
       "n_samples                                                             300\n",
       "r2                      [[0.6778849654210624], [0.681571789308232], [0...\n",
       "r2_true                 [0.7539406503931725, 0.7588200937877381, 0.738...\n",
       "reps                                                                   50\n",
       "results_file            /global/homes/a/akumar25/uoicorr/01132019b/job...\n",
       "selection_thres_mins                                                [1.0]\n",
       "sparsity                                                                1\n",
       "Name: 0, dtype: object"
      ]
     },
     "execution_count": 10,
     "metadata": {},
     "output_type": "execute_result"
    }
   ],
   "source": [
    "uoien.iloc[0]"
   ]
  },
  {
   "cell_type": "markdown",
   "metadata": {},
   "source": [
    "## Beginning with block size 6, for each sparsity, and for each correlation, find the the indices of false negatives for each repetition and the corresponding correlation (by reconstructing sigma)"
   ]
  },
  {
   "cell_type": "code",
   "execution_count": 5,
   "metadata": {},
   "outputs": [],
   "source": [
    "d1 = uoien.loc[uoien['block_size'] == 6]"
   ]
  },
  {
   "cell_type": "code",
   "execution_count": null,
   "metadata": {},
   "outputs": [
    {
     "data": {
      "image/png": "[encoded data removed]",
      "text/plain": [
       "<Figure size 432x288 with 1 Axes>"
      ]
     },
     "metadata": {
      "needs_background": "light"
     },
     "output_type": "display_data"
    },
    {
     "name": "stdout",
     "output_type": "stream",
     "text": [
      "> <ipython-input-24-00c1a8cb7268>(30)<module>()\n",
      "-> for idx in fp_indices:\n",
      "(Pdb) continue\n"
     ]
    },
    {
     "data": {
      "image/png": "[encoded data removed]",
      "text/plain": [
       "<Figure size 432x288 with 1 Axes>"
      ]
     },
     "metadata": {
      "needs_background": "light"
     },
     "output_type": "display_data"
    },
    {
     "name": "stdout",
     "output_type": "stream",
     "text": [
      "> <ipython-input-24-00c1a8cb7268>(30)<module>()\n",
      "-> for idx in fp_indices:\n",
      "(Pdb) continue\n"
     ]
    },
    {
     "data": {
      "image/png": "[encoded data removed]",
      "text/plain": [
       "<Figure size 432x288 with 1 Axes>"
      ]
     },
     "metadata": {
      "needs_background": "light"
     },
     "output_type": "display_data"
    },
    {
     "name": "stdout",
     "output_type": "stream",
     "text": [
      "> <ipython-input-24-00c1a8cb7268>(30)<module>()\n",
      "-> for idx in fp_indices:\n",
      "(Pdb) continue\n"
     ]
    },
    {
     "data": {
      "image/png": "[encoded data removed]",
      "text/plain": [
       "<Figure size 432x288 with 1 Axes>"
      ]
     },
     "metadata": {
      "needs_background": "light"
     },
     "output_type": "display_data"
    },
    {
     "name": "stdout",
     "output_type": "stream",
     "text": [
      "> <ipython-input-24-00c1a8cb7268>(30)<module>()\n",
      "-> for idx in fp_indices:\n",
      "(Pdb) continue\n"
     ]
    },
    {
     "data": {
      "image/png": "[encoded data removed]",
      "text/plain": [
       "<Figure size 432x288 with 1 Axes>"
      ]
     },
     "metadata": {
      "needs_background": "light"
     },
     "output_type": "display_data"
    },
    {
     "name": "stdout",
     "output_type": "stream",
     "text": [
      "> <ipython-input-24-00c1a8cb7268>(30)<module>()\n",
      "-> for idx in fp_indices:\n",
      "(Pdb) continue\n"
     ]
    },
    {
     "data": {
      "image/png": "[encoded data removed]",
      "text/plain": [
       "<Figure size 432x288 with 1 Axes>"
      ]
     },
     "metadata": {
      "needs_background": "light"
     },
     "output_type": "display_data"
    },
    {
     "name": "stdout",
     "output_type": "stream",
     "text": [
      "> <ipython-input-24-00c1a8cb7268>(30)<module>()\n",
      "-> for idx in fp_indices:\n",
      "(Pdb) continue\n"
     ]
    },
    {
     "data": {
      "image/png": "[encoded data removed]",
      "text/plain": [
       "<Figure size 432x288 with 1 Axes>"
      ]
     },
     "metadata": {
      "needs_background": "light"
     },
     "output_type": "display_data"
    },
    {
     "name": "stdout",
     "output_type": "stream",
     "text": [
      "> <ipython-input-24-00c1a8cb7268>(30)<module>()\n",
      "-> for idx in fp_indices:\n",
      "(Pdb) continue\n"
     ]
    },
    {
     "data": {
      "image/png": "[encoded data removed]",
      "text/plain": [
       "<Figure size 432x288 with 1 Axes>"
      ]
     },
     "metadata": {
      "needs_background": "light"
     },
     "output_type": "display_data"
    },
    {
     "name": "stdout",
     "output_type": "stream",
     "text": [
      "> <ipython-input-24-00c1a8cb7268>(30)<module>()\n",
      "-> for idx in fp_indices:\n",
      "(Pdb) continue\n"
     ]
    },
    {
     "data": {
      "image/png": "[encoded data removed]",
      "text/plain": [
       "<Figure size 432x288 with 1 Axes>"
      ]
     },
     "metadata": {
      "needs_background": "light"
     },
     "output_type": "display_data"
    },
    {
     "name": "stdout",
     "output_type": "stream",
     "text": [
      "> <ipython-input-24-00c1a8cb7268>(30)<module>()\n",
      "-> for idx in fp_indices:\n",
      "(Pdb) corr_coeff_similarity\n",
      "array([1.40716894, 1.40716894, 1.40716894])\n"
     ]
    }
   ],
   "source": [
    "sparsity = np.unique(uoien['sparsity'])\n",
    "correlation = np.unique(uoien['cov_params'])\n",
    "block_size = 6\n",
    "s1 = sparsity.size\n",
    "s2 = correlation.size\n",
    "for i, s in enumerate(sparsity):\n",
    "    for j, c in enumerate(correlation):\n",
    "        # Find the indices of false positives:\n",
    "        dd = d1.loc[(d1['cov_params'] == c) & (d1['sparsity'] == s)]\n",
    "        fp_indices = []\n",
    "\n",
    "        # Reproduce the covariance matrix\n",
    "        sigma = block_covariance(60, block_size, c)\n",
    "        \n",
    "        # Remove the diagonal\n",
    "        sigma = sigma - np.diag(np.diag(sigma))\n",
    "        \n",
    "        for k in range(15):\n",
    "            beta_hats = dd.iloc[0].beta_hats[k, :].ravel()\n",
    "            betas = dd.iloc[0].betas[k, :].ravel()\n",
    "            fp_indices = np.nonzero(np.multiply(beta_hats, 1 * (betas ==  0)))[0]\n",
    "            # Having identified the nonzero indices, compare the magnitudes\n",
    "            # of the estimated coefficients with that of variables that are\n",
    "            # highly correlated with the variables within the block\n",
    "\n",
    "            # If there are no false positives, continue\n",
    "            if fp_indices.size == 0:\n",
    "                continue\n",
    "\n",
    "            for idx in fp_indices:\n",
    "\n",
    "                # Find indices of variables that are highly correlated\n",
    "                betaself = beta_hats[idx]\n",
    "                sigma_row = sigma[idx, :].copy()\n",
    "                block_idxs = np.nonzero(sigma_row)[0]\n",
    "                if block_idxs.size == 0:\n",
    "                    continue \n",
    "                other_idxs = np.setdiff1d(np.arange(sigma_row.size), block_idxs)\n",
    "                block_coeffs = np.array([beta_hats[x] for x in np.nonzero(beta_hats[block_idxs])[0]])\n",
    "\n",
    "                # How similar are the correlated coefficients?\n",
    "                corr_coeff_similarity = abs(betaself - block_coeffs)\n",
    "\n",
    "                # How similar are the coefficients outside of the block\n",
    "                rand_coeffs = np.array([beta_hats[x] for x in np.nonzero(beta_hats[other_idxs])[0]])\n",
    "                rand_coeff_similarity = abs(betaself - rand_coeffs)\n",
    "                fig, ax = plt.subplots()\n",
    "                ax.hist(corr_coeff_similarity)\n",
    "                ax.hist(rand_coeff_similarity)\n",
    "                plt.show()\n",
    "                if block_idxs.size != 0:\n",
    "                    pdb.set_trace()"
   ]
  },
  {
   "cell_type": "markdown",
   "metadata": {},
   "source": [
    "### Does Elastic Net exhibit the grouping effect?"
   ]
  },
  {
   "cell_type": "code",
   "execution_count": null,
   "metadata": {},
   "outputs": [],
   "source": [
    "sparsity = np.unique(en['sparsity'])\n",
    "correlation = np.unique(en['cov_params'])\n",
    "block_size = 6\n",
    "s1 = sparsity.size\n",
    "s2 = correlation.size\n",
    "for i, s in enumerate(sparsity):\n",
    "    for j, c in enumerate(correlation):\n",
    "        # Find the indices of false positives:\n",
    "        dd = d1.loc[(d1['cov_params'] == c) & (d1['sparsity'] == s)]\n",
    "        fp_indices = []\n",
    "\n",
    "        # Reproduce the covariance matrix\n",
    "        sigma = block_covariance(60, block_size, c)\n",
    "        \n",
    "        # Remove the diagonal\n",
    "        sigma = sigma - np.diag(np.diag(sigma))\n",
    "        \n",
    "        for k in range(50):\n",
    "            plt.pcolor(dd.iloc[0].beta_hats[k, :]"
   ]
  },
  {
   "cell_type": "code",
   "execution_count": 2,
   "metadata": {},
   "outputs": [],
   "source": [
    "import numpy as np"
   ]
  },
  {
   "cell_type": "code",
   "execution_count": 3,
   "metadata": {},
   "outputs": [
    {
     "data": {
      "text/plain": [
       "array([0.1, 0.2, 0.3, 0.4, 0.5, 0.6, 0.7, 0.8, 0.9, 1. ])"
      ]
     },
     "execution_count": 3,
     "metadata": {},
     "output_type": "execute_result"
    }
   ],
   "source": [
    "np.arange(1, 11)/10"
   ]
  },
  {
   "cell_type": "code",
   "execution_count": 6,
   "metadata": {},
   "outputs": [
    {
     "data": {
      "text/plain": [
       "array([0. , 0.1, 0.2, 0.3, 0.4, 0.5, 0.6, 0.7, 0.8, 0.9, 1. ])"
      ]
     },
     "execution_count": 6,
     "metadata": {},
     "output_type": "execute_result"
    }
   ],
   "source": [
    "np.linspace(0, 1, 11)"
   ]
  },
  {
   "cell_type": "code",
   "execution_count": 8,
   "metadata": {},
   "outputs": [
    {
     "data": {
      "text/plain": [
       "list"
      ]
     },
     "execution_count": 8,
     "metadata": {},
     "output_type": "execute_result"
    }
   ],
   "source": [
    "type([1, 2, 3])"
   ]
  },
  {
   "cell_type": "code",
   "execution_count": 9,
   "metadata": {},
   "outputs": [
    {
     "data": {
      "text/plain": [
       "dict"
      ]
     },
     "execution_count": 9,
     "metadata": {},
     "output_type": "execute_result"
    }
   ],
   "source": [
    "type({})"
   ]
  },
  {
   "cell_type": "code",
   "execution_count": null,
   "metadata": {},
   "outputs": [],
   "source": []
  }
 ],
 "metadata": {
  "kernelspec": {
   "display_name": "Python 3",
   "language": "python",
   "name": "python3"
  },
  "language_info": {
   "codemirror_mode": {
    "name": "ipython",
    "version": 3
   },
   "file_extension": ".py",
   "mimetype": "text/x-python",
   "name": "python",
   "nbconvert_exporter": "python",
   "pygments_lexer": "ipython3",
   "version": "3.6.7"
  }
 },
 "nbformat": 4,
 "nbformat_minor": 2
}
