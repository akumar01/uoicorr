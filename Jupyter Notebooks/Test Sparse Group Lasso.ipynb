{
 "cells": [
  {
   "cell_type": "code",
   "execution_count": 2,
   "metadata": {},
   "outputs": [],
   "source": [
    "# %load ../uoicorr_imports.py\n",
    "%load_ext autoreload\n",
    "%autoreload 2\n",
    "\n",
    "import h5py\n",
    "\n",
    "import numpy as np\n",
    "import matplotlib.pyplot as plt\n",
    "\n",
    "import sys, os, pdb\n",
    "\n",
    "# Hack to import pyuoi\n",
    "parent_path, current_dir = os.path.split(os.path.abspath('.'))\n",
    "while current_dir not in ['nse']:\n",
    "\tparent_path, current_dir = os.path.split(parent_path)\n",
    "p = os.path.join(parent_path, current_dir)\n",
    "# Add analysis\n",
    "if p not in sys.path:\n",
    "\tsys.path.append(p)\n",
    "\n",
    "# And standard list of subdirectories\n",
    "if '%s\\\\pyuoi' % p not in sys.path:\n",
    "\tsys.path.append('%s\\\\pyuoi' % p)\n",
    "\n",
    "from pyuoi.linear_model.lasso import UoI_Lasso\n",
    "from pyuoi.linear_model.elasticnet import UoI_ElasticNet\n",
    "\n",
    "if '%s\\\\uoicorr' % p not in sys.path:\n",
    "    sys.path.append('%s\\\\uoicorr' % p)\n",
    "\n",
    "from postprocess import postprocess_file, postprocess_dir"
   ]
  },
  {
   "cell_type": "code",
   "execution_count": 3,
   "metadata": {},
   "outputs": [],
   "source": [
    "from utils import gen_covariance, gen_beta, gen_data"
   ]
  },
  {
   "cell_type": "code",
   "execution_count": 10,
   "metadata": {},
   "outputs": [],
   "source": [
    "from pyuoi.linear_model.spgrasso import SparseGroupLasso"
   ]
  },
  {
   "cell_type": "code",
   "execution_count": 11,
   "metadata": {},
   "outputs": [],
   "source": [
    "s = SparseGroupLasso()"
   ]
  },
  {
   "cell_type": "code",
   "execution_count": 13,
   "metadata": {},
   "outputs": [],
   "source": [
    "sigma = gen_covariance('block', correlation=0.5)\n",
    "beta = gen_beta()\n",
    "X, X_test, y, y_test = gen_data(covariance=sigma, beta = beta)"
   ]
  },
  {
   "cell_type": "code",
   "execution_count": 27,
   "metadata": {},
   "outputs": [
    {
     "data": {
      "text/plain": [
       "SparseGroupLasso(alpha=1.0, copy_X=True, fit_intercept=True, l1_ratio=0.5,\n",
       "         max_iter=1000, normalize=False, positive=False, precompute=False,\n",
       "         random_state=None, selection='cyclic', tol=0.0001,\n",
       "         warm_start=False)"
      ]
     },
     "execution_count": 27,
     "metadata": {},
     "output_type": "execute_result"
    }
   ],
   "source": [
    "s.fit(X, y, np.split(np.arange(60), 10))"
   ]
  },
  {
   "cell_type": "code",
   "execution_count": 28,
   "metadata": {},
   "outputs": [],
   "source": [
    "from sklearn.metrics import r2_score"
   ]
  },
  {
   "cell_type": "code",
   "execution_count": 29,
   "metadata": {},
   "outputs": [
    {
     "data": {
      "text/plain": [
       "0.739301633643026"
      ]
     },
     "execution_count": 29,
     "metadata": {},
     "output_type": "execute_result"
    }
   ],
   "source": [
    "r2_score(y_test, X_test @ s.coef_)"
   ]
  },
  {
   "cell_type": "code",
   "execution_count": 33,
   "metadata": {},
   "outputs": [],
   "source": [
    "from pyuoi.linear_model.spgrasso import UoI_Spgrasso"
   ]
  },
  {
   "cell_type": "code",
   "execution_count": 34,
   "metadata": {},
   "outputs": [],
   "source": [
    "uois = UoI_Spgrasso(groups=np.split(np.arange(60), 10))"
   ]
  },
  {
   "cell_type": "code",
   "execution_count": 35,
   "metadata": {},
   "outputs": [
    {
     "name": "stderr",
     "output_type": "stream",
     "text": [
      "C:\\Users\\akumar\\Anaconda3\\envs\\nse\\lib\\site-packages\\scipy\\optimize\\optimize.py:1013: RuntimeWarning: divide by zero encountered in double_scalars\n",
      "  rhok = 1.0 / (numpy.dot(yk, sk))\n",
      "C:\\Users\\akumar\\Anaconda3\\envs\\nse\\lib\\site-packages\\scipy\\optimize\\optimize.py:1013: RuntimeWarning: divide by zero encountered in double_scalars\n",
      "  rhok = 1.0 / (numpy.dot(yk, sk))\n",
      "C:\\Users\\akumar\\Anaconda3\\envs\\nse\\lib\\site-packages\\scipy\\optimize\\optimize.py:1013: RuntimeWarning: divide by zero encountered in double_scalars\n",
      "  rhok = 1.0 / (numpy.dot(yk, sk))\n",
      "C:\\Users\\akumar\\Anaconda3\\envs\\nse\\lib\\site-packages\\scipy\\optimize\\optimize.py:1013: RuntimeWarning: divide by zero encountered in double_scalars\n",
      "  rhok = 1.0 / (numpy.dot(yk, sk))\n"
     ]
    },
    {
     "data": {
      "text/plain": [
       "UoI_Spgrasso(alphas=array([0.5]), comm=None, copy_X=True, eps=0.001,\n",
       "       estimation_frac=0.9, estimation_score='r2', fit_intercept=True,\n",
       "       groups=None, max_iter=None, n_boots_est=48, n_boots_sel=48,\n",
       "       n_lambdas=48, normalize=True, random_state=None, selection_frac=0.9,\n",
       "       stability_selection=1.0, warm_start=True)"
      ]
     },
     "execution_count": 35,
     "metadata": {},
     "output_type": "execute_result"
    }
   ],
   "source": [
    "uois.fit(X, y)"
   ]
  },
  {
   "cell_type": "code",
   "execution_count": 38,
   "metadata": {},
   "outputs": [
    {
     "data": {
      "text/plain": [
       "array([ 5.42475721e+00,  7.78703403e+00,  2.95721922e+00, -1.13632900e-07,\n",
       "        4.81480510e-01,  1.61428132e+00,  9.12558308e-03,  4.42206434e+00,\n",
       "        6.82932799e+00,  7.72653325e-01, -7.66303566e-08,  6.59805165e+00,\n",
       "        1.46609592e-06,  1.25031215e+00,  8.65159604e+00,  1.92373426e+00,\n",
       "        9.07075450e-01,  6.52533096e+00, -1.03742358e-04,  2.92941088e+00,\n",
       "        1.85418989e+00,  1.92603030e+00,  6.08486747e+00, -1.55915691e-07,\n",
       "        3.06746323e-07,  1.22424520e-07,  1.47817724e+00,  2.69731896e+00,\n",
       "        2.84948903e-01,  9.56308639e+00,  2.47858220e+00,  2.50325337e+00,\n",
       "       -8.49948172e-10,  2.13424488e+00,  1.07839713e-01,  7.87229637e-01,\n",
       "        8.70994650e-02,  1.43612108e-07,  7.25289915e+00,  1.36524530e+00,\n",
       "        6.18774153e+00,  1.55593279e+00,  7.86380620e-01,  2.44427998e+00,\n",
       "       -9.43946606e-02,  5.90204740e-01,  4.14350018e+00,  1.04678795e-07,\n",
       "        1.79848150e-07,  4.37252627e-01,  1.65370136e+00,  1.13734610e+00,\n",
       "        2.74129293e+00,  2.08712741e-01, -3.60302725e-08, -2.57576701e-08,\n",
       "       -7.80109542e-01,  3.42815682e+00,  1.33776008e+00,  4.82567890e+00])"
      ]
     },
     "execution_count": 38,
     "metadata": {},
     "output_type": "execute_result"
    }
   ],
   "source": [
    "s.coef_"
   ]
  },
  {
   "cell_type": "code",
   "execution_count": null,
   "metadata": {},
   "outputs": [],
   "source": []
  }
 ],
 "metadata": {
  "kernelspec": {
   "display_name": "Python 3",
   "language": "python",
   "name": "python3"
  },
  "language_info": {
   "codemirror_mode": {
    "name": "ipython",
    "version": 3
   },
   "file_extension": ".py",
   "mimetype": "text/x-python",
   "name": "python",
   "nbconvert_exporter": "python",
   "pygments_lexer": "ipython3",
   "version": "3.6.6"
  }
 },
 "nbformat": 4,
 "nbformat_minor": 2
}
