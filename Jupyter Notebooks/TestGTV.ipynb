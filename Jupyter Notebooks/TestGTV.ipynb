{
 "cells": [
  {
   "cell_type": "code",
   "execution_count": 1,
   "metadata": {},
   "outputs": [],
   "source": [
    "import h5py\n",
    "\n",
    "import numpy as np\n",
    "import matplotlib.pyplot as plt\n",
    "import time\n",
    "import sys, os, pdb\n",
    "\n",
    "sys.path.append('..')\n",
    "from gtv import GraphTotalVariance"
   ]
  },
  {
   "cell_type": "code",
   "execution_count": 2,
   "metadata": {},
   "outputs": [],
   "source": [
    "# Generate data to test the GTV. Use a block correlation structure and a small number of features\n",
    "from utils import gen_covariance, gen_beta, gen_data\n",
    "from sklearn.linear_model import Lasso"
   ]
  },
  {
   "cell_type": "code",
   "execution_count": 3,
   "metadata": {},
   "outputs": [],
   "source": [
    "cov = gen_covariance('block', n_features = 30, block_size = 5, correlation=0.5)\n",
    "beta = gen_beta(n_features = 30, block_size = 5, sparsity = 0.5)\n",
    "X, X_test, y, y_test = gen_data(n_samples = 100, n_features = 30, kappa = 0.3, covariance = cov, beta = beta)"
   ]
  },
  {
   "cell_type": "code",
   "execution_count": 4,
   "metadata": {},
   "outputs": [],
   "source": [
    "from sklearn.metrics import r2_score"
   ]
  },
  {
   "cell_type": "code",
   "execution_count": 5,
   "metadata": {},
   "outputs": [],
   "source": [
    "def fit_gtv(lambda_S, lambda_TV, lambda_1, method):\n",
    "    r2_scores = np.zeros((lambda_S.size, lambda_TV.size, lambda_1.size))\n",
    "    for i1, l1 in enumerate(lambda_S):\n",
    "        for i2, l2 in enumerate(lambda_TV):\n",
    "            for i3, l3 in enumerate(lambda_1):\n",
    "                gtv = GraphTotalVariance(l1, l2, l3, minimizer = method)\n",
    "                gtv.fit(X, y, cov)\n",
    "                gtv.coef_[gtv.coef_ < 1e-6] = 0\n",
    "                r2_scores[i1, i2, i3] = r2_score(y_test, X_test @ gtv.coef_)\n",
    "    return r2_scores"
   ]
  },
  {
   "cell_type": "code",
   "execution_count": 6,
   "metadata": {
    "scrolled": true
   },
   "outputs": [
    {
     "name": "stdout",
     "output_type": "stream",
     "text": [
      "CPU times: user 55.1 s, sys: 35.4 ms, total: 55.2 s\n",
      "Wall time: 9.67 s\n",
      "torch.float64\n",
      "torch.float64\n",
      "torch.float64\n",
      "torch.float64\n",
      "torch.float64\n",
      "torch.float64\n",
      "torch.float64\n",
      "torch.float64\n",
      "torch.float64\n",
      "torch.float64\n",
      "torch.float64\n",
      "torch.float64\n",
      "torch.float64\n",
      "torch.float64\n",
      "torch.float64\n",
      "torch.float64\n",
      "torch.float64\n",
      "torch.float64\n",
      "torch.float64\n",
      "torch.float64\n",
      "torch.float64\n",
      "torch.float64\n",
      "torch.float64\n",
      "torch.float64\n",
      "torch.float64\n",
      "torch.float64\n",
      "torch.float64\n",
      "torch.float64\n",
      "torch.float64\n",
      "torch.float64\n",
      "torch.float64\n",
      "torch.float64\n",
      "torch.float64\n",
      "torch.float64\n",
      "torch.float64\n",
      "torch.float64\n",
      "torch.float64\n",
      "torch.float64\n",
      "torch.float64\n",
      "torch.float64\n",
      "torch.float64\n",
      "torch.float64\n",
      "torch.float64\n",
      "torch.float64\n",
      "torch.float64\n",
      "torch.float64\n",
      "torch.float64\n",
      "torch.float64\n",
      "torch.float64\n",
      "torch.float64\n",
      "torch.float64\n",
      "torch.float64\n",
      "torch.float64\n",
      "torch.float64\n",
      "torch.float64\n",
      "torch.float64\n",
      "torch.float64\n",
      "torch.float64\n",
      "torch.float64\n",
      "torch.float64\n",
      "torch.float64\n",
      "torch.float64\n",
      "torch.float64\n",
      "torch.float64\n",
      "CPU times: user 1.31 s, sys: 12 ms, total: 1.32 s\n",
      "Wall time: 357 ms\n"
     ]
    }
   ],
   "source": [
    "# Test on a 3D grid of tuning parameters\n",
    "lambda_S = np.linspace(0, 1, num = 4)\n",
    "lambda_TV = np.linspace(0, 1, num = 4)\n",
    "lambda_1 = np.linspace(0, 1, num = 4)\n",
    "\n",
    "%time r2_scores1 = fit_gtv(lambda_S, lambda_TV, lambda_1, 'quadprog')\n",
    "%time r2_scores2 = fit_gtv(lambda_S, lambda_TV, lambda_1, 'lbfgs')"
   ]
  },
  {
   "cell_type": "code",
   "execution_count": 9,
   "metadata": {
    "scrolled": true
   },
   "outputs": [
    {
     "data": {
      "text/plain": [
       "array([[[0.79381533, 0.79370027, 0.78157121, 0.76056549],\n",
       "        [0.79381541, 0.7761026 , 0.70928522, 0.64732196],\n",
       "        [0.79381565, 0.72562416, 0.63857565, 0.59785815],\n",
       "        [0.79381605, 0.68615869, 0.61827477, 0.59785711]],\n",
       "\n",
       "       [[0.70728587, 0.69439712, 0.67772728, 0.65730298],\n",
       "        [0.70728586, 0.68034856, 0.64829772, 0.61270049],\n",
       "        [0.70728585, 0.6653569 , 0.62367663, 0.59786102],\n",
       "        [0.70728581, 0.64956973, 0.61827461, 0.59785711]],\n",
       "\n",
       "       [[0.68395234, 0.67080189, 0.65399766, 0.63353965],\n",
       "        [0.68395233, 0.66206177, 0.63607124, 0.60659534],\n",
       "        [0.68395233, 0.65308378, 0.62138362, 0.59786249],\n",
       "        [0.68395231, 0.64363264, 0.61827536, 0.59785711]],\n",
       "\n",
       "       [[0.67391034, 0.66065151, 0.64380089, 0.62335847],\n",
       "        [0.67391034, 0.65432825, 0.63091883, 0.60404876],\n",
       "        [0.67391034, 0.647918  , 0.62045763, 0.59785957],\n",
       "        [0.67391033, 0.64118278, 0.61827467, 0.59785711]]])"
      ]
     },
     "execution_count": 9,
     "metadata": {},
     "output_type": "execute_result"
    }
   ],
   "source": [
    "r2_scores1"
   ]
  },
  {
   "cell_type": "code",
   "execution_count": 10,
   "metadata": {},
   "outputs": [
    {
     "data": {
      "text/plain": [
       "array([[[0.79384212, 0.79809197, 0.79373128, 0.78879472],\n",
       "        [0.79384212, 0.79300986, 0.77542208, 0.74646824],\n",
       "        [0.79384212, 0.78604919, 0.74024282, 0.70674877],\n",
       "        [0.79384212, 0.77000659, 0.71475918, 0.68162725]],\n",
       "\n",
       "       [[0.70728328, 0.70130491, 0.69438331, 0.68651888],\n",
       "        [0.70728328, 0.69672317, 0.6855888 , 0.67390289],\n",
       "        [0.70728328, 0.69255181, 0.67843733, 0.66480867],\n",
       "        [0.70728328, 0.68879026, 0.67274237, 0.65838122]],\n",
       "\n",
       "       [[0.68396037, 0.67784305, 0.67081036, 0.66285796],\n",
       "        [0.68396037, 0.67585013, 0.66698887, 0.65736743],\n",
       "        [0.68396037, 0.67403564, 0.66380411, 0.6531758 ],\n",
       "        [0.68396037, 0.67239396, 0.66114631, 0.64994261]],\n",
       "\n",
       "       [[0.67392697, 0.66773516, 0.66065745, 0.65268689],\n",
       "        [0.67392697, 0.66665082, 0.65859004, 0.64964667],\n",
       "        [0.67392697, 0.66567776, 0.65674798, 0.64721201],\n",
       "        [0.67392697, 0.66471858, 0.65520658, 0.64520745]]])"
      ]
     },
     "execution_count": 10,
     "metadata": {},
     "output_type": "execute_result"
    }
   ],
   "source": [
    "r2_scores2"
   ]
  },
  {
   "cell_type": "code",
   "execution_count": null,
   "metadata": {},
   "outputs": [],
   "source": []
  }
 ],
 "metadata": {
  "kernelspec": {
   "display_name": "Python 3",
   "language": "python",
   "name": "python3"
  },
  "language_info": {
   "codemirror_mode": {
    "name": "ipython",
    "version": 3
   },
   "file_extension": ".py",
   "mimetype": "text/x-python",
   "name": "python",
   "nbconvert_exporter": "python",
   "pygments_lexer": "ipython3",
   "version": "3.6.7"
  }
 },
 "nbformat": 4,
 "nbformat_minor": 2
}
