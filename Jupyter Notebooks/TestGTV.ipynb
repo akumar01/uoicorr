{
 "cells": [
  {
   "cell_type": "code",
   "execution_count": 1,
   "metadata": {},
   "outputs": [],
   "source": [
    "import h5py\n",
    "\n",
    "import numpy as np\n",
    "import matplotlib.pyplot as plt\n",
    "import time\n",
    "import sys, os, pdb\n",
    "\n",
    "sys.path.append('..')\n",
    "from gtv import GraphTotalVariance"
   ]
  },
  {
   "cell_type": "code",
   "execution_count": 2,
   "metadata": {},
   "outputs": [],
   "source": [
    "# Generate data to test the GTV. Use a block correlation structure and a small number of features\n",
    "from utils import gen_covariance, gen_beta, gen_data\n",
    "from sklearn.linear_model import Lasso"
   ]
  },
  {
   "cell_type": "code",
   "execution_count": 3,
   "metadata": {},
   "outputs": [],
   "source": [
    "cov = gen_covariance('block', n_features = 30, block_size = 5, correlation=0.5)\n",
    "beta = gen_beta(n_features = 30, block_size = 5, sparsity = 0.5)\n",
    "X, X_test, y, y_test = gen_data(n_samples = 100, n_features = 30, kappa = 0.3, covariance = cov, beta = beta)"
   ]
  },
  {
   "cell_type": "code",
   "execution_count": 4,
   "metadata": {},
   "outputs": [],
   "source": [
    "from sklearn.metrics import r2_score"
   ]
  },
  {
   "cell_type": "code",
   "execution_count": null,
   "metadata": {},
   "outputs": [
    {
     "name": "stdout",
     "output_type": "stream",
     "text": [
      "0.0447077751159668\n",
      "0.016701698303222656\n",
      "> <ipython-input-6-c03cd953e2ae>(24)<module>()\n",
      "-> assert(np.allclose(gtv1.coef_, gtv2.coef_))\n",
      "(Pdb) gtv1.coef_\n",
      "array([ 1.7271015 , -0.0772191 ,  2.14700662,  0.14314027, -1.20474065,\n",
      "        0.49656908, -0.11904619, -0.92043194,  1.61865897,  3.9916289 ,\n",
      "        1.12575461,  6.34529609, -3.39891335,  2.52380212,  0.05810623,\n",
      "        6.14461331,  4.94994924, -3.89084659, -0.76551383,  3.31288606,\n",
      "        8.83176942,  0.79117917,  0.87422084, -0.93690427,  0.53848065,\n",
      "       -0.83883048,  6.80555759,  3.67806159,  4.92131488, -2.29746997])\n",
      "(Pdb) gtv2.coef_\n",
      "array([0., 0., 0., 0., 0., 0., 0., 0., 0., 0., 0., 0., 0., 0., 0., 0., 0.,\n",
      "       0., 0., 0., 0., 0., 0., 0., 0., 0., 0., 0., 0., 0.])\n"
     ]
    }
   ],
   "source": [
    "# Test on a 3D grid of tuning parameters\n",
    "lambda_S = np.linspace(0, 1, num = 10)\n",
    "lambda_TV = np.linspace(0, 1, num = 10)\n",
    "lambda_1 = np.linspace(0, 1, num = 10)\n",
    "\n",
    "r2_scores = np.zeros((10, 10, 10))\n",
    "sa = np.zeros((10, 10, 10))\n",
    "\n",
    "# Compare runtimes between quadprog and lbfgs minimizer\n",
    "for i1, l1 in enumerate(lambda_S):\n",
    "    for i2, l2 in enumerate(lambda_TV):\n",
    "        for i3, l3 in enumerate(lambda_1):\n",
    "            gtv1 = GraphTotalVariance(l1, l2, l3, minimizer = 'quadprog')\n",
    "            gtv2 = GraphTotalVariance(l1, l2, l3, minimizer = 'lbfgs')\n",
    "            t1 = time.time()\n",
    "            gtv1.fit(X, y, cov)\n",
    "            print(time.time() - t1)\n",
    "            t2 = time.time()\n",
    "            gtv2.fit(X, y, cov)\n",
    "            print(time.time() - t2)\n",
    "#            gtv1.coef_[gtv1.coef_ < 1e-6] = 0\n",
    "#            gtv2.coef_[gtv2.coef_ < 1e-6] = 0\n",
    "            pdb.set_trace()\n",
    "            assert(np.allclose(gtv1.coef_, gtv2.coef_))"
   ]
  },
  {
   "cell_type": "code",
   "execution_count": null,
   "metadata": {},
   "outputs": [],
   "source": []
  }
 ],
 "metadata": {
  "kernelspec": {
   "display_name": "Python 3",
   "language": "python",
   "name": "python3"
  },
  "language_info": {
   "codemirror_mode": {
    "name": "ipython",
    "version": 3
   },
   "file_extension": ".py",
   "mimetype": "text/x-python",
   "name": "python",
   "nbconvert_exporter": "python",
   "pygments_lexer": "ipython3",
   "version": "3.6.7"
  }
 },
 "nbformat": 4,
 "nbformat_minor": 2
}
