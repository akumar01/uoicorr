{
 "cells": [
  {
   "cell_type": "code",
   "execution_count": 1,
   "metadata": {},
   "outputs": [],
   "source": [
    "# %load ../uoicorr_imports.py\n",
    "import h5py\n",
    "\n",
    "import numpy as np\n",
    "import matplotlib.pyplot as plt\n",
    "\n",
    "import sys, os, pdb\n",
    "\n",
    "# Hack to import pyuoi\n",
    "parent_path, current_dir = os.path.split(os.path.abspath('.'))\n",
    "while current_dir not in ['nse']:\n",
    "    parent_path, current_dir = os.path.split(parent_path)\n",
    "p = os.path.join(parent_path, current_dir)\n",
    "# Add analysis\n",
    "if p not in sys.path:\n",
    "    sys.path.append(p)\n",
    "\n",
    "import subprocess\n",
    "hname = subprocess.check_output('hostname')\n",
    "\n",
    "if 'ankitnse'.encode() in hname:\n",
    "\n",
    "    if '%s/uoicorr' % p not in sys.path:\n",
    "        sys.path.append('%s/uoicorr' % p)\n",
    "    if '%s/PyUoI' % p not in sys.path:\n",
    "        sys.path.append('%s/PyUoI' % p)\n",
    "\n",
    "else:\n",
    "    # And standard list of subdirectories\n",
    "    if '%s\\\\pyuoi' % p not in sys.path:\n",
    "        sys.path.append('%s\\\\pyuoi' % p)\n",
    "    if '%s\\\\uoicorr' % p not in sys.path:\n",
    "        sys.path.append('%s\\\\uoicorr' % p)\n",
    "\n",
    "from postprocess import postprocess_file, postprocess_dir\n",
    "from utils import FNR, FPR, selection_accuracy\n",
    "\n",
    "from pyuoi.linear_model.gtv import GraphTotalVariance"
   ]
  },
  {
   "cell_type": "code",
   "execution_count": 2,
   "metadata": {},
   "outputs": [],
   "source": [
    "gtv = GraphTotalVariance(np.random.uniform(), np.random.uniform(), np.random.uniform())"
   ]
  },
  {
   "cell_type": "code",
   "execution_count": 3,
   "metadata": {},
   "outputs": [],
   "source": [
    "# Generate data to test the GTV. Use a block correlation structure and a small number of features\n",
    "from utils import gen_covariance, gen_beta, gen_data"
   ]
  },
  {
   "cell_type": "code",
   "execution_count": 4,
   "metadata": {},
   "outputs": [],
   "source": [
    "cov2 = gen_covariance('falloff', n_features = 30, L = 10)"
   ]
  },
  {
   "cell_type": "code",
   "execution_count": 5,
   "metadata": {},
   "outputs": [
    {
     "data": {
      "text/plain": [
       "30"
      ]
     },
     "execution_count": 5,
     "metadata": {},
     "output_type": "execute_result"
    }
   ],
   "source": [
    "np.linalg.matrix_rank(np.concatenate([cov2, np.identity(30)]))"
   ]
  },
  {
   "cell_type": "code",
   "execution_count": 6,
   "metadata": {},
   "outputs": [],
   "source": [
    "cov = gen_covariance('block', n_features = 30, block_size = 5, correlation=0.5)\n",
    "beta = gen_beta(n_features = 30, block_size = 5, sparsity = 0.5)\n",
    "X, X_test, y, y_test = gen_data(n_samples = 100, n_features = 30, kappa = 0.3, covariance = cov, beta = beta)"
   ]
  },
  {
   "cell_type": "code",
   "execution_count": 8,
   "metadata": {},
   "outputs": [
    {
     "data": {
      "text/plain": [
       "GraphTotalVariance(copy_X=True, fit_intercept=True,\n",
       "          lambda_1=0.9137317719621729, lambda_S=0.4490300404300992,\n",
       "          lambda_TV=0.5164258228179246, max_iter=1000, normalize=False,\n",
       "          positive=False, precompute=False, random_state=None,\n",
       "          selection='cyclic', tol=0.0001, warm_start=False)"
      ]
     },
     "execution_count": 8,
     "metadata": {},
     "output_type": "execute_result"
    }
   ],
   "source": [
    "gtv.fit(X, y, cov)"
   ]
  },
  {
   "cell_type": "code",
   "execution_count": 9,
   "metadata": {},
   "outputs": [],
   "source": [
    "from sklearn.linear_model import Lasso"
   ]
  },
  {
   "cell_type": "code",
   "execution_count": 10,
   "metadata": {},
   "outputs": [],
   "source": [
    "l = Lasso(alpha = 0.9137)"
   ]
  },
  {
   "cell_type": "code",
   "execution_count": 11,
   "metadata": {},
   "outputs": [
    {
     "data": {
      "text/plain": [
       "array([ 8.792591  ,  0.48753341,  0.        , -0.96777973,  7.28692038,\n",
       "        0.        ,  0.        ,  0.        ,  6.4006223 , -0.        ,\n",
       "        0.9167634 ,  1.14467449,  0.        ,  0.43437247,  5.63113073,\n",
       "        3.00554879,  5.93114585,  0.        ,  5.37543334,  0.        ,\n",
       "        0.        , -1.4968608 ,  0.77093213,  9.88934712,  0.        ,\n",
       "        1.9471279 ,  0.92732018,  4.59958914, 11.4708986 ,  0.        ])"
      ]
     },
     "execution_count": 11,
     "metadata": {},
     "output_type": "execute_result"
    }
   ],
   "source": [
    "l.fit(X, y)\n",
    "l.coef_"
   ]
  },
  {
   "cell_type": "code",
   "execution_count": 12,
   "metadata": {},
   "outputs": [
    {
     "data": {
      "text/plain": [
       "array([4.02485823, 2.85519901, 2.70318306, 1.54537971, 3.52747765,\n",
       "       0.51174788, 1.0197997 , 0.93373843, 2.08497666, 0.97112301,\n",
       "       1.39121608, 1.8728707 , 0.99779037, 1.44196566, 2.77391377,\n",
       "       2.9645662 , 3.87317908, 2.4102837 , 3.19678617, 2.19458331,\n",
       "       1.63641299, 0.83340255, 1.80322228, 3.54989559, 1.63650855,\n",
       "       4.20485001, 3.89419403, 3.94174546, 5.21155101, 3.30319634])"
      ]
     },
     "execution_count": 12,
     "metadata": {},
     "output_type": "execute_result"
    }
   ],
   "source": [
    "gtv.coef_"
   ]
  },
  {
   "cell_type": "code",
   "execution_count": null,
   "metadata": {},
   "outputs": [],
   "source": []
  }
 ],
 "metadata": {
  "kernelspec": {
   "display_name": "Python 3",
   "language": "python",
   "name": "python3"
  },
  "language_info": {
   "codemirror_mode": {
    "name": "ipython",
    "version": 3
   },
   "file_extension": ".py",
   "mimetype": "text/x-python",
   "name": "python",
   "nbconvert_exporter": "python",
   "pygments_lexer": "ipython3",
   "version": "3.6.6"
  }
 },
 "nbformat": 4,
 "nbformat_minor": 2
}
