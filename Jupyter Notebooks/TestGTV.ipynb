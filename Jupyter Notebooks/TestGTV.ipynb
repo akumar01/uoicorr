{
 "cells": [
  {
   "cell_type": "code",
   "execution_count": 1,
   "metadata": {},
   "outputs": [],
   "source": [
    "# %load ../uoicorr_imports.py\n",
    "import h5py\n",
    "\n",
    "import numpy as np\n",
    "import matplotlib.pyplot as plt\n",
    "\n",
    "import sys, os, pdb\n",
    "\n",
    "# Hack to import pyuoi\n",
    "parent_path, current_dir = os.path.split(os.path.abspath('.'))\n",
    "while current_dir not in ['nse']:\n",
    "    parent_path, current_dir = os.path.split(parent_path)\n",
    "p = os.path.join(parent_path, current_dir)\n",
    "# Add analysis\n",
    "if p not in sys.path:\n",
    "    sys.path.append(p)\n",
    "\n",
    "import subprocess\n",
    "hname = subprocess.check_output('hostname')\n",
    "\n",
    "if 'ankitnse'.encode() in hname:\n",
    "\n",
    "    if '%s/uoicorr' % p not in sys.path:\n",
    "        sys.path.append('%s/uoicorr' % p)\n",
    "    if '%s/PyUoI' % p not in sys.path:\n",
    "        sys.path.append('%s/PyUoI' % p)\n",
    "\n",
    "else:\n",
    "    # And standard list of subdirectories\n",
    "    if '%s\\\\pyuoi' % p not in sys.path:\n",
    "        sys.path.append('%s\\\\pyuoi' % p)\n",
    "    if '%s\\\\uoicorr' % p not in sys.path:\n",
    "        sys.path.append('%s\\\\uoicorr' % p)\n",
    "\n",
    "from postprocess import postprocess_file, postprocess_dir\n",
    "from utils import FNR, FPR, selection_accuracy\n",
    "\n",
    "from pyuoi.linear_model.gtv import GraphTotalVariance"
   ]
  },
  {
   "cell_type": "code",
   "execution_count": 2,
   "metadata": {},
   "outputs": [],
   "source": [
    "gtv = GraphTotalVariance(np.random.uniform(), np.random.uniform(), np.random.uniform())"
   ]
  },
  {
   "cell_type": "code",
   "execution_count": 3,
   "metadata": {},
   "outputs": [],
   "source": [
    "# Generate data to test the GTV. Use a block correlation structure and a small number of features\n",
    "from utils import gen_covariance, gen_beta, gen_data"
   ]
  },
  {
   "cell_type": "code",
   "execution_count": 4,
   "metadata": {},
   "outputs": [],
   "source": [
    "cov = gen_covariance('block', n_features = 30, block_size = 5, correlation=0.5)\n",
    "beta = gen_beta(n_features = 30, block_size = 5, sparsity = 0.5)\n",
    "X, X_test, y, y_test = gen_data(n_samples = 100, n_features = 30, kappa = 0.3, covariance = cov, beta = beta)"
   ]
  },
  {
   "cell_type": "code",
   "execution_count": 5,
   "metadata": {},
   "outputs": [
    {
     "data": {
      "text/plain": [
       "GraphTotalVariance(copy_X=True, fit_intercept=True,\n",
       "          lambda_1=0.29516442782745456, lambda_S=0.7430631943923682,\n",
       "          lambda_TV=0.040078329789386746, max_iter=1000, normalize=False,\n",
       "          positive=False, precompute=False, random_state=None,\n",
       "          selection='cyclic', tol=0.0001, warm_start=False)"
      ]
     },
     "execution_count": 5,
     "metadata": {},
     "output_type": "execute_result"
    }
   ],
   "source": [
    "gtv.fit(X, y, cov)"
   ]
  },
  {
   "cell_type": "code",
   "execution_count": 7,
   "metadata": {},
   "outputs": [
    {
     "data": {
      "text/plain": [
       "array([-0.52246955, -1.74558991, -5.12349273,  1.62933218,  6.23510316,\n",
       "       -1.30772651, -0.7188185 , 10.20979856, -0.35225791, -1.72287298,\n",
       "       -2.9117364 , -1.27669248,  7.65066756, -4.75627907,  2.49792636,\n",
       "       -9.40992024,  5.97360832,  4.54589769, -0.24082765, -0.41222106,\n",
       "        6.51913289, -5.03439631, -1.77360025, -3.33508493, -0.12893708,\n",
       "       -0.13802899,  1.48962937, -2.81385357,  2.95988268, -2.59823053])"
      ]
     },
     "execution_count": 7,
     "metadata": {},
     "output_type": "execute_result"
    }
   ],
   "source": [
    "gtv.coef_"
   ]
  },
  {
   "cell_type": "code",
   "execution_count": 6,
   "metadata": {},
   "outputs": [
    {
     "data": {
      "text/plain": [
       "array([[0.        ],\n",
       "       [0.        ],\n",
       "       [0.        ],\n",
       "       [1.61459292],\n",
       "       [7.86733184],\n",
       "       [0.        ],\n",
       "       [0.65694013],\n",
       "       [7.19672573],\n",
       "       [0.        ],\n",
       "       [0.        ],\n",
       "       [0.        ],\n",
       "       [0.        ],\n",
       "       [9.62863438],\n",
       "       [0.        ],\n",
       "       [4.01618041],\n",
       "       [0.        ],\n",
       "       [9.26091357],\n",
       "       [6.21045494],\n",
       "       [0.        ],\n",
       "       [0.        ],\n",
       "       [9.850466  ],\n",
       "       [0.        ],\n",
       "       [6.22925009],\n",
       "       [0.        ],\n",
       "       [0.        ],\n",
       "       [0.        ],\n",
       "       [4.9859334 ],\n",
       "       [0.        ],\n",
       "       [3.19535955],\n",
       "       [0.        ]])"
      ]
     },
     "execution_count": 6,
     "metadata": {},
     "output_type": "execute_result"
    }
   ],
   "source": [
    "beta"
   ]
  },
  {
   "cell_type": "code",
   "execution_count": null,
   "metadata": {},
   "outputs": [],
   "source": []
  }
 ],
 "metadata": {
  "kernelspec": {
   "display_name": "Python 3",
   "language": "python",
   "name": "python3"
  },
  "language_info": {
   "codemirror_mode": {
    "name": "ipython",
    "version": 3
   },
   "file_extension": ".py",
   "mimetype": "text/x-python",
   "name": "python",
   "nbconvert_exporter": "python",
   "pygments_lexer": "ipython3",
   "version": "3.6.6"
  }
 },
 "nbformat": 4,
 "nbformat_minor": 2
}
