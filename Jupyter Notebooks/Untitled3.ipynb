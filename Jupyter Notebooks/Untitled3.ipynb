{
 "cells": [
  {
   "cell_type": "code",
   "execution_count": 8,
   "metadata": {},
   "outputs": [],
   "source": [
    "import glob"
   ]
  },
  {
   "cell_type": "code",
   "execution_count": 9,
   "metadata": {},
   "outputs": [],
   "source": [
    "import os"
   ]
  },
  {
   "cell_type": "code",
   "execution_count": 10,
   "metadata": {},
   "outputs": [
    {
     "data": {
      "text/plain": [
       "['.ipynb_checkpoints',\n",
       " '12052018.ipynb',\n",
       " 'Benchmark UoI ElasticNet.ipynb',\n",
       " 'Covariance Scaling.ipynb',\n",
       " 'exp1.ipynb',\n",
       " 'exp1_sparsity.ipynb',\n",
       " 'exp1_test.ipynb',\n",
       " 'exp2.ipynb',\n",
       " 'exp3.ipynb',\n",
       " 'exp4.ipynb',\n",
       " 'IsolateSelectionProblem.ipynb',\n",
       " 'Normalization Issues Example.ipynb',\n",
       " 'plot_lasso_and_elasticnet.ipynb',\n",
       " 'Postproces 01172019.ipynb',\n",
       " 'Postprocess 02012019.ipynb',\n",
       " 'Postprocess 021112019.ipynb',\n",
       " 'Postprocess Est_Comparison.ipynb',\n",
       " 'Postprocess Exp_Falloff.ipynb',\n",
       " 'Postprocess GTV Test.ipynb',\n",
       " 'Postprocess Stability Selection.ipynb',\n",
       " 'Postprocess-UoIElasticNet.ipynb',\n",
       " 'Postprocess.ipynb',\n",
       " 'Postprocess_01202019.ipynb',\n",
       " 'Postprocess_01222019c.ipynb',\n",
       " 'Postprocess_01312019.ipynb',\n",
       " 'Postprocess_2.ipynb',\n",
       " 'Postprocess_BlockCorrelations.ipynb',\n",
       " 'Postprocess_ExpFalloffCorr.ipynb',\n",
       " 'Postprocess_InterpolatedCorr-v2.ipynb',\n",
       " 'Postprocess_InterpolatedCorr.ipynb',\n",
       " 'Scaled False Negative Magnitude.ipynb',\n",
       " 'Selection Details.ipynb',\n",
       " 'Test of Grouping Effect in Supports.ipynb',\n",
       " 'Test Sparse Group Lasso.ipynb',\n",
       " 'Test UoI Hybrid.ipynb',\n",
       " 'TestGTV.ipynb',\n",
       " 'Untitled.ipynb',\n",
       " 'Untitled1.ipynb',\n",
       " 'Untitled2.ipynb',\n",
       " 'Untitled3.ipynb',\n",
       " 'UoIElasticNetBenchmark.ipynb',\n",
       " 'UoIEN with l1_ratio 1 included.ipynb']"
      ]
     },
     "execution_count": 10,
     "metadata": {},
     "output_type": "execute_result"
    }
   ],
   "source": [
    "os.listdir('.')"
   ]
  },
  {
   "cell_type": "code",
   "execution_count": 11,
   "metadata": {},
   "outputs": [
    {
     "data": {
      "text/plain": [
       "[]"
      ]
     },
     "execution_count": 11,
     "metadata": {},
     "output_type": "execute_result"
    }
   ],
   "source": [
    "glob.glob('*.asdfasdf')"
   ]
  },
  {
   "cell_type": "code",
   "execution_count": 14,
   "metadata": {},
   "outputs": [
    {
     "data": {
      "text/plain": [
       "True"
      ]
     },
     "execution_count": 14,
     "metadata": {},
     "output_type": "execute_result"
    }
   ],
   "source": [
    "glob.glob('*.sdfsdf') == []"
   ]
  },
  {
   "cell_type": "code",
   "execution_count": null,
   "metadata": {},
   "outputs": [],
   "source": []
  }
 ],
 "metadata": {
  "kernelspec": {
   "display_name": "Python 3",
   "language": "python",
   "name": "python3"
  },
  "language_info": {
   "codemirror_mode": {
    "name": "ipython",
    "version": 3
   },
   "file_extension": ".py",
   "mimetype": "text/x-python",
   "name": "python",
   "nbconvert_exporter": "python",
   "pygments_lexer": "ipython3",
   "version": "3.6.6"
  }
 },
 "nbformat": 4,
 "nbformat_minor": 2
}
