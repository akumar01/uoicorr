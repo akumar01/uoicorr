{
 "cells": [
  {
   "cell_type": "code",
   "execution_count": 1,
   "metadata": {},
   "outputs": [],
   "source": [
    "# %load ../uoicorr_imports.py\n",
    "%load_ext autoreload\n",
    "%autoreload 2\n",
    "\n",
    "import h5py\n",
    "\n",
    "import numpy as np\n",
    "import matplotlib.pyplot as plt\n",
    "\n",
    "import sys, os, pdb\n",
    "\n",
    "# Hack to import pyuoi\n",
    "parent_path, current_dir = os.path.split(os.path.abspath('.'))\n",
    "while current_dir not in ['nse']:\n",
    "\tparent_path, current_dir = os.path.split(parent_path)\n",
    "p = os.path.join(parent_path, current_dir)\n",
    "# Add analysis\n",
    "if p not in sys.path:\n",
    "\tsys.path.append(p)\n",
    "\n",
    "import subprocess\n",
    "hname = subprocess.check_output('hostname')\n",
    "\n",
    "if 'ankitnse'.encode() in hname:\n",
    "\n",
    "\tif '%s/uoicorr' % p not in sys.path:\n",
    "\t    sys.path.append('%s/uoicorr' % p)\n",
    "else:\n",
    "\t# And standard list of subdirectories\n",
    "\tif '%s\\\\pyuoi' % p not in sys.path:\n",
    "\t\tsys.path.append('%s\\\\pyuoi' % p)\n",
    "\tif '%s\\\\uoicorr' % p not in sys.path:\n",
    "\t    sys.path.append('%s\\\\uoicorr' % p)\n",
    "\n",
    "from postprocess import postprocess_file, postprocess_dir"
   ]
  },
  {
   "cell_type": "code",
   "execution_count": 2,
   "metadata": {},
   "outputs": [],
   "source": [
    "from utils import gen_covariance, gen_beta, gen_data"
   ]
  },
  {
   "cell_type": "code",
   "execution_count": 9,
   "metadata": {},
   "outputs": [
    {
     "data": {
      "image/png": "[encoded data removed]",
      "text/plain": [
       "<Figure size 720x720 with 2 Axes>"
      ]
     },
     "metadata": {
      "needs_background": "light"
     },
     "output_type": "display_data"
    }
   ],
   "source": [
    "# How large of a dataset do we need to generate before the empirical correlation matrix becomes reliable?\n",
    "n = 300\n",
    "p = 60\n",
    "block_size = 6\n",
    "sigma = gen_covariance('block', n_features = p, block_size = block_size,correlation=0.2)\n",
    "beta = gen_beta(p, block_size = block_size)\n",
    "X, X_test, y, y_test = gen_data(n, p, 0.3, sigma, beta)\n",
    "empirical_cov = 1/n * X.T @ X\n",
    "fig, ax = plt.subplots(1, 2, figsize = (10, 10))\n",
    "ax[0].pcolor(empirical_cov, vmin = 0, vmax = 1, cmap = 'Greys')\n",
    "ax[0].set_aspect('equal')\n",
    "ax[1].pcolor(sigma,  vmin = 0, vmax = 1, cmap = 'Greys')\n",
    "ax[1].set_aspect('equal')"
   ]
  },
  {
   "cell_type": "code",
   "execution_count": 10,
   "metadata": {},
   "outputs": [],
   "source": [
    "from sklearn.cluster import KMeans"
   ]
  },
  {
   "cell_type": "code",
   "execution_count": null,
   "metadata": {},
   "outputs": [],
   "source": []
  }
 ],
 "metadata": {
  "kernelspec": {
   "display_name": "Python 3",
   "language": "python",
   "name": "python3"
  },
  "language_info": {
   "codemirror_mode": {
    "name": "ipython",
    "version": 3
   },
   "file_extension": ".py",
   "mimetype": "text/x-python",
   "name": "python",
   "nbconvert_exporter": "python",
   "pygments_lexer": "ipython3",
   "version": "3.6.7"
  }
 },
 "nbformat": 4,
 "nbformat_minor": 2
}
