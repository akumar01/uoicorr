{
 "cells": [
  {
   "cell_type": "code",
   "execution_count": 2,
   "metadata": {},
   "outputs": [],
   "source": [
    "# %load ../uoicorr_imports.py\n",
    "%load_ext autoreload\n",
    "%autoreload 2\n",
    "\n",
    "import h5py\n",
    "\n",
    "import numpy as np\n",
    "import matplotlib.pyplot as plt\n",
    "\n",
    "import sys, os, pdb\n",
    "\n",
    "# Hack to import pyuoi\n",
    "parent_path, current_dir = os.path.split(os.path.abspath('.'))\n",
    "while current_dir not in ['nse']:\n",
    "\tparent_path, current_dir = os.path.split(parent_path)\n",
    "p = os.path.join(parent_path, current_dir)\n",
    "\n",
    "# And standard list of subdirectories\n",
    "if '%s/pyuoi' % p not in sys.path:\n",
    "\tsys.path.append('%s/pyuoi' % p)\n",
    "\n",
    "from pyuoi.linear_model.lasso import UoI_Lasso\n",
    "from pyuoi.linear_model.elasticnet import UoI_ElasticNet\n",
    "\n",
    "if '%s/uoicorr' % p not in sys.path:\n",
    "    sys.path.append('%s/uoicorr' % p)\n",
    "\n",
    "from postprocess import postprocess_file, postprocess_dir"
   ]
  },
  {
   "cell_type": "code",
   "execution_count": 9,
   "metadata": {},
   "outputs": [],
   "source": [
    "from utils import gen_data, gen_covariance, gen_beta2, selection_accuracy\n",
    "from sklearn.metrics import r2_score"
   ]
  },
  {
   "cell_type": "code",
   "execution_count": 7,
   "metadata": {},
   "outputs": [],
   "source": [
    "# Generate synthetic data\n",
    "sigma = gen_covariance(200, 0, 200, 10, 1)\n",
    "beta = gen_beta2(200, 200)\n",
    "X, X_test, y, y_test = gen_data(600, 200, covariance = sigma, beta = beta)"
   ]
  },
  {
   "cell_type": "code",
   "execution_count": 8,
   "metadata": {},
   "outputs": [],
   "source": [
    "from exp_types import CV_Lasso\n",
    "from sklearn.linear_model import LassoCV"
   ]
  },
  {
   "cell_type": "code",
   "execution_count": null,
   "metadata": {},
   "outputs": [],
   "source": [
    "# Time how long it takes to fit with CV_lasso vs LassoCV\n",
    "p['n_alphas'] = 48\n",
    "p['n_boots_sel'] = 48\n",
    "p['n_boots_est'] = 48\n",
    "p['est_score'] = 'r2'\n",
    "p['stability_selection'] = 1\n",
    "p['l1_ratios'] = [0.1, 0.2, 0.5, 0.75, 0.9, 0.95, 0.99]\n",
    "\n",
    "% time\n"
   ]
  }
 ],
 "metadata": {
  "kernelspec": {
   "display_name": "Python 3",
   "language": "python",
   "name": "python3"
  },
  "language_info": {
   "codemirror_mode": {
    "name": "ipython",
    "version": 3
   },
   "file_extension": ".py",
   "mimetype": "text/x-python",
   "name": "python",
   "nbconvert_exporter": "python",
   "pygments_lexer": "ipython3",
   "version": "3.6.6"
  }
 },
 "nbformat": 4,
 "nbformat_minor": 2
}
