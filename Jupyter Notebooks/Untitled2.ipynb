{
 "cells": [
  {
   "cell_type": "code",
   "execution_count": 2,
   "metadata": {},
   "outputs": [],
   "source": [
    "# %load ../uoicorr_imports.py\n",
    "%load_ext autoreload\n",
    "%autoreload 2\n",
    "\n",
    "import h5py\n",
    "\n",
    "import numpy as np\n",
    "import matplotlib.pyplot as plt\n",
    "\n",
    "import sys, os, pdb\n",
    "\n",
    "# Hack to import pyuoi\n",
    "parent_path, current_dir = os.path.split(os.path.abspath('.'))\n",
    "while current_dir not in ['nse']:\n",
    "\tparent_path, current_dir = os.path.split(parent_path)\n",
    "p = os.path.join(parent_path, current_dir)\n",
    "\n",
    "# And standard list of subdirectories\n",
    "if '%s/pyuoi' % p not in sys.path:\n",
    "\tsys.path.append('%s/pyuoi' % p)\n",
    "\n",
    "from pyuoi.linear_model.lasso import UoI_Lasso\n",
    "from pyuoi.linear_model.elasticnet import UoI_ElasticNet\n",
    "\n",
    "if '%s/uoicorr' % p not in sys.path:\n",
    "    sys.path.append('%s/uoicorr' % p)\n",
    "\n",
    "from postprocess import postprocess_file, postprocess_dir"
   ]
  },
  {
   "cell_type": "code",
   "execution_count": 9,
   "metadata": {},
   "outputs": [],
   "source": [
    "from utils import gen_data, gen_covariance, gen_beta2, selection_accuracy\n",
    "from sklearn.metrics import r2_score"
   ]
  },
  {
   "cell_type": "code",
   "execution_count": 37,
   "metadata": {},
   "outputs": [],
   "source": [
    "# Generate synthetic data\n",
    "sigma = gen_covariance(200, 0, 200, 10, 1)\n",
    "beta = gen_beta2(200, 200, betawidth = 0.5, sparsity = 1)\n",
    "X, X_test, y, y_test = gen_data(600, 200, covariance = sigma, beta = beta)"
   ]
  },
  {
   "cell_type": "code",
   "execution_count": 38,
   "metadata": {},
   "outputs": [
    {
     "data": {
      "text/plain": [
       "(array([ 3.,  5., 20., 69., 74., 24.,  4.,  0.,  0.,  1.]),\n",
       " array([1.9342801 , 2.69671001, 3.45913993, 4.22156985, 4.98399977,\n",
       "        5.74642969, 6.5088596 , 7.27128952, 8.03371944, 8.79614936,\n",
       "        9.55857928]),\n",
       " <a list of 10 Patch objects>)"
      ]
     },
     "execution_count": 38,
     "metadata": {},
     "output_type": "execute_result"
    },
    {
     "data": {
      "image/png": "[encoded data removed]",
      "text/plain": [
       "<Figure size 432x288 with 1 Axes>"
      ]
     },
     "metadata": {
      "needs_background": "light"
     },
     "output_type": "display_data"
    }
   ],
   "source": [
    "plt.hist(beta)"
   ]
  },
  {
   "cell_type": "code",
   "execution_count": 14,
   "metadata": {},
   "outputs": [],
   "source": [
    "from exp_types import CV_Lasso, EN\n",
    "from sklearn.linear_model import LassoCV, ElasticNetCV"
   ]
  },
  {
   "cell_type": "code",
   "execution_count": 20,
   "metadata": {},
   "outputs": [
    {
     "name": "stdout",
     "output_type": "stream",
     "text": [
      "Wall time: 1.54 s\n",
      "Wall time: 273 ms\n",
      "Wall time: 6.02 s\n",
      "Wall time: 1.44 s\n"
     ]
    }
   ],
   "source": [
    "# Time how long it takes to fit with CV_lasso vs LassoCV\n",
    "p = {}\n",
    "p['n_alphas'] = 48\n",
    "p['n_boots_sel'] = 48\n",
    "p['n_boots_est'] = 48\n",
    "p['est_score'] = 'r2'\n",
    "p['stability_selection'] = 1\n",
    "p['l1_ratios'] = [0.1, 0.2, 0.5, 0.75, 0.9, 0.95, 0.99]\n",
    "\n",
    "%time m1 = CV_Lasso.run(X, y, p)\n",
    "%time m2 = LassoCV(cv = 5, n_alphas = 48).fit(X, y.ravel())\n",
    "%time m3 = EN.run(X, y, p)\n",
    "%time m4 = ElasticNetCV(cv = 5, n_alphas = 48, l1_ratio = p['l1_ratios']).fit(X, y.ravel())"
   ]
  }
 ],
 "metadata": {
  "kernelspec": {
   "display_name": "Python 3",
   "language": "python",
   "name": "python3"
  },
  "language_info": {
   "codemirror_mode": {
    "name": "ipython",
    "version": 3
   },
   "file_extension": ".py",
   "mimetype": "text/x-python",
   "name": "python",
   "nbconvert_exporter": "python",
   "pygments_lexer": "ipython3",
   "version": "3.6.6"
  }
 },
 "nbformat": 4,
 "nbformat_minor": 2
}
