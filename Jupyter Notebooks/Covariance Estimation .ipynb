{
 "cells": [
  {
   "cell_type": "code",
   "execution_count": 1,
   "metadata": {},
   "outputs": [
    {
     "name": "stdout",
     "output_type": "stream",
     "text": [
      "/home/akumar/nse\n",
      "/home/akumar\n"
     ]
    }
   ],
   "source": [
    "# %load ../uoicorr_imports.py\n",
    "# %load uoicorr_imports.py\n",
    "%load_ext autoreload\n",
    "%autoreload 2\n",
    "\n",
    "import h5py\n",
    "\n",
    "import numpy as np\n",
    "import matplotlib.pyplot as plt\n",
    "\n",
    "import sys, os, pdb\n",
    "\n",
    "# Hack to import pyuoi\n",
    "parent_path, current_dir = os.path.split(os.path.abspath('.'))\n",
    "while current_dir not in ['nse']:\n",
    "    parent_path, current_dir = os.path.split(parent_path)\n",
    "    print(parent_path)\n",
    "p = os.path.join(parent_path, current_dir)\n",
    "# Add analysis\n",
    "if p not in sys.path:\n",
    "    sys.path.append(p)\n",
    "\n",
    "import subprocess\n",
    "hname = subprocess.check_output('hostname')\n",
    "\n",
    "if 'ankitnse'.encode() in hname:\n",
    "\n",
    "    if '%s/uoicorr' % p not in sys.path:\n",
    "        sys.path.append('%s/uoicorr' % p)\n",
    "    if '%s/PyUoI' % p not in sys.path:\n",
    "        sys.path.append('%s/PyUoI' % p)\n",
    "\n",
    "elif os.name == 'posix':\n",
    "\n",
    "    pass\n",
    "\n",
    "else:\n",
    "    # And standard list of subdirectories\n",
    "    if '%s\\\\pyuoi' % p not in sys.path:\n",
    "        sys.path.append('%s\\\\pyuoi' % p)\n",
    "    if '%s\\\\uoicorr' % p not in sys.path:\n",
    "        sys.path.append('%s\\\\uoicorr' % p)\n",
    "\n",
    "from postprocess import postprocess_file, postprocess_dir\n",
    "from utils import FNR, FPR, selection_accuracy"
   ]
  },
  {
   "cell_type": "markdown",
   "metadata": {},
   "source": [
    "### Test whether sklearn's built-in covariance estimation methods work for our purposes"
   ]
  },
  {
   "cell_type": "code",
   "execution_count": 2,
   "metadata": {},
   "outputs": [],
   "source": [
    "from utils import gen_covariance, gen_beta, gen_data, interpolate_covariance, gen_beta2"
   ]
  },
  {
   "cell_type": "code",
   "execution_count": 3,
   "metadata": {},
   "outputs": [],
   "source": [
    "import itertools, time"
   ]
  },
  {
   "cell_type": "code",
   "execution_count": 4,
   "metadata": {},
   "outputs": [],
   "source": [
    "from sklearn.covariance import EmpiricalCovariance, GraphicalLassoCV, LedoitWolf, MinCovDet, OAS, ShrunkCovariance"
   ]
  },
  {
   "cell_type": "code",
   "execution_count": 19,
   "metadata": {},
   "outputs": [
    {
     "data": {
      "text/plain": [
       "array([0.1023293 , 0.18092559, 0.31988951, 0.56558776, 1.        ])"
      ]
     },
     "execution_count": 19,
     "metadata": {},
     "output_type": "execute_result"
    }
   ],
   "source": [
    "sparsity"
   ]
  },
  {
   "cell_type": "code",
   "execution_count": 7,
   "metadata": {},
   "outputs": [
    {
     "name": "stdout",
     "output_type": "stream",
     "text": [
      "0\n",
      "1\n",
      "2\n",
      "3\n",
      "4\n",
      "5\n",
      "6\n",
      "7\n",
      "8\n",
      "9\n",
      "10\n",
      "11\n",
      "12\n",
      "13\n",
      "14\n",
      "15\n",
      "16\n",
      "17\n",
      "18\n",
      "19\n",
      "20\n",
      "21\n",
      "22\n",
      "23\n",
      "24\n",
      "25\n",
      "26\n",
      "27\n",
      "28\n",
      "29\n",
      "30\n",
      "31\n",
      "32\n",
      "33\n",
      "34\n",
      "35\n",
      "36\n",
      "37\n",
      "38\n",
      "39\n",
      "40\n",
      "41\n",
      "42\n",
      "43\n",
      "44\n",
      "45\n",
      "46\n",
      "47\n",
      "48\n",
      "49\n",
      "50\n",
      "51\n",
      "52\n",
      "53\n",
      "54\n",
      "55\n",
      "56\n",
      "57\n",
      "58\n",
      "59\n",
      "60\n",
      "61\n",
      "62\n",
      "63\n",
      "64\n",
      "65\n",
      "66\n",
      "67\n",
      "68\n",
      "69\n",
      "70\n",
      "71\n",
      "72\n",
      "73\n",
      "74\n",
      "75\n",
      "76\n",
      "77\n",
      "78\n",
      "79\n",
      "80\n",
      "81\n",
      "82\n",
      "83\n",
      "84\n",
      "85\n",
      "86\n",
      "87\n",
      "88\n",
      "89\n",
      "90\n",
      "91\n",
      "92\n",
      "93\n",
      "94\n",
      "95\n",
      "96\n",
      "97\n",
      "98\n",
      "99\n",
      "100\n",
      "101\n",
      "102\n",
      "103\n",
      "104\n",
      "105\n",
      "106\n",
      "107\n",
      "108\n",
      "109\n",
      "110\n",
      "111\n",
      "112\n",
      "113\n",
      "114\n",
      "115\n",
      "116\n",
      "117\n",
      "118\n",
      "119\n",
      "120\n",
      "121\n",
      "122\n",
      "123\n",
      "124\n",
      "125\n",
      "126\n",
      "127\n",
      "128\n",
      "129\n",
      "130\n",
      "131\n",
      "132\n",
      "133\n",
      "134\n",
      "135\n",
      "136\n",
      "137\n",
      "138\n",
      "139\n",
      "140\n",
      "141\n",
      "142\n",
      "143\n",
      "144\n",
      "145\n",
      "146\n",
      "147\n",
      "148\n",
      "149\n",
      "150\n",
      "151\n",
      "152\n",
      "153\n",
      "154\n",
      "155\n",
      "156\n",
      "157\n",
      "158\n",
      "159\n",
      "160\n",
      "161\n",
      "162\n",
      "163\n",
      "164\n",
      "165\n",
      "166\n",
      "167\n",
      "168\n",
      "169\n",
      "170\n",
      "171\n",
      "172\n",
      "173\n",
      "174\n",
      "175\n",
      "176\n",
      "177\n",
      "178\n",
      "179\n",
      "180\n",
      "181\n",
      "182\n",
      "183\n",
      "184\n",
      "185\n",
      "186\n",
      "187\n",
      "188\n",
      "189\n",
      "190\n",
      "191\n",
      "192\n",
      "193\n",
      "194\n",
      "195\n",
      "196\n",
      "197\n",
      "198\n",
      "199\n",
      "200\n",
      "201\n",
      "202\n",
      "203\n",
      "204\n",
      "205\n",
      "206\n",
      "207\n",
      "208\n",
      "209\n",
      "210\n",
      "211\n",
      "212\n",
      "213\n",
      "214\n",
      "215\n",
      "216\n",
      "217\n",
      "218\n",
      "219\n",
      "220\n",
      "221\n",
      "222\n",
      "223\n",
      "224\n",
      "225\n",
      "226\n",
      "227\n",
      "228\n",
      "229\n",
      "230\n",
      "231\n",
      "232\n",
      "233\n",
      "234\n",
      "235\n",
      "236\n",
      "237\n",
      "238\n",
      "239\n",
      "240\n",
      "241\n",
      "242\n",
      "243\n",
      "244\n",
      "245\n",
      "246\n",
      "247\n",
      "248\n",
      "249\n",
      "250\n",
      "251\n",
      "252\n",
      "253\n",
      "254\n",
      "255\n",
      "256\n",
      "257\n",
      "258\n",
      "259\n",
      "260\n",
      "261\n",
      "262\n",
      "263\n",
      "264\n",
      "265\n",
      "266\n",
      "267\n",
      "268\n",
      "269\n",
      "270\n",
      "271\n",
      "272\n",
      "273\n",
      "274\n",
      "275\n",
      "276\n",
      "277\n",
      "278\n",
      "279\n",
      "280\n",
      "281\n",
      "282\n",
      "283\n",
      "284\n",
      "285\n",
      "286\n",
      "287\n",
      "288\n",
      "289\n",
      "290\n",
      "291\n",
      "292\n",
      "293\n",
      "294\n",
      "295\n",
      "296\n",
      "297\n",
      "298\n",
      "299\n",
      "300\n",
      "301\n",
      "302\n",
      "303\n",
      "304\n",
      "305\n",
      "306\n",
      "307\n",
      "308\n",
      "309\n",
      "310\n",
      "311\n",
      "312\n",
      "313\n",
      "314\n",
      "315\n",
      "316\n",
      "317\n",
      "318\n",
      "319\n",
      "320\n",
      "321\n",
      "322\n",
      "323\n",
      "324\n",
      "325\n",
      "326\n",
      "327\n",
      "328\n",
      "329\n",
      "330\n",
      "331\n",
      "332\n",
      "333\n",
      "334\n",
      "335\n",
      "336\n",
      "337\n",
      "338\n",
      "339\n",
      "340\n",
      "341\n",
      "342\n",
      "343\n",
      "344\n",
      "345\n",
      "346\n",
      "347\n",
      "348\n",
      "349\n",
      "350\n",
      "351\n",
      "352\n",
      "353\n",
      "354\n",
      "355\n",
      "356\n",
      "357\n",
      "358\n",
      "359\n"
     ]
    }
   ],
   "source": [
    "# Exhaustively generate all types of covariance matrices\n",
    "n_samples = [100,  1000, 5000]\n",
    "n_features = 1000\n",
    "block_size = [1,  20, 100]\n",
    "block_correlation = [0, 0.1,  0.5, 0.8]\n",
    "L = [10, 100]\n",
    "sparsity = np.logspace(0.01, 1, 5)/10\n",
    "betawidth = 5\n",
    "\n",
    "shape = ((len(n_samples), len(block_size), len(block_correlation), len(L), len(sparsity), 3))\n",
    "\n",
    "methods = ['empirical', 'ShrunkCovariance', 'LedoitWolf', 'OAS', 'GraphicalLasso', 'MinCovDet']\n",
    "\n",
    "estimates = {method : [] for method in methods}\n",
    "\n",
    "estimated_cov = np.empty(shape, dtype = np.object)\n",
    "estimated_cov.fill(estimates)\n",
    "# Errors between estimated and actual covariance matrix (Frobenius Norm)\n",
    "errors = np.zeros(shape + (len(methods),))\n",
    "\n",
    "iter_idx = list(itertools.product(*[np.arange(length) for length in shape[:-1]]))\n",
    "\n",
    "# Estimators\n",
    "empcov = EmpiricalCovariance(assume_centered = True)\n",
    "glcv = GraphicalLassoCV(cv = 5, assume_centered = True)\n",
    "shrunk = ShrunkCovariance(assume_centered = True)\n",
    "lw = LedoitWolf(assume_centered = True)\n",
    "oas = OAS(assume_centered = True)\n",
    "#mincovdet = MinCovDet(assume_centered = True, support_fraction = 0.75)\n",
    "\n",
    "for ii, idx in enumerate(iter_idx):\n",
    "    print(ii)\n",
    "    ns = n_samples[idx[0]]\n",
    "    nf = n_features\n",
    "    bs = block_size[idx[1]]\n",
    "    bc = block_correlation[idx[2]]\n",
    "    l = L[idx[3]]\n",
    "    s = sparsity[idx[4]]\n",
    "    \n",
    "    beta = gen_beta2(nf, bs, s, betawidth)\n",
    "    sigmas = interpolate_covariance('block_covariance', 'exp_falloff', interp_coeffs = np.array([0, 0.5, 1]),\n",
    "                                    n_features = nf, cov_type1_args = {'block_size': bs, 'correlation': bc},\n",
    "                                   cov_type2_args = {'L' : l})\n",
    "\n",
    "    for i, sigma in enumerate(sigmas):\n",
    "        X, X_test, y, y_test = gen_data(n_samples = ns, n_features = nf,\n",
    "                                       covariance = sigma['sigma'], beta = beta)\n",
    "        \n",
    "        empcov.fit(X)\n",
    "        errors[idx + (i, 0)] = empcov.error_norm(sigma['sigma'])\n",
    "#        t2 = time.time()\n",
    "#        glcv.fit(X)\n",
    "#        errors[idx + (i, 1)] = glcv.error_norm(sigma['sigma'])\n",
    "#        print('Graphical Lasso: %f' % (time.time() - t2))\n",
    "        shrunk.fit(X)\n",
    "        errors[idx + (i, 2)] = shrunk.error_norm(sigma['sigma'])\n",
    "        lw.fit(X)\n",
    "        errors[idx + (i, 3)] = lw.error_norm(sigma['sigma'])\n",
    "        oas.fit(X)\n",
    "        errors[idx + (i, 4)] = oas.error_norm(sigma['sigma'])\n",
    "#         mincovdet.fit(X)\n",
    "#         errors[idx + (i, 5)] = mincovdet.error_norm(sigma['sigma'])"
   ]
  },
  {
   "cell_type": "code",
   "execution_count": 8,
   "metadata": {},
   "outputs": [
    {
     "data": {
      "text/plain": [
       "6480"
      ]
     },
     "execution_count": 8,
     "metadata": {},
     "output_type": "execute_result"
    }
   ],
   "source": [
    "errors.size"
   ]
  },
  {
   "cell_type": "code",
   "execution_count": 9,
   "metadata": {},
   "outputs": [
    {
     "data": {
      "text/plain": [
       "(3, 3, 4, 2, 5, 3, 6)"
      ]
     },
     "execution_count": 9,
     "metadata": {},
     "output_type": "execute_result"
    }
   ],
   "source": [
    "errors.shape"
   ]
  },
  {
   "cell_type": "code",
   "execution_count": 18,
   "metadata": {},
   "outputs": [
    {
     "data": {
      "text/plain": [
       "(array([797.,  53.,  70.,  25.,  66.,  38.,  22.,   7.,   1.,   1.]),\n",
       " array([3.87560337e-09, 1.68874327e+00, 3.37748653e+00, 5.06622980e+00,\n",
       "        6.75497307e+00, 8.44371633e+00, 1.01324596e+01, 1.18212029e+01,\n",
       "        1.35099461e+01, 1.51986894e+01, 1.68874327e+01]),\n",
       " <a list of 10 Patch objects>)"
      ]
     },
     "execution_count": 18,
     "metadata": {},
     "output_type": "execute_result"
    },
    {
     "data": {
      "image/png": "[encoded data removed]",
      "text/plain": [
       "<Figure size 432x288 with 1 Axes>"
      ]
     },
     "metadata": {
      "needs_background": "light"
     },
     "output_type": "display_data"
    }
   ],
   "source": [
    "plt.hist(errors[...,4].ravel())"
   ]
  },
  {
   "cell_type": "code",
   "execution_count": 22,
   "metadata": {},
   "outputs": [
    {
     "data": {
      "image/png": "[encoded data removed]",
      "text/plain": [
       "<Figure size 1440x720 with 3 Axes>"
      ]
     },
     "metadata": {
      "needs_background": "light"
     },
     "output_type": "display_data"
    },
    {
     "data": {
      "image/png": "[encoded data removed]",
      "text/plain": [
       "<Figure size 1440x720 with 3 Axes>"
      ]
     },
     "metadata": {
      "needs_background": "light"
     },
     "output_type": "display_data"
    },
    {
     "data": {
      "image/png": "[encoded data removed]",
      "text/plain": [
       "<Figure size 1440x720 with 3 Axes>"
      ]
     },
     "metadata": {
      "needs_background": "light"
     },
     "output_type": "display_data"
    },
    {
     "data": {
      "image/png": "[encoded data removed]",
      "text/plain": [
       "<Figure size 1440x720 with 3 Axes>"
      ]
     },
     "metadata": {
      "needs_background": "light"
     },
     "output_type": "display_data"
    }
   ],
   "source": [
    "# Plot for each method, a histogram of errors for each sample size, separately coloring the three different\n",
    "# results for each interpolation coefficient\n",
    "\n",
    "fig1, ax1 = plt.subplots(1, 3, figsize = (20, 10))\n",
    "fig2, ax2 = plt.subplots(1, 3, figsize = (20, 10))\n",
    "fig3, ax3 = plt.subplots(1, 3, figsize = (20, 10))\n",
    "fig4, ax4 = plt.subplots(1, 3, figsize = (20, 10))\n",
    "\n",
    "for i in range(3):\n",
    "    a = ax1[i]\n",
    "    a.hist(errors[i, :, :, :, :, 0, 0].ravel(), alpha = 0.5)\n",
    "    a.hist(errors[i, :, :, :, :, 1, 0].ravel(), alpha = 0.5)\n",
    "    a.hist(errors[i, :, :, :, :, 2, 0].ravel(), alpha = 0.5)\n",
    "    \n",
    "for i in range(3):\n",
    "    a = ax2[i]\n",
    "    a.hist(errors[i, :, :, :, :, 0, 2].ravel(), alpha = 0.5)\n",
    "    a.hist(errors[i, :, :, :, :, 1, 2].ravel(), alpha = 0.5)\n",
    "    a.hist(errors[i, :, :, :, :, 2, 2].ravel(), alpha = 0.5)\n",
    "    \n",
    "for i in range(3):\n",
    "    a = ax3[i]\n",
    "    a.hist(errors[i, :, :, :, :, 0, 3].ravel(), alpha = 0.5)\n",
    "    a.hist(errors[i, :, :, :, :, 1, 3].ravel(), alpha = 0.5)\n",
    "    a.hist(errors[i, :, :, :, :, 2, 3].ravel(), alpha = 0.5)\n",
    "    \n",
    "for i in range(3):\n",
    "    a = ax4[i]\n",
    "    a.hist(errors[i, :, :, :, :, 0, 4].ravel(), alpha = 0.5)\n",
    "    a.hist(errors[i, :, :, :, :, 1, 4].ravel(), alpha = 0.5)\n",
    "    a.hist(errors[i, :, :, :, :, 2, 4].ravel(), alpha = 0.5)"
   ]
  },
  {
   "cell_type": "code",
   "execution_count": 23,
   "metadata": {},
   "outputs": [],
   "source": [
    "import os"
   ]
  },
  {
   "cell_type": "code",
   "execution_count": 24,
   "metadata": {},
   "outputs": [
    {
     "ename": "AttributeError",
     "evalue": "module 'os' has no attribute 'pwd'",
     "output_type": "error",
     "traceback": [
      "\u001b[0;31m---------------------------------------------------------------------------\u001b[0m",
      "\u001b[0;31mAttributeError\u001b[0m                            Traceback (most recent call last)",
      "\u001b[0;32m<ipython-input-24-ccf365d595bf>\u001b[0m in \u001b[0;36m<module>\u001b[0;34m\u001b[0m\n\u001b[0;32m----> 1\u001b[0;31m \u001b[0mos\u001b[0m\u001b[0;34m.\u001b[0m\u001b[0mpwd\u001b[0m\u001b[0;34m(\u001b[0m\u001b[0;34m)\u001b[0m\u001b[0;34m\u001b[0m\u001b[0;34m\u001b[0m\u001b[0m\n\u001b[0m",
      "\u001b[0;31mAttributeError\u001b[0m: module 'os' has no attribute 'pwd'"
     ]
    }
   ],
   "source": [
    "os.pwd()"
   ]
  },
  {
   "cell_type": "code",
   "execution_count": 25,
   "metadata": {},
   "outputs": [
    {
     "ename": "AttributeError",
     "evalue": "module 'os' has no attribute 'pwd'",
     "output_type": "error",
     "traceback": [
      "\u001b[0;31m---------------------------------------------------------------------------\u001b[0m",
      "\u001b[0;31mAttributeError\u001b[0m                            Traceback (most recent call last)",
      "\u001b[0;32m<ipython-input-25-c2ac116164fd>\u001b[0m in \u001b[0;36m<module>\u001b[0;34m\u001b[0m\n\u001b[0;32m----> 1\u001b[0;31m \u001b[0mos\u001b[0m\u001b[0;34m.\u001b[0m\u001b[0mpwd\u001b[0m\u001b[0;34m\u001b[0m\u001b[0;34m\u001b[0m\u001b[0m\n\u001b[0m",
      "\u001b[0;31mAttributeError\u001b[0m: module 'os' has no attribute 'pwd'"
     ]
    }
   ],
   "source": [
    "os.pwd"
   ]
  },
  {
   "cell_type": "code",
   "execution_count": 26,
   "metadata": {},
   "outputs": [
    {
     "ename": "AttributeError",
     "evalue": "module 'os' has no attribute 'get_cwd'",
     "output_type": "error",
     "traceback": [
      "\u001b[0;31m---------------------------------------------------------------------------\u001b[0m",
      "\u001b[0;31mAttributeError\u001b[0m                            Traceback (most recent call last)",
      "\u001b[0;32m<ipython-input-26-9ae3734243b3>\u001b[0m in \u001b[0;36m<module>\u001b[0;34m\u001b[0m\n\u001b[0;32m----> 1\u001b[0;31m \u001b[0mos\u001b[0m\u001b[0;34m.\u001b[0m\u001b[0mget_cwd\u001b[0m\u001b[0;34m(\u001b[0m\u001b[0;34m)\u001b[0m\u001b[0;34m\u001b[0m\u001b[0;34m\u001b[0m\u001b[0m\n\u001b[0m",
      "\u001b[0;31mAttributeError\u001b[0m: module 'os' has no attribute 'get_cwd'"
     ]
    }
   ],
   "source": [
    "os.get_cwd()"
   ]
  },
  {
   "cell_type": "code",
   "execution_count": 27,
   "metadata": {},
   "outputs": [
    {
     "data": {
      "text/plain": [
       "['Untitled1.ipynb',\n",
       " 'Untitled.ipynb',\n",
       " 'Postprocess_ExpFalloffCorr.ipynb',\n",
       " 'Postprocess_2.ipynb',\n",
       " 'Untitled2.ipynb',\n",
       " 'Postprocess_01222019c.ipynb',\n",
       " 'AnalyzeRuntimes.ipynb',\n",
       " 'Postprocess Exp_Falloff.ipynb',\n",
       " 'UoIElasticNetBenchmark.ipynb',\n",
       " 'Postprocess_BlockCorrelations.ipynb',\n",
       " 'SummaryGraphs.ipynb',\n",
       " 'Test UoI Hybrid.ipynb',\n",
       " 'exp1.ipynb',\n",
       " 'Covariance Scaling.ipynb',\n",
       " 'TestGTV.ipynb',\n",
       " 'Untitled3.ipynb',\n",
       " 'Normalization Issues Example.ipynb',\n",
       " 'Postprocess Est_Comparison.ipynb',\n",
       " 'Postprocess_InterpolatedCorr-v2.ipynb',\n",
       " 'Postprocess-UoIElasticNet.ipynb',\n",
       " 'UoIEN with l1_ratio 1 included.ipynb',\n",
       " 'Postprocess_01242019.ipynb',\n",
       " 'Selection Details.ipynb',\n",
       " 'Test of Grouping Effect in Supports.ipynb',\n",
       " 'exp1_test.ipynb',\n",
       " 'exp2.ipynb',\n",
       " 'Postprocess_01202019.ipynb',\n",
       " 'exp4.ipynb',\n",
       " 'Benchmark UoI ElasticNet.ipynb',\n",
       " 'IsolateSelectionProblem.ipynb',\n",
       " 'Postprocess Stability Selection.ipynb',\n",
       " 'Test Sparse Group Lasso-Copy1.ipynb',\n",
       " 'exp3.ipynb',\n",
       " '.ipynb_checkpoints',\n",
       " 'Postprocess_01312019.ipynb',\n",
       " 'Untitled4.ipynb',\n",
       " 'Test Sparse Group Lasso.ipynb',\n",
       " '12052018.ipynb',\n",
       " 'Covariance Estimation .ipynb',\n",
       " 'plot_lasso_and_elasticnet.ipynb',\n",
       " 'Postproces 01172019.ipynb',\n",
       " 'Scaled False Negative Magnitude.ipynb',\n",
       " 'exp1_sparsity.ipynb',\n",
       " 'Scratch.ipynb',\n",
       " 'Postprocess.ipynb',\n",
       " 'Postprocess_InterpolatedCorr.ipynb']"
      ]
     },
     "execution_count": 27,
     "metadata": {},
     "output_type": "execute_result"
    }
   ],
   "source": [
    "os.listdir('.')"
   ]
  },
  {
   "cell_type": "code",
   "execution_count": null,
   "metadata": {},
   "outputs": [],
   "source": []
  }
 ],
 "metadata": {
  "kernelspec": {
   "display_name": "Python 3",
   "language": "python",
   "name": "python3"
  },
  "language_info": {
   "codemirror_mode": {
    "name": "ipython",
    "version": 3
   },
   "file_extension": ".py",
   "mimetype": "text/x-python",
   "name": "python",
   "nbconvert_exporter": "python",
   "pygments_lexer": "ipython3",
   "version": "3.6.7"
  }
 },
 "nbformat": 4,
 "nbformat_minor": 2
}
