{
 "cells": [
  {
   "cell_type": "code",
   "execution_count": 1,
   "metadata": {},
   "outputs": [],
   "source": [
    "%load_ext autoreload\n",
    "%autoreload 2\n",
    "import sys\n",
    "sys.path.append('..')\n",
    "from utils import gen_covariance, gen_beta2, gen_data\n",
    "from exp_types import GTV\n",
    "import numpy as np\n",
    "import matplotlib.pyplot as plt"
   ]
  },
  {
   "cell_type": "code",
   "execution_count": 2,
   "metadata": {},
   "outputs": [],
   "source": [
    "# Generate synthetic data -> test the effect of using threshold and then minimium spanning tree\n",
    "# Other thing to try: Use cosh approximation of the problematic fused Lasso L1 term to avoid expanding the \n",
    "# dimensionality of the problem\n",
    "\n",
    "sigma = gen_covariance(50, 0.5, 50, 10, 1)\n",
    "beta = gen_beta2(n_features = 50)\n",
    "X, X_test, y, y_test = gen_data(300, 50, covariance = sigma, beta = beta)"
   ]
  },
  {
   "cell_type": "code",
   "execution_count": 3,
   "metadata": {},
   "outputs": [],
   "source": [
    "# Assemble params to feed into exp_types\n",
    "# First do no thresholding or MST\n",
    "p = {}\n",
    "p['reg_params'] = {}\n",
    "p['reg_params']['lambda_S'] = np.linspace(0, 1, 10)\n",
    "p['reg_params']['lambda_TV'] = np.linspace(0, 1, 10)\n",
    "p['reg_params']['lambda_1'] = np.linspace(0, 1, 10)\n",
    "\n",
    "p['cov'] = sigma\n",
    "p['use_skeleton'] = False\n",
    "p['threshold'] = False"
   ]
  },
  {
   "cell_type": "code",
   "execution_count": 4,
   "metadata": {},
   "outputs": [
    {
     "name": "stdout",
     "output_type": "stream",
     "text": [
      "started run\n",
      "finished iterating\n",
      "CPU times: user 1h 49min 1s, sys: 1h 30min 43s, total: 3h 19min 44s\n",
      "Wall time: 33min 46s\n"
     ]
    }
   ],
   "source": [
    "%time model1 = GTV.run(X, y, p)"
   ]
  },
  {
   "cell_type": "code",
   "execution_count": 5,
   "metadata": {},
   "outputs": [],
   "source": [
    "# Assemble params to feed into exp_types\n",
    "# Threshold\n",
    "p = {}\n",
    "p['reg_params'] = {}\n",
    "p['reg_params']['lambda_S'] = np.linspace(0, 1, 10)\n",
    "p['reg_params']['lambda_TV'] = np.linspace(0, 1, 10)\n",
    "p['reg_params']['lambda_1'] = np.linspace(0, 1, 10)\n",
    " \n",
    "p['cov'] = sigma\n",
    "p['threshold'] = True\n",
    "p['use_skeleton'] = False"
   ]
  },
  {
   "cell_type": "code",
   "execution_count": 6,
   "metadata": {},
   "outputs": [
    {
     "name": "stdout",
     "output_type": "stream",
     "text": [
      "started run\n",
      "finished iterating\n",
      "CPU times: user 1h 44min 39s, sys: 1h 27min 42s, total: 3h 12min 22s\n",
      "Wall time: 32min 18s\n"
     ]
    }
   ],
   "source": [
    "%time model2 = GTV.run(X, y, p)"
   ]
  },
  {
   "cell_type": "code",
   "execution_count": 7,
   "metadata": {},
   "outputs": [],
   "source": [
    "# Assemble params to feed into exp_types\n",
    "# Threshold + MST\n",
    "p = {}\n",
    "p['reg_params'] = {}\n",
    "p['reg_params']['lambda_S'] = np.linspace(0, 1, 10)\n",
    "p['reg_params']['lambda_TV'] = np.linspace(0, 1, 10)\n",
    "p['reg_params']['lambda_1'] = np.linspace(0, 1, 10)\n",
    "\n",
    "p['cov'] = sigma\n",
    "p['threshold'] = False\n",
    "p['use_skeleton'] = True"
   ]
  },
  {
   "cell_type": "code",
   "execution_count": 8,
   "metadata": {},
   "outputs": [
    {
     "name": "stdout",
     "output_type": "stream",
     "text": [
      "started run\n",
      "finished iterating\n",
      "CPU times: user 3min 48s, sys: 6min 40s, total: 10min 29s\n",
      "Wall time: 1min 45s\n"
     ]
    }
   ],
   "source": [
    "%time model3 = GTV.run(X, y, p)"
   ]
  },
  {
   "cell_type": "code",
   "execution_count": null,
   "metadata": {},
   "outputs": [],
   "source": [
    "# Assemble params to feed into exp_types\n",
    "# Threshold + MST\n",
    "p = {}\n",
    "p['reg_params'] = {}\n",
    "p['reg_params']['lambda_S'] = np.linspace(0, 1, 10)\n",
    "p['reg_params']['lambda_TV'] = np.linspace(0, 1, 10)\n",
    "p['reg_params']['lambda_1'] = np.linspace(0, 1, 10)\n",
    "\n",
    "p['cov'] = sigma\n",
    "p['threshold'] = True\n",
    "p['use_skeleton'] = True"
   ]
  },
  {
   "cell_type": "code",
   "execution_count": 9,
   "metadata": {},
   "outputs": [
    {
     "name": "stdout",
     "output_type": "stream",
     "text": [
      "started run\n",
      "finished iterating\n",
      "CPU times: user 3min 54s, sys: 6min 52s, total: 10min 47s\n",
      "Wall time: 1min 49s\n"
     ]
    }
   ],
   "source": [
    "%time model4 = GTV.run(X, y, p)"
   ]
  },
  {
   "cell_type": "code",
   "execution_count": 8,
   "metadata": {},
   "outputs": [],
   "source": [
    "# Evaluate the differences in the models\n",
    "from sklearn.metrics import r2_score\n",
    "from utils import selection_accuracy, estimation_error"
   ]
  },
  {
   "cell_type": "code",
   "execution_count": 20,
   "metadata": {},
   "outputs": [
    {
     "name": "stdout",
     "output_type": "stream",
     "text": [
      "0.7334276114764147\n",
      "0.6995571160481817\n",
      "[0.8]\n",
      "(array([0.58843757]), array([2.62018157]))\n"
     ]
    }
   ],
   "source": [
    "# Model 1: Neither thresholding or MST\n",
    "print(r2_score(y_test, X_test @ beta))\n",
    "print(r2_score(y_test, X_test @ model1.coef_ + model1.intercept_))\n",
    "print(selection_accuracy(beta.ravel(), model1.coef_.ravel()))\n",
    "print(estimation_error(beta.ravel(), model1.coef_.ravel()))"
   ]
  },
  {
   "cell_type": "code",
   "execution_count": 21,
   "metadata": {},
   "outputs": [
    {
     "name": "stdout",
     "output_type": "stream",
     "text": [
      "0.7334276114764147\n",
      "0.705279292917866\n",
      "[0.8]\n",
      "(array([0.58682296]), array([2.56728562]))\n"
     ]
    }
   ],
   "source": [
    "# Model 2: Only thresholding\n",
    "print(r2_score(y_test, X_test @ beta))\n",
    "print(r2_score(y_test, X_test @ model2.coef_ + model2.intercept_))\n",
    "print(selection_accuracy(beta.ravel(), model2.coef_.ravel()))\n",
    "print(estimation_error(beta.ravel(), model2.coef_.ravel()))"
   ]
  },
  {
   "cell_type": "code",
   "execution_count": 22,
   "metadata": {},
   "outputs": [
    {
     "name": "stdout",
     "output_type": "stream",
     "text": [
      "0.7334276114764147\n",
      "0.7173489767847994\n",
      "[0.8]\n",
      "(array([0.55181849]), array([2.3757344]))\n"
     ]
    }
   ],
   "source": [
    "# Model 3: MST, no thresholding\n",
    "print(r2_score(y_test, X_test @ beta))\n",
    "print(r2_score(y_test, X_test @ model3.coef_ + model3.intercept_))\n",
    "print(selection_accuracy(beta.ravel(), model3.coef_.ravel()))\n",
    "print(estimation_error(beta.ravel(), model3.coef_.ravel()))"
   ]
  },
  {
   "cell_type": "code",
   "execution_count": 23,
   "metadata": {},
   "outputs": [
    {
     "name": "stdout",
     "output_type": "stream",
     "text": [
      "0.7334276114764147\n",
      "0.7169777431922189\n",
      "[0.8]\n",
      "(array([0.56337906]), array([2.50106631]))\n"
     ]
    }
   ],
   "source": [
    "# Model 4: MST, with thresholding\n",
    "print(r2_score(y_test, X_test @ beta))\n",
    "print(r2_score(y_test, X_test @ model4.coef_ + model4.intercept_))\n",
    "print(selection_accuracy(beta.ravel(), model4.coef_.ravel()))\n",
    "print(estimation_error(beta.ravel(), model4.coef_.ravel()))"
   ]
  },
  {
   "cell_type": "code",
   "execution_count": 24,
   "metadata": {},
   "outputs": [],
   "source": [
    "# Pickle away models:\n",
    "import pickle\n",
    "with open('GTV_test_models', 'wb') as f:\n",
    "    f.write(pickle.dumps(model1))\n",
    "    f.write(pickle.dumps(model2))\n",
    "    f.write(pickle.dumps(model3))\n",
    "    f.write(pickle.dumps(model4))"
   ]
  },
  {
   "cell_type": "code",
   "execution_count": 3,
   "metadata": {},
   "outputs": [],
   "source": [
    "## Approximate models\n",
    "p = {}\n",
    "p['reg_params'] = {}\n",
    "p['reg_params']['lambda_S'] = np.linspace(0, 1, 10)\n",
    "p['reg_params']['lambda_TV'] = np.linspace(0, 1, 10)\n",
    "p['reg_params']['lambda_1'] = np.linspace(0, 1, 10)\n",
    "\n",
    "p['cov'] = sigma\n",
    "p['use_skeleton'] = False\n",
    "p['threshold'] = False"
   ]
  },
  {
   "cell_type": "code",
   "execution_count": 4,
   "metadata": {},
   "outputs": [
    {
     "name": "stdout",
     "output_type": "stream",
     "text": [
      "started run\n"
     ]
    },
    {
     "name": "stderr",
     "output_type": "stream",
     "text": [
      "/home/akumar/anaconda3/envs/nse/lib/python3.6/site-packages/pyuoi/lbfgs/__init__.py:205: UserWarning: The line-search routine reaches the maximum number of evaluations.\n",
      "  return opt.minimize(f, x0, progress=progress, args=args)\n"
     ]
    },
    {
     "name": "stdout",
     "output_type": "stream",
     "text": [
      "finished iterating\n",
      "CPU times: user 1h 28min 23s, sys: 2h 33min 12s, total: 4h 1min 35s\n",
      "Wall time: 40min 25s\n"
     ]
    }
   ],
   "source": [
    "%time approx_model1 = GTV.run(X, y, p)"
   ]
  },
  {
   "cell_type": "code",
   "execution_count": 5,
   "metadata": {},
   "outputs": [],
   "source": [
    "## Approximate models\n",
    "p = {}\n",
    "p['reg_params'] = {}\n",
    "p['reg_params']['lambda_S'] = np.linspace(0, 1, 10)\n",
    "p['reg_params']['lambda_TV'] = np.linspace(0, 1, 10)\n",
    "p['reg_params']['lambda_1'] = np.linspace(0, 1, 10)\n",
    "\n",
    "p['cov'] = sigma\n",
    "p['use_skeleton'] = True\n",
    "p['threshold'] = False"
   ]
  },
  {
   "cell_type": "code",
   "execution_count": 6,
   "metadata": {},
   "outputs": [
    {
     "name": "stdout",
     "output_type": "stream",
     "text": [
      "started run\n",
      "finished iterating\n",
      "CPU times: user 3min 17s, sys: 3min 37s, total: 6min 54s\n",
      "Wall time: 1min 10s\n"
     ]
    }
   ],
   "source": [
    "%time approx_model2 = GTV.run(X, y, p)"
   ]
  },
  {
   "cell_type": "code",
   "execution_count": 11,
   "metadata": {},
   "outputs": [],
   "source": [
    "# Generate synthetic data and estimate a block covariance structure. \n",
    "\n",
    "sigma = gen_covariance(1000, 0.25, 50, 10, 0)\n",
    "beta = gen_beta2(n_features = 1000)\n",
    "X, X_test, y, y_test = gen_data(3000, 1000, covariance = sigma, beta = beta)"
   ]
  },
  {
   "cell_type": "code",
   "execution_count": 12,
   "metadata": {},
   "outputs": [],
   "source": [
    "from sklearn.covariance import oas"
   ]
  },
  {
   "cell_type": "code",
   "execution_count": 13,
   "metadata": {},
   "outputs": [],
   "source": [
    "# Estimate covariance matrix\n",
    "sigma_hat = oas(X)[0]"
   ]
  },
  {
   "cell_type": "code",
   "execution_count": 14,
   "metadata": {},
   "outputs": [],
   "source": [
    "# Use MST \n",
    "p = {}\n",
    "p['reg_params'] = {}\n",
    "p['reg_params']['lambda_S'] = np.linspace(0, 1, 10)\n",
    "p['reg_params']['lambda_TV'] = np.linspace(0, 1, 10)\n",
    "p['reg_params']['lambda_1'] = np.linspace(0, 1, 10)\n",
    "\n",
    "p['cov'] = sigma_hat\n",
    "p['threshold'] = False\n",
    "p['use_skeleton'] = True"
   ]
  },
  {
   "cell_type": "code",
   "execution_count": 15,
   "metadata": {},
   "outputs": [
    {
     "name": "stdout",
     "output_type": "stream",
     "text": [
      "started run\n"
     ]
    },
    {
     "ename": "KeyboardInterrupt",
     "evalue": "",
     "output_type": "error",
     "traceback": [
      "\u001b[1;31m---------------------------------------------------------------------------\u001b[0m",
      "\u001b[1;31mKeyboardInterrupt\u001b[0m                         Traceback (most recent call last)",
      "\u001b[1;32m<timed exec>\u001b[0m in \u001b[0;36m<module>\u001b[1;34m\u001b[0m\n",
      "\u001b[1;32m~\\nse\\uoicorr\\exp_types.py\u001b[0m in \u001b[0;36mrun\u001b[1;34m(self, X, y, args, groups)\u001b[0m\n\u001b[0;32m    188\u001b[0m             \u001b[1;32mfor\u001b[0m \u001b[0mtrain_index\u001b[0m\u001b[1;33m,\u001b[0m \u001b[0mtest_index\u001b[0m \u001b[1;32min\u001b[0m \u001b[0mkfold\u001b[0m\u001b[1;33m.\u001b[0m\u001b[0msplit\u001b[0m\u001b[1;33m(\u001b[0m\u001b[0mX\u001b[0m\u001b[1;33m)\u001b[0m\u001b[1;33m:\u001b[0m\u001b[1;33m\u001b[0m\u001b[0m\n\u001b[0;32m    189\u001b[0m                 \u001b[1;31m# Fits\u001b[0m\u001b[1;33m\u001b[0m\u001b[1;33m\u001b[0m\u001b[0m\n\u001b[1;32m--> 190\u001b[1;33m                 \u001b[0mgtv\u001b[0m\u001b[1;33m.\u001b[0m\u001b[0mfit\u001b[0m\u001b[1;33m(\u001b[0m\u001b[0mX\u001b[0m\u001b[1;33m[\u001b[0m\u001b[0mtrain_index\u001b[0m\u001b[1;33m,\u001b[0m \u001b[1;33m:\u001b[0m\u001b[1;33m]\u001b[0m\u001b[1;33m,\u001b[0m \u001b[0my\u001b[0m\u001b[1;33m[\u001b[0m\u001b[0mtrain_index\u001b[0m\u001b[1;33m]\u001b[0m\u001b[1;33m,\u001b[0m \u001b[0mcov\u001b[0m\u001b[1;33m)\u001b[0m\u001b[1;33m\u001b[0m\u001b[0m\n\u001b[0m\u001b[0;32m    191\u001b[0m                 \u001b[1;31m# Score\u001b[0m\u001b[1;33m\u001b[0m\u001b[1;33m\u001b[0m\u001b[0m\n\u001b[0;32m    192\u001b[0m                 \u001b[0mscores\u001b[0m\u001b[1;33m[\u001b[0m\u001b[0mfold_idx\u001b[0m\u001b[1;33m]\u001b[0m \u001b[1;33m=\u001b[0m \u001b[0mr2_score\u001b[0m\u001b[1;33m(\u001b[0m\u001b[0my\u001b[0m\u001b[1;33m[\u001b[0m\u001b[0mtest_index\u001b[0m\u001b[1;33m]\u001b[0m\u001b[1;33m,\u001b[0m \u001b[0mX\u001b[0m\u001b[1;33m[\u001b[0m\u001b[0mtest_index\u001b[0m\u001b[1;33m]\u001b[0m \u001b[1;33m@\u001b[0m \u001b[0mgtv\u001b[0m\u001b[1;33m.\u001b[0m\u001b[0mcoef_\u001b[0m\u001b[1;33m)\u001b[0m\u001b[1;33m\u001b[0m\u001b[0m\n",
      "\u001b[1;32m~\\nse\\uoicorr\\gtv.py\u001b[0m in \u001b[0;36mfit\u001b[1;34m(self, X, y, cov)\u001b[0m\n\u001b[0;32m    589\u001b[0m                 \u001b[0mthis_Xy\u001b[0m \u001b[1;33m=\u001b[0m \u001b[1;32mNone\u001b[0m\u001b[1;33m\u001b[0m\u001b[0m\n\u001b[0;32m    590\u001b[0m \u001b[1;33m\u001b[0m\u001b[0m\n\u001b[1;32m--> 591\u001b[1;33m             \u001b[0mcoef_\u001b[0m\u001b[1;33m[\u001b[0m\u001b[0mk\u001b[0m\u001b[1;33m]\u001b[0m \u001b[1;33m=\u001b[0m \u001b[0mself\u001b[0m\u001b[1;33m.\u001b[0m\u001b[0mminimize\u001b[0m\u001b[1;33m(\u001b[0m\u001b[0mself\u001b[0m\u001b[1;33m.\u001b[0m\u001b[0mlambda_S\u001b[0m\u001b[1;33m,\u001b[0m \u001b[0mself\u001b[0m\u001b[1;33m.\u001b[0m\u001b[0mlambda_TV\u001b[0m\u001b[1;33m,\u001b[0m \u001b[0mself\u001b[0m\u001b[1;33m.\u001b[0m\u001b[0mlambda_1\u001b[0m\u001b[1;33m,\u001b[0m \u001b[0mX\u001b[0m\u001b[1;33m,\u001b[0m \u001b[0my\u001b[0m\u001b[1;33m,\u001b[0m \u001b[0mcov\u001b[0m\u001b[1;33m)\u001b[0m\u001b[1;33m\u001b[0m\u001b[0m\n\u001b[0m\u001b[0;32m    592\u001b[0m \u001b[1;31m#            coef_[k] = self.cvx_minimize(self.lambda_S, self.lambda_TV, self.lambda_1, X, y, cov)\u001b[0m\u001b[1;33m\u001b[0m\u001b[1;33m\u001b[0m\u001b[0m\n\u001b[0;32m    593\u001b[0m         \u001b[1;32mif\u001b[0m \u001b[0mn_targets\u001b[0m \u001b[1;33m==\u001b[0m \u001b[1;36m1\u001b[0m\u001b[1;33m:\u001b[0m\u001b[1;33m\u001b[0m\u001b[0m\n",
      "\u001b[1;32m~\\nse\\uoicorr\\gtv.py\u001b[0m in \u001b[0;36mminimize\u001b[1;34m(self, lambda_S, lambda_TV, lambda_1, X, y, cov)\u001b[0m\n\u001b[0;32m    424\u001b[0m \u001b[1;33m\u001b[0m\u001b[0m\n\u001b[0;32m    425\u001b[0m         \u001b[1;32mif\u001b[0m \u001b[0mself\u001b[0m\u001b[1;33m.\u001b[0m\u001b[0muse_skeleton\u001b[0m\u001b[1;33m:\u001b[0m\u001b[1;33m\u001b[0m\u001b[0m\n\u001b[1;32m--> 426\u001b[1;33m             \u001b[0mcov\u001b[0m \u001b[1;33m=\u001b[0m \u001b[0mself\u001b[0m\u001b[1;33m.\u001b[0m\u001b[0mskeleton_graph\u001b[0m\u001b[1;33m(\u001b[0m\u001b[0mcov\u001b[0m\u001b[1;33m)\u001b[0m\u001b[1;33m\u001b[0m\u001b[0m\n\u001b[0m\u001b[0;32m    427\u001b[0m \u001b[1;33m\u001b[0m\u001b[0m\n\u001b[0;32m    428\u001b[0m         \u001b[1;32mif\u001b[0m \u001b[0mself\u001b[0m\u001b[1;33m.\u001b[0m\u001b[0mminimizer\u001b[0m \u001b[1;33m==\u001b[0m \u001b[1;34m'quadprog'\u001b[0m\u001b[1;33m:\u001b[0m\u001b[1;33m\u001b[0m\u001b[0m\n",
      "\u001b[1;32m~\\nse\\uoicorr\\gtv.py\u001b[0m in \u001b[0;36mskeleton_graph\u001b[1;34m(self, sigma)\u001b[0m\n\u001b[0;32m    212\u001b[0m \u001b[1;33m\u001b[0m\u001b[0m\n\u001b[0;32m    213\u001b[0m         \u001b[1;31m# Convert to networkx graph\u001b[0m\u001b[1;33m\u001b[0m\u001b[1;33m\u001b[0m\u001b[0m\n\u001b[1;32m--> 214\u001b[1;33m         \u001b[0mG\u001b[0m \u001b[1;33m=\u001b[0m \u001b[0mnx\u001b[0m\u001b[1;33m.\u001b[0m\u001b[0mfrom_numpy_matrix\u001b[0m\u001b[1;33m(\u001b[0m\u001b[0msigma\u001b[0m\u001b[1;33m)\u001b[0m\u001b[1;33m\u001b[0m\u001b[0m\n\u001b[0m\u001b[0;32m    215\u001b[0m \u001b[1;33m\u001b[0m\u001b[0m\n\u001b[0;32m    216\u001b[0m         \u001b[1;31m# Calculate MST\u001b[0m\u001b[1;33m\u001b[0m\u001b[1;33m\u001b[0m\u001b[0m\n",
      "\u001b[1;32m~\\Anaconda3\\envs\\nse\\lib\\site-packages\\networkx\\convert_matrix.py\u001b[0m in \u001b[0;36mfrom_numpy_matrix\u001b[1;34m(A, parallel_edges, create_using)\u001b[0m\n\u001b[0;32m    600\u001b[0m     \u001b[1;32mif\u001b[0m \u001b[0mG\u001b[0m\u001b[1;33m.\u001b[0m\u001b[0mis_multigraph\u001b[0m\u001b[1;33m(\u001b[0m\u001b[1;33m)\u001b[0m \u001b[1;32mand\u001b[0m \u001b[1;32mnot\u001b[0m \u001b[0mG\u001b[0m\u001b[1;33m.\u001b[0m\u001b[0mis_directed\u001b[0m\u001b[1;33m(\u001b[0m\u001b[1;33m)\u001b[0m\u001b[1;33m:\u001b[0m\u001b[1;33m\u001b[0m\u001b[0m\n\u001b[0;32m    601\u001b[0m         \u001b[0mtriples\u001b[0m \u001b[1;33m=\u001b[0m \u001b[1;33m(\u001b[0m\u001b[1;33m(\u001b[0m\u001b[0mu\u001b[0m\u001b[1;33m,\u001b[0m \u001b[0mv\u001b[0m\u001b[1;33m,\u001b[0m \u001b[0md\u001b[0m\u001b[1;33m)\u001b[0m \u001b[1;32mfor\u001b[0m \u001b[0mu\u001b[0m\u001b[1;33m,\u001b[0m \u001b[0mv\u001b[0m\u001b[1;33m,\u001b[0m \u001b[0md\u001b[0m \u001b[1;32min\u001b[0m \u001b[0mtriples\u001b[0m \u001b[1;32mif\u001b[0m \u001b[0mu\u001b[0m \u001b[1;33m<=\u001b[0m \u001b[0mv\u001b[0m\u001b[1;33m)\u001b[0m\u001b[1;33m\u001b[0m\u001b[0m\n\u001b[1;32m--> 602\u001b[1;33m     \u001b[0mG\u001b[0m\u001b[1;33m.\u001b[0m\u001b[0madd_edges_from\u001b[0m\u001b[1;33m(\u001b[0m\u001b[0mtriples\u001b[0m\u001b[1;33m)\u001b[0m\u001b[1;33m\u001b[0m\u001b[0m\n\u001b[0m\u001b[0;32m    603\u001b[0m     \u001b[1;32mreturn\u001b[0m \u001b[0mG\u001b[0m\u001b[1;33m\u001b[0m\u001b[0m\n\u001b[0;32m    604\u001b[0m \u001b[1;33m\u001b[0m\u001b[0m\n",
      "\u001b[1;32m~\\Anaconda3\\envs\\nse\\lib\\site-packages\\networkx\\classes\\graph.py\u001b[0m in \u001b[0;36madd_edges_from\u001b[1;34m(self, ebunch_to_add, **attr)\u001b[0m\n\u001b[0;32m    957\u001b[0m                 \u001b[0mself\u001b[0m\u001b[1;33m.\u001b[0m\u001b[0m_adj\u001b[0m\u001b[1;33m[\u001b[0m\u001b[0mv\u001b[0m\u001b[1;33m]\u001b[0m \u001b[1;33m=\u001b[0m \u001b[0mself\u001b[0m\u001b[1;33m.\u001b[0m\u001b[0madjlist_inner_dict_factory\u001b[0m\u001b[1;33m(\u001b[0m\u001b[1;33m)\u001b[0m\u001b[1;33m\u001b[0m\u001b[0m\n\u001b[0;32m    958\u001b[0m                 \u001b[0mself\u001b[0m\u001b[1;33m.\u001b[0m\u001b[0m_node\u001b[0m\u001b[1;33m[\u001b[0m\u001b[0mv\u001b[0m\u001b[1;33m]\u001b[0m \u001b[1;33m=\u001b[0m \u001b[1;33m{\u001b[0m\u001b[1;33m}\u001b[0m\u001b[1;33m\u001b[0m\u001b[0m\n\u001b[1;32m--> 959\u001b[1;33m             \u001b[0mdatadict\u001b[0m \u001b[1;33m=\u001b[0m \u001b[0mself\u001b[0m\u001b[1;33m.\u001b[0m\u001b[0m_adj\u001b[0m\u001b[1;33m[\u001b[0m\u001b[0mu\u001b[0m\u001b[1;33m]\u001b[0m\u001b[1;33m.\u001b[0m\u001b[0mget\u001b[0m\u001b[1;33m(\u001b[0m\u001b[0mv\u001b[0m\u001b[1;33m,\u001b[0m \u001b[0mself\u001b[0m\u001b[1;33m.\u001b[0m\u001b[0medge_attr_dict_factory\u001b[0m\u001b[1;33m(\u001b[0m\u001b[1;33m)\u001b[0m\u001b[1;33m)\u001b[0m\u001b[1;33m\u001b[0m\u001b[0m\n\u001b[0m\u001b[0;32m    960\u001b[0m             \u001b[0mdatadict\u001b[0m\u001b[1;33m.\u001b[0m\u001b[0mupdate\u001b[0m\u001b[1;33m(\u001b[0m\u001b[0mattr\u001b[0m\u001b[1;33m)\u001b[0m\u001b[1;33m\u001b[0m\u001b[0m\n\u001b[0;32m    961\u001b[0m             \u001b[0mdatadict\u001b[0m\u001b[1;33m.\u001b[0m\u001b[0mupdate\u001b[0m\u001b[1;33m(\u001b[0m\u001b[0mdd\u001b[0m\u001b[1;33m)\u001b[0m\u001b[1;33m\u001b[0m\u001b[0m\n",
      "\u001b[1;31mKeyboardInterrupt\u001b[0m: "
     ]
    }
   ],
   "source": [
    "%time block_model = GTV.run(X, y, p)"
   ]
  },
  {
   "cell_type": "code",
   "execution_count": 9,
   "metadata": {},
   "outputs": [
    {
     "name": "stdout",
     "output_type": "stream",
     "text": [
      "0.7368708341262025\n",
      "0.6828258740869844\n",
      "[0.8]\n",
      "(array([0.41612228]), array([1.82915653]))\n"
     ]
    }
   ],
   "source": [
    "print(r2_score(y_test, X_test @ beta))\n",
    "print(r2_score(y_test, X_test @ block_model.coef_ + block_model.intercept_))\n",
    "print(selection_accuracy(beta.ravel(), block_model.coef_.ravel()))\n",
    "print(estimation_error(beta.ravel(), block_model.coef_.ravel()))"
   ]
  }
 ],
 "metadata": {
  "kernelspec": {
   "display_name": "Python 3",
   "language": "python",
   "name": "python3"
  },
  "language_info": {
   "codemirror_mode": {
    "name": "ipython",
    "version": 3
   },
   "file_extension": ".py",
   "mimetype": "text/x-python",
   "name": "python",
   "nbconvert_exporter": "python",
   "pygments_lexer": "ipython3",
   "version": "3.6.6"
  }
 },
 "nbformat": 4,
 "nbformat_minor": 2
}
