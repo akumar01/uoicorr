{
 "cells": [
  {
   "cell_type": "code",
   "execution_count": 1,
   "metadata": {},
   "outputs": [],
   "source": [
    "# %load ../uoicorr_imports.py\n",
    "import h5py\n",
    "\n",
    "import numpy as np\n",
    "import matplotlib.pyplot as plt\n",
    "\n",
    "import sys, os, pdb\n",
    "\n",
    "# Hack to import pyuoi\n",
    "parent_path, current_dir = os.path.split(os.path.abspath('.'))\n",
    "while current_dir not in ['nse']:\n",
    "    parent_path, current_dir = os.path.split(parent_path)\n",
    "p = os.path.join(parent_path, current_dir)\n",
    "# Add analysis\n",
    "if p not in sys.path:\n",
    "    sys.path.append(p)\n",
    "\n",
    "import subprocess\n",
    "hname = subprocess.check_output('hostname')\n",
    "\n",
    "if 'ankitnse'.encode() in hname:\n",
    "\n",
    "    if '%s/uoicorr' % p not in sys.path:\n",
    "        sys.path.append('%s/uoicorr' % p)\n",
    "    if '%s/PyUoI' % p not in sys.path:\n",
    "        sys.path.append('%s/PyUoI' % p)\n",
    "\n",
    "else:\n",
    "    # And standard list of subdirectories\n",
    "    if '%s\\\\pyuoi' % p not in sys.path:\n",
    "        sys.path.append('%s\\\\pyuoi' % p)\n",
    "    if '%s\\\\uoicorr' % p not in sys.path:\n",
    "        sys.path.append('%s\\\\uoicorr' % p)\n",
    "\n",
    "from pyuoi.linear_model.lasso import UoI_Lasso\n",
    "from pyuoi.linear_model.elasticnet import UoI_ElasticNet"
   ]
  },
  {
   "cell_type": "code",
   "execution_count": 2,
   "metadata": {},
   "outputs": [],
   "source": [
    "l1_ratios = [0.1, 0.2, 0.5, 0.75, 0.9, 0.95, 0.99, 1]"
   ]
  },
  {
   "cell_type": "code",
   "execution_count": 3,
   "metadata": {},
   "outputs": [],
   "source": [
    "uoi1 = UoI_Lasso(normalize=True,\n",
    "        n_boots_sel=100,\n",
    "        n_boots_est=48,\n",
    "        estimation_score= 'r2',\n",
    "        stability_selection = 1,\n",
    "        est_reg = 0)\n",
    "uoi2 = UoI_ElasticNet(\n",
    "        normalize=True,\n",
    "        n_boots_sel= 100,\n",
    "        n_boots_est= 48,\n",
    "        alphas = l1_ratios,\n",
    "        estimation_score= 'r2',\n",
    "        warm_start = False,\n",
    "        stability_selection= 1,\n",
    "        est_reg = 0\n",
    "        )"
   ]
  },
  {
   "cell_type": "code",
   "execution_count": 4,
   "metadata": {},
   "outputs": [],
   "source": [
    "from utils import gen_covariance, gen_beta, gen_data"
   ]
  },
  {
   "cell_type": "code",
   "execution_count": 5,
   "metadata": {},
   "outputs": [],
   "source": [
    "sigma = gen_covariance('block', correlation = 0)"
   ]
  },
  {
   "cell_type": "code",
   "execution_count": 6,
   "metadata": {},
   "outputs": [],
   "source": [
    "beta = gen_beta(sparsity = 0.8)"
   ]
  },
  {
   "cell_type": "code",
   "execution_count": 7,
   "metadata": {},
   "outputs": [],
   "source": [
    "X, X_test, y, y_test = gen_data(covariance = sigma, beta = beta)"
   ]
  },
  {
   "cell_type": "code",
   "execution_count": 8,
   "metadata": {},
   "outputs": [
    {
     "data": {
      "text/plain": [
       "UoI_ElasticNet(alphas=[0.1, 0.2, 0.5, 0.75, 0.9, 0.95, 0.99, 1], comm=None,\n",
       "        copy_X=True, eps=0.001, est_reg=None, estimation_frac=0.9,\n",
       "        estimation_score='r2', fit_intercept=True, max_iter=None,\n",
       "        n_boots_est=48, n_boots_sel=100, n_lambdas=48, normalize=True,\n",
       "        random_state=None, selection_frac=0.9, stability_selection=1,\n",
       "        warm_start=False)"
      ]
     },
     "execution_count": 8,
     "metadata": {},
     "output_type": "execute_result"
    }
   ],
   "source": [
    "uoi2.fit(X, y)"
   ]
  },
  {
   "cell_type": "code",
   "execution_count": 9,
   "metadata": {},
   "outputs": [
    {
     "data": {
      "text/plain": [
       "UoI_Lasso(comm=None, copy_X=True, eps=0.001, est_reg=None,\n",
       "     estimation_frac=0.9, estimation_score='r2', fit_intercept=True,\n",
       "     max_iter=None, n_boots_est=48, n_boots_sel=100, n_lambdas=48,\n",
       "     normalize=True, random_state=None, selection_frac=0.9,\n",
       "     stability_selection=1, warm_start=None)"
      ]
     },
     "execution_count": 9,
     "metadata": {},
     "output_type": "execute_result"
    }
   ],
   "source": [
    "uoi1.fit(X, y)"
   ]
  },
  {
   "cell_type": "code",
   "execution_count": 10,
   "metadata": {},
   "outputs": [
    {
     "data": {
      "text/plain": [
       "<matplotlib.colorbar.Colorbar at 0x7f56d08c45f8>"
      ]
     },
     "execution_count": 10,
     "metadata": {},
     "output_type": "execute_result"
    },
    {
     "data": {
      "image/png": "[encoded data removed]",
      "text/plain": [
       "<Figure size 432x288 with 2 Axes>"
      ]
     },
     "metadata": {
      "needs_background": "light"
     },
     "output_type": "display_data"
    }
   ],
   "source": [
    "# First and foremost, compare the supports derived by UoI_Lasso and UoI_Elastic Net l1_ratio = 1\n",
    "plt.pcolor(1 * uoi1.supports_, cmap = 'Greys')\n",
    "plt.colorbar()"
   ]
  },
  {
   "cell_type": "code",
   "execution_count": 43,
   "metadata": {},
   "outputs": [
    {
     "data": {
      "text/plain": [
       "(22, 60)"
      ]
     },
     "execution_count": 43,
     "metadata": {},
     "output_type": "execute_result"
    }
   ],
   "source": [
    "uoi1.supports_.shape"
   ]
  },
  {
   "cell_type": "code",
   "execution_count": 44,
   "metadata": {},
   "outputs": [
    {
     "data": {
      "text/plain": [
       "(60, 60)"
      ]
     },
     "execution_count": 44,
     "metadata": {},
     "output_type": "execute_result"
    }
   ],
   "source": [
    "uoi2.supports_.shape"
   ]
  },
  {
   "cell_type": "code",
   "execution_count": 10,
   "metadata": {},
   "outputs": [],
   "source": [
    "# Assemble the set of supports that correspond to l1_ratio = 1\n",
    "l1_supports = []\n",
    "for i in range(uoi2.supports_.shape[0]):\n",
    "    if uoi2.support_reg_ids_[i][0]['l1_ratio'] == 1:\n",
    "        l1_supports.append(uoi2.supports_[i, :])\n",
    "l1_supports = np.array(l1_supports)"
   ]
  },
  {
   "cell_type": "code",
   "execution_count": 33,
   "metadata": {},
   "outputs": [
    {
     "data": {
      "text/plain": [
       "[{'alpha': 2.3395067587245317}]"
      ]
     },
     "execution_count": 33,
     "metadata": {},
     "output_type": "execute_result"
    }
   ],
   "source": [
    "uoi1.support_reg_ids_[0]"
   ]
  },
  {
   "cell_type": "code",
   "execution_count": 46,
   "metadata": {},
   "outputs": [],
   "source": [
    "# Calculate the mutual overlap matrix between the support sets:\n",
    "overlap_matrix = np.zeros((uoi1.supports_.shape[0], l1_supports.shape[0]))\n",
    "for i in range(overlap_matrix.shape[0]):\n",
    "    for j in range(overlap_matrix.shape[1]):\n",
    "        overlap_matrix[i, j] = (1 * uoi1.supports_[i, :]) @ (1 * l1_supports[j, :].T)/60"
   ]
  },
  {
   "cell_type": "code",
   "execution_count": 47,
   "metadata": {},
   "outputs": [
    {
     "data": {
      "text/plain": [
       "<matplotlib.colorbar.Colorbar at 0x7f56bbbe24a8>"
      ]
     },
     "execution_count": 47,
     "metadata": {},
     "output_type": "execute_result"
    },
    {
     "data": {
      "image/png": "[encoded data removed]",
      "text/plain": [
       "<Figure size 432x288 with 2 Axes>"
      ]
     },
     "metadata": {
      "needs_background": "light"
     },
     "output_type": "display_data"
    }
   ],
   "source": [
    "plt.pcolor(overlap_matrix, cmap = \"Greys\", vmin = 0, vmax = 1)\n",
    "plt.colorbar()"
   ]
  },
  {
   "cell_type": "code",
   "execution_count": 11,
   "metadata": {},
   "outputs": [],
   "source": [
    "lambdas = []\n",
    "l_idx = []\n",
    "# What are the set of lambdas chosen by alphagrid?\n",
    "for i in range(uoi2.supports_.shape[0]):\n",
    "    if uoi2.support_reg_ids_[i][0]['l1_ratio'] == 1:\n",
    "        lambdas.append(uoi2.support_reg_ids_[i][0]['alpha'])\n",
    "        l_idx.append(i)\n",
    "lambdas = np.array(lambdas)"
   ]
  },
  {
   "cell_type": "code",
   "execution_count": 38,
   "metadata": {},
   "outputs": [
    {
     "data": {
      "text/plain": [
       "[<matplotlib.lines.Line2D at 0x7f56bbcf4630>]"
      ]
     },
     "execution_count": 38,
     "metadata": {},
     "output_type": "execute_result"
    },
    {
     "data": {
      "image/png": "[encoded data removed]",
      "text/plain": [
       "<Figure size 432x288 with 1 Axes>"
      ]
     },
     "metadata": {
      "needs_background": "light"
     },
     "output_type": "display_data"
    }
   ],
   "source": [
    "# What is the set of regularization parameters chosen?\n",
    "plt.plot([uoi1.support_reg_ids_[i][0]['alpha'] for i in range(uoi1.supports_.shape[0])])\n",
    "plt.plot(lambdas)"
   ]
  },
  {
   "cell_type": "markdown",
   "metadata": {},
   "source": [
    "So given that nearly identical regularization parameters are being used, how can one explain the vast differences in supports? To make this more explicit, take the max of each row of overlap_matrix:"
   ]
  },
  {
   "cell_type": "code",
   "execution_count": 39,
   "metadata": {},
   "outputs": [
    {
     "data": {
      "text/plain": [
       "array([0.08333333, 0.21666667, 0.26666667, 0.28333333, 0.31666667,\n",
       "       0.35      , 0.46666667, 0.51666667, 0.56666667, 0.6       ,\n",
       "       0.65      , 0.7       , 0.71666667, 0.75      , 0.78333333,\n",
       "       0.81666667, 0.85      , 0.86666667, 0.91666667, 0.98333333])"
      ]
     },
     "execution_count": 39,
     "metadata": {},
     "output_type": "execute_result"
    }
   ],
   "source": [
    "np.max(overlap_matrix, axis = 0)"
   ]
  },
  {
   "cell_type": "markdown",
   "metadata": {},
   "source": [
    "At this point, we are still using a hard intersection operation. Can we make the difference evaporate by using more bootstraps? --> Re-run with 100 selection bootstraps. While this seems to reduce the variability somewhat, a key question to answer is whether UoI_Lasso support sets are self similar across different instantiations of the algorithm"
   ]
  },
  {
   "cell_type": "code",
   "execution_count": 49,
   "metadata": {},
   "outputs": [
    {
     "data": {
      "text/plain": [
       "array([0.11666667, 0.23333333, 0.28333333, 0.3       , 0.33333333,\n",
       "       0.4       , 0.43333333, 0.58333333, 0.63333333, 0.68333333,\n",
       "       0.71666667, 0.73333333, 0.75      , 0.76666667, 0.78333333,\n",
       "       0.83333333, 0.86666667, 0.9       , 0.95      , 0.96666667,\n",
       "       0.98333333])"
      ]
     },
     "execution_count": 49,
     "metadata": {},
     "output_type": "execute_result"
    }
   ],
   "source": [
    "np.max(overlap_matrix, axis = 0)"
   ]
  },
  {
   "cell_type": "code",
   "execution_count": 77,
   "metadata": {},
   "outputs": [],
   "source": [
    "uoi_lasso1 = UoI_Lasso(normalize=True,\n",
    "        n_boots_sel= 1000,\n",
    "        n_boots_est= 48,\n",
    "        estimation_score= 'r2',\n",
    "        stability_selection = 1,\n",
    "        est_reg = 0)\n",
    "uoi_lasso2 = UoI_Lasso(normalize=True,\n",
    "        n_boots_sel= 1000,\n",
    "        n_boots_est=48,\n",
    "        estimation_score= 'r2',\n",
    "        stability_selection = 1,\n",
    "        est_reg = 0)"
   ]
  },
  {
   "cell_type": "code",
   "execution_count": 78,
   "metadata": {},
   "outputs": [
    {
     "data": {
      "text/plain": [
       "UoI_Lasso(comm=None, copy_X=True, eps=0.001, est_reg=None,\n",
       "     estimation_frac=0.9, estimation_score='r2', fit_intercept=True,\n",
       "     max_iter=None, n_boots_est=48, n_boots_sel=1000, n_lambdas=48,\n",
       "     normalize=True, random_state=None, selection_frac=0.9,\n",
       "     stability_selection=1, warm_start=None)"
      ]
     },
     "execution_count": 78,
     "metadata": {},
     "output_type": "execute_result"
    }
   ],
   "source": [
    "uoi_lasso1.fit(X, y)\n",
    "uoi_lasso2.fit(X, y)"
   ]
  },
  {
   "cell_type": "code",
   "execution_count": 79,
   "metadata": {},
   "outputs": [],
   "source": [
    "# Calculate the mutual overlap matrix between the support sets:\n",
    "overlap_matrix2 = np.zeros((uoi_lasso1.supports_.shape[0], uoi_lasso2.supports_.shape[0]))\n",
    "for i in range(overlap_matrix2.shape[0]):\n",
    "    for j in range(overlap_matrix2.shape[1]):\n",
    "        overlap_matrix2[i, j] = (1 * uoi_lasso1.supports_[i, :]) @ (1 * uoi_lasso2.supports_[j, :].T)/60"
   ]
  },
  {
   "cell_type": "code",
   "execution_count": 71,
   "metadata": {},
   "outputs": [
    {
     "data": {
      "text/plain": [
       "<matplotlib.collections.PolyCollection at 0x7f56bb8ff470>"
      ]
     },
     "execution_count": 71,
     "metadata": {},
     "output_type": "execute_result"
    },
    {
     "data": {
      "image/png": "[encoded data removed]",
      "text/plain": [
       "<Figure size 432x288 with 1 Axes>"
      ]
     },
     "metadata": {
      "needs_background": "light"
     },
     "output_type": "display_data"
    }
   ],
   "source": [
    "plt.pcolor(overlap_matrix, cmap = 'Greys', vmin = 0, vmax = 1)"
   ]
  },
  {
   "cell_type": "code",
   "execution_count": 80,
   "metadata": {},
   "outputs": [
    {
     "data": {
      "text/plain": [
       "<matplotlib.collections.PolyCollection at 0x7f56bb831b00>"
      ]
     },
     "execution_count": 80,
     "metadata": {},
     "output_type": "execute_result"
    },
    {
     "data": {
      "image/png": "[encoded data removed]",
      "text/plain": [
       "<Figure size 432x288 with 1 Axes>"
      ]
     },
     "metadata": {
      "needs_background": "light"
     },
     "output_type": "display_data"
    }
   ],
   "source": [
    "plt.pcolor(overlap_matrix2, cmap = 'Greys', vmin = 0, vmax = 1)"
   ]
  },
  {
   "cell_type": "markdown",
   "metadata": {},
   "source": [
    "Takeaway: Even with a 1000 selection bootstraps, there is still residual variability in the selected supporty sets between two different instantions of Lasso on the same data. This is true even in the absence of correlations. "
   ]
  },
  {
   "cell_type": "code",
   "execution_count": 12,
   "metadata": {},
   "outputs": [
    {
     "data": {
      "text/plain": [
       "(48, 18)"
      ]
     },
     "execution_count": 12,
     "metadata": {},
     "output_type": "execute_result"
    }
   ],
   "source": [
    "# Assess estimation scores of the various supports\n",
    "uoi1.scores_.shape"
   ]
  },
  {
   "cell_type": "code",
   "execution_count": 29,
   "metadata": {},
   "outputs": [
    {
     "data": {
      "text/plain": [
       "(array([ 1.,  0.,  0.,  0.,  0.,  0.,  1.,  0.,  0.,  0.,  0.,  0.,  1.,\n",
       "         0.,  0.,  0.,  0.,  0.,  0.,  0.,  1.,  1.,  0.,  0.,  1.,  0.,\n",
       "         0.,  0.,  0.,  0.,  1.,  0.,  0.,  2.,  3.,  1.,  0.,  2.,  2.,\n",
       "         1.,  0.,  0.,  3.,  2.,  7.,  1.,  1.,  3.,  5.,  4.,  3.,  2.,\n",
       "         3.,  1.,  2.,  5.,  8.,  1.,  6.,  8., 14.,  8.,  6.,  9., 14.,\n",
       "        26., 29., 22., 21., 39., 26., 31., 40., 37., 45., 28., 37., 31.,\n",
       "        41., 50., 45., 46., 35., 47., 45., 38., 60., 69., 86., 88., 76.,\n",
       "        59., 92., 86., 71., 70., 76., 65., 23., 10.]),\n",
       " array([-0.2687758 , -0.25722197, -0.24566811, -0.23411427, -0.22256045,\n",
       "        -0.21100661, -0.19945277, -0.18789893, -0.1763451 , -0.16479126,\n",
       "        -0.15323742, -0.1416836 , -0.13012975, -0.11857592, -0.10702208,\n",
       "        -0.09546824, -0.0839144 , -0.07236057, -0.06080673, -0.04925289,\n",
       "        -0.03769905, -0.02614522, -0.01459138, -0.00303755,  0.00851629,\n",
       "         0.02007013,  0.03162396,  0.0431778 ,  0.05473164,  0.06628548,\n",
       "         0.07783931,  0.08939315,  0.10094699,  0.11250082,  0.12405466,\n",
       "         0.1356085 ,  0.14716233,  0.15871617,  0.17027001,  0.18182385,\n",
       "         0.19337767,  0.20493151,  0.21648535,  0.22803919,  0.23959303,\n",
       "         0.25114685,  0.2627007 ,  0.27425453,  0.28580838,  0.2973622 ,\n",
       "         0.30891603,  0.3204699 ,  0.3320237 ,  0.34357756,  0.3551314 ,\n",
       "         0.36668524,  0.37823907,  0.38979292,  0.40134674,  0.41290057,\n",
       "         0.42445442,  0.43600824,  0.4475621 ,  0.45911592,  0.47066978,\n",
       "         0.4822236 ,  0.49377742,  0.5053313 ,  0.5168851 ,  0.5284389 ,\n",
       "         0.5399928 ,  0.55154663,  0.56310046,  0.5746543 ,  0.5862081 ,\n",
       "         0.597762  ,  0.6093158 ,  0.62086964,  0.63242346,  0.6439773 ,\n",
       "         0.65553117,  0.667085  ,  0.6786388 ,  0.69019264,  0.7017465 ,\n",
       "         0.71330035,  0.7248542 ,  0.736408  ,  0.7479618 ,  0.7595157 ,\n",
       "         0.7710695 ,  0.78262335,  0.7941772 ,  0.805731  ,  0.8172849 ,\n",
       "         0.8288387 ,  0.84039253,  0.85194635,  0.86350024,  0.87505406,\n",
       "         0.8866079 ], dtype=float32),\n",
       " <a list of 100 Patch objects>)"
      ]
     },
     "execution_count": 29,
     "metadata": {},
     "output_type": "execute_result"
    },
    {
     "data": {
      "image/png": "[encoded data removed]",
      "text/plain": [
       "<Figure size 432x288 with 1 Axes>"
      ]
     },
     "metadata": {
      "needs_background": "light"
     },
     "output_type": "display_data"
    }
   ],
   "source": [
    "plt.hist(uoi1.scores_.flatten(), bins = 100)\n",
    "plt.hist(uoi2.scores_[:, l_idx].flatten(), bins = 100)\n",
    "plt.hist(uoi2.scores_[:, np.setdiff1d(np.arange(uoi2.scores_.shape[1]), l_idx)].flatten(), bins = 100, alpha = 0.25)"
   ]
  },
  {
   "cell_type": "markdown",
   "metadata": {},
   "source": [
    "The distribution of scores are nearly the same for UoI Elastic Net l1_ratio = 1, UoI Lasso, UoI Elastic Net l1_ratio != 1. Therefore, even at this stage, we have not clearly resolved why the performance of the two algorithms are so similar. The next step is to then look at the best scoring supports across each bootstrap:"
   ]
  },
  {
   "cell_type": "code",
   "execution_count": 30,
   "metadata": {},
   "outputs": [
    {
     "data": {
      "text/plain": [
       "array([ 6, 11,  9, 11,  9,  0,  8, 12, 14,  8, 14,  6, 13,  7,  7,  8, 10,\n",
       "       11,  3,  8, 17, 12,  5, 12, 13,  8, 10,  8, 10,  8, 14, 12,  8, 13,\n",
       "        5,  9,  5, 14, 16, 10,  9,  8,  4,  8, 12, 12,  8,  5],\n",
       "      dtype=int64)"
      ]
     },
     "execution_count": 30,
     "metadata": {},
     "output_type": "execute_result"
    }
   ],
   "source": [
    "uoi1.rp_max_idx_"
   ]
  },
  {
   "cell_type": "code",
   "execution_count": null,
   "metadata": {},
   "outputs": [],
   "source": []
  }
 ],
 "metadata": {
  "kernelspec": {
   "display_name": "Python 3",
   "language": "python",
   "name": "python3"
  },
  "language_info": {
   "codemirror_mode": {
    "name": "ipython",
    "version": 3
   },
   "file_extension": ".py",
   "mimetype": "text/x-python",
   "name": "python",
   "nbconvert_exporter": "python",
   "pygments_lexer": "ipython3",
   "version": "3.6.6"
  }
 },
 "nbformat": 4,
 "nbformat_minor": 2
}
