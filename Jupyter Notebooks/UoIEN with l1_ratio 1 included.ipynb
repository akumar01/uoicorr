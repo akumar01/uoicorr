{
 "cells": [
  {
   "cell_type": "code",
   "execution_count": 1,
   "metadata": {},
   "outputs": [],
   "source": [
    "# %load ../uoicorr_imports.py\n",
    "import h5py\n",
    "\n",
    "import numpy as np\n",
    "import matplotlib.pyplot as plt\n",
    "\n",
    "import sys, os, pdb\n",
    "t\n",
    "# Hack to import pyuoi\n",
    "parent_path, current_dir = os.path.split(os.path.abspath('.'))\n",
    "while current_dir not in ['nse']:\n",
    "    parent_path, current_dir = os.path.split(parent_path)\n",
    "p = os.path.join(parent_path, current_dir)\n",
    "# Add analysis\n",
    "if p not in sys.path:\n",
    "    sys.path.append(p)\n",
    "\n",
    "import subprocess\n",
    "hname = subprocess.check_output('hostname')\n",
    "\n",
    "if 'ankitnse'.encode() in hname:\n",
    "\n",
    "    if '%s/uoicorr' % p not in sys.path:\n",
    "        sys.path.append('%s/uoicorr' % p)\n",
    "    if '%s/PyUoI' % p not in sys.path:\n",
    "        sys.path.append('%s/PyUoI' % p)\n",
    "\n",
    "else:\n",
    "    # And standard list of subdirectories\n",
    "    if '%s\\\\pyuoi' % p not in sys.path:\n",
    "        sys.path.append('%s\\\\pyuoi' % p)\n",
    "    if '%s\\\\uoicorr' % p not in sys.path:\n",
    "        sys.path.append('%s\\\\uoicorr' % p)\n",
    "\n",
    "from pyuoi.linear_model.lasso import UoI_Lasso\n",
    "from pyuoi.linear_model.elasticnet import UoI_ElasticNet"
   ]
  },
  {
   "cell_type": "code",
   "execution_count": 2,
   "metadata": {},
   "outputs": [],
   "source": [
    "l1_ratios = [0.1, 0.2, 0.5, 0.75, 0.9, 0.95, 0.99, 1]"
   ]
  },
  {
   "cell_type": "code",
   "execution_count": 3,
   "metadata": {},
   "outputs": [],
   "source": [
    "uoi1 = UoI_Lasso(normalize=True,\n",
    "        n_boots_sel=100,\n",
    "        n_boots_est=48,\n",
    "        estimation_score= 'r2',\n",
    "        stability_selection = 1,\n",
    "        est_reg = 0)\n",
    "uoi2 = UoI_ElasticNet(\n",
    "        normalize=True,\n",
    "        n_boots_sel= 100,\n",
    "        n_boots_est= 48,\n",
    "        alphas = l1_ratios,\n",
    "        estimation_score= 'r2',\n",
    "        warm_start = False,\n",
    "        stability_selection= 1,\n",
    "        est_reg = 0\n",
    "        )"
   ]
  },
  {
   "cell_type": "code",
   "execution_count": 4,
   "metadata": {},
   "outputs": [],
   "source": [
    "from utils import gen_covariance, gen_beta, gen_data"
   ]
  },
  {
   "cell_type": "code",
   "execution_count": 5,
   "metadata": {},
   "outputs": [],
   "source": [
    "sigma = gen_covariance('block', correlation = 0)"
   ]
  },
  {
   "cell_type": "code",
   "execution_count": 6,
   "metadata": {},
   "outputs": [],
   "source": [
    "beta = gen_beta(sparsity = 0.8)"
   ]
  },
  {
   "cell_type": "code",
   "execution_count": 7,
   "metadata": {},
   "outputs": [],
   "source": [
    "X, X_test, y, y_test = gen_data(covariance = sigma, beta = beta)"
   ]
  },
  {
   "cell_type": "code",
   "execution_count": 8,
   "metadata": {},
   "outputs": [
    {
     "data": {
      "text/plain": [
       "UoI_ElasticNet(alphas=[0.1, 0.2, 0.5, 0.75, 0.9, 0.95, 0.99, 1], comm=None,\n",
       "        copy_X=True, eps=0.001, est_reg=None, estimation_frac=0.9,\n",
       "        estimation_score='r2', fit_intercept=True, max_iter=None,\n",
       "        n_boots_est=48, n_boots_sel=100, n_lambdas=48, normalize=True,\n",
       "        random_state=None, selection_frac=0.9, stability_selection=1,\n",
       "        warm_start=False)"
      ]
     },
     "execution_count": 8,
     "metadata": {},
     "output_type": "execute_result"
    }
   ],
   "source": [
    "uoi2.fit(X, y)"
   ]
  },
  {
   "cell_type": "code",
   "execution_count": 9,
   "metadata": {},
   "outputs": [
    {
     "data": {
      "text/plain": [
       "UoI_Lasso(comm=None, copy_X=True, eps=0.001, est_reg=None,\n",
       "     estimation_frac=0.9, estimation_score='r2', fit_intercept=True,\n",
       "     max_iter=None, n_boots_est=48, n_boots_sel=100, n_lambdas=48,\n",
       "     normalize=True, random_state=None, selection_frac=0.9,\n",
       "     stability_selection=1, warm_start=None)"
      ]
     },
     "execution_count": 9,
     "metadata": {},
     "output_type": "execute_result"
    }
   ],
   "source": [
    "uoi1.fit(X, y)"
   ]
  },
  {
   "cell_type": "code",
   "execution_count": 15,
   "metadata": {},
   "outputs": [],
   "source": [
    "# Assemble the set of supports that correspond to l1_ratio = 1\n",
    "l1_supports = []\n",
    "l1_idx = []\n",
    "for i in range(uoi2.supports_.shape[0]):\n",
    "    if uoi2.support_reg_ids_[i][0]['l1_ratio'] == 1:\n",
    "        l1_supports.append(uoi2.supports_[i, :])\n",
    "        l1_idx.append(i)\n",
    "l1_supports = np.array(l1_supports)\n",
    "l1_idx = np.array(l1_idx)"
   ]
  },
  {
   "cell_type": "code",
   "execution_count": 79,
   "metadata": {},
   "outputs": [],
   "source": [
    "# Calculate the mutual overlap matrix between the support sets:\n",
    "overlap_matrix2 = np.zeros((uoi_lasso1.supports_.shape[0], uoi_lasso2.supports_.shape[0]))\n",
    "for i in range(overlap_matrix2.shape[0]):\n",
    "    for j in range(overlap_matrix2.shape[1]):\n",
    "        overlap_matrix2[i, j] = (1 * uoi_lasso1.supports_[i, :]) @ (1 * uoi_lasso2.supports_[j, :].T)/60"
   ]
  },
  {
   "cell_type": "markdown",
   "metadata": {},
   "source": [
    "Takeaway: Even with a 1000 selection bootstraps, there is still residual variability in the selected supporty sets between two different instantions of Lasso on the same data. This is true even in the absence of correlations. "
   ]
  },
  {
   "cell_type": "code",
   "execution_count": 18,
   "metadata": {},
   "outputs": [
    {
     "data": {
      "text/plain": [
       "<matplotlib.legend.Legend at 0x24074169be0>"
      ]
     },
     "execution_count": 18,
     "metadata": {},
     "output_type": "execute_result"
    },
    {
     "data": {
      "image/png": "[encoded data removed]",
      "text/plain": [
       "<Figure size 432x288 with 1 Axes>"
      ]
     },
     "metadata": {
      "needs_background": "light"
     },
     "output_type": "display_data"
    }
   ],
   "source": [
    "plt.hist(uoi1.scores_.flatten(), bins = 100)\n",
    "plt.hist(uoi2.scores_[:, l1_idx].flatten(), bins = 100)\n",
    "plt.hist(uoi2.scores_[:, np.setdiff1d(np.arange(uoi2.scores_.shape[1]), l1_idx)].flatten(), bins = 100, alpha = 0.25)\n",
    "plt.legend(['UoI Lasso Scores', 'UoI Elastic Net with l1_ratio = 1', 'UoI Elastic Net, other'])"
   ]
  },
  {
   "cell_type": "markdown",
   "metadata": {},
   "source": [
    "The distribution of scores are nearly the same for UoI Elastic Net l1_ratio = 1, UoI Lasso, UoI Elastic Net l1_ratio != 1. Therefore, even at this stage, we have not clearly resolved why the performance of the two algorithms are so similar. The next step is to then look at the best scoring supports across each bootstrap:"
   ]
  },
  {
   "cell_type": "code",
   "execution_count": 44,
   "metadata": {},
   "outputs": [],
   "source": [
    "est_l1_idx = []\n",
    "notest_l1_idx = []\n",
    "\n",
    "l1_rp_max_idx = []\n",
    "notl1_rp_max_idx = []\n",
    "\n",
    "for i, max_idx in enumerate(uoi2.rp_max_idx_):\n",
    "    if max_idx in l1_idx:\n",
    "        l1_rp_max_idx.append(max_idx)\n",
    "        est_l1_idx.append(i)\n",
    "    else: \n",
    "        notl1_rp_max_idx.append(max_idx)\n",
    "        notest_l1_idx.append(i)"
   ]
  },
  {
   "cell_type": "code",
   "execution_count": 50,
   "metadata": {},
   "outputs": [
    {
     "data": {
      "text/plain": [
       "<matplotlib.legend.Legend at 0x2407627eac8>"
      ]
     },
     "execution_count": 50,
     "metadata": {},
     "output_type": "execute_result"
    },
    {
     "data": {
      "image/png": "[encoded data removed]",
      "text/plain": [
       "<Figure size 432x288 with 1 Axes>"
      ]
     },
     "metadata": {
      "needs_background": "light"
     },
     "output_type": "display_data"
    }
   ],
   "source": [
    "plt.hist(uoi1.scores_[np.arange(48), uoi1.rp_max_idx_], bins = 20)\n",
    "plt.hist(uoi2.scores_[est_l1_idx, l1_rp_max_idx], bins = 20)\n",
    "plt.hist(uoi2.scores_[notest_l1_idx, notl1_rp_max_idx], bins = 20)\n",
    "plt.legend(['UoI Lasso', 'UoI Elastic Net l1', 'UoI Elastic Net other'])"
   ]
  },
  {
   "cell_type": "code",
   "execution_count": 53,
   "metadata": {},
   "outputs": [
    {
     "data": {
      "text/plain": [
       "<matplotlib.collections.PolyCollection at 0x24077004b38>"
      ]
     },
     "execution_count": 53,
     "metadata": {},
     "output_type": "execute_result"
    },
    {
     "data": {
      "image/png": "[encoded data removed]",
      "text/plain": [
       "<Figure size 432x288 with 2 Axes>"
      ]
     },
     "metadata": {
      "needs_background": "light"
     },
     "output_type": "display_data"
    }
   ],
   "source": [
    "# What are the resulting estimates once we take the median?\n",
    "fig, ax = plt.subplots(2, 1)\n",
    "ax[0].set_aspect('equal')\n",
    "ax[0].pcolor(uoi1.coef_[np.newaxis, :], cmap = 'Greys')\n",
    "ax[1].set_aspect('equal')\n",
    "ax[1].pcolor(uoi2.coef_[np.newaxis, :], cmap = 'Greys')"
   ]
  },
  {
   "cell_type": "code",
   "execution_count": 57,
   "metadata": {},
   "outputs": [
    {
     "data": {
      "text/plain": [
       "0.9993137844759135"
      ]
     },
     "execution_count": 57,
     "metadata": {},
     "output_type": "execute_result"
    }
   ],
   "source": [
    "np.dot(uoi1.coef_/np.linalg.norm(uoi1.coef_), uoi2.coef_.T/np.linalg.norm(uoi2.coef_))"
   ]
  },
  {
   "cell_type": "code",
   "execution_count": 61,
   "metadata": {},
   "outputs": [],
   "source": [
    "best_estimates1 = uoi1.estimates_[np.arange(uoi1.n_boots_est),\n",
    "                                 uoi1.rp_max_idx_, :]\n",
    "best_estimates_enl1 = uoi2.estimates_[est_l1_idx, l1_rp_max_idx, :]\n",
    "best_estimates_enother = uoi2.estimates_[notest_l1_idx, notl1_rp_max_idx, :]"
   ]
  },
  {
   "cell_type": "code",
   "execution_count": 75,
   "metadata": {},
   "outputs": [
    {
     "data": {
      "text/plain": [
       "<matplotlib.colorbar.Colorbar at 0x240772ddc18>"
      ]
     },
     "execution_count": 75,
     "metadata": {},
     "output_type": "execute_result"
    },
    {
     "data": {
      "image/png": "[encoded data removed]",
      "text/plain": [
       "<Figure size 432x288 with 2 Axes>"
      ]
     },
     "metadata": {
      "needs_background": "light"
     },
     "output_type": "display_data"
    }
   ],
   "source": [
    "# Calculate similarity matrix of estimates:\n",
    "est_similarity_matrix1 = np.zeros((best_estimates1.shape[0], best_estimates_enl1.shape[0]))\n",
    "for i in range(est_similarity_matrix1.shape[0]):\n",
    "    for j in range(est_similarity_matrix1.shape[1]):\n",
    "        est_similarity_matrix1[i, j] = best_estimates1[i, :]/np.linalg.norm(best_estimates1[i, :])\\\n",
    "                                        @ best_estimates_enl1[j, :].T/np.linalg.norm(best_estimates_enl1[j, :])\n",
    "plt.pcolor(est_similarity_matrix1, cmap = 'Greys', vmin = 0, vmax = 1)\n",
    "plt.colorbar()"
   ]
  },
  {
   "cell_type": "code",
   "execution_count": 78,
   "metadata": {},
   "outputs": [
    {
     "data": {
      "text/plain": [
       "<matplotlib.colorbar.Colorbar at 0x240773a49e8>"
      ]
     },
     "execution_count": 78,
     "metadata": {},
     "output_type": "execute_result"
    },
    {
     "data": {
      "image/png": "[encoded data removed]",
      "text/plain": [
       "<Figure size 432x288 with 2 Axes>"
      ]
     },
     "metadata": {
      "needs_background": "light"
     },
     "output_type": "display_data"
    }
   ],
   "source": [
    "est_similarity_matrix2 = np.zeros((best_estimates1.shape[0], best_estimates_enother.shape[0]))\n",
    "for i in range(est_similarity_matrix2.shape[0]):\n",
    "    for j in range(est_similarity_matrix2.shape[1]):\n",
    "        est_similarity_matrix1[i, j] = best_estimates1[i, :]/np.linalg.norm(best_estimates1[i, :])\\\n",
    "                                        @ best_estimates_enother[j, :].T/np.linalg.norm(best_estimates_enother[j, :])\n",
    "plt.pcolor(est_similarity_matrix1, cmap = 'Greys', vmin = 0, vmax = 1)\n",
    "plt.colorbar()"
   ]
  },
  {
   "cell_type": "markdown",
   "metadata": {},
   "source": [
    "Appears as though even the estimates that originate from supports not derived from l1_ratio = 1 end up being highly similar to the lasso estimates. Contrast all this with a fit where l1_ratio = 1 is excluded"
   ]
  },
  {
   "cell_type": "code",
   "execution_count": 79,
   "metadata": {},
   "outputs": [],
   "source": [
    "uoi3 = UoI_ElasticNet(\n",
    "        normalize=True,\n",
    "        n_boots_sel= 100,\n",
    "        n_boots_est= 48,\n",
    "        alphas = [0.1, 0.2, 0.5, 0.75, 0.9, 0.95, 0.99, 1],\n",
    "        estimation_score= 'r2',\n",
    "        warm_start = False,\n",
    "        stability_selection= 1,\n",
    "        est_reg = 0\n",
    "        )"
   ]
  },
  {
   "cell_type": "code",
   "execution_count": 80,
   "metadata": {},
   "outputs": [
    {
     "data": {
      "text/plain": [
       "UoI_ElasticNet(alphas=[0.1, 0.2, 0.5, 0.75, 0.9, 0.95, 0.99, 1], comm=None,\n",
       "        copy_X=True, eps=0.001, est_reg=None, estimation_frac=0.9,\n",
       "        estimation_score='r2', fit_intercept=True, max_iter=None,\n",
       "        n_boots_est=48, n_boots_sel=100, n_lambdas=48, normalize=True,\n",
       "        random_state=None, selection_frac=0.9, stability_selection=1,\n",
       "        warm_start=False)"
      ]
     },
     "execution_count": 80,
     "metadata": {},
     "output_type": "execute_result"
    }
   ],
   "source": [
    "uoi3.fit(X, y)"
   ]
  },
  {
   "cell_type": "code",
   "execution_count": 82,
   "metadata": {},
   "outputs": [
    {
     "data": {
      "text/plain": [
       "<matplotlib.legend.Legend at 0x240775af438>"
      ]
     },
     "execution_count": 82,
     "metadata": {},
     "output_type": "execute_result"
    },
    {
     "data": {
      "image/png": "[encoded data removed]",
      "text/plain": [
       "<Figure size 432x288 with 1 Axes>"
      ]
     },
     "metadata": {
      "needs_background": "light"
     },
     "output_type": "display_data"
    }
   ],
   "source": [
    "plt.hist(uoi1.scores_.flatten(), bins = 100)\n",
    "plt.hist(uoi3.scores_.flatten(), bins = 100, alpha = 0.5)\n",
    "plt.legend(['UoI Lasso Scores', 'UoI Elastic Net without l1_ratio'])"
   ]
  },
  {
   "cell_type": "code",
   "execution_count": 83,
   "metadata": {},
   "outputs": [
    {
     "data": {
      "text/plain": [
       "<matplotlib.legend.Legend at 0x240777dca20>"
      ]
     },
     "execution_count": 83,
     "metadata": {},
     "output_type": "execute_result"
    },
    {
     "data": {
      "image/png": "[encoded data removed]",
      "text/plain": [
       "<Figure size 432x288 with 1 Axes>"
      ]
     },
     "metadata": {
      "needs_background": "light"
     },
     "output_type": "display_data"
    }
   ],
   "source": [
    "plt.hist(uoi1.scores_[np.arange(48), uoi1.rp_max_idx_], bins = 20)\n",
    "plt.hist(uoi3.scores_[np.arange(48), uoi3.rp_max_idx_], bins = 20)\n",
    "plt.legend(['UoI Lasso', 'UoI Elastic Net'])"
   ]
  },
  {
   "cell_type": "code",
   "execution_count": 84,
   "metadata": {},
   "outputs": [
    {
     "data": {
      "text/plain": [
       "0.9975139862814038"
      ]
     },
     "execution_count": 84,
     "metadata": {},
     "output_type": "execute_result"
    }
   ],
   "source": [
    "# Overlap of the final coefficients\n",
    "np.dot(uoi1.coef_/np.linalg.norm(uoi1.coef_), uoi3.coef_.T/np.linalg.norm(uoi3.coef_))"
   ]
  },
  {
   "cell_type": "code",
   "execution_count": 85,
   "metadata": {},
   "outputs": [],
   "source": [
    "best_estimates3 = uoi3.estimates_[np.arange(uoi3.n_boots_est),\n",
    "                                 uoi3.rp_max_idx_, :]"
   ]
  },
  {
   "cell_type": "code",
   "execution_count": 86,
   "metadata": {},
   "outputs": [
    {
     "data": {
      "text/plain": [
       "<matplotlib.colorbar.Colorbar at 0x24077a5e4e0>"
      ]
     },
     "execution_count": 86,
     "metadata": {},
     "output_type": "execute_result"
    },
    {
     "data": {
      "image/png": "[encoded data removed]",
      "text/plain": [
       "<Figure size 432x288 with 2 Axes>"
      ]
     },
     "metadata": {
      "needs_background": "light"
     },
     "output_type": "display_data"
    }
   ],
   "source": [
    "# Calculate similarity matrix of estimates:\n",
    "est_similarity_matrix3 = np.zeros((best_estimates1.shape[0], best_estimates3.shape[0]))\n",
    "for i in range(est_similarity_matrix3.shape[0]):\n",
    "    for j in range(est_similarity_matrix3.shape[1]):\n",
    "        est_similarity_matrix3[i, j] = best_estimates1[i, :]/np.linalg.norm(best_estimates1[i, :])\\\n",
    "                                        @ best_estimates3[j, :].T/np.linalg.norm(best_estimates3[j, :])\n",
    "plt.pcolor(est_similarity_matrix3, cmap = 'Greys', vmin = 0, vmax = 1)\n",
    "plt.colorbar()"
   ]
  },
  {
   "cell_type": "code",
   "execution_count": 87,
   "metadata": {},
   "outputs": [],
   "source": [
    "# Compare the false negatives and false positives\n",
    "fn1 = np.count_nonzero(beta[uoi1.coef_ == 0, 0])\n",
    "fp1 = np.count_nonzero(uoi1.coef_[beta.ravel() == 0])\n",
    "\n",
    "fn2 = np.count_nonzero(beta[uoi2.coef_ == 0, 0])\n",
    "fp2 = np.count_nonzero(uoi2.coef_[beta.ravel() == 0])\n",
    "\n",
    "fn3 = np.count_nonzero(beta[uoi3.coef_ == 0, 0])\n",
    "fp3 = np.count_nonzero(uoi3.coef_[beta.ravel() == 0])"
   ]
  },
  {
   "cell_type": "code",
   "execution_count": 93,
   "metadata": {},
   "outputs": [
    {
     "data": {
      "text/plain": [
       "3"
      ]
     },
     "execution_count": 93,
     "metadata": {},
     "output_type": "execute_result"
    }
   ],
   "source": [
    "fp3"
   ]
  },
  {
   "cell_type": "code",
   "execution_count": null,
   "metadata": {},
   "outputs": [],
   "source": []
  }
 ],
 "metadata": {
  "kernelspec": {
   "display_name": "Python 3",
   "language": "python",
   "name": "python3"
  },
  "language_info": {
   "codemirror_mode": {
    "name": "ipython",
    "version": 3
   },
   "file_extension": ".py",
   "mimetype": "text/x-python",
   "name": "python",
   "nbconvert_exporter": "python",
   "pygments_lexer": "ipython3",
   "version": "3.6.6"
  }
 },
 "nbformat": 4,
 "nbformat_minor": 2
}
