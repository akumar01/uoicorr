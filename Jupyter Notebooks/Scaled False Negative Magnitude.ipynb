{
 "cells": [
  {
   "cell_type": "code",
   "execution_count": 2,
   "metadata": {},
   "outputs": [],
   "source": [
    "# %load ../uoicorr_imports.py\n",
    "# %load uoicorr_imports.py\n",
    "%load_ext autoreload\n",
    "%autoreload 2\n",
    "\n",
    "import h5py\n",
    "\n",
    "import numpy as np\n",
    "import matplotlib.pyplot as plt\n",
    "\n",
    "import sys, os, pdb\n",
    "\n",
    "if os.name == 'posix':\n",
    "    pass\n",
    "else:\n",
    "\n",
    "    # Hack to import pyuoi\n",
    "    parent_path, current_dir = os.path.split(os.path.abspath('.'))\n",
    "    while current_dir not in ['nse']:\n",
    "        parent_path, current_dir = os.path.split(parent_path)\n",
    "    p = os.path.join(parent_path, current_dir)\n",
    "    # Add analysis\n",
    "    if p not in sys.path:\n",
    "        sys.path.append(p)\n",
    "\n",
    "    import subprocess\n",
    "    hname = subprocess.check_output('hostname')\n",
    "    \n",
    "    if 'ankitnse'.encode() in hname:\n",
    "\n",
    "        if '%s/uoicorr' % p not in sys.path:\n",
    "            sys.path.append('%s/uoicorr' % p)\n",
    "        if '%s/PyUoI' % p not in sys.path:\n",
    "            sys.path.append('%s/PyUoI' % p)\n",
    "\n",
    "    elif os.name == 'posix':\n",
    "\n",
    "        pass\n",
    "\n",
    "    else:\n",
    "        # And standard list of subdirectories\n",
    "        if '%s\\\\pyuoi' % p not in sys.path:\n",
    "            sys.path.append('%s\\\\pyuoi' % p)\n",
    "        if '%s\\\\uoicorr' % p not in sys.path:\n",
    "            sys.path.append('%s\\\\uoicorr' % p)\n",
    "\n",
    "from postprocess import postprocess_file, postprocess_dir\n",
    "from utils import FNR, FPR, selection_accuracy"
   ]
  },
  {
   "cell_type": "code",
   "execution_count": 3,
   "metadata": {},
   "outputs": [
    {
     "name": "stdout",
     "output_type": "stream",
     "text": [
      "(420, 28)\n"
     ]
    }
   ],
   "source": [
    "# Block Correlation Structure\n",
    "block_data = postprocess_dir('C:\\\\Users\\\\akumar\\\\nse\\\\uoicorr\\\\data\\\\02082019b')"
   ]
  },
  {
   "cell_type": "code",
   "execution_count": 4,
   "metadata": {},
   "outputs": [
    {
     "name": "stdout",
     "output_type": "stream",
     "text": [
      "(180, 28)\n"
     ]
    }
   ],
   "source": [
    "# Exponential falloff structure\n",
    "exp_data = postprocess_dir('C:\\\\Users\\\\akumar\\\\nse\\\\uoicorr\\\\data\\\\02082019')"
   ]
  },
  {
   "cell_type": "code",
   "execution_count": 5,
   "metadata": {},
   "outputs": [],
   "source": [
    "# Calculate the average magnitude of false negatives\n",
    "\n",
    "block_uoil = block_data.loc[block_data['exp_type'] == 'UoILasso']\n",
    "block_uoien = block_data.loc[block_data['exp_type'] == 'UoIElasticNet']\n",
    "block_en = block_data.loc[block_data['exp_type'] == 'EN']\n",
    "\n",
    "exp_uoil = exp_data.loc[exp_data['exp_type'] == 'UoILasso']\n",
    "exp_uoien = exp_data.loc[exp_data['exp_type'] == 'UoIElasticNet']\n",
    "exp_en = exp_data.loc[exp_data['exp_type'] == 'EN']"
   ]
  },
  {
   "cell_type": "code",
   "execution_count": null,
   "metadata": {},
   "outputs": [],
   "source": [
    "# Organize by sparsity\n",
    "sparsity = [0.2, 0.4, 0.6, 0.8, 1]\n",
    "for i, s in enumerate(sparsity):\n",
    "    \n",
    "    # Compute average correlation of the matrix\n",
    "    \n",
    "    # "
   ]
  }
 ],
 "metadata": {
  "kernelspec": {
   "display_name": "Python 3",
   "language": "python",
   "name": "python3"
  },
  "language_info": {
   "codemirror_mode": {
    "name": "ipython",
    "version": 3
   },
   "file_extension": ".py",
   "mimetype": "text/x-python",
   "name": "python",
   "nbconvert_exporter": "python",
   "pygments_lexer": "ipython3",
   "version": "3.6.6"
  }
 },
 "nbformat": 4,
 "nbformat_minor": 2
}
