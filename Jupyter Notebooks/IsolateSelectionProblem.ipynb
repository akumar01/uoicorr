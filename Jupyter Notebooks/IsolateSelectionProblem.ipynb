{
 "cells": [
  {
   "cell_type": "code",
   "execution_count": 2,
   "metadata": {},
   "outputs": [],
   "source": [
    "# %load uoicorr_imports.py\n",
    "%load_ext autoreload\n",
    "%autoreload 2\n",
    "\n",
    "import h5py\n",
    "\n",
    "import numpy as np\n",
    "import matplotlib.pyplot as plt\n",
    "from scipy.signal import correlate\n",
    "from math import floor, ceil\n",
    "# Script to add the entire project directory structure to the python path\n",
    "import sys, os, pdb\n",
    "\n",
    "# Hack to import pyuoi\n",
    "parent_path, current_dir = os.path.split(os.path.abspath('.'))\n",
    "while current_dir not in ['nse']:\n",
    "\tparent_path, current_dir = os.path.split(parent_path)\n",
    "p = os.path.join(parent_path, current_dir)\n",
    "# Add analysis\n",
    "if p not in sys.path:\n",
    "\tsys.path.append(p)\n",
    "\n",
    "# And standard list of subdirectories\n",
    "if '%s\\\\pyuoi' % p not in sys.path:\n",
    "\tsys.path.append('%s\\\\pyuoi' % p)\n",
    "\n",
    "from pyuoi.linear_model.lasso import UoI_Lasso\n",
    "from pyuoi.linear_model.elasticnet import UoI_ElasticNet"
   ]
  },
  {
   "cell_type": "code",
   "execution_count": 3,
   "metadata": {},
   "outputs": [],
   "source": [
    "from postprocess import postprocess_file"
   ]
  },
  {
   "cell_type": "code",
   "execution_count": 4,
   "metadata": {},
   "outputs": [
    {
     "ename": "OSError",
     "evalue": "Unable to open file (unable to open file: name = 'test.h5', errno = 2, error message = 'No such file or directory', flags = 0, o_flags = 0)",
     "output_type": "error",
     "traceback": [
      "\u001b[1;31m---------------------------------------------------------------------------\u001b[0m",
      "\u001b[1;31mOSError\u001b[0m                                   Traceback (most recent call last)",
      "\u001b[1;32m<ipython-input-4-41dc83e46af2>\u001b[0m in \u001b[0;36m<module>\u001b[1;34m\u001b[0m\n\u001b[1;32m----> 1\u001b[1;33m \u001b[0men\u001b[0m \u001b[1;33m=\u001b[0m \u001b[0mpostprocess_file\u001b[0m\u001b[1;33m(\u001b[0m\u001b[1;34m'test.h5'\u001b[0m\u001b[1;33m,\u001b[0m \u001b[1;34m'job0_params2'\u001b[0m\u001b[1;33m)\u001b[0m\u001b[1;33m\u001b[0m\u001b[0m\n\u001b[0m",
      "\u001b[1;32m~\\nse\\uoicorr\\postprocess.py\u001b[0m in \u001b[0;36mpostprocess_file\u001b[1;34m(data_file, param_file)\u001b[0m\n\u001b[0;32m     66\u001b[0m         \u001b[1;31m# Load the data\u001b[0m\u001b[1;33m\u001b[0m\u001b[1;33m\u001b[0m\u001b[0m\n\u001b[0;32m     67\u001b[0m \u001b[1;33m\u001b[0m\u001b[0m\n\u001b[1;32m---> 68\u001b[1;33m         \u001b[0mfile\u001b[0m \u001b[1;33m=\u001b[0m \u001b[0mh5py\u001b[0m\u001b[1;33m.\u001b[0m\u001b[0mFile\u001b[0m\u001b[1;33m(\u001b[0m\u001b[0mdata_file\u001b[0m\u001b[1;33m,\u001b[0m \u001b[1;34m'r'\u001b[0m\u001b[1;33m)\u001b[0m\u001b[1;33m\u001b[0m\u001b[0m\n\u001b[0m\u001b[0;32m     69\u001b[0m \u001b[1;33m\u001b[0m\u001b[0m\n\u001b[0;32m     70\u001b[0m         \u001b[0mdata_list\u001b[0m \u001b[1;33m=\u001b[0m \u001b[0mpostprocess\u001b[0m\u001b[1;33m(\u001b[0m\u001b[0mfile\u001b[0m\u001b[1;33m,\u001b[0m \u001b[0mparams\u001b[0m\u001b[1;33m)\u001b[0m\u001b[1;33m\u001b[0m\u001b[0m\n",
      "\u001b[1;32m~\\Anaconda3\\envs\\nse\\lib\\site-packages\\h5py\\_hl\\files.py\u001b[0m in \u001b[0;36m__init__\u001b[1;34m(self, name, mode, driver, libver, userblock_size, swmr, **kwds)\u001b[0m\n\u001b[0;32m    310\u001b[0m             \u001b[1;32mwith\u001b[0m \u001b[0mphil\u001b[0m\u001b[1;33m:\u001b[0m\u001b[1;33m\u001b[0m\u001b[0m\n\u001b[0;32m    311\u001b[0m                 \u001b[0mfapl\u001b[0m \u001b[1;33m=\u001b[0m \u001b[0mmake_fapl\u001b[0m\u001b[1;33m(\u001b[0m\u001b[0mdriver\u001b[0m\u001b[1;33m,\u001b[0m \u001b[0mlibver\u001b[0m\u001b[1;33m,\u001b[0m \u001b[1;33m**\u001b[0m\u001b[0mkwds\u001b[0m\u001b[1;33m)\u001b[0m\u001b[1;33m\u001b[0m\u001b[0m\n\u001b[1;32m--> 312\u001b[1;33m                 \u001b[0mfid\u001b[0m \u001b[1;33m=\u001b[0m \u001b[0mmake_fid\u001b[0m\u001b[1;33m(\u001b[0m\u001b[0mname\u001b[0m\u001b[1;33m,\u001b[0m \u001b[0mmode\u001b[0m\u001b[1;33m,\u001b[0m \u001b[0muserblock_size\u001b[0m\u001b[1;33m,\u001b[0m \u001b[0mfapl\u001b[0m\u001b[1;33m,\u001b[0m \u001b[0mswmr\u001b[0m\u001b[1;33m=\u001b[0m\u001b[0mswmr\u001b[0m\u001b[1;33m)\u001b[0m\u001b[1;33m\u001b[0m\u001b[0m\n\u001b[0m\u001b[0;32m    313\u001b[0m \u001b[1;33m\u001b[0m\u001b[0m\n\u001b[0;32m    314\u001b[0m                 \u001b[1;32mif\u001b[0m \u001b[0mswmr_support\u001b[0m\u001b[1;33m:\u001b[0m\u001b[1;33m\u001b[0m\u001b[0m\n",
      "\u001b[1;32m~\\Anaconda3\\envs\\nse\\lib\\site-packages\\h5py\\_hl\\files.py\u001b[0m in \u001b[0;36mmake_fid\u001b[1;34m(name, mode, userblock_size, fapl, fcpl, swmr)\u001b[0m\n\u001b[0;32m    140\u001b[0m         \u001b[1;32mif\u001b[0m \u001b[0mswmr\u001b[0m \u001b[1;32mand\u001b[0m \u001b[0mswmr_support\u001b[0m\u001b[1;33m:\u001b[0m\u001b[1;33m\u001b[0m\u001b[0m\n\u001b[0;32m    141\u001b[0m             \u001b[0mflags\u001b[0m \u001b[1;33m|=\u001b[0m \u001b[0mh5f\u001b[0m\u001b[1;33m.\u001b[0m\u001b[0mACC_SWMR_READ\u001b[0m\u001b[1;33m\u001b[0m\u001b[0m\n\u001b[1;32m--> 142\u001b[1;33m         \u001b[0mfid\u001b[0m \u001b[1;33m=\u001b[0m \u001b[0mh5f\u001b[0m\u001b[1;33m.\u001b[0m\u001b[0mopen\u001b[0m\u001b[1;33m(\u001b[0m\u001b[0mname\u001b[0m\u001b[1;33m,\u001b[0m \u001b[0mflags\u001b[0m\u001b[1;33m,\u001b[0m \u001b[0mfapl\u001b[0m\u001b[1;33m=\u001b[0m\u001b[0mfapl\u001b[0m\u001b[1;33m)\u001b[0m\u001b[1;33m\u001b[0m\u001b[0m\n\u001b[0m\u001b[0;32m    143\u001b[0m     \u001b[1;32melif\u001b[0m \u001b[0mmode\u001b[0m \u001b[1;33m==\u001b[0m \u001b[1;34m'r+'\u001b[0m\u001b[1;33m:\u001b[0m\u001b[1;33m\u001b[0m\u001b[0m\n\u001b[0;32m    144\u001b[0m         \u001b[0mfid\u001b[0m \u001b[1;33m=\u001b[0m \u001b[0mh5f\u001b[0m\u001b[1;33m.\u001b[0m\u001b[0mopen\u001b[0m\u001b[1;33m(\u001b[0m\u001b[0mname\u001b[0m\u001b[1;33m,\u001b[0m \u001b[0mh5f\u001b[0m\u001b[1;33m.\u001b[0m\u001b[0mACC_RDWR\u001b[0m\u001b[1;33m,\u001b[0m \u001b[0mfapl\u001b[0m\u001b[1;33m=\u001b[0m\u001b[0mfapl\u001b[0m\u001b[1;33m)\u001b[0m\u001b[1;33m\u001b[0m\u001b[0m\n",
      "\u001b[1;32mh5py\\_objects.pyx\u001b[0m in \u001b[0;36mh5py._objects.with_phil.wrapper\u001b[1;34m()\u001b[0m\n",
      "\u001b[1;32mh5py\\_objects.pyx\u001b[0m in \u001b[0;36mh5py._objects.with_phil.wrapper\u001b[1;34m()\u001b[0m\n",
      "\u001b[1;32mh5py\\h5f.pyx\u001b[0m in \u001b[0;36mh5py.h5f.open\u001b[1;34m()\u001b[0m\n",
      "\u001b[1;31mOSError\u001b[0m: Unable to open file (unable to open file: name = 'test.h5', errno = 2, error message = 'No such file or directory', flags = 0, o_flags = 0)"
     ]
    }
   ],
   "source": [
    "en = postprocess_file('test.h5', 'job0_params2')"
   ]
  },
  {
   "cell_type": "code",
   "execution_count": 10,
   "metadata": {},
   "outputs": [],
   "source": [
    "en02 = en "
   ]
  },
  {
   "cell_type": "code",
   "execution_count": 11,
   "metadata": {},
   "outputs": [
    {
     "data": {
      "image/png": "[encoded data removed]",
      "text/plain": [
       "<Figure size 792x504 with 7 Axes>"
      ]
     },
     "metadata": {
      "needs_background": "light"
     },
     "output_type": "display_data"
    }
   ],
   "source": [
    "fig, ax = plt.subplots(7, 1, figsize=(11, 7))\n",
    "# True beta\n",
    "ax[0].set_aspect('equal')\n",
    "ax[0].pcolor(en02.iloc[0].beta[0, :, np.newaxis].T, cmap='Greys', vmin = 0, vmax = 10)\n",
    "ax[0].set_xticklabels([])\n",
    "ax[0].set_yticklabels([])\n",
    "ax[0].set_title('True coefficients, sparsity = 1, Block size = 6')\n",
    "\n",
    "ax[1].set_aspect('equal')\n",
    "ax[1].pcolor(en02.iloc[0].beta_hats[0, :, np.newaxis].T, cmap = 'Greys', vmin = 0, vmax = 10)\n",
    "ax[1].set_xticklabels([])\n",
    "ax[1].set_yticklabels([])\n",
    "ax[1].set_title('Block correlation = 0')\n",
    "\n",
    "ax[2].set_aspect('equal')\n",
    "ax[2].pcolor(en02.iloc[1].beta_hats[0, :, np.newaxis].T, cmap = 'Greys', vmin = 0, vmax = 10)\n",
    "ax[2].set_xticklabels([])\n",
    "ax[2].set_yticklabels([])\n",
    "ax[2].set_title('Block correlation = 0.2')\n",
    "\n",
    "ax[3].set_aspect('equal')\n",
    "ax[3].pcolor(en02.iloc[2].beta_hats[0, :, np.newaxis].T, cmap = 'Greys', vmin = 0, vmax = 10)\n",
    "ax[3].set_xticklabels([])\n",
    "ax[3].set_yticklabels([])\n",
    "ax[3].set_title('Block correlation = 0.4')\n",
    "\n",
    "ax[4].set_aspect('equal')\n",
    "ax[4].pcolor(en02.iloc[3].beta_hats[0, :, np.newaxis].T, cmap = 'Greys', vmin = 0, vmax = 10)\n",
    "ax[4].set_xticklabels([])\n",
    "ax[4].set_yticklabels([])\n",
    "ax[4].set_title('Block correlation = 0.6')\n",
    "\n",
    "ax[5].set_aspect('equal')\n",
    "ax[5].pcolor(en02.iloc[4].beta_hats[0, :, np.newaxis].T, cmap = 'Greys', vmin = 0, vmax = 10)\n",
    "ax[5].set_xticklabels([])\n",
    "ax[5].set_yticklabels([])\n",
    "ax[5].set_title('Block correlation = 0.8')\n",
    "\n",
    "ax[6].set_aspect('equal')\n",
    "ax[6].pcolor(en02.iloc[5].beta_hats[0, :, np.newaxis].T, cmap = 'Greys', vmin = 0, vmax = 10)\n",
    "ax[6].set_xticklabels([])\n",
    "ax[6].set_yticklabels([])\n",
    "ax[6].set_title('Block correlation = 1')\n",
    "\n",
    "plt.savefig('selection_profile.png')"
   ]
  },
  {
   "cell_type": "markdown",
   "metadata": {},
   "source": [
    "### Can we get ordinary cross-validated LASSO to work?"
   ]
  },
  {
   "cell_type": "code",
   "execution_count": 2,
   "metadata": {},
   "outputs": [],
   "source": [
    "from sklearn.linear_model import LassoCV\n",
    "from sklearn.metrics import r2_score"
   ]
  },
  {
   "cell_type": "code",
   "execution_count": 14,
   "metadata": {},
   "outputs": [],
   "source": [
    "%autoreload"
   ]
  },
  {
   "cell_type": "code",
   "execution_count": 3,
   "metadata": {},
   "outputs": [],
   "source": [
    "from utils import gen_data, block_covariance"
   ]
  },
  {
   "cell_type": "code",
   "execution_count": 29,
   "metadata": {},
   "outputs": [],
   "source": [
    "sigma = block_covariance(correlation = 0)\n",
    "X, X_test, y, y_test, beta = gen_data(sparsity = 1, covariance = sigma, kappa = 0.1)"
   ]
  },
  {
   "cell_type": "code",
   "execution_count": 5,
   "metadata": {},
   "outputs": [
    {
     "name": "stdout",
     "output_type": "stream",
     "text": [
      "0.9121950241041663\n"
     ]
    }
   ],
   "source": [
    "lcv = LassoCV(normalize = True, cv = 10)\n",
    "lcv.fit(X, y.ravel())\n",
    "print(r2_score(y_test.ravel(), np.dot(X_test, lcv.coef_)))"
   ]
  },
  {
   "cell_type": "markdown",
   "metadata": {},
   "source": [
    "### Contrast directly with UoI_Lasso"
   ]
  },
  {
   "cell_type": "code",
   "execution_count": 7,
   "metadata": {},
   "outputs": [
    {
     "name": "stdout",
     "output_type": "stream",
     "text": [
      "0.9120832251194286\n"
     ]
    }
   ],
   "source": [
    "uoi = UoI_Lasso(\n",
    "    normalize=True,\n",
    "    n_boots_sel=48,\n",
    "    n_boots_est=48,\n",
    "    estimation_score='r2')\n",
    "uoi.fit(X, y.ravel())\n",
    "print(r2_score(y_test.ravel(), np.dot(X_test, uoi.coef_)))"
   ]
  },
  {
   "cell_type": "code",
   "execution_count": 30,
   "metadata": {},
   "outputs": [
    {
     "name": "stdout",
     "output_type": "stream",
     "text": [
      "0.866794168286299\n"
     ]
    }
   ],
   "source": [
    "uoi = UoI_ElasticNet(\n",
    "    normalize=True,\n",
    "    n_boots_sel=48,\n",
    "    n_boots_est=48,\n",
    "    estimation_score='r2')\n",
    "uoi.fit(X, y.ravel())\n",
    "print(r2_score(y_test.ravel(), np.dot(X_test, uoi.coef_)))"
   ]
  },
  {
   "cell_type": "code",
   "execution_count": 11,
   "metadata": {},
   "outputs": [
    {
     "data": {
      "text/plain": [
       "Text(0.5, 1.0, 'UoI LASSO estimate')"
      ]
     },
     "execution_count": 11,
     "metadata": {},
     "output_type": "execute_result"
    },
    {
     "data": {
      "image/png": "[encoded data removed]",
      "text/plain": [
       "<Figure size 792x216 with 3 Axes>"
      ]
     },
     "metadata": {
      "needs_background": "light"
     },
     "output_type": "display_data"
    }
   ],
   "source": [
    "# Feature selection looks normal\n",
    "fig, ax = plt.subplots(3, 1, figsize=(11, 3))\n",
    "# True beta\n",
    "ax[0].set_aspect('equal')\n",
    "ax[0].pcolor(beta.T, cmap='Greys', vmin = 0, vmax = 10)\n",
    "ax[0].set_xticklabels([])\n",
    "ax[0].set_yticklabels([])\n",
    "ax[0].set_title('True coefficients, sparsity = 1, Block size = 6, Correlation = 0')\n",
    "\n",
    "ax[1].set_aspect('equal')\n",
    "ax[1].pcolor(lcv.coef_[:, np.newaxis].T, cmap = 'Greys', vmin = 0, vmax = 10)\n",
    "ax[1].set_xticklabels([])\n",
    "ax[1].set_yticklabels([])\n",
    "ax[1].set_title('Cross Validated LASSO estimate')\n",
    "\n",
    "ax[2].set_aspect('equal')\n",
    "ax[2].pcolor(uoi.coef_[:, np.newaxis].T, cmap = 'Greys', vmin = 0, vmax = 10)\n",
    "ax[2].set_xticklabels([])\n",
    "ax[2].set_yticklabels([])\n",
    "ax[2].set_title('UoI LASSO estimate')"
   ]
  },
  {
   "cell_type": "markdown",
   "metadata": {},
   "source": [
    "### The issue lies with the usage of BIC/AIC/AICc as the model estimation score. Specifically, model estimation seems to fail catastrophically as we reduce the n/p ratio. Let's see how fit performance varies:"
   ]
  },
  {
   "cell_type": "code",
   "execution_count": 6,
   "metadata": {},
   "outputs": [
    {
     "name": "stdout",
     "output_type": "stream",
     "text": [
      "0\n",
      "1\n",
      "2\n"
     ]
    }
   ],
   "source": [
    "n_features = 60\n",
    "n_samples = 60 * np.arange(2, 5)\n",
    "\n",
    "r2_scores = np.zeros(n_samples.size)\n",
    "BIC_scores = np.zeros(n_samples.size)\n",
    "AIC_scores = np.zeros(n_samples.size)\n",
    "AICc_scores = np.zeros(n_samples.size)\n",
    "\n",
    "# Collect final model coefficients and also record model supports prior to estimation\n",
    "coefficients = np.zeros((n_features, n_samples.size))\n",
    "supports = []\n",
    "candidate_scores = []\n",
    "estimates = []\n",
    "\n",
    "for idx, ns in enumerate(n_samples):\n",
    "    print(idx)\n",
    "    sigma = block_covariance(correlation = 0)\n",
    "    X, X_test, y, y_test, beta = gen_data(n_samples = ns, n_features = n_features, \n",
    "                              sparsity = 1, covariance = sigma, kappa = 0.1)\n",
    "#     uoi_r2 = UoI_Lasso(\n",
    "#         normalize=True,\n",
    "#         n_boots_sel=48,\n",
    "#         n_boots_est=48,\n",
    "#         estimation_score='r2')\n",
    "#     uoi_r2.fit(X, y.ravel())\n",
    "    uoi_BIC = UoI_Lasso(\n",
    "        normalize=True,\n",
    "        n_boots_sel=48,\n",
    "        n_boots_est=48,\n",
    "        estimation_score='BIC')\n",
    "    uoi_BIC.fit(X, y.ravel())\n",
    "\n",
    "    coefficients[:, idx] = uoi_BIC.coef_\n",
    "    supports.append(uoi_BIC.supports_)\n",
    "    candidate_scores.append(uoi_BIC.scores_)\n",
    "    estimates.append(uoi_BIC.estimates_)\n",
    "#     uoi_AIC = UoI_Lasso(\n",
    "#         normalize=True,\n",
    "#         n_boots_sel=48,\n",
    "#         n_boots_est=48,\n",
    "#         estimation_score='AIC')\n",
    "#     uoi_AIC.fit(X, y.ravel())\n",
    "#     uoi_AICc = UoI_Lasso(\n",
    "#         normalize=True,\n",
    "#         n_boots_sel=48,\n",
    "#         n_boots_est=48,\n",
    "#         estimation_score='AICc')\n",
    "#     try:\n",
    "#         uoi_AICc.fit(X, y.ravel())\n",
    "#     except:\n",
    "#         continue\n",
    "#     r2_scores[idx] = r2_score(y_test.ravel(), np.dot(X_test, uoi_r2.coef_))\n",
    "#     BIC_scores[idx] = r2_score(y_test.ravel(), np.dot(X_test, uoi_BIC.coef_))\n",
    "#     AIC_scores[idx] = r2_score(y_test.ravel(), np.dot(X_test, uoi_AIC.coef_))\n",
    "    BIC_scores[idx] = r2_score(y_test.ravel(), np.dot(X_test, uoi_BIC.coef_))\n"
   ]
  },
  {
   "cell_type": "code",
   "execution_count": 24,
   "metadata": {},
   "outputs": [
    {
     "data": {
      "text/plain": [
       "(0, 1)"
      ]
     },
     "execution_count": 24,
     "metadata": {},
     "output_type": "execute_result"
    },
    {
     "data": {
      "image/png": "[encoded data removed]",
      "text/plain": [
       "<Figure size 432x288 with 1 Axes>"
      ]
     },
     "metadata": {
      "needs_background": "light"
     },
     "output_type": "display_data"
    }
   ],
   "source": [
    "plt.plot(r2_scores)\n",
    "plt.ylim([0, 1])"
   ]
  },
  {
   "cell_type": "code",
   "execution_count": 31,
   "metadata": {},
   "outputs": [
    {
     "data": {
      "text/plain": [
       "(0, 1)"
      ]
     },
     "execution_count": 31,
     "metadata": {},
     "output_type": "execute_result"
    },
    {
     "data": {
      "image/png": "[encoded data removed]",
      "text/plain": [
       "<Figure size 432x288 with 1 Axes>"
      ]
     },
     "metadata": {
      "needs_background": "light"
     },
     "output_type": "display_data"
    }
   ],
   "source": [
    "plt.plot(BIC_scores)\n",
    "plt.ylim([0, 1])"
   ]
  },
  {
   "cell_type": "code",
   "execution_count": 26,
   "metadata": {},
   "outputs": [
    {
     "data": {
      "text/plain": [
       "(0, 1)"
      ]
     },
     "execution_count": 26,
     "metadata": {},
     "output_type": "execute_result"
    },
    {
     "data": {
      "image/png": "[encoded data removed]",
      "text/plain": [
       "<Figure size 432x288 with 1 Axes>"
      ]
     },
     "metadata": {
      "needs_background": "light"
     },
     "output_type": "display_data"
    }
   ],
   "source": [
    "plt.plot(AIC_scores)\n",
    "plt.ylim([0, 1])"
   ]
  },
  {
   "cell_type": "markdown",
   "metadata": {},
   "source": [
    "### It is therefore clear that the BIC and AIC scores cause really poor model selection in the case when the number of samples is not significantly greater than the number of data points. This also explains the observation that the performance recovers in highly sparse scenarios - the number of features has decreased sufficiently. To do - check whether the concommitant increase in performance in the highly correlated regime is similarly due to selection of a smaller number of features. "
   ]
  },
  {
   "cell_type": "markdown",
   "metadata": {},
   "source": [
    "### Other to do - find the performance of AICc "
   ]
  },
  {
   "cell_type": "code",
   "execution_count": 6,
   "metadata": {},
   "outputs": [
    {
     "data": {
      "text/plain": [
       "[<matplotlib.lines.Line2D at 0x2cda4966f60>]"
      ]
     },
     "execution_count": 6,
     "metadata": {},
     "output_type": "execute_result"
    },
    {
     "data": {
      "image/png": "[encoded data removed]",
      "text/plain": [
       "<Figure size 432x288 with 1 Axes>"
      ]
     },
     "metadata": {
      "needs_background": "light"
     },
     "output_type": "display_data"
    }
   ],
   "source": [
    "plt.plot(AICc_scores)"
   ]
  },
  {
   "cell_type": "code",
   "execution_count": 9,
   "metadata": {},
   "outputs": [
    {
     "data": {
      "text/plain": [
       "(23, 60)"
      ]
     },
     "execution_count": 9,
     "metadata": {},
     "output_type": "execute_result"
    }
   ],
   "source": [
    "uoi_AICc.supports_.shape"
   ]
  },
  {
   "cell_type": "code",
   "execution_count": 9,
   "metadata": {},
   "outputs": [
    {
     "data": {
      "text/plain": [
       "<matplotlib.collections.PolyCollection at 0x2064b3c7240>"
      ]
     },
     "execution_count": 9,
     "metadata": {},
     "output_type": "execute_result"
    },
    {
     "data": {
      "image/png": "[encoded data removed]",
      "text/plain": [
       "<Figure size 792x216 with 2 Axes>"
      ]
     },
     "metadata": {
      "needs_background": "light"
     },
     "output_type": "display_data"
    }
   ],
   "source": [
    "fig, ax = plt.subplots(2, 1, figsize=(11, 3))\n",
    "\n",
    "# Plot candidate model supports vs. final model coefficients\n",
    "# True beta\n",
    "ax[0].set_aspect('equal')\n",
    "ax[0].pcolor(uoi_BIC.coef_[:, np.newaxis].T, cmap='Greys', vmin = 0, vmax = 10)\n",
    "ax[0].set_xticklabels([])\n",
    "ax[0].set_yticklabels([])\n",
    "ax[0].set_title('Final estimated coefficients, sparsity = 1, Block size = 6, Correlation = 0')\n",
    "\n",
    "ax[1].pcolor(uoi_BIC.supports_ * 1, cmap = 'Greys', vmin = 0, vmax = 1)"
   ]
  },
  {
   "cell_type": "code",
   "execution_count": 35,
   "metadata": {},
   "outputs": [
    {
     "data": {
      "text/plain": [
       "(48, 22)"
      ]
     },
     "execution_count": 35,
     "metadata": {},
     "output_type": "execute_result"
    }
   ],
   "source": [
    "candidate_scores[2].shape"
   ]
  },
  {
   "cell_type": "code",
   "execution_count": 39,
   "metadata": {},
   "outputs": [
    {
     "data": {
      "text/plain": [
       "array([0, 1, 1, 0, 1, 3, 0, 0, 1, 0, 0, 1, 0, 0, 1, 1, 1, 0, 0, 2, 0, 2,\n",
       "       2, 1, 0, 1, 2, 0, 0, 0, 0, 1, 0, 0, 0, 1, 3, 0, 0, 3, 1, 0, 1, 0,\n",
       "       0, 0, 1, 4], dtype=int64)"
      ]
     },
     "execution_count": 39,
     "metadata": {},
     "output_type": "execute_result"
    }
   ],
   "source": [
    "np.argmax(candidate_scores[2], axis = 1)"
   ]
  },
  {
   "cell_type": "code",
   "execution_count": 10,
   "metadata": {},
   "outputs": [
    {
     "data": {
      "text/plain": [
       "array([2, 0, 0, 1, 2, 0, 1, 1, 0, 2, 0, 0, 0, 1, 0, 1, 1, 0, 0, 2, 0, 0,\n",
       "       1, 2, 2, 0, 1, 0, 0, 1, 0, 0, 0, 0, 0, 1, 2, 0, 0, 0, 0, 0, 0, 2,\n",
       "       0, 1, 0, 0], dtype=int64)"
      ]
     },
     "execution_count": 10,
     "metadata": {},
     "output_type": "execute_result"
    }
   ],
   "source": [
    "uoi_BIC.rp_max_idx_"
   ]
  },
  {
   "cell_type": "code",
   "execution_count": 15,
   "metadata": {},
   "outputs": [],
   "source": [
    "best_estimates = uoi_BIC.estimates_[np.arange(48), uoi_BIC.rp_max_idx_, :]"
   ]
  },
  {
   "cell_type": "code",
   "execution_count": 16,
   "metadata": {},
   "outputs": [
    {
     "data": {
      "text/plain": [
       "(48, 60)"
      ]
     },
     "execution_count": 16,
     "metadata": {},
     "output_type": "execute_result"
    }
   ],
   "source": [
    "best_estimates.shape"
   ]
  },
  {
   "cell_type": "code",
   "execution_count": 18,
   "metadata": {},
   "outputs": [
    {
     "data": {
      "text/plain": [
       "<matplotlib.collections.PolyCollection at 0x2064dc1a0f0>"
      ]
     },
     "execution_count": 18,
     "metadata": {},
     "output_type": "execute_result"
    },
    {
     "data": {
      "image/png": "[encoded data removed]",
      "text/plain": [
       "<Figure size 432x288 with 1 Axes>"
      ]
     },
     "metadata": {
      "needs_background": "light"
     },
     "output_type": "display_data"
    }
   ],
   "source": [
    "plt.pcolor(best_estimates, cmap='Greys')"
   ]
  },
  {
   "cell_type": "code",
   "execution_count": 39,
   "metadata": {},
   "outputs": [
    {
     "data": {
      "text/plain": [
       "UoI_Lasso(comm=None, copy_X=True, eps=0.001, estimation_frac=0.9,\n",
       "     estimation_score='BIC', fit_intercept=True, max_iter=None,\n",
       "     n_boots_est=48, n_boots_sel=48, n_lambdas=48, normalize=True,\n",
       "     random_state=None, selection_frac=0.9, stability_selection=1.0,\n",
       "     warm_start=None)"
      ]
     },
     "execution_count": 39,
     "metadata": {},
     "output_type": "execute_result"
    }
   ],
   "source": [
    "sigma = block_covariance(correlation = 0)\n",
    "X, X_test, y, y_test, beta = gen_data(n_samples = 180, n_features = 60, \n",
    "                          sparsity = 1, covariance = sigma, kappa = 0.1)\n",
    "uoi_BIC = UoI_Lasso(\n",
    "    normalize=True,\n",
    "    n_boots_sel=48,\n",
    "    n_boots_est=48,\n",
    "    estimation_score='BIC')\n",
    "uoi_BIC.fit(X, y.ravel())"
   ]
  },
  {
   "cell_type": "code",
   "execution_count": 35,
   "metadata": {},
   "outputs": [],
   "source": [
    "# What is the R^2 vs. the BIC performance of the different model supports on the first bootstrap sample"
   ]
  },
  {
   "cell_type": "code",
   "execution_count": 40,
   "metadata": {},
   "outputs": [],
   "source": [
    "r2_scores = np.zeros(uoi_BIC.estimates_.shape[1])\n",
    "for idx, estimate in enumerate(uoi_BIC.estimates_[0, :, :]):\n",
    "    r2_scores[idx] = r2_score(y_test.ravel(), np.dot(X_test, estimate))        "
   ]
  },
  {
   "cell_type": "code",
   "execution_count": 41,
   "metadata": {},
   "outputs": [
    {
     "data": {
      "text/plain": [
       "array([-3.78720291e-02, -2.30950419e+01, -3.60860842e+01, -5.36141485e+01,\n",
       "       -6.80741289e+01, -8.95049689e+01, -8.62322061e+01, -9.85173944e+01,\n",
       "       -1.07391487e+02, -1.19299461e+02, -1.16943433e+02, -1.33609700e+02,\n",
       "       -1.31620709e+02, -1.27901004e+02, -1.44963680e+02, -1.45549301e+02,\n",
       "       -1.47293938e+02, -1.45051974e+02, -1.46513089e+02, -1.46421244e+02,\n",
       "       -1.47213254e+02, -1.47968112e+02, -1.50822503e+02, -1.52683560e+02,\n",
       "       -1.54060530e+02, -1.54705892e+02, -1.54378361e+02, -1.53779471e+02])"
      ]
     },
     "execution_count": 41,
     "metadata": {},
     "output_type": "execute_result"
    }
   ],
   "source": [
    "r2_scores"
   ]
  },
  {
   "cell_type": "code",
   "execution_count": 42,
   "metadata": {},
   "outputs": [
    {
     "data": {
      "text/plain": [
       "array([-141.92802, -146.65579, -147.9324 , -157.10867, -153.58475,\n",
       "       -160.44626, -166.84932, -177.23518, -182.38249, -199.5927 ,\n",
       "       -199.0019 , -204.45952, -205.8383 , -210.13614, -216.04045,\n",
       "       -219.79759, -224.10968, -228.02113, -233.5026 , -235.58446,\n",
       "       -238.6809 , -240.59793, -242.9813 , -246.69688, -250.05092,\n",
       "       -252.96416, -256.23746, -259.5538 ], dtype=float32)"
      ]
     },
     "execution_count": 42,
     "metadata": {},
     "output_type": "execute_result"
    }
   ],
   "source": [
    "uoi_BIC.scores_[0, :]"
   ]
  },
  {
   "cell_type": "code",
   "execution_count": 44,
   "metadata": {},
   "outputs": [
    {
     "data": {
      "text/plain": [
       "array([ 64.97303 ,   0.      ,   0.      , 154.00899 ,  47.70129 ,\n",
       "        45.583103, 116.841675, 142.99446 , 109.45308 , 105.91328 ,\n",
       "       119.26796 ,  39.52747 ,  98.46169 ,  76.96301 ,  76.49258 ,\n",
       "       -31.664505,  42.11186 ,  33.95235 , 143.96153 ,  56.98988 ,\n",
       "        40.722126,  88.18301 ,  17.577656, 112.848   ,  89.93637 ,\n",
       "        57.988003,  41.200745,  85.79469 ,  10.022643,  -5.783868,\n",
       "         0.      ,  61.367264,  50.490757,  65.85593 ,  75.86739 ,\n",
       "        56.54969 ,  30.242613,  19.89349 , 143.08684 ,  17.633558,\n",
       "       146.45721 ,  91.75292 ,  40.670242,  58.954872,  47.995193,\n",
       "        82.91099 ,  60.978558, 135.29039 ,  18.234137,  15.130453,\n",
       "        55.82056 ,  83.62071 ,  92.71832 ,  -5.270291,  95.13351 ,\n",
       "        67.80934 , 118.9774  , 100.342125,  68.39378 ,  21.32898 ],\n",
       "      dtype=float32)"
      ]
     },
     "execution_count": 44,
     "metadata": {},
     "output_type": "execute_result"
    }
   ],
   "source": []
  },
  {
   "cell_type": "code",
   "execution_count": 45,
   "metadata": {},
   "outputs": [
    {
     "data": {
      "text/plain": [
       "[<matplotlib.lines.Line2D at 0x2064d821a90>]"
      ]
     },
     "execution_count": 45,
     "metadata": {},
     "output_type": "execute_result"
    },
    {
     "data": {
      "image/png": "[encoded data removed]",
      "text/plain": [
       "<Figure size 432x288 with 1 Axes>"
      ]
     },
     "metadata": {
      "needs_background": "light"
     },
     "output_type": "display_data"
    }
   ],
   "source": [
    "plt.plot(r2_scores)"
   ]
  },
  {
   "cell_type": "code",
   "execution_count": 47,
   "metadata": {},
   "outputs": [
    {
     "data": {
      "text/plain": [
       "[<matplotlib.lines.Line2D at 0x2064d88a6d8>]"
      ]
     },
     "execution_count": 47,
     "metadata": {},
     "output_type": "execute_result"
    },
    {
     "data": {
      "image/png": "[encoded data removed]",
      "text/plain": [
       "<Figure size 432x288 with 1 Axes>"
      ]
     },
     "metadata": {
      "needs_background": "light"
     },
     "output_type": "display_data"
    }
   ],
   "source": [
    "plt.plot(uoi_BIC.scores_[0, :])"
   ]
  },
  {
   "cell_type": "code",
   "execution_count": null,
   "metadata": {},
   "outputs": [],
   "source": [
    "# Even in the case when model supports are non-sparse, the estimation seems to fail miserably. Let's compare with using\n",
    "# r2 estimation"
   ]
  },
  {
   "cell_type": "code",
   "execution_count": 48,
   "metadata": {},
   "outputs": [
    {
     "data": {
      "text/plain": [
       "UoI_Lasso(comm=None, copy_X=True, eps=0.001, estimation_frac=0.9,\n",
       "     estimation_score='r2', fit_intercept=True, max_iter=None,\n",
       "     n_boots_est=48, n_boots_sel=48, n_lambdas=48, normalize=True,\n",
       "     random_state=None, selection_frac=0.9, stability_selection=1.0,\n",
       "     warm_start=None)"
      ]
     },
     "execution_count": 48,
     "metadata": {},
     "output_type": "execute_result"
    }
   ],
   "source": [
    "uoi_r2 = UoI_Lasso(\n",
    "    normalize=True,\n",
    "    n_boots_sel=48,\n",
    "    n_boots_est=48,\n",
    "    estimation_score='r2')\n",
    "uoi_r2.fit(X, y.ravel())"
   ]
  },
  {
   "cell_type": "code",
   "execution_count": 54,
   "metadata": {},
   "outputs": [
    {
     "name": "stdout",
     "output_type": "stream",
     "text": [
      "0.8708560484239333\n"
     ]
    }
   ],
   "source": [
    "# Verify good performance of the r^2 model: \n",
    "print(r2_score(y_test.ravel(), np.dot(X_test, uoi_r2.coef_)))"
   ]
  },
  {
   "cell_type": "code",
   "execution_count": 52,
   "metadata": {},
   "outputs": [
    {
     "data": {
      "text/plain": [
       "<matplotlib.collections.PolyCollection at 0x2064e905320>"
      ]
     },
     "execution_count": 52,
     "metadata": {},
     "output_type": "execute_result"
    },
    {
     "data": {
      "image/png": "[encoded data removed]",
      "text/plain": [
       "<Figure size 792x216 with 2 Axes>"
      ]
     },
     "metadata": {
      "needs_background": "light"
     },
     "output_type": "display_data"
    }
   ],
   "source": [
    "# Supports are similar (as expected)\n",
    "fig, ax = plt.subplots(2, 1, figsize=(11, 3))\n",
    "ax[0].pcolor(uoi_BIC.supports_ *1, cmap = 'Greys', vmin = 0, vmax = 1)\n",
    "ax[1].pcolor(uoi_r2.supports_ * 1, cmap = 'Greys', vmin = 0, vmax = 1)"
   ]
  },
  {
   "cell_type": "code",
   "execution_count": 63,
   "metadata": {},
   "outputs": [],
   "source": [
    "# Performance of individual r^2 supports:\n",
    "r2_r2_scores = np.zeros(uoi_r2.estimates_.shape[1])\n",
    "for idx, estimate in enumerate(uoi_r2.estimates_[20, :, :]):\n",
    "    r2_r2_scores[idx] = r2_score(y_test.ravel(), np.dot(X_test, estimate))        "
   ]
  },
  {
   "cell_type": "code",
   "execution_count": 64,
   "metadata": {},
   "outputs": [
    {
     "data": {
      "text/plain": [
       "[<matplotlib.lines.Line2D at 0x2064eb2fba8>]"
      ]
     },
     "execution_count": 64,
     "metadata": {},
     "output_type": "execute_result"
    },
    {
     "data": {
      "image/png": "[encoded data removed]",
      "text/plain": [
       "<Figure size 432x288 with 1 Axes>"
      ]
     },
     "metadata": {
      "needs_background": "light"
     },
     "output_type": "display_data"
    }
   ],
   "source": [
    "plt.plot(r2_r2_scores)"
   ]
  },
  {
   "cell_type": "code",
   "execution_count": 4,
   "metadata": {},
   "outputs": [
    {
     "data": {
      "text/plain": [
       "UoI_Lasso(comm=None, copy_X=True, eps=0.001, estimation_frac=0.9,\n",
       "     estimation_score='BIC', fit_intercept=True, max_iter=None,\n",
       "     n_boots_est=48, n_boots_sel=48, n_lambdas=48, normalize=True,\n",
       "     random_state=None, selection_frac=0.9, stability_selection=1.0,\n",
       "     warm_start=None)"
      ]
     },
     "execution_count": 4,
     "metadata": {},
     "output_type": "execute_result"
    }
   ],
   "source": [
    "# What is the r^2 performance of the various model supports from uoi_BIC, and track the congruence/lack of congruence\n",
    "# between the corresponding BIC score\n",
    "sigma = block_covariance(correlation = 0)\n",
    "X, X_test, y, y_test, beta = gen_data(n_samples = 180, n_features = 60, \n",
    "                          sparsity = 1, covariance = sigma, kappa = 0.1)\n",
    "uoi_BIC = UoI_Lasso(\n",
    "    normalize=True,\n",
    "    n_boots_sel=48,\n",
    "    n_boots_est=48,\n",
    "    estimation_score='BIC')\n",
    "uoi_BIC.fit(X, y.ravel())"
   ]
  },
  {
   "cell_type": "code",
   "execution_count": 5,
   "metadata": {},
   "outputs": [
    {
     "data": {
      "text/plain": [
       "(28, 60)"
      ]
     },
     "execution_count": 5,
     "metadata": {},
     "output_type": "execute_result"
    }
   ],
   "source": [
    "uoi_BIC.supports_.shape"
   ]
  },
  {
   "cell_type": "code",
   "execution_count": 5,
   "metadata": {},
   "outputs": [],
   "source": [
    "from sklearn.model_selection import train_test_split"
   ]
  },
  {
   "cell_type": "code",
   "execution_count": 15,
   "metadata": {},
   "outputs": [],
   "source": [
    "# Do this over 48 bootstraps\n",
    "n_bootstraps= 48\n",
    "\n",
    "BIC_scores = np.zeros((n_bootstraps, uoi_BIC.supports_.shape[0]))\n",
    "r2_scores = np.zeros((n_bootstraps, uoi_BIC.supports_.shape[0]))\n",
    "\n",
    "for b in range(n_bootstraps):\n",
    "    for idx in range(uoi_BIC.supports_.shape[0]):\n",
    "        support = uoi_BIC.supports_[idx, :]\n",
    "        # Analgously to the algorithm itself, sample a bootstrap of the training data and fit, and then calculate both\n",
    "        # the r2_score and the BIC:\n",
    "        Xb_train, Xb_test, yb_train, yb_test = train_test_split(X, y, test_size = 0.1)\n",
    "        em = uoi_BIC.estimation_lm\n",
    "        if np.any(support):\n",
    "            em.fit(Xb_train[:, support], yb_train)\n",
    "            yb_pred = em.predict(Xb_test[:, support])\n",
    "        else:\n",
    "            yb_pred = np.zeros(yb_test.size)\n",
    "        # Calculate the BIC score\n",
    "        BIC_scores[b, idx] = uoi_BIC.score_predictions(uoi_BIC.estimation_score, yb_test, yb_pred, support)\n",
    "        # Calculate the R2 score\n",
    "        r2_scores[b, idx] = r2_score(yb_test, yb_pred)\n",
    "\n",
    "# Average over bootstraps\n",
    "BIC_scores = np.mean(BIC_scores, 0)\n",
    "r2_scores = np.mean(r2_scores, 0)"
   ]
  },
  {
   "cell_type": "code",
   "execution_count": 9,
   "metadata": {},
   "outputs": [
    {
     "data": {
      "text/plain": [
       "array([-203.89804377, -141.97200826, -157.1050528 , -143.68825217,\n",
       "       -153.59931534, -147.76046837, -166.40026067, -169.75741001,\n",
       "       -175.63163514, -175.40324835, -186.73762477, -189.18611996,\n",
       "       -188.33444117, -196.45919994, -194.17377673, -210.08620267,\n",
       "       -214.34064547, -230.0412068 , -221.05010312, -240.5533047 ,\n",
       "       -232.15789362, -236.11963408, -230.02733983, -233.51287527,\n",
       "       -253.49339027, -263.03625037, -255.41998689, -270.19201222])"
      ]
     },
     "execution_count": 9,
     "metadata": {},
     "output_type": "execute_result"
    }
   ],
   "source": [
    "BIC_scores"
   ]
  },
  {
   "cell_type": "code",
   "execution_count": 10,
   "metadata": {},
   "outputs": [
    {
     "data": {
      "text/plain": [
       "array([-0.01881443, -0.03141317, -0.17634935,  0.3714707 ,  0.64029344,\n",
       "        0.75640443,  0.40142529,  0.64612956,  0.61155398,  0.75593662,\n",
       "        0.79494274,  0.65040285,  0.88376858,  0.79269855,  0.85084005,\n",
       "        0.87762458,  0.84732614,  0.70234455,  0.89189999,  0.86982899,\n",
       "        0.90009827,  0.88455753,  0.86246833,  0.89500261,  0.84975285,\n",
       "        0.79134191,  0.7598482 ,  0.8074793 ])"
      ]
     },
     "execution_count": 10,
     "metadata": {},
     "output_type": "execute_result"
    }
   ],
   "source": [
    "r2_scores"
   ]
  },
  {
   "cell_type": "code",
   "execution_count": 16,
   "metadata": {},
   "outputs": [
    {
     "data": {
      "text/plain": [
       "<matplotlib.collections.PathCollection at 0x1b2197d25f8>"
      ]
     },
     "execution_count": 16,
     "metadata": {},
     "output_type": "execute_result"
    },
    {
     "data": {
      "image/png": "[encoded data removed]",
      "text/plain": [
       "<Figure size 432x288 with 1 Axes>"
      ]
     },
     "metadata": {
      "needs_background": "light"
     },
     "output_type": "display_data"
    }
   ],
   "source": [
    "plt.scatter(BIC_scores, r2_scores)"
   ]
  },
  {
   "cell_type": "code",
   "execution_count": 17,
   "metadata": {},
   "outputs": [
    {
     "data": {
      "text/plain": [
       "<matplotlib.collections.PathCollection at 0x1b219826828>"
      ]
     },
     "execution_count": 17,
     "metadata": {},
     "output_type": "execute_result"
    },
    {
     "data": {
      "image/png": "[encoded data removed]",
      "text/plain": [
       "<Figure size 432x288 with 1 Axes>"
      ]
     },
     "metadata": {
      "needs_background": "light"
     },
     "output_type": "display_data"
    }
   ],
   "source": [
    "# How does this correspondence change in the regime when the BIC seems to be performing good model selection\n",
    "\n",
    "sigma = block_covariance(correlation = 0)\n",
    "X, X_test, y, y_test, beta = gen_data(n_samples = 3000, n_features = 60, \n",
    "                          sparsity = 1, covariance = sigma, kappa = 0.1)\n",
    "uoi_BIC = UoI_Lasso(\n",
    "    normalize=True,\n",
    "    n_boots_sel=48,\n",
    "    n_boots_est=48,\n",
    "    estimation_score='BIC')\n",
    "uoi_BIC.fit(X, y.ravel())\n",
    "\n",
    "# Do this over 48 bootstraps\n",
    "n_bootstraps= 48\n",
    "\n",
    "BIC_scores = np.zeros((n_bootstraps, uoi_BIC.supports_.shape[0]))\n",
    "r2_scores = np.zeros((n_bootstraps, uoi_BIC.supports_.shape[0]))\n",
    "\n",
    "for b in range(n_bootstraps):\n",
    "    for idx in range(uoi_BIC.supports_.shape[0]):\n",
    "        support = uoi_BIC.supports_[idx, :]\n",
    "        # Analgously to the algorithm itself, sample a bootstrap of the training data and fit, and then calculate both\n",
    "        # the r2_score and the BIC:\n",
    "        Xb_train, Xb_test, yb_train, yb_test = train_test_split(X, y, test_size = 0.1)\n",
    "        em = uoi_BIC.estimation_lm\n",
    "        if np.any(support):\n",
    "            em.fit(Xb_train[:, support], yb_train)\n",
    "            yb_pred = em.predict(Xb_test[:, support])\n",
    "        else:\n",
    "            yb_pred = np.zeros(yb_test.size)\n",
    "        # Calculate the BIC score\n",
    "        BIC_scores[b, idx] = uoi_BIC.score_predictions(uoi_BIC.estimation_score, yb_test, yb_pred, support)\n",
    "        # Calculate the R2 score\n",
    "        r2_scores[b, idx] = r2_score(yb_test, yb_pred)\n",
    "\n",
    "# Average over bootstraps\n",
    "BIC_scores = np.mean(BIC_scores, 0)\n",
    "r2_scores = np.mean(r2_scores, 0)\n",
    "\n",
    "plt.scatter(BIC_scores, r2_scores)"
   ]
  },
  {
   "cell_type": "code",
   "execution_count": 26,
   "metadata": {},
   "outputs": [
    {
     "data": {
      "text/plain": [
       "<matplotlib.collections.PathCollection at 0x1b217c1aac8>"
      ]
     },
     "execution_count": 26,
     "metadata": {},
     "output_type": "execute_result"
    },
    {
     "data": {
      "image/png": "[encoded data removed]",
      "text/plain": [
       "<Figure size 432x288 with 1 Axes>"
      ]
     },
     "metadata": {
      "needs_background": "light"
     },
     "output_type": "display_data"
    }
   ],
   "source": [
    "# What about when there is sparsity?\n",
    "\n",
    "sigma = block_covariance(correlation = 0.4)\n",
    "X, X_test, y, y_test, beta = gen_data(n_samples = 120, n_features = 60, \n",
    "                          sparsity = 0.4, covariance = sigma, kappa = 0.1)\n",
    "uoi_BIC = UoI_ElasticNet(\n",
    "    normalize=True,\n",
    "    n_boots_sel=48,\n",
    "    n_boots_est=48,\n",
    "    estimation_score='AICc')\n",
    "uoi_BIC.fit(X, y.ravel())\n",
    "\n",
    "# Do this over 48 bootstraps\n",
    "n_bootstraps= 48\n",
    "\n",
    "BIC_scores = np.zeros((n_bootstraps, uoi_BIC.supports_.shape[0]))\n",
    "r2_scores = np.zeros((n_bootstraps, uoi_BIC.supports_.shape[0]))\n",
    "\n",
    "for b in range(n_bootstraps):\n",
    "    for idx in range(uoi_BIC.supports_.shape[0]):\n",
    "        support = uoi_BIC.supports_[idx, :]\n",
    "        # Analgously to the algorithm itself, sample a bootstrap of the training data and fit, and then calculate both\n",
    "        # the r2_score and the BIC:\n",
    "        Xb_train, Xb_test, yb_train, yb_test = train_test_split(X, y, test_size = 0.1)\n",
    "        em = uoi_BIC.estimation_lm\n",
    "        if np.any(support):\n",
    "            em.fit(Xb_train[:, support], yb_train)\n",
    "            yb_pred = em.predict(Xb_test[:, support])\n",
    "        else:\n",
    "            yb_pred = np.zeros(yb_test.size)\n",
    "        # Calculate the BIC score\n",
    "        BIC_scores[b, idx] = uoi_BIC.score_predictions(uoi_BIC.estimation_score, yb_test, yb_pred, support)\n",
    "        # Calculate the R2 score\n",
    "        r2_scores[b, idx] = r2_score(yb_test, yb_pred)\n",
    "\n",
    "# Average over bootstraps\n",
    "BIC_scores = np.mean(BIC_scores, 0)\n",
    "r2_scores = np.mean(r2_scores, 0)\n",
    "\n",
    "plt.scatter(BIC_scores, r2_scores)"
   ]
  },
  {
   "cell_type": "code",
   "execution_count": 27,
   "metadata": {},
   "outputs": [],
   "source": [
    "def estimation_performance(n_bootstraps, uoi_model):\n",
    "\n",
    "    est_scores = np.zeros((n_bootstraps, uoi_model.supports_.shape[0]))\n",
    "    r2_scores = np.zeros((n_bootstraps, uoi_model.supports_.shape[0]))    \n",
    "\n",
    "    for b in range(n_bootstraps):\n",
    "        for idx in range(uoi_model.supports_.shape[0]):\n",
    "            support = uoi_model.supports_[idx, :]\n",
    "            # Analgously to the algorithm itself, sample a bootstrap of the training data and fit, and then calculate both\n",
    "            # the r2_score and the BIC:\n",
    "            Xb_train, Xb_test, yb_train, yb_test = train_test_split(X, y, test_size = 0.1)\n",
    "            em = uoi_model.estimation_lm\n",
    "            if np.any(support):\n",
    "                em.fit(Xb_train[:, support], yb_train)\n",
    "                yb_pred = em.predict(Xb_test[:, support])\n",
    "            else:\n",
    "                yb_pred = np.zeros(yb_test.size)\n",
    "            # Calculate the BIC score\n",
    "            est_scores[b, idx] = uoi_model.score_predictions(uoi_model.estimation_score, yb_test, yb_pred, support)\n",
    "            # Calculate the R2 score\n",
    "            r2_scores[b, idx] = r2_score(yb_test, yb_pred)\n",
    "\n",
    "    # Average over bootstraps\n",
    "    est_scores = np.mean(est_scores, 0)\n",
    "    r2_scores = np.mean(r2_scores, 0)\n",
    "    \n",
    "    return est_scores, r2_scores"
   ]
  },
  {
   "cell_type": "code",
   "execution_count": 35,
   "metadata": {},
   "outputs": [
    {
     "name": "stdout",
     "output_type": "stream",
     "text": [
      "11.751569032669067\n",
      "10.62159013748169\n",
      "12.187402725219727\n",
      "8.926125764846802\n",
      "11.305760145187378\n",
      "9.076723098754883\n",
      "10.244599103927612\n",
      "9.430775880813599\n",
      "9.352983713150024\n",
      "11.315733194351196\n",
      "11.646848440170288\n",
      "9.788818359375\n",
      "9.239287853240967\n",
      "9.556440114974976\n",
      "11.269855976104736\n",
      "12.519514560699463\n",
      "11.672779083251953\n",
      "9.67312741279602\n",
      "11.541131496429443\n",
      "8.964024066925049\n",
      "11.557088375091553\n",
      "10.084028959274292\n",
      "11.67676830291748\n",
      "11.793456315994263\n",
      "11.334683656692505\n",
      "9.71302080154419\n",
      "11.754560947418213\n",
      "12.206351518630981\n",
      "11.636875629425049\n",
      "9.41780972480774\n",
      "12.059744119644165\n",
      "9.670135498046875\n",
      "11.652832746505737\n",
      "12.665124416351318\n",
      "9.475656032562256\n",
      "9.63223671913147\n",
      "12.027829885482788\n",
      "9.680108547210693\n",
      "12.62622857093811\n",
      "11.918123245239258\n",
      "9.618274688720703\n",
      "12.392853021621704\n",
      "9.822726964950562\n",
      "9.274194717407227\n",
      "9.769869089126587\n",
      "12.630217790603638\n",
      "12.058747053146362\n",
      "11.707685708999634\n",
      "12.132548809051514\n",
      "9.425789594650269\n",
      "11.640864133834839\n",
      "13.08799433708191\n",
      "11.683749437332153\n",
      "10.694396018981934\n",
      "11.271851301193237\n",
      "11.559083461761475\n",
      "11.422448635101318\n",
      "11.158155918121338\n",
      "11.324709177017212\n",
      "10.968662977218628\n",
      "13.647497177124023\n",
      "12.093653440475464\n",
      "13.309402227401733\n",
      "14.31371545791626\n",
      "11.56606411933899\n",
      "12.228293180465698\n",
      "12.140527963638306\n",
      "15.98823618888855\n",
      "14.222959041595459\n",
      "14.938045024871826\n",
      "11.554096698760986\n",
      "14.592968940734863\n",
      "14.801410675048828\n",
      "15.700007915496826\n",
      "13.867907762527466\n",
      "15.377869129180908\n",
      "15.071688413619995\n",
      "11.252902269363403\n",
      "15.460647821426392\n",
      "11.70569109916687\n",
      "13.348297119140625\n",
      "13.037130117416382\n",
      "13.74423861503601\n",
      "14.669763326644897\n",
      "14.619896411895752\n",
      "11.837338924407959\n",
      "15.004866600036621\n",
      "13.656473636627197\n",
      "15.411778211593628\n",
      "13.148831844329834\n",
      "11.92909288406372\n",
      "11.008555889129639\n",
      "13.315385818481445\n",
      "13.797096967697144\n",
      "13.860927104949951\n",
      "13.88785457611084\n",
      "13.637524366378784\n",
      "11.236944913864136\n",
      "14.275816679000854\n",
      "12.425765037536621\n",
      "16.585638761520386\n",
      "15.702001810073853\n",
      "16.040097951889038\n",
      "14.499219179153442\n",
      "15.537442445755005\n",
      "16.172743320465088\n",
      "15.151474237442017\n",
      "15.709981441497803\n",
      "15.730924367904663\n",
      "15.420754432678223\n",
      "17.45431637763977\n",
      "15.749873399734497\n",
      "17.320672273635864\n",
      "15.873543977737427\n",
      "16.51383066177368\n",
      "16.143820762634277\n",
      "16.130854606628418\n",
      "18.199322938919067\n",
      "16.372210025787354\n",
      "17.125195264816284\n",
      "16.630518913269043\n",
      "16.730252504348755\n",
      "15.474610328674316\n",
      "15.1434965133667\n",
      "16.994544506072998\n",
      "15.755858659744263\n",
      "16.665425062179565\n",
      "16.88783025741577\n",
      "17.306710481643677\n",
      "16.165762186050415\n",
      "15.445687532424927\n",
      "14.596957921981812\n",
      "14.809389591217041\n",
      "17.3416166305542\n",
      "13.996564388275146\n",
      "16.192689895629883\n",
      "12.536468505859375\n",
      "14.917101621627808\n",
      "15.819687604904175\n",
      "14.437384366989136\n",
      "15.268163204193115\n",
      "13.942707777023315\n",
      "13.937720537185669\n",
      "13.459999084472656\n",
      "11.880223989486694\n",
      "12.283146381378174\n",
      "11.659813642501831\n",
      "11.207024812698364\n",
      "12.560405254364014\n",
      "11.523179769515991\n",
      "19.09791874885559\n",
      "20.219918251037598\n",
      "19.989534854888916\n",
      "20.363533973693848\n",
      "19.539737939834595\n",
      "20.185011863708496\n",
      "29.366454362869263\n",
      "23.420358180999756\n",
      "18.475584506988525\n",
      "20.12816286087036\n",
      "20.741522789001465\n",
      "20.858211755752563\n",
      "21.28706431388855\n",
      "18.949316263198853\n",
      "19.613540410995483\n",
      "18.974250078201294\n",
      "21.212263822555542\n",
      "22.62947392463684\n",
      "21.65208673477173\n",
      "20.32663345336914\n",
      "18.68402671813965\n",
      "20.253827333450317\n",
      "18.582298040390015\n",
      "20.344584941864014\n",
      "20.945976972579956\n",
      "20.551032304763794\n",
      "20.09924054145813\n",
      "19.23854374885559\n",
      "19.387145519256592\n",
      "19.959614515304565\n",
      "19.32930040359497\n",
      "19.00516700744629\n",
      "17.42240023612976\n",
      "18.809690475463867\n",
      "20.37749719619751\n",
      "18.148458242416382\n",
      "17.0673508644104\n",
      "18.583295345306396\n",
      "18.998185873031616\n",
      "16.48490834236145\n",
      "14.164115905761719\n",
      "17.658768892288208\n",
      "15.193362712860107\n",
      "13.005214929580688\n",
      "14.632861375808716\n",
      "12.695044994354248\n",
      "13.564718961715698\n",
      "12.561402320861816\n",
      "12.32702898979187\n",
      "12.123573541641235\n",
      "22.01312232017517\n",
      "23.630794286727905\n",
      "20.59691047668457\n",
      "22.95161199569702\n",
      "20.807347059249878\n",
      "19.19565749168396\n",
      "23.84921145439148\n",
      "22.61650824546814\n",
      "22.982528686523438\n",
      "23.374481201171875\n",
      "21.86452007293701\n",
      "19.738206148147583\n",
      "23.304667949676514\n",
      "22.009132146835327\n",
      "20.69464874267578\n",
      "23.091238260269165\n",
      "22.63944673538208\n",
      "25.6563777923584\n",
      "23.665701866149902\n",
      "23.888107538223267\n",
      "20.081288814544678\n",
      "20.510141849517822\n",
      "21.57429575920105\n",
      "22.336257934570312\n",
      "23.878133296966553\n",
      "20.725566625595093\n",
      "20.022446393966675\n",
      "18.278112411499023\n",
      "18.10756802558899\n",
      "21.19630718231201\n",
      "20.809341192245483\n",
      "18.607231855392456\n",
      "20.13414764404297\n",
      "20.190995693206787\n",
      "21.415720462799072\n",
      "16.74321722984314\n",
      "17.098267793655396\n",
      "18.07864546775818\n",
      "16.955649852752686\n",
      "17.512160539627075\n",
      "16.387169361114502\n",
      "18.417738676071167\n",
      "20.585938930511475\n",
      "19.955625295639038\n",
      "16.389164686203003\n",
      "14.178078651428223\n",
      "13.805075645446777\n",
      "14.90613079071045\n",
      "13.650489807128906\n",
      "22.013121604919434\n",
      "28.803958415985107\n",
      "31.098820686340332\n",
      "25.581578254699707\n",
      "24.143425464630127\n",
      "28.61346745491028\n",
      "23.91204333305359\n",
      "30.812586545944214\n",
      "25.372137784957886\n",
      "25.787028312683105\n",
      "26.157038688659668\n",
      "24.111509799957275\n",
      "34.129714012145996\n",
      "33.20020008087158\n",
      "26.170005083084106\n",
      "25.422003984451294\n",
      "26.476184606552124\n",
      "30.49343967437744\n",
      "24.812642097473145\n",
      "24.93829035758972\n",
      "29.545974254608154\n",
      "22.482866287231445\n",
      "28.2125403881073\n",
      "23.975873231887817\n",
      "30.37675189971924\n",
      "25.699263095855713\n",
      "30.114453554153442\n",
      "26.051321506500244\n",
      "30.23313570022583\n",
      "29.661664485931396\n",
      "28.114802837371826\n",
      "18.47658133506775\n",
      "23.930992126464844\n",
      "20.917053937911987\n",
      "24.408714771270752\n",
      "18.864543199539185\n",
      "23.83125925064087\n",
      "21.5912504196167\n",
      "25.111834049224854\n",
      "20.1291606426239\n",
      "25.57659149169922\n",
      "20.417389392852783\n",
      "22.990508556365967\n",
      "17.066352367401123\n",
      "22.827942609786987\n",
      "18.853572607040405\n",
      "18.171397924423218\n",
      "16.878854751586914\n",
      "15.393826007843018\n",
      "18.631167888641357\n",
      "15.687042713165283\n",
      "27.7158682346344\n",
      "26.173993349075317\n",
      "29.021377325057983\n",
      "33.10345911979675\n",
      "26.734493732452393\n",
      "28.914663076400757\n",
      "30.629076957702637\n",
      "28.200572729110718\n",
      "29.34750461578369\n",
      "30.278016328811646\n",
      "26.572926998138428\n",
      "30.891374588012695\n",
      "25.843876600265503\n",
      "32.625736474990845\n",
      "22.46092438697815\n",
      "31.0928373336792\n",
      "27.80263590812683\n",
      "31.73212695121765\n",
      "31.722153663635254\n",
      "36.10842156410217\n",
      "25.88277244567871\n",
      "26.67465353012085\n",
      "25.07692813873291\n",
      "31.218499898910522\n",
      "24.405723094940186\n",
      "30.713850021362305\n",
      "28.324241638183594\n",
      "28.72118091583252\n",
      "24.48052191734314\n",
      "26.337555408477783\n",
      "20.56200337409973\n",
      "27.71836829185486\n",
      "22.487852811813354\n",
      "23.568034172058105\n",
      "18.834623336791992\n",
      "27.908668994903564\n",
      "32.54395508766174\n",
      "27.091048002243042\n",
      "30.707874059677124\n",
      "27.579337120056152\n",
      "19.826011419296265\n",
      "22.778313398361206\n",
      "28.20310115814209\n",
      "22.100887060165405\n",
      "20.920732498168945\n",
      "25.087897539138794\n",
      "20.04554843902588\n",
      "25.142730951309204\n",
      "19.279438972473145\n",
      "30.150843620300293\n",
      "32.40949869155884\n",
      "34.200724840164185\n",
      "31.914820909500122\n",
      "31.511756420135498\n",
      "39.784777879714966\n",
      "35.914939403533936\n",
      "33.407668590545654\n",
      "29.45122766494751\n",
      "31.014606952667236\n",
      "33.78765273094177\n",
      "31.791044235229492\n",
      "30.68593978881836\n",
      "29.828219175338745\n",
      "31.629401445388794\n",
      "28.28734040260315\n",
      "28.59053087234497\n",
      "30.171300172805786\n",
      "29.145050764083862\n",
      "30.897355794906616\n",
      "30.158381700515747\n",
      "26.623790740966797\n",
      "25.936652660369873\n",
      "27.399714708328247\n",
      "27.801701545715332\n",
      "31.68637752532959\n",
      "25.167684316635132\n",
      "26.353670358657837\n",
      "26.792962074279785\n",
      "28.05401611328125\n",
      "26.192942142486572\n",
      "23.13013458251953\n",
      "25.671499490737915\n",
      "26.58200478553772\n",
      "22.69141936302185\n",
      "30.376923084259033\n",
      "25.107844591140747\n",
      "20.721084117889404\n",
      "23.598015546798706\n",
      "26.309712409973145\n",
      "26.78136920928955\n",
      "23.699156284332275\n",
      "23.685739278793335\n",
      "28.42170739173889\n",
      "26.20889973640442\n",
      "27.38974142074585\n",
      "22.581908702850342\n",
      "21.238194942474365\n",
      "20.08180832862854\n",
      "19.496851444244385\n",
      "22.411078214645386\n",
      "51.70476984977722\n",
      "48.90399956703186\n",
      "52.28057527542114\n",
      "48.57325100898743\n",
      "50.01370358467102\n",
      "51.537341594696045\n",
      "52.36511754989624\n",
      "47.97290802001953\n",
      "54.034475326538086\n",
      "48.27713942527771\n",
      "55.572301626205444\n",
      "51.731640577316284\n",
      "53.71635365486145\n",
      "59.540934562683105\n",
      "45.50431418418884\n",
      "52.64725065231323\n",
      "55.69913339614868\n",
      "57.035680055618286\n",
      "57.67755079269409\n",
      "54.51618671417236\n",
      "44.16088390350342\n",
      "48.303802728652954\n",
      "47.1609091758728\n",
      "50.330382108688354\n",
      "51.49947786331177\n",
      "46.52967023849487\n",
      "65.35884141921997\n",
      "60.76293110847473\n",
      "47.8959014415741\n",
      "48.765559911727905\n",
      "41.256651878356934\n",
      "40.88863682746887\n",
      "41.66854929924011\n",
      "45.345714807510376\n",
      "45.742653608322144\n",
      "45.32676553726196\n",
      "45.92616248130798\n",
      "50.51588702201843\n",
      "52.8536331653595\n",
      "41.84208607673645\n"
     ]
    },
    {
     "name": "stdout",
     "output_type": "stream",
     "text": [
      "46.34703707695007\n",
      "45.7616024017334\n",
      "53.718708992004395\n",
      "50.72133731842041\n",
      "45.397576332092285\n",
      "36.784613609313965\n",
      "37.80789756774902\n",
      "40.58245515823364\n",
      "37.81685209274292\n",
      "43.4368212223053\n",
      "84.03988099098206\n",
      "66.62437629699707\n",
      "62.576627254486084\n",
      "53.465996503829956\n",
      "64.85054588317871\n",
      "66.36948251724243\n",
      "69.26728343963623\n",
      "68.66335463523865\n",
      "66.60368227958679\n",
      "65.37115383148193\n",
      "57.91114330291748\n",
      "61.77078318595886\n",
      "68.18762016296387\n",
      "73.06657099723816\n",
      "66.42433643341064\n",
      "66.84620809555054\n",
      "65.83391547203064\n",
      "68.62794780731201\n",
      "83.74124145507812\n",
      "74.35723400115967\n",
      "60.309248208999634\n",
      "59.026124715805054\n",
      "64.73186302185059\n",
      "58.86954402923584\n",
      "66.19395136833191\n",
      "64.15946078300476\n",
      "54.391595125198364\n",
      "62.02261734008789\n",
      "60.74683165550232\n",
      "70.32699084281921\n",
      "52.531296491622925\n",
      "55.86978602409363\n",
      "54.35885214805603\n",
      "51.18822717666626\n",
      "54.63389849662781\n",
      "55.35750722885132\n",
      "53.39925169944763\n",
      "62.23310446739197\n",
      "60.86092472076416\n",
      "59.591702461242676\n",
      "60.279858112335205\n",
      "59.34764814376831\n",
      "63.67601680755615\n",
      "58.27618980407715\n",
      "55.103615045547485\n",
      "54.76559019088745\n",
      "55.32203149795532\n",
      "50.753294229507446\n",
      "47.373291969299316\n",
      "52.3709933757782\n"
     ]
    }
   ],
   "source": [
    "import time\n",
    "from sklearn.metrics import r2_score\n",
    "from utils import gen_data, gen_beta, block_covariance\n",
    "\n",
    "# let's fit models across a 2D parameter space of sample size and sparsity. \n",
    "n_features = 60\n",
    "sparsity = np.linspace(0.2, 1, 10)\n",
    "n_samples = n_features * np.linspace(1, 50, 10).astype(int)\n",
    "reps = 5\n",
    "n_boots = 48\n",
    "# Do two things on each repetition\n",
    "# 1) Generate data and fit model using the various estimation scores\n",
    "# 2) Take the resulting model and compare the performance of the various estimation scores to the r_2 score over 48 bootstraps\n",
    "\n",
    "# Record scores of model performance on test data\n",
    "r2_scores = np.zeros((reps, sparsity.size, n_samples.size))\n",
    "BIC_scores = np.zeros(r2_scores.shape)\n",
    "AIC_scores = np.zeros(r2_scores.shape)\n",
    "AICc_scores = np.zeros(r2_scores.shape)\n",
    "\n",
    "# Record scores on bootstrapped data\n",
    "b_BIC_scores = []\n",
    "b_BIC_scores_r2 = []\n",
    "\n",
    "b_AIC_scores = []\n",
    "b_AIC_scores_r2 = []\n",
    "\n",
    "b_AICc_scores = []\n",
    "b_AICc_scores_r2 = []\n",
    "\n",
    "for ns_idx, ns in enumerate(n_samples):\n",
    "    for sidx, s in enumerate(sparsity):\n",
    "        # Generate consistent set of model parameters across repititions\n",
    "        betas = gen_beta(sparsity = s, betadist = 'uniform')\n",
    "        for rep in range(reps):\n",
    "            # Generate data\n",
    "            start_time = time.time()\n",
    "            X, X_test, y, y_test = gen_data(n_samples = ns, covariance = block_covariance(correlation = 0.25), beta = betas)\n",
    "            \n",
    "            # Fit using the various estimation scores\n",
    "            uoi_r2 = UoI_ElasticNet(\n",
    "            normalize=True,\n",
    "            n_boots_sel=48,\n",
    "            n_boots_est=48,\n",
    "            estimation_score='r2',\n",
    "            warm_start = False)\n",
    "            \n",
    "            uoi_r2.fit(X, y.ravel())\n",
    "            \n",
    "            uoi_BIC = UoI_ElasticNet(\n",
    "            normalize=True,\n",
    "            n_boots_sel=48,\n",
    "            n_boots_est=48,\n",
    "            estimation_score='BIC',\n",
    "            warm_start = False)\n",
    "            \n",
    "            uoi_BIC.fit(X, y.ravel())\n",
    "\n",
    "            uoi_AIC = UoI_ElasticNet(\n",
    "            normalize=True,\n",
    "            n_boots_sel=48,\n",
    "            n_boots_est=48,\n",
    "            estimation_score='AIC',\n",
    "            warm_start = False)\n",
    "            \n",
    "            uoi_AIC.fit(X, y.ravel())\n",
    "\n",
    "            # Fit using the various estimation scores\n",
    "            uoi_AICc = UoI_ElasticNet(\n",
    "            normalize=True,\n",
    "            n_boots_sel=48,\n",
    "            n_boots_est=48,\n",
    "            estimation_score='AICc',\n",
    "            warm_start = False)\n",
    "            \n",
    "            try:\n",
    "                uoi_AICc.fit(X, y.ravel())\n",
    "                AICc_scores[rep, sidx, ns_idx] = r2_score(y_test, uoi_AICc.predict(X_test))\n",
    "                AICc, r2 = estimation_performance(n_boots, uoi_AICc)\n",
    "                b_AICc_scores.append(AICc)\n",
    "                b_AICc_scores_r2.append(r2)\n",
    "            except:\n",
    "                b_AICc_scores.append(None)\n",
    "                b_AICc_scores_r2.append(None)\n",
    "                \n",
    "            # Record nominal scores\n",
    "            r2_scores[rep, sidx, ns_idx] = r2_score(y_test, uoi_r2.predict(X_test))\n",
    "            BIC_scores[rep, sidx, ns_idx] = r2_score(y_test, uoi_BIC.predict(X_test))\n",
    "            AIC_scores[rep, sidx, ns_idx] = r2_score(y_test, uoi_AIC.predict(X_test))\n",
    "            \n",
    "            # Record bootstrap scores\n",
    "        \n",
    "            BIC, r2 = estimation_performance(n_boots, uoi_BIC)\n",
    "            b_BIC_scores.append(BIC)\n",
    "            b_BIC_scores_r2.append(r2)\n",
    "\n",
    "            AIC, r2 = estimation_performance(n_boots, uoi_AIC)\n",
    "            b_AIC_scores.append(AIC)\n",
    "            b_AIC_scores_r2.append(r2)\n",
    "\n",
    "            print(time.time() - start_time)"
   ]
  },
  {
   "cell_type": "code",
   "execution_count": 40,
   "metadata": {},
   "outputs": [],
   "source": [
    "# Average over reps:\n",
    "r2_scores_avg = np.mean(r2_scores, 0)\n",
    "BIC_scores_avg = np.mean(BIC_scores, 0)\n",
    "AIC_scores_avg = np.mean(AIC_scores, 0)\n",
    "AICc_scores_avg = np.mean(AICc_scores, 0)"
   ]
  },
  {
   "cell_type": "code",
   "execution_count": 43,
   "metadata": {},
   "outputs": [
    {
     "data": {
      "text/plain": [
       "<matplotlib.colorbar.Colorbar at 0x16a2fe2b080>"
      ]
     },
     "execution_count": 43,
     "metadata": {},
     "output_type": "execute_result"
    },
    {
     "data": {
      "image/png": "[encoded data removed]",
      "text/plain": [
       "<Figure size 432x288 with 2 Axes>"
      ]
     },
     "metadata": {
      "needs_background": "light"
     },
     "output_type": "display_data"
    }
   ],
   "source": [
    "plt.pcolor(r2_scores_avg, cmap = 'Greys', vmin = 0, vmax = 1)\n",
    "plt.colorbar()"
   ]
  },
  {
   "cell_type": "code",
   "execution_count": 46,
   "metadata": {},
   "outputs": [
    {
     "data": {
      "text/plain": [
       "0.2629721509533288"
      ]
     },
     "execution_count": 46,
     "metadata": {},
     "output_type": "execute_result"
    }
   ],
   "source": [
    "r2_scores_avg[1, 0]"
   ]
  },
  {
   "cell_type": "code",
   "execution_count": 48,
   "metadata": {},
   "outputs": [
    {
     "data": {
      "text/plain": [
       "<function matplotlib.pyplot.colorbar(mappable=None, cax=None, ax=None, **kw)>"
      ]
     },
     "execution_count": 48,
     "metadata": {},
     "output_type": "execute_result"
    },
    {
     "data": {
      "image/png": "[encoded data removed]",
      "text/plain": [
       "<Figure size 432x288 with 1 Axes>"
      ]
     },
     "metadata": {
      "needs_background": "light"
     },
     "output_type": "display_data"
    }
   ],
   "source": [
    "plt.pcolor(BIC_scores_avg, cmap = 'Greys', vmin = 0, vmax = 1)\n",
    "plt.colorbar"
   ]
  },
  {
   "cell_type": "code",
   "execution_count": 49,
   "metadata": {},
   "outputs": [
    {
     "data": {
      "text/plain": [
       "<function matplotlib.pyplot.colorbar(mappable=None, cax=None, ax=None, **kw)>"
      ]
     },
     "execution_count": 49,
     "metadata": {},
     "output_type": "execute_result"
    },
    {
     "data": {
      "image/png": "[encoded data removed]",
      "text/plain": [
       "<Figure size 432x288 with 1 Axes>"
      ]
     },
     "metadata": {
      "needs_background": "light"
     },
     "output_type": "display_data"
    }
   ],
   "source": [
    "plt.pcolor(AIC_scores_avg, cmap = 'Greys', vmin = 0, vmax = 1)\n",
    "plt.colorbar"
   ]
  },
  {
   "cell_type": "code",
   "execution_count": 54,
   "metadata": {},
   "outputs": [
    {
     "name": "stderr",
     "output_type": "stream",
     "text": [
      "C:\\Users\\akumar\\Anaconda3\\envs\\nse\\lib\\site-packages\\ipykernel_launcher.py:4: RuntimeWarning: Mean of empty slice\n",
      "  after removing the cwd from sys.path.\n"
     ]
    }
   ],
   "source": [
    "# For AICc, need to first remove zeros from the averaging process\n",
    "AICc_nan = AICc_scores.copy()\n",
    "AICc_nan[AICc_nan == 0] = np.nan\n",
    "AICc_nan_avg = np.nanmean(AICc_nan, 0)"
   ]
  },
  {
   "cell_type": "code",
   "execution_count": 55,
   "metadata": {},
   "outputs": [
    {
     "data": {
      "text/plain": [
       "(10, 10)"
      ]
     },
     "execution_count": 55,
     "metadata": {},
     "output_type": "execute_result"
    }
   ],
   "source": [
    "AICc_nan_avg.shape"
   ]
  },
  {
   "cell_type": "code",
   "execution_count": 56,
   "metadata": {},
   "outputs": [
    {
     "data": {
      "text/plain": [
       "<matplotlib.collections.PolyCollection at 0x16a300eaa58>"
      ]
     },
     "execution_count": 56,
     "metadata": {},
     "output_type": "execute_result"
    },
    {
     "data": {
      "image/png": "[encoded data removed]",
      "text/plain": [
       "<Figure size 432x288 with 1 Axes>"
      ]
     },
     "metadata": {
      "needs_background": "light"
     },
     "output_type": "display_data"
    }
   ],
   "source": [
    "plt.pcolor(AICc_nan_avg, cmap = 'Greys', vmin = 0, vmax = 1)"
   ]
  },
  {
   "cell_type": "code",
   "execution_count": 36,
   "metadata": {},
   "outputs": [],
   "source": [
    "from scipy.io import savemat"
   ]
  },
  {
   "cell_type": "code",
   "execution_count": 57,
   "metadata": {},
   "outputs": [],
   "source": [
    "savemat('SelectionIsolationData1.mat', {'r2_scores': r2_scores, 'BIC_scores': BIC_scores, 'AIC_scores': AIC_scores, 'AICc_scores': AICc_scores})"
   ]
  },
  {
   "cell_type": "code",
   "execution_count": null,
   "metadata": {},
   "outputs": [],
   "source": []
  }
 ],
 "metadata": {
  "kernelspec": {
   "display_name": "Python 3",
   "language": "python",
   "name": "python3"
  },
  "language_info": {
   "codemirror_mode": {
    "name": "ipython",
    "version": 3
   },
   "file_extension": ".py",
   "mimetype": "text/x-python",
   "name": "python",
   "nbconvert_exporter": "python",
   "pygments_lexer": "ipython3",
   "version": "3.6.6"
  }
 },
 "nbformat": 4,
 "nbformat_minor": 2
}
