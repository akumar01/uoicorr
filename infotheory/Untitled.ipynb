{
 "cells": [
  {
   "cell_type": "code",
   "execution_count": 1,
   "metadata": {},
   "outputs": [],
   "source": [
    "%load_ext autoreload\n",
    "%autoreload 2"
   ]
  },
  {
   "cell_type": "code",
   "execution_count": 2,
   "metadata": {},
   "outputs": [],
   "source": [
    "# %load ../loaders/imports.py\n",
    "import sys, os\n",
    "import numpy as np\n",
    "import matplotlib.pyplot as plt\n",
    "import time\n",
    "import pdb\n",
    "\n",
    "sys.path.append('..')\n",
    "\n",
    "from utils import gen_covariance, gen_beta2, gen_data, get_cov_list\n",
    "from utils import selection_accuracy\n",
    "from utils import sparsify_beta\n",
    "from sklearn.linear_model import LassoLars, lasso_path, LinearRegression\n",
    "\n",
    "from error_bounds import calc_error_bounds\n",
    "\n",
    "from pyuoi.linear_model import UoI_Lasso"
   ]
  },
  {
   "cell_type": "markdown",
   "metadata": {},
   "source": [
    "First, on a smaller scale, verify: \n",
    "1) Invariance to choice of subset\n",
    "2) Correspondence between our bounds and MC OMLE decoder\n",
    "\n",
    "Other thing to check: There is a free parameter in our decomposition (how much of the diagonal to assign to the uncorrelated portion). Do our results depend on this parameter?"
   ]
  },
  {
   "cell_type": "markdown",
   "metadata": {},
   "source": [
    "Generate covariance matrices and then: \n",
    "\n",
    "1) Compute their latent variable decomposition\n",
    "2) Compute the error probability\n",
    "3) Compute the necessary sample size"
   ]
  },
  {
   "cell_type": "code",
   "execution_count": 3,
   "metadata": {},
   "outputs": [],
   "source": [
    "# Beta has to be fixed\n",
    "beta = gen_beta2(100, 100, sparsity = 1, betawidth = np.inf, seed = 1234)\n",
    "beta = sparsify_beta(beta, 100, 0.2, seed = 1234)\n",
    "\n",
    "# Generate a fixed covariance matrix. For now, we will just vary SNR \n",
    "sigma = gen_covariance(100, 0, 100, 5, 1)"
   ]
  },
  {
   "cell_type": "code",
   "execution_count": 10,
   "metadata": {},
   "outputs": [],
   "source": [
    "from error_bounds import sigma_decomposition"
   ]
  },
  {
   "cell_type": "code",
   "execution_count": 12,
   "metadata": {},
   "outputs": [],
   "source": [
    "L, _ = sigma_decomposition(sigma)"
   ]
  },
  {
   "cell_type": "code",
   "execution_count": 20,
   "metadata": {},
   "outputs": [
    {
     "data": {
      "text/plain": [
       "-1.503941057800979e+20"
      ]
     },
     "execution_count": 20,
     "metadata": {},
     "output_type": "execute_result"
    }
   ],
   "source": [
    "np.linalg.det(np.linalg.pinv(L))"
   ]
  },
  {
   "cell_type": "code",
   "execution_count": 18,
   "metadata": {},
   "outputs": [
    {
     "data": {
      "text/plain": [
       "5.868893389571986e-53"
      ]
     },
     "execution_count": 18,
     "metadata": {},
     "output_type": "execute_result"
    }
   ],
   "source": [
    "np.prod(np.abs(np.linalg.eig(L)[0][1:]))"
   ]
  },
  {
   "cell_type": "code",
   "execution_count": null,
   "metadata": {},
   "outputs": [],
   "source": [
    "np.product(np.eig(L)[0])"
   ]
  },
  {
   "cell_type": "code",
   "execution_count": null,
   "metadata": {},
   "outputs": [
    {
     "name": "stdout",
     "output_type": "stream",
     "text": [
      "> /home/akumar/nse/uoicorr/infotheory/error_bounds.py(179)calc_errorexpon()\n",
      "-> return delta, E0\n",
      "(Pdb) delta.shape\n",
      "torch.Size([])\n",
      "(Pdb) delta\n",
      "tensor(0., requires_grad=True)\n",
      "(Pdb) E0.shape\n",
      "torch.Size([19, 19])\n",
      "(Pdb) torch.log(alpha0 * sigma**2)\n",
      "tensor(-14.5617, grad_fn=<LogBackward>)\n",
      "(Pdb) torch.log(torch.det(Linv))\n",
      "tensor(inf)\n",
      "(Pdb) Linv\n",
      "tensor([[-0.0067, -0.0080, -0.0092,  ..., -0.0092, -0.0080, -0.0067],\n",
      "        [ 0.0136,  0.0160,  0.0183,  ..., -0.0183, -0.0160, -0.0136],\n",
      "        [-0.0205, -0.0240, -0.0274,  ..., -0.0274, -0.0240, -0.0205],\n",
      "        ...,\n",
      "        [-0.5100,  1.4295, -2.3266,  ..., -2.3266,  1.4295, -0.5100],\n",
      "        [ 0.4929, -1.3503,  2.1007,  ..., -2.1007,  1.3503, -0.4929],\n",
      "        [ 0.4969, -1.3767,  2.1904,  ..., -2.1904,  1.3767, -0.4969]])\n",
      "(Pdb) torch.det(Linv)\n",
      "tensor(inf)\n",
      "(Pdb) torch.log(torch.det(G))\n",
      "tensor(inf, grad_fn=<LogBackward>)\n",
      "(Pdb) G\n",
      "tensor([[ 100.8442,    5.9890,   14.2652,   13.1659,   15.1801,    3.0248,\n",
      "            9.2150,    8.2553,   16.2833,   10.2569,    3.2117,   16.1179,\n",
      "            1.9594,   12.1216,    9.6396,    7.7410,    1.7583,    3.7622,\n",
      "           15.6161],\n",
      "        [   5.9890,  259.3356,  378.0513,  348.9166,  402.2971,   80.1608,\n",
      "          244.2110,  218.7795,  431.5336,  271.8250,   85.1144,  427.1504,\n",
      "           51.9281,  321.2413,  255.4641,  205.1498,   46.5978,   99.7050,\n",
      "          413.8506],\n",
      "        [  14.2652,  378.0513, 1001.1042,  831.0896,  958.2374,  190.9363,\n",
      "          581.6899,  521.1142, 1027.8763,  647.4641,  202.7353, 1017.4360,\n",
      "          123.6882,  765.1694,  608.4939,  488.6493,  110.9920,  237.4889,\n",
      "          985.7569],\n",
      "        [  13.1659,  348.9166,  831.0896,  867.6595,  884.3904,  176.2217,\n",
      "          536.8617,  480.9543,  948.6625,  597.5670,  187.1114,  939.0268,\n",
      "          114.1562,  706.2012,  561.6000,  450.9913,  102.4384,  219.1867,\n",
      "          909.7891],\n",
      "        [  15.1801,  402.2971,  958.2374,  884.3904, 1120.3108,  203.1817,\n",
      "          618.9958,  554.5350, 1093.7977,  688.9883,  215.7374, 1082.6879,\n",
      "          131.6208,  814.2424,  647.5188,  519.9882,  118.1103,  252.7199,\n",
      "         1048.9771],\n",
      "        [   3.0248,   80.1608,  190.9363,  176.2217,  203.1817,  141.1038,\n",
      "          123.3397,  110.4954,  217.9477,  137.2863,   42.9874,  215.7340,\n",
      "           26.2265,  162.2442,  129.0232,  103.6117,   23.5344,   50.3564,\n",
      "          209.0168],\n",
      "        [   9.2150,  244.2110,  581.6899,  536.8617,  618.9958,  123.3397,\n",
      "          476.3744,  336.6259,  663.9807,  418.2445,  130.9616,  657.2365,\n",
      "           79.8993,  494.2790,  393.0708,  315.6544,   71.6979,  153.4115,\n",
      "          636.7726],\n",
      "        [   8.2553,  218.7795,  521.1142,  480.9543,  554.5350,  110.4954,\n",
      "          336.6259,  402.1887,  594.8354,  374.6895,  117.3236,  588.7935,\n",
      "           71.5788,  442.8060,  352.1374,  282.7829,   64.2314,  137.4356,\n",
      "          570.4608],\n",
      "        [  16.2833,  431.5336, 1027.8763,  948.6625, 1093.7977,  217.9477,\n",
      "          663.9807,  594.8354, 1273.9066,  739.0598,  231.4159, 1161.3711,\n",
      "          141.1862,  873.4167,  694.5765,  557.7777,  126.6939,  271.0861,\n",
      "         1125.2103],\n",
      "        [  10.2569,  271.8250,  647.4641,  597.5670,  688.9883,  137.2863,\n",
      "          418.2445,  374.6895,  739.0598,  566.1554,  145.7699,  731.5530,\n",
      "           88.9338,  550.1692,  437.5170,  351.3468,   79.8051,  170.7584,\n",
      "          708.7752],\n",
      "        [   3.2117,   85.1144,  202.7353,  187.1114,  215.7374,   42.9874,\n",
      "          130.9616,  117.3236,  231.4159,  145.7699,  146.2620,  229.0654,\n",
      "           27.8471,  172.2701,  136.9962,  110.0144,   24.9887,   53.4682,\n",
      "          221.9331],\n",
      "        [  16.1179,  427.1504, 1017.4360,  939.0268, 1082.6879,  215.7340,\n",
      "          657.2365,  588.7935, 1161.3711,  731.5530,  229.0654, 1250.1931,\n",
      "          139.7522,  864.5453,  687.5217,  552.1123,  125.4070,  268.3326,\n",
      "         1113.7814],\n",
      "        [   1.9594,   51.9281,  123.6882,  114.1562,  131.6208,   26.2265,\n",
      "           79.8993,   71.5788,  141.1862,   88.9338,   27.8471,  139.7522,\n",
      "          117.6077,  105.1015,   83.5810,   67.1195,   15.2456,   32.6208,\n",
      "          135.4008],\n",
      "        [  12.1216,  321.2413,  765.1694,  706.2012,  814.2424,  162.2442,\n",
      "          494.2790,  442.8060,  873.4167,  550.1692,  172.2701,  864.5453,\n",
      "          105.1015,  750.8052,  517.0551,  415.2197,   94.3132,  201.8013,\n",
      "          837.6266],\n",
      "        [   9.6396,  255.4641,  608.4939,  561.6000,  647.5188,  129.0232,\n",
      "          393.0708,  352.1374,  694.5765,  437.5170,  136.9962,  687.5217,\n",
      "           83.5810,  517.0551,  511.8016,  330.1996,   75.0017,  160.4806,\n",
      "          666.1148],\n",
      "        [   7.7410,  205.1498,  488.6493,  450.9913,  519.9882,  103.6117,\n",
      "          315.6544,  282.7829,  557.7777,  351.3468,  110.0144,  552.1123,\n",
      "           67.1195,  415.2197,  330.1996,  365.7841,   60.2299,  128.8735,\n",
      "          534.9216],\n",
      "        [   1.7583,   46.5978,  110.9920,  102.4384,  118.1103,   23.5344,\n",
      "           71.6979,   64.2314,  126.6939,   79.8051,   24.9887,  125.4070,\n",
      "           15.2456,   94.3132,   75.0017,   60.2299,  114.2989,   29.2724,\n",
      "          121.5023],\n",
      "        [   3.7622,   99.7050,  237.4889,  219.1867,  252.7199,   50.3564,\n",
      "          153.4115,  137.4356,  271.0861,  170.7584,   53.4682,  268.3326,\n",
      "           32.6208,  201.8013,  160.4806,  128.8735,   29.2724,  163.2522,\n",
      "          259.9778],\n",
      "        [  15.6161,  413.8506,  985.7569,  909.7891, 1048.9771,  209.0168,\n",
      "          636.7726,  570.4608, 1125.2103,  708.7752,  221.9331, 1113.7814,\n",
      "          135.4008,  837.6266,  666.1148,  534.9216,  121.5023,  259.9778,\n",
      "         1179.7207]], grad_fn=<AddBackward0>)\n",
      "(Pdb) torch.det(G)\n",
      "tensor(inf, grad_fn=<DetBackward>)\n",
      "(Pdb) torch.log(torch.det(D))\n",
      "tensor(17.1572, grad_fn=<LogBackward>)\n",
      "(Pdb) torch.log(A)\n",
      "tensor(-4.6113)\n",
      "(Pdb) torch.log(torch.tensor(2, dtype=torch.float))\n",
      "tensor(0.6931)\n",
      "(Pdb) torch.det(G11)\n",
      "tensor(48.8572, grad_fn=<DetBackward>)\n"
     ]
    }
   ],
   "source": [
    "kappa = [1e-4, 1e-3, 1e-2, 1e-1, 1, 10, 100, 250, 500, 1000]\n",
    "bounds = np.zeros(len(kappa))\n",
    "for i, k in enumerate(kappa):\n",
    "    # Calculate information theoretic bounds on error probability and number of samples needed\n",
    "    bounds[i] = calc_error_bounds(sigma, k, beta.ravel())"
   ]
  },
  {
   "cell_type": "code",
   "execution_count": null,
   "metadata": {},
   "outputs": [],
   "source": [
    "# Will need to make beta smaller"
   ]
  }
 ],
 "metadata": {
  "kernelspec": {
   "display_name": "Python 3",
   "language": "python",
   "name": "python3"
  },
  "language_info": {
   "codemirror_mode": {
    "name": "ipython",
    "version": 3
   },
   "file_extension": ".py",
   "mimetype": "text/x-python",
   "name": "python",
   "nbconvert_exporter": "python",
   "pygments_lexer": "ipython3",
   "version": "3.7.3"
  }
 },
 "nbformat": 4,
 "nbformat_minor": 2
}
