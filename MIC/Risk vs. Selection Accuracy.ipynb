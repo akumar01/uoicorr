{
 "cells": [
  {
   "cell_type": "markdown",
   "metadata": {},
   "source": [
    "## To what extent does exactly minimizing risk correspond to accurate support recovery? Does the extent of this correspondence differ between evaluation on the train vs. test set?"
   ]
  },
  {
   "cell_type": "code",
   "execution_count": 1,
   "metadata": {},
   "outputs": [],
   "source": [
    "import sys, os\n",
    "import numpy as np\n",
    "import matplotlib.pyplot as plt\n",
    "import time\n",
    "import pdb\n",
    "\n",
    "sys.path.append('..')\n",
    "\n",
    "from utils import gen_covariance, gen_beta2, gen_data, get_cov_list\n",
    "from utils import selection_accuracy\n",
    "from sklearn.linear_model import LassoLars, lasso_path\n",
    "\n",
    "from pyuoi.linear_model import UoI_Lasso"
   ]
  },
  {
   "cell_type": "markdown",
   "metadata": {},
   "source": [
    "#### First fit to a model without correlations"
   ]
  },
  {
   "cell_type": "code",
   "execution_count": 2,
   "metadata": {},
   "outputs": [],
   "source": [
    "n_features = 100\n",
    "n_samples = 300\n",
    "\n",
    "sigma = gen_covariance(n_features, 0, n_features, 1, 0)\n",
    "beta = gen_beta2(n_features, n_features, 0.1)\n",
    "X, X_test, y, y_test, ss = gen_data(n_samples, n_features, covariance = sigma, beta = beta)"
   ]
  },
  {
   "cell_type": "code",
   "execution_count": 3,
   "metadata": {},
   "outputs": [
    {
     "data": {
      "text/plain": [
       "UoI_Lasso(comm=None, copy_X=True, eps=0.001, estimation_frac=0.9,\n",
       "     estimation_score='AIC', fit_intercept=True, manual_penalty=2,\n",
       "     max_iter=None, n_boots_est=48, n_boots_sel=48, n_lambdas=48,\n",
       "     noise_level=0, normalize=True,\n",
       "     random_state=<module 'numpy.random' from '/home/akumar/anaconda3/envs/nse/lib/python3.6/site-packages/numpy/random/__init__.py'>,\n",
       "     selection_frac=0.9, stability_selection=1.0, warm_start=None)"
      ]
     },
     "execution_count": 3,
     "metadata": {},
     "output_type": "execute_result"
    }
   ],
   "source": [
    "uoil = UoI_Lasso(estimation_score = 'AIC')\n",
    "uoil.fit(X, y)"
   ]
  },
  {
   "cell_type": "markdown",
   "metadata": {},
   "source": [
    "#### Calculate the exact risk of incurred by each estimate, as well as the corresponding selection accuracy"
   ]
  },
  {
   "cell_type": "code",
   "execution_count": 16,
   "metadata": {},
   "outputs": [],
   "source": [
    "selection_accuracies = np.zeros((uoil.estimates_.shape[0], uoil.estimates_.shape[1]))\n",
    "for i in range(uoil.estimates_.shape[0]):\n",
    "    for j in range(uoil.estimates_.shape[1]):\n",
    "        selection_accuracies[i, j] = selection_accuracy(beta.ravel(), uoil.estimates_[i, j, :])"
   ]
  },
  {
   "cell_type": "code",
   "execution_count": 5,
   "metadata": {},
   "outputs": [],
   "source": [
    "from risk import calc_KL_div, empirical_KL_estimate, MIC"
   ]
  },
  {
   "cell_type": "code",
   "execution_count": 18,
   "metadata": {},
   "outputs": [],
   "source": [
    "KL_divs = np.zeros(selection_accuracies.shape)\n",
    "empirical_KL_divs = np.zeros(selection_accuracies.shape)\n",
    "AIC_train = np.zeros(selection_accuracies.shape)\n",
    "\n",
    "for i in range(uoil.estimates_.shape[0]):\n",
    "    for j in range(uoil.estimates_.shape[1]):\n",
    "        t0 = time.time()\n",
    "        beta_hat = uoil.estimates_[i, j, :]\n",
    "\n",
    "        sigma_hat = np.mean((y.ravel() - X @ beta_hat.ravel())**2)\n",
    "\n",
    "        KL_divs[i] = calc_KL_div(X @ beta_hat, np.sqrt(sigma_hat), np.sqrt(ss))\n",
    "        empirical_KL_divs[i] = empirical_KL_estimate(y, X @ beta_hat, np.sqrt(sigma_hat))    \n",
    "        AIC_train[i] = MIC(y, X @ beta_hat, np.sqrt(sigma_hat), np.count_nonzero(beta_hat), 1)\n",
    "    \n",
    "    #print(time.time() - t0)"
   ]
  },
  {
   "cell_type": "code",
   "execution_count": 19,
   "metadata": {},
   "outputs": [
    {
     "data": {
      "text/plain": [
       "array([[1795.61107894, 1795.61107894, 1795.61107894, ..., 1795.61107894,\n",
       "        1795.61107894, 1795.61107894],\n",
       "       [1782.64810072, 1782.64810072, 1782.64810072, ..., 1782.64810072,\n",
       "        1782.64810072, 1782.64810072],\n",
       "       [1800.88140039, 1800.88140039, 1800.88140039, ..., 1800.88140039,\n",
       "        1800.88140039, 1800.88140039],\n",
       "       ...,\n",
       "       [1789.06294279, 1789.06294279, 1789.06294279, ..., 1789.06294279,\n",
       "        1789.06294279, 1789.06294279],\n",
       "       [1785.85676691, 1785.85676691, 1785.85676691, ..., 1785.85676691,\n",
       "        1785.85676691, 1785.85676691],\n",
       "       [1803.54673716, 1803.54673716, 1803.54673716, ..., 1803.54673716,\n",
       "        1803.54673716, 1803.54673716]])"
      ]
     },
     "execution_count": 19,
     "metadata": {},
     "output_type": "execute_result"
    }
   ],
   "source": [
    "KL_divs"
   ]
  },
  {
   "cell_type": "code",
   "execution_count": 20,
   "metadata": {},
   "outputs": [
    {
     "data": {
      "text/plain": [
       "array([[1405.16717554, 1405.16717554, 1405.16717554, ..., 1405.16717554,\n",
       "        1405.16717554, 1405.16717554],\n",
       "       [1404.88205955, 1404.88205955, 1404.88205955, ..., 1404.88205955,\n",
       "        1404.88205955, 1404.88205955],\n",
       "       [1405.57583636, 1405.57583636, 1405.57583636, ..., 1405.57583636,\n",
       "        1405.57583636, 1405.57583636],\n",
       "       ...,\n",
       "       [1403.85642791, 1403.85642791, 1403.85642791, ..., 1403.85642791,\n",
       "        1403.85642791, 1403.85642791],\n",
       "       [1404.75454159, 1404.75454159, 1404.75454159, ..., 1404.75454159,\n",
       "        1404.75454159, 1404.75454159],\n",
       "       [1405.57223475, 1405.57223475, 1405.57223475, ..., 1405.57223475,\n",
       "        1405.57223475, 1405.57223475]])"
      ]
     },
     "execution_count": 20,
     "metadata": {},
     "output_type": "execute_result"
    }
   ],
   "source": [
    "empirical_KL_divs"
   ]
  },
  {
   "cell_type": "code",
   "execution_count": 25,
   "metadata": {},
   "outputs": [
    {
     "data": {
      "text/plain": [
       "<matplotlib.collections.PathCollection at 0x7f6b7bf4b898>"
      ]
     },
     "execution_count": 25,
     "metadata": {},
     "output_type": "execute_result"
    },
    {
     "data": {
      "image/png": "[encoded data removed]",
      "text/plain": [
       "<Figure size 432x288 with 1 Axes>"
      ]
     },
     "metadata": {
      "needs_background": "light"
     },
     "output_type": "display_data"
    }
   ],
   "source": [
    "plt.scatter(selection_accuracies.ravel(), AIC_train.ravel())"
   ]
  },
  {
   "cell_type": "code",
   "execution_count": 24,
   "metadata": {},
   "outputs": [
    {
     "name": "stdout",
     "output_type": "stream",
     "text": [
      "-397.4816275111327\n",
      "-345.4816275111327\n"
     ]
    }
   ],
   "source": [
    "print(np.mean(empirical_KL_divs - KL_divs))\n",
    "print(np.mean(AIC_train - KL_divs))"
   ]
  },
  {
   "cell_type": "code",
   "execution_count": null,
   "metadata": {},
   "outputs": [],
   "source": [
    "# AIC seems to slightly correct the bias, using test data results in a huge bias in the \n",
    "# other direction. What would have these different criteria selected?"
   ]
  },
  {
   "cell_type": "code",
   "execution_count": 114,
   "metadata": {},
   "outputs": [],
   "source": [
    "model1 = estimates[np.argmin(KL_divs), :]\n",
    "model2 = estimates[np.argmin(MC_KL_divs), :]\n",
    "model3 = estimates[np.argmin(empirical_KL_divs), :]\n",
    "model4 = estimates[np.argmin(AIC_train), :]\n",
    "model5 = estimates[np.argmin(empirical_test), :]"
   ]
  },
  {
   "cell_type": "code",
   "execution_count": 115,
   "metadata": {},
   "outputs": [
    {
     "data": {
      "text/plain": [
       "375.14739260576226"
      ]
     },
     "execution_count": 115,
     "metadata": {},
     "output_type": "execute_result"
    }
   ],
   "source": [
    "KL_divs[142]"
   ]
  },
  {
   "cell_type": "code",
   "execution_count": 116,
   "metadata": {},
   "outputs": [
    {
     "data": {
      "text/plain": [
       "375.64878710327235"
      ]
     },
     "execution_count": 116,
     "metadata": {},
     "output_type": "execute_result"
    }
   ],
   "source": [
    "empirical_KL_divs[142]"
   ]
  },
  {
   "cell_type": "code",
   "execution_count": 101,
   "metadata": {},
   "outputs": [
    {
     "data": {
      "text/plain": [
       "365.94140152105984"
      ]
     },
     "execution_count": 101,
     "metadata": {},
     "output_type": "execute_result"
    }
   ],
   "source": [
    "empirical_test[142]"
   ]
  },
  {
   "cell_type": "code",
   "execution_count": 100,
   "metadata": {},
   "outputs": [
    {
     "data": {
      "text/plain": [
       "<matplotlib.collections.PathCollection at 0x7f1ff12e3d30>"
      ]
     },
     "execution_count": 100,
     "metadata": {},
     "output_type": "execute_result"
    },
    {
     "data": {
      "image/png": "[encoded data removed]",
      "text/plain": [
       "<Figure size 432x288 with 1 Axes>"
      ]
     },
     "metadata": {
      "needs_background": "light"
     },
     "output_type": "display_data"
    }
   ],
   "source": [
    "plt.scatter(selection_accuracies, empirical_test)"
   ]
  },
  {
   "cell_type": "code",
   "execution_count": 109,
   "metadata": {},
   "outputs": [],
   "source": [
    "# What are the selection accuracies of the individual models prior to bagging selected by \n",
    "# UoI?\n",
    "\n",
    "pre_bagging_selection_accuracies = selection_accuracy(beta.ravel(), uoil.best_estimates)"
   ]
  },
  {
   "cell_type": "code",
   "execution_count": 132,
   "metadata": {},
   "outputs": [
    {
     "name": "stdout",
     "output_type": "stream",
     "text": [
      "[0.925]\n"
     ]
    }
   ],
   "source": [
    "print(selection_accuracy(beta.ravel(), uoil.coef_))"
   ]
  },
  {
   "cell_type": "code",
   "execution_count": 133,
   "metadata": {},
   "outputs": [
    {
     "name": "stdout",
     "output_type": "stream",
     "text": [
      "[0.99]\n"
     ]
    }
   ],
   "source": [
    "print(selection_accuracy(beta.ravel(), uoil.alt_coef_))"
   ]
  },
  {
   "cell_type": "code",
   "execution_count": 134,
   "metadata": {},
   "outputs": [
    {
     "data": {
      "text/plain": [
       "array([0.92 , 0.92 , 0.93 , 0.935, 0.93 , 0.935, 0.935, 0.925, 0.92 ,\n",
       "       0.87 , 0.93 , 0.89 , 0.87 , 0.935, 0.925, 0.935, 0.935, 0.935,\n",
       "       0.93 , 0.89 , 0.935, 0.935, 0.87 , 0.925, 0.93 , 0.935, 0.915,\n",
       "       0.925, 0.92 , 0.92 , 0.92 , 0.935, 0.92 , 0.935, 0.92 , 0.87 ,\n",
       "       0.87 , 0.92 , 0.92 , 0.915, 0.935, 0.93 , 0.93 , 0.935, 0.92 ,\n",
       "       0.935, 0.935, 0.92 ])"
      ]
     },
     "execution_count": 134,
     "metadata": {},
     "output_type": "execute_result"
    }
   ],
   "source": [
    "selection_accuracy(beta.ravel(), uoil.best_estimates)"
   ]
  },
  {
   "cell_type": "code",
   "execution_count": 135,
   "metadata": {},
   "outputs": [
    {
     "data": {
      "text/plain": [
       "array([0.985, 0.99 , 0.99 , 0.99 , 0.99 , 0.99 , 0.99 , 0.985, 0.99 ,\n",
       "       0.975, 0.99 , 0.99 , 0.975, 0.99 , 0.99 , 0.99 , 0.985, 0.99 ,\n",
       "       0.99 , 0.99 , 0.99 , 0.99 , 0.99 , 0.99 , 0.99 , 0.985, 0.99 ,\n",
       "       0.99 , 0.975, 0.99 , 0.99 , 0.99 , 0.975, 0.99 , 0.99 , 0.975,\n",
       "       0.99 , 0.99 , 0.99 , 0.99 , 0.99 , 0.985, 0.99 , 0.99 , 0.985,\n",
       "       0.99 , 0.985, 0.99 ])"
      ]
     },
     "execution_count": 135,
     "metadata": {},
     "output_type": "execute_result"
    }
   ],
   "source": [
    "selection_accuracy(beta.ravel(), uoil.alt_estimates)"
   ]
  },
  {
   "cell_type": "code",
   "execution_count": 117,
   "metadata": {},
   "outputs": [
    {
     "name": "stdout",
     "output_type": "stream",
     "text": [
      "[0.975]\n",
      "[0.925]\n",
      "[0.9]\n",
      "[0.9]\n",
      "[0.9]\n",
      "[0.9]\n",
      "[0.9]\n"
     ]
    }
   ],
   "source": [
    "# UoI selection accuracy\n",
    "print(selection_accuracy(beta.ravel(), uoil.coef_))\n",
    "print(selection_accuracy(beta.ravel(), uoil.alt_coef_))\n",
    "\n",
    "# Selection accuracy of our individual models\n",
    "print(selection_accuracy(beta.ravel(), model1))\n",
    "print(selection_accuracy(beta.ravel(), model2))\n",
    "print(selection_accuracy(beta.ravel(), model3))\n",
    "print(selection_accuracy(beta.ravel(), model4))\n",
    "print(selection_accuracy(beta.ravel(), model5))"
   ]
  },
  {
   "cell_type": "code",
   "execution_count": 9,
   "metadata": {},
   "outputs": [],
   "source": [
    "from risk import AIC"
   ]
  },
  {
   "cell_type": "code",
   "execution_count": 10,
   "metadata": {},
   "outputs": [
    {
     "data": {
      "text/plain": [
       "array([   100,    215,    464,   1000,   2154,   4641,  10000,  21544,\n",
       "        46415, 100000])"
      ]
     },
     "execution_count": 10,
     "metadata": {},
     "output_type": "execute_result"
    }
   ],
   "source": [
    "np.logspace(2, 5, 10).astype(int)"
   ]
  },
  {
   "cell_type": "code",
   "execution_count": 12,
   "metadata": {},
   "outputs": [
    {
     "name": "stderr",
     "output_type": "stream",
     "text": [
      "/home/akumar/anaconda3/envs/nse/lib/python3.6/site-packages/sklearn/linear_model/coordinate_descent.py:492: ConvergenceWarning: Objective did not converge. You might want to increase the number of iterations. Fitting data with very small alpha may cause precision problems.\n",
      "  ConvergenceWarning)\n",
      "/home/akumar/anaconda3/envs/nse/lib/python3.6/site-packages/sklearn/linear_model/coordinate_descent.py:492: ConvergenceWarning: Objective did not converge. You might want to increase the number of iterations. Fitting data with very small alpha may cause precision problems.\n",
      "  ConvergenceWarning)\n",
      "/home/akumar/anaconda3/envs/nse/lib/python3.6/site-packages/sklearn/linear_model/coordinate_descent.py:492: ConvergenceWarning: Objective did not converge. You might want to increase the number of iterations. Fitting data with very small alpha may cause precision problems.\n",
      "  ConvergenceWarning)\n",
      "/home/akumar/anaconda3/envs/nse/lib/python3.6/site-packages/sklearn/linear_model/coordinate_descent.py:492: ConvergenceWarning: Objective did not converge. You might want to increase the number of iterations. Fitting data with very small alpha may cause precision problems.\n",
      "  ConvergenceWarning)\n",
      "/home/akumar/anaconda3/envs/nse/lib/python3.6/site-packages/sklearn/linear_model/coordinate_descent.py:492: ConvergenceWarning: Objective did not converge. You might want to increase the number of iterations. Fitting data with very small alpha may cause precision problems.\n",
      "  ConvergenceWarning)\n",
      "/home/akumar/anaconda3/envs/nse/lib/python3.6/site-packages/sklearn/linear_model/coordinate_descent.py:492: ConvergenceWarning: Objective did not converge. You might want to increase the number of iterations. Fitting data with very small alpha may cause precision problems.\n",
      "  ConvergenceWarning)\n",
      "/home/akumar/anaconda3/envs/nse/lib/python3.6/site-packages/sklearn/linear_model/coordinate_descent.py:492: ConvergenceWarning: Objective did not converge. You might want to increase the number of iterations. Fitting data with very small alpha may cause precision problems.\n",
      "  ConvergenceWarning)\n",
      "/home/akumar/anaconda3/envs/nse/lib/python3.6/site-packages/sklearn/linear_model/coordinate_descent.py:492: ConvergenceWarning: Objective did not converge. You might want to increase the number of iterations. Fitting data with very small alpha may cause precision problems.\n",
      "  ConvergenceWarning)\n",
      "/home/akumar/anaconda3/envs/nse/lib/python3.6/site-packages/sklearn/linear_model/coordinate_descent.py:492: ConvergenceWarning: Objective did not converge. You might want to increase the number of iterations. Fitting data with very small alpha may cause precision problems.\n",
      "  ConvergenceWarning)\n",
      "/home/akumar/anaconda3/envs/nse/lib/python3.6/site-packages/sklearn/linear_model/coordinate_descent.py:492: ConvergenceWarning: Objective did not converge. You might want to increase the number of iterations. Fitting data with very small alpha may cause precision problems.\n",
      "  ConvergenceWarning)\n",
      "/home/akumar/anaconda3/envs/nse/lib/python3.6/site-packages/sklearn/linear_model/coordinate_descent.py:492: ConvergenceWarning: Objective did not converge. You might want to increase the number of iterations. Fitting data with very small alpha may cause precision problems.\n",
      "  ConvergenceWarning)\n",
      "/home/akumar/anaconda3/envs/nse/lib/python3.6/site-packages/sklearn/linear_model/coordinate_descent.py:492: ConvergenceWarning: Objective did not converge. You might want to increase the number of iterations. Fitting data with very small alpha may cause precision problems.\n",
      "  ConvergenceWarning)\n",
      "/home/akumar/anaconda3/envs/nse/lib/python3.6/site-packages/sklearn/linear_model/coordinate_descent.py:492: ConvergenceWarning: Objective did not converge. You might want to increase the number of iterations. Fitting data with very small alpha may cause precision problems.\n",
      "  ConvergenceWarning)\n",
      "/home/akumar/anaconda3/envs/nse/lib/python3.6/site-packages/sklearn/linear_model/coordinate_descent.py:492: ConvergenceWarning: Objective did not converge. You might want to increase the number of iterations. Fitting data with very small alpha may cause precision problems.\n",
      "  ConvergenceWarning)\n",
      "/home/akumar/anaconda3/envs/nse/lib/python3.6/site-packages/sklearn/linear_model/coordinate_descent.py:492: ConvergenceWarning: Objective did not converge. You might want to increase the number of iterations. Fitting data with very small alpha may cause precision problems.\n",
      "  ConvergenceWarning)\n",
      "/home/akumar/anaconda3/envs/nse/lib/python3.6/site-packages/sklearn/linear_model/coordinate_descent.py:492: ConvergenceWarning: Objective did not converge. You might want to increase the number of iterations. Fitting data with very small alpha may cause precision problems.\n",
      "  ConvergenceWarning)\n",
      "/home/akumar/anaconda3/envs/nse/lib/python3.6/site-packages/sklearn/linear_model/coordinate_descent.py:492: ConvergenceWarning: Objective did not converge. You might want to increase the number of iterations. Fitting data with very small alpha may cause precision problems.\n",
      "  ConvergenceWarning)\n",
      "/home/akumar/anaconda3/envs/nse/lib/python3.6/site-packages/sklearn/linear_model/coordinate_descent.py:492: ConvergenceWarning: Objective did not converge. You might want to increase the number of iterations. Fitting data with very small alpha may cause precision problems.\n",
      "  ConvergenceWarning)\n",
      "/home/akumar/anaconda3/envs/nse/lib/python3.6/site-packages/sklearn/linear_model/coordinate_descent.py:492: ConvergenceWarning: Objective did not converge. You might want to increase the number of iterations. Fitting data with very small alpha may cause precision problems.\n",
      "  ConvergenceWarning)\n",
      "/home/akumar/anaconda3/envs/nse/lib/python3.6/site-packages/sklearn/linear_model/coordinate_descent.py:492: ConvergenceWarning: Objective did not converge. You might want to increase the number of iterations. Fitting data with very small alpha may cause precision problems.\n",
      "  ConvergenceWarning)\n",
      "/home/akumar/anaconda3/envs/nse/lib/python3.6/site-packages/sklearn/linear_model/coordinate_descent.py:492: ConvergenceWarning: Objective did not converge. You might want to increase the number of iterations. Fitting data with very small alpha may cause precision problems.\n",
      "  ConvergenceWarning)\n",
      "/home/akumar/anaconda3/envs/nse/lib/python3.6/site-packages/sklearn/linear_model/coordinate_descent.py:492: ConvergenceWarning: Objective did not converge. You might want to increase the number of iterations. Fitting data with very small alpha may cause precision problems.\n",
      "  ConvergenceWarning)\n",
      "/home/akumar/anaconda3/envs/nse/lib/python3.6/site-packages/sklearn/linear_model/coordinate_descent.py:492: ConvergenceWarning: Objective did not converge. You might want to increase the number of iterations. Fitting data with very small alpha may cause precision problems.\n",
      "  ConvergenceWarning)\n",
      "/home/akumar/anaconda3/envs/nse/lib/python3.6/site-packages/sklearn/linear_model/coordinate_descent.py:492: ConvergenceWarning: Objective did not converge. You might want to increase the number of iterations. Fitting data with very small alpha may cause precision problems.\n",
      "  ConvergenceWarning)\n",
      "/home/akumar/anaconda3/envs/nse/lib/python3.6/site-packages/sklearn/linear_model/coordinate_descent.py:492: ConvergenceWarning: Objective did not converge. You might want to increase the number of iterations. Fitting data with very small alpha may cause precision problems.\n",
      "  ConvergenceWarning)\n",
      "/home/akumar/anaconda3/envs/nse/lib/python3.6/site-packages/sklearn/linear_model/coordinate_descent.py:492: ConvergenceWarning: Objective did not converge. You might want to increase the number of iterations. Fitting data with very small alpha may cause precision problems.\n",
      "  ConvergenceWarning)\n",
      "/home/akumar/anaconda3/envs/nse/lib/python3.6/site-packages/sklearn/linear_model/coordinate_descent.py:492: ConvergenceWarning: Objective did not converge. You might want to increase the number of iterations. Fitting data with very small alpha may cause precision problems.\n",
      "  ConvergenceWarning)\n",
      "/home/akumar/anaconda3/envs/nse/lib/python3.6/site-packages/sklearn/linear_model/coordinate_descent.py:492: ConvergenceWarning: Objective did not converge. You might want to increase the number of iterations. Fitting data with very small alpha may cause precision problems.\n",
      "  ConvergenceWarning)\n",
      "/home/akumar/anaconda3/envs/nse/lib/python3.6/site-packages/sklearn/linear_model/coordinate_descent.py:492: ConvergenceWarning: Objective did not converge. You might want to increase the number of iterations. Fitting data with very small alpha may cause precision problems.\n",
      "  ConvergenceWarning)\n",
      "/home/akumar/anaconda3/envs/nse/lib/python3.6/site-packages/sklearn/linear_model/coordinate_descent.py:492: ConvergenceWarning: Objective did not converge. You might want to increase the number of iterations. Fitting data with very small alpha may cause precision problems.\n",
      "  ConvergenceWarning)\n",
      "/home/akumar/anaconda3/envs/nse/lib/python3.6/site-packages/sklearn/linear_model/coordinate_descent.py:492: ConvergenceWarning: Objective did not converge. You might want to increase the number of iterations. Fitting data with very small alpha may cause precision problems.\n",
      "  ConvergenceWarning)\n",
      "/home/akumar/anaconda3/envs/nse/lib/python3.6/site-packages/sklearn/linear_model/coordinate_descent.py:492: ConvergenceWarning: Objective did not converge. You might want to increase the number of iterations. Fitting data with very small alpha may cause precision problems.\n",
      "  ConvergenceWarning)\n",
      "/home/akumar/anaconda3/envs/nse/lib/python3.6/site-packages/sklearn/linear_model/coordinate_descent.py:492: ConvergenceWarning: Objective did not converge. You might want to increase the number of iterations. Fitting data with very small alpha may cause precision problems.\n",
      "  ConvergenceWarning)\n",
      "/home/akumar/anaconda3/envs/nse/lib/python3.6/site-packages/sklearn/linear_model/coordinate_descent.py:492: ConvergenceWarning: Objective did not converge. You might want to increase the number of iterations. Fitting data with very small alpha may cause precision problems.\n",
      "  ConvergenceWarning)\n",
      "/home/akumar/anaconda3/envs/nse/lib/python3.6/site-packages/sklearn/linear_model/coordinate_descent.py:492: ConvergenceWarning: Objective did not converge. You might want to increase the number of iterations. Fitting data with very small alpha may cause precision problems.\n",
      "  ConvergenceWarning)\n",
      "/home/akumar/anaconda3/envs/nse/lib/python3.6/site-packages/sklearn/linear_model/coordinate_descent.py:492: ConvergenceWarning: Objective did not converge. You might want to increase the number of iterations. Fitting data with very small alpha may cause precision problems.\n",
      "  ConvergenceWarning)\n",
      "/home/akumar/anaconda3/envs/nse/lib/python3.6/site-packages/sklearn/linear_model/coordinate_descent.py:492: ConvergenceWarning: Objective did not converge. You might want to increase the number of iterations. Fitting data with very small alpha may cause precision problems.\n",
      "  ConvergenceWarning)\n",
      "/home/akumar/anaconda3/envs/nse/lib/python3.6/site-packages/sklearn/linear_model/coordinate_descent.py:492: ConvergenceWarning: Objective did not converge. You might want to increase the number of iterations. Fitting data with very small alpha may cause precision problems.\n",
      "  ConvergenceWarning)\n",
      "/home/akumar/anaconda3/envs/nse/lib/python3.6/site-packages/sklearn/linear_model/coordinate_descent.py:492: ConvergenceWarning: Objective did not converge. You might want to increase the number of iterations. Fitting data with very small alpha may cause precision problems.\n",
      "  ConvergenceWarning)\n",
      "/home/akumar/anaconda3/envs/nse/lib/python3.6/site-packages/sklearn/linear_model/coordinate_descent.py:492: ConvergenceWarning: Objective did not converge. You might want to increase the number of iterations. Fitting data with very small alpha may cause precision problems.\n",
      "  ConvergenceWarning)\n",
      "/home/akumar/anaconda3/envs/nse/lib/python3.6/site-packages/sklearn/linear_model/coordinate_descent.py:492: ConvergenceWarning: Objective did not converge. You might want to increase the number of iterations. Fitting data with very small alpha may cause precision problems.\n",
      "  ConvergenceWarning)\n",
      "/home/akumar/anaconda3/envs/nse/lib/python3.6/site-packages/sklearn/linear_model/coordinate_descent.py:492: ConvergenceWarning: Objective did not converge. You might want to increase the number of iterations. Fitting data with very small alpha may cause precision problems.\n",
      "  ConvergenceWarning)\n",
      "/home/akumar/anaconda3/envs/nse/lib/python3.6/site-packages/sklearn/linear_model/coordinate_descent.py:492: ConvergenceWarning: Objective did not converge. You might want to increase the number of iterations. Fitting data with very small alpha may cause precision problems.\n",
      "  ConvergenceWarning)\n",
      "/home/akumar/anaconda3/envs/nse/lib/python3.6/site-packages/sklearn/linear_model/coordinate_descent.py:492: ConvergenceWarning: Objective did not converge. You might want to increase the number of iterations. Fitting data with very small alpha may cause precision problems.\n",
      "  ConvergenceWarning)\n",
      "/home/akumar/anaconda3/envs/nse/lib/python3.6/site-packages/sklearn/linear_model/coordinate_descent.py:492: ConvergenceWarning: Objective did not converge. You might want to increase the number of iterations. Fitting data with very small alpha may cause precision problems.\n",
      "  ConvergenceWarning)\n",
      "/home/akumar/anaconda3/envs/nse/lib/python3.6/site-packages/sklearn/linear_model/coordinate_descent.py:492: ConvergenceWarning: Objective did not converge. You might want to increase the number of iterations. Fitting data with very small alpha may cause precision problems.\n",
      "  ConvergenceWarning)\n",
      "/home/akumar/anaconda3/envs/nse/lib/python3.6/site-packages/sklearn/linear_model/coordinate_descent.py:492: ConvergenceWarning: Objective did not converge. You might want to increase the number of iterations. Fitting data with very small alpha may cause precision problems.\n",
      "  ConvergenceWarning)\n",
      "/home/akumar/anaconda3/envs/nse/lib/python3.6/site-packages/sklearn/linear_model/coordinate_descent.py:492: ConvergenceWarning: Objective did not converge. You might want to increase the number of iterations. Fitting data with very small alpha may cause precision problems.\n",
      "  ConvergenceWarning)\n",
      "/home/akumar/anaconda3/envs/nse/lib/python3.6/site-packages/sklearn/linear_model/coordinate_descent.py:492: ConvergenceWarning: Objective did not converge. You might want to increase the number of iterations. Fitting data with very small alpha may cause precision problems.\n",
      "  ConvergenceWarning)\n",
      "/home/akumar/anaconda3/envs/nse/lib/python3.6/site-packages/sklearn/linear_model/coordinate_descent.py:492: ConvergenceWarning: Objective did not converge. You might want to increase the number of iterations. Fitting data with very small alpha may cause precision problems.\n",
      "  ConvergenceWarning)\n",
      "/home/akumar/anaconda3/envs/nse/lib/python3.6/site-packages/sklearn/linear_model/coordinate_descent.py:492: ConvergenceWarning: Objective did not converge. You might want to increase the number of iterations. Fitting data with very small alpha may cause precision problems.\n",
      "  ConvergenceWarning)\n",
      "/home/akumar/anaconda3/envs/nse/lib/python3.6/site-packages/sklearn/linear_model/coordinate_descent.py:492: ConvergenceWarning: Objective did not converge. You might want to increase the number of iterations. Fitting data with very small alpha may cause precision problems.\n",
      "  ConvergenceWarning)\n",
      "/home/akumar/anaconda3/envs/nse/lib/python3.6/site-packages/sklearn/linear_model/coordinate_descent.py:492: ConvergenceWarning: Objective did not converge. You might want to increase the number of iterations. Fitting data with very small alpha may cause precision problems.\n",
      "  ConvergenceWarning)\n",
      "/home/akumar/anaconda3/envs/nse/lib/python3.6/site-packages/sklearn/linear_model/coordinate_descent.py:492: ConvergenceWarning: Objective did not converge. You might want to increase the number of iterations. Fitting data with very small alpha may cause precision problems.\n",
      "  ConvergenceWarning)\n",
      "/home/akumar/anaconda3/envs/nse/lib/python3.6/site-packages/sklearn/linear_model/coordinate_descent.py:492: ConvergenceWarning: Objective did not converge. You might want to increase the number of iterations. Fitting data with very small alpha may cause precision problems.\n",
      "  ConvergenceWarning)\n",
      "/home/akumar/anaconda3/envs/nse/lib/python3.6/site-packages/sklearn/linear_model/coordinate_descent.py:492: ConvergenceWarning: Objective did not converge. You might want to increase the number of iterations. Fitting data with very small alpha may cause precision problems.\n",
      "  ConvergenceWarning)\n",
      "/home/akumar/anaconda3/envs/nse/lib/python3.6/site-packages/sklearn/linear_model/coordinate_descent.py:492: ConvergenceWarning: Objective did not converge. You might want to increase the number of iterations. Fitting data with very small alpha may cause precision problems.\n",
      "  ConvergenceWarning)\n",
      "/home/akumar/anaconda3/envs/nse/lib/python3.6/site-packages/sklearn/linear_model/coordinate_descent.py:492: ConvergenceWarning: Objective did not converge. You might want to increase the number of iterations. Fitting data with very small alpha may cause precision problems.\n",
      "  ConvergenceWarning)\n",
      "/home/akumar/anaconda3/envs/nse/lib/python3.6/site-packages/sklearn/linear_model/coordinate_descent.py:492: ConvergenceWarning: Objective did not converge. You might want to increase the number of iterations. Fitting data with very small alpha may cause precision problems.\n",
      "  ConvergenceWarning)\n",
      "/home/akumar/anaconda3/envs/nse/lib/python3.6/site-packages/sklearn/linear_model/coordinate_descent.py:492: ConvergenceWarning: Objective did not converge. You might want to increase the number of iterations. Fitting data with very small alpha may cause precision problems.\n",
      "  ConvergenceWarning)\n",
      "/home/akumar/anaconda3/envs/nse/lib/python3.6/site-packages/sklearn/linear_model/coordinate_descent.py:492: ConvergenceWarning: Objective did not converge. You might want to increase the number of iterations. Fitting data with very small alpha may cause precision problems.\n",
      "  ConvergenceWarning)\n",
      "/home/akumar/anaconda3/envs/nse/lib/python3.6/site-packages/sklearn/linear_model/coordinate_descent.py:492: ConvergenceWarning: Objective did not converge. You might want to increase the number of iterations. Fitting data with very small alpha may cause precision problems.\n",
      "  ConvergenceWarning)\n",
      "/home/akumar/anaconda3/envs/nse/lib/python3.6/site-packages/sklearn/linear_model/coordinate_descent.py:492: ConvergenceWarning: Objective did not converge. You might want to increase the number of iterations. Fitting data with very small alpha may cause precision problems.\n",
      "  ConvergenceWarning)\n",
      "/home/akumar/anaconda3/envs/nse/lib/python3.6/site-packages/sklearn/linear_model/coordinate_descent.py:492: ConvergenceWarning: Objective did not converge. You might want to increase the number of iterations. Fitting data with very small alpha may cause precision problems.\n",
      "  ConvergenceWarning)\n",
      "/home/akumar/anaconda3/envs/nse/lib/python3.6/site-packages/sklearn/linear_model/coordinate_descent.py:492: ConvergenceWarning: Objective did not converge. You might want to increase the number of iterations. Fitting data with very small alpha may cause precision problems.\n",
      "  ConvergenceWarning)\n",
      "/home/akumar/anaconda3/envs/nse/lib/python3.6/site-packages/sklearn/linear_model/coordinate_descent.py:492: ConvergenceWarning: Objective did not converge. You might want to increase the number of iterations. Fitting data with very small alpha may cause precision problems.\n",
      "  ConvergenceWarning)\n",
      "/home/akumar/anaconda3/envs/nse/lib/python3.6/site-packages/sklearn/linear_model/coordinate_descent.py:492: ConvergenceWarning: Objective did not converge. You might want to increase the number of iterations. Fitting data with very small alpha may cause precision problems.\n",
      "  ConvergenceWarning)\n",
      "/home/akumar/anaconda3/envs/nse/lib/python3.6/site-packages/sklearn/linear_model/coordinate_descent.py:492: ConvergenceWarning: Objective did not converge. You might want to increase the number of iterations. Fitting data with very small alpha may cause precision problems.\n",
      "  ConvergenceWarning)\n",
      "/home/akumar/anaconda3/envs/nse/lib/python3.6/site-packages/sklearn/linear_model/coordinate_descent.py:492: ConvergenceWarning: Objective did not converge. You might want to increase the number of iterations. Fitting data with very small alpha may cause precision problems.\n",
      "  ConvergenceWarning)\n",
      "/home/akumar/anaconda3/envs/nse/lib/python3.6/site-packages/sklearn/linear_model/coordinate_descent.py:492: ConvergenceWarning: Objective did not converge. You might want to increase the number of iterations. Fitting data with very small alpha may cause precision problems.\n",
      "  ConvergenceWarning)\n",
      "/home/akumar/anaconda3/envs/nse/lib/python3.6/site-packages/sklearn/linear_model/coordinate_descent.py:492: ConvergenceWarning: Objective did not converge. You might want to increase the number of iterations. Fitting data with very small alpha may cause precision problems.\n",
      "  ConvergenceWarning)\n",
      "/home/akumar/anaconda3/envs/nse/lib/python3.6/site-packages/sklearn/linear_model/coordinate_descent.py:492: ConvergenceWarning: Objective did not converge. You might want to increase the number of iterations. Fitting data with very small alpha may cause precision problems.\n",
      "  ConvergenceWarning)\n",
      "/home/akumar/anaconda3/envs/nse/lib/python3.6/site-packages/sklearn/linear_model/coordinate_descent.py:492: ConvergenceWarning: Objective did not converge. You might want to increase the number of iterations. Fitting data with very small alpha may cause precision problems.\n",
      "  ConvergenceWarning)\n",
      "/home/akumar/anaconda3/envs/nse/lib/python3.6/site-packages/sklearn/linear_model/coordinate_descent.py:492: ConvergenceWarning: Objective did not converge. You might want to increase the number of iterations. Fitting data with very small alpha may cause precision problems.\n",
      "  ConvergenceWarning)\n",
      "/home/akumar/anaconda3/envs/nse/lib/python3.6/site-packages/sklearn/linear_model/coordinate_descent.py:492: ConvergenceWarning: Objective did not converge. You might want to increase the number of iterations. Fitting data with very small alpha may cause precision problems.\n",
      "  ConvergenceWarning)\n",
      "/home/akumar/anaconda3/envs/nse/lib/python3.6/site-packages/sklearn/linear_model/coordinate_descent.py:492: ConvergenceWarning: Objective did not converge. You might want to increase the number of iterations. Fitting data with very small alpha may cause precision problems.\n",
      "  ConvergenceWarning)\n",
      "/home/akumar/anaconda3/envs/nse/lib/python3.6/site-packages/sklearn/linear_model/coordinate_descent.py:492: ConvergenceWarning: Objective did not converge. You might want to increase the number of iterations. Fitting data with very small alpha may cause precision problems.\n",
      "  ConvergenceWarning)\n",
      "/home/akumar/anaconda3/envs/nse/lib/python3.6/site-packages/sklearn/linear_model/coordinate_descent.py:492: ConvergenceWarning: Objective did not converge. You might want to increase the number of iterations. Fitting data with very small alpha may cause precision problems.\n",
      "  ConvergenceWarning)\n",
      "/home/akumar/anaconda3/envs/nse/lib/python3.6/site-packages/sklearn/linear_model/coordinate_descent.py:492: ConvergenceWarning: Objective did not converge. You might want to increase the number of iterations. Fitting data with very small alpha may cause precision problems.\n",
      "  ConvergenceWarning)\n"
     ]
    },
    {
     "name": "stdout",
     "output_type": "stream",
     "text": [
      "5.324917316436768\n",
      "3.792511463165283\n",
      "3.2490713596343994\n",
      "3.7774295806884766\n",
      "5.336975574493408\n",
      "8.522321939468384\n",
      "33.0973174571991\n",
      "78.55883288383484\n",
      "183.4587903022766\n",
      "471.083575963974\n"
     ]
    }
   ],
   "source": [
    "# Verify our calculation. Calculate the AIC and the true KL divergence as n -> infinity\n",
    "n_samples = np.logspace(2, 4, 10).astype(int)\n",
    "\n",
    "sigma = gen_covariance(100, 0, 100, 1, 0)\n",
    "beta = gen_beta2(100, 100, 0.2)\n",
    "\n",
    "uoil = UoI_Lasso(estimation_score = 'AIC')\n",
    "\n",
    "AIC_scores = []\n",
    "exact_risk = []\n",
    "\n",
    "for i, n_samples_ in enumerate(n_samples):\n",
    "    t0 = time.time()\n",
    "    # Generate data\n",
    "    X, X_test, y, y_test, ss = gen_data(n_samples_, 100, covariance = sigma, beta = beta)\n",
    "    \n",
    "    # Fit\n",
    "    uoil.fit(X, y)\n",
    "    \n",
    "    # Calculate AIC\n",
    "    estimates = uoil.estimates_.reshape((-1, 100))\n",
    "    \n",
    "    AIC_scores_ = np.zeros(estimates.shape[0])\n",
    "\n",
    "    # True risk\n",
    "    exact_risk_ = np.zeros(estimates.shape[0])\n",
    "    \n",
    "    for j in range(estimates.shape[0]):\n",
    "        beta_hat = estimates[j, :]\n",
    "        sigma_hat = np.mean((y.ravel() - X @ beta_hat.ravel())**2)\n",
    "\n",
    "        AIC_scores_[j] = AIC(y, X @ beta_hat, 100)\n",
    "\n",
    "        exact_risk_[j] = calc_KL_div(X @ beta_hat, np.sqrt(sigma_hat), np.sqrt(ss))\n",
    "\n",
    "    AIC_scores.append(AIC_scores_)\n",
    "    exact_risk.append(exact_risk_)\n",
    "    print(time.time() - t0)"
   ]
  },
  {
   "cell_type": "code",
   "execution_count": null,
   "metadata": {},
   "outputs": [],
   "source": [
    "## Does the AIC asymptotically approximate the true error?\n",
    "# How about a single leave k out estimate?\n",
    "\n",
    "# How does this asymptotic behavior vary as a function of the sparsity of the underlying model?"
   ]
  },
  {
   "cell_type": "code",
   "execution_count": 20,
   "metadata": {},
   "outputs": [],
   "source": [
    "# For each n, calculate the average error between the AIC and true risk\n",
    "\n",
    "approx_error = np.zeros(len(n_samples))\n",
    "approx_error_std = np.zeros(len(n_samples))\n",
    "\n",
    "for i in range(len(n_samples)):\n",
    "    \n",
    "    approx_error[i] = np.mean(((AIC_scores[i] - exact_risk[i])**2))\n",
    "    approx_error_std[i] = np.std(((AIC_scores[i] - exact_risk[i])**2))\n"
   ]
  },
  {
   "cell_type": "code",
   "execution_count": 21,
   "metadata": {},
   "outputs": [
    {
     "data": {
      "text/plain": [
       "<ErrorbarContainer object of 3 artists>"
      ]
     },
     "execution_count": 21,
     "metadata": {},
     "output_type": "execute_result"
    },
    {
     "data": {
      "image/png": "[encoded data removed]",
      "text/plain": [
       "<Figure size 432x288 with 1 Axes>"
      ]
     },
     "metadata": {
      "needs_background": "light"
     },
     "output_type": "display_data"
    }
   ],
   "source": [
    "plt.errorbar(n_samples, approx_error, approx_error_std)"
   ]
  },
  {
   "cell_type": "code",
   "execution_count": null,
   "metadata": {},
   "outputs": [],
   "source": [
    "# There is good evidence to suggest that the selection accuracy boost occurs at the level\n",
    "# of individual model selection problems (and not the final bagging) - this still needs to \n",
    "# be systematically evaluated.\n",
    "\n",
    "# Then, the question is, how does do the various risk estimators compare as we \n",
    "# vary the model sparsity and the number of samples. Need to prepare simulations \n",
    "# that get at this question\n",
    "\n",
    "# Quickly, does cross-validation as opposed to a single out of sample estimate improve\n",
    "# or remove the advantage we get?"
   ]
  }
 ],
 "metadata": {
  "kernelspec": {
   "display_name": "Python 3",
   "language": "python",
   "name": "python3"
  },
  "language_info": {
   "codemirror_mode": {
    "name": "ipython",
    "version": 3
   },
   "file_extension": ".py",
   "mimetype": "text/x-python",
   "name": "python",
   "nbconvert_exporter": "python",
   "pygments_lexer": "ipython3",
   "version": "3.6.7"
  }
 },
 "nbformat": 4,
 "nbformat_minor": 2
}
