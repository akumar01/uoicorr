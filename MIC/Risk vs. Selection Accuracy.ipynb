{
 "cells": [
  {
   "cell_type": "markdown",
   "metadata": {},
   "source": [
    "## To what extent does exactly minimizing risk correspond to accurate support recovery? Does the extent of this correspondence differ between evaluation on the train vs. test set?"
   ]
  },
  {
   "cell_type": "code",
   "execution_count": 1,
   "metadata": {},
   "outputs": [],
   "source": [
    "%load_ext autoreload\n",
    "%autoreload 2\n",
    "import sys, os\n",
    "import numpy as np\n",
    "import matplotlib.pyplot as plt\n",
    "import time\n",
    "import pdb\n",
    "\n",
    "sys.path.append('..')\n",
    "\n",
    "from utils import gen_covariance, gen_beta2, gen_data, get_cov_list\n",
    "from utils import selection_accuracy\n",
    "from sklearn.linear_model import LassoLars, lasso_path\n",
    "\n",
    "from pyuoi.linear_model import UoI_Lasso"
   ]
  },
  {
   "cell_type": "markdown",
   "metadata": {},
   "source": [
    "#### First fit to a model without correlations"
   ]
  },
  {
   "cell_type": "code",
   "execution_count": 2,
   "metadata": {},
   "outputs": [],
   "source": [
    "sigma = gen_covariance(100, 0, 100, 1, 0)\n",
    "beta = gen_beta2(100, 100, 0.2)\n",
    "X, X_test, y, y_test, ss = gen_data(300, 100, covariance = sigma, beta = beta)"
   ]
  },
  {
   "cell_type": "code",
   "execution_count": 3,
   "metadata": {},
   "outputs": [
    {
     "data": {
      "text/plain": [
       "UoI_Lasso(comm=None, copy_X=True, eps=0.001, estimation_frac=0.9,\n",
       "     estimation_score='AIC', fit_intercept=True, manual_penalty=2,\n",
       "     max_iter=None, n_boots_est=48, n_boots_sel=48, n_lambdas=48,\n",
       "     normalize=True,\n",
       "     random_state=<module 'numpy.random' from '/home/akumar/anaconda3/envs/nse/lib/python3.6/site-packages/numpy/random/__init__.py'>,\n",
       "     selection_frac=0.9, stability_selection=1.0, warm_start=None)"
      ]
     },
     "execution_count": 3,
     "metadata": {},
     "output_type": "execute_result"
    }
   ],
   "source": [
    "uoil = UoI_Lasso(estimation_score = 'AIC')\n",
    "uoil.fit(X, y)"
   ]
  },
  {
   "cell_type": "markdown",
   "metadata": {},
   "source": [
    "#### Calculate the exact risk of incurred by each estimate, as well as the corresponding selection accuracy"
   ]
  },
  {
   "cell_type": "code",
   "execution_count": 4,
   "metadata": {},
   "outputs": [],
   "source": [
    "estimates = uoil.estimates_.reshape((-1, 100))\n",
    "selection_accuracies = selection_accuracy(beta.ravel(), estimates)"
   ]
  },
  {
   "cell_type": "code",
   "execution_count": 5,
   "metadata": {},
   "outputs": [],
   "source": [
    "from risk import calc_KL_div"
   ]
  },
  {
   "cell_type": "code",
   "execution_count": 6,
   "metadata": {},
   "outputs": [],
   "source": [
    "# Calculation of exact KL divergence\n",
    "KL_divs = np.zeros(selection_accuracies.size)\n",
    "for i in range(estimates.shape[0]):\n",
    "    \n",
    "    beta_hat = estimates[i, :]\n",
    "    \n",
    "    sigma_hat = np.mean((y.ravel() - X @ beta_hat.ravel())**2)\n",
    "        \n",
    "    KL_divs[i] = calc_KL_div(X @ beta_hat, np.sqrt(sigma_hat), np.sqrt(ss))\n",
    "    "
   ]
  },
  {
   "cell_type": "code",
   "execution_count": 7,
   "metadata": {},
   "outputs": [
    {
     "data": {
      "text/plain": [
       "<matplotlib.collections.PathCollection at 0x7fbae8366cf8>"
      ]
     },
     "execution_count": 7,
     "metadata": {},
     "output_type": "execute_result"
    },
    {
     "data": {
      "image/png": "[encoded data removed]",
      "text/plain": [
       "<Figure size 432x288 with 1 Axes>"
      ]
     },
     "metadata": {
      "needs_background": "light"
     },
     "output_type": "display_data"
    }
   ],
   "source": [
    "plt.scatter(selection_accuracies, KL_divs) "
   ]
  },
  {
   "cell_type": "code",
   "execution_count": 8,
   "metadata": {},
   "outputs": [],
   "source": [
    "# Do the same, but now use the test data to assess the KL divergence\n",
    "\n",
    "alt_KL_divs = np.zeros(selection_accuracies.size)\n",
    "\n",
    "for i in range(estimates.shape[0]):\n",
    "    \n",
    "    beta_hat = estimates[i, :]\n",
    "    \n",
    "    sigma_hat = np.mean((y_test.ravel() - X_test @ beta_hat.ravel())**2)\n",
    "        \n",
    "    alt_KL_divs[i] = calc_KL_div(X_test @ beta_hat, np.sqrt(sigma_hat), np.sqrt(ss))\n",
    "\n"
   ]
  },
  {
   "cell_type": "code",
   "execution_count": 9,
   "metadata": {},
   "outputs": [
    {
     "data": {
      "text/plain": [
       "<matplotlib.collections.PathCollection at 0x7fbae8286470>"
      ]
     },
     "execution_count": 9,
     "metadata": {},
     "output_type": "execute_result"
    },
    {
     "data": {
      "image/png": "[encoded data removed]",
      "text/plain": [
       "<Figure size 432x288 with 1 Axes>"
      ]
     },
     "metadata": {
      "needs_background": "light"
     },
     "output_type": "display_data"
    }
   ],
   "source": [
    "plt.scatter(selection_accuracies, alt_KL_divs) "
   ]
  },
  {
   "cell_type": "code",
   "execution_count": 10,
   "metadata": {},
   "outputs": [],
   "source": [
    "# The KL divergence analysis suggests that a model chosen according to the KL divergence criteria should achieve a\n",
    "# selection accuracy of 0.9 What selection accuracy does the UoI procedure spit out?"
   ]
  },
  {
   "cell_type": "code",
   "execution_count": 11,
   "metadata": {},
   "outputs": [
    {
     "data": {
      "text/plain": [
       "array([0.885])"
      ]
     },
     "execution_count": 11,
     "metadata": {},
     "output_type": "execute_result"
    }
   ],
   "source": [
    "selection_accuracy(beta.ravel(), uoil.coef_)"
   ]
  },
  {
   "cell_type": "code",
   "execution_count": 12,
   "metadata": {},
   "outputs": [
    {
     "data": {
      "text/plain": [
       "array([0.945])"
      ]
     },
     "execution_count": 12,
     "metadata": {},
     "output_type": "execute_result"
    }
   ],
   "source": [
    "## This result suggests that simply increasing the accuracy of the estimate of the KL loss will not necessarily \n",
    "# lead to better selection accuracy. Correcting bias in these procedures should therefore not necessarily be the\n",
    "# goal\n",
    "selection_accuracy(beta.ravel(), uoil.alt_coef_)"
   ]
  },
  {
   "cell_type": "code",
   "execution_count": null,
   "metadata": {},
   "outputs": [],
   "source": [
    "# Verify our calculation. Calculate the AIC and the true KL divergence as n -> infinity\n",
    "n_samples = [300, 1000, 3000, 10000, 30000, 100000, 300000]\n",
    "\n",
    "sigma = gen_covariance(100, 0, 100, 1, 0)\n",
    "beta = gen_beta2(100, 100, 0.2)\n",
    "\n",
    "for i, n_samples in n_samples_:\n",
    "    # Generate data\n",
    "    X, X_test, y, y_test, ss = gen_data(n_samples_, 100, covariance = sigma, beta = beta)\n",
    "    \n",
    "    # Generate data\n",
    "    "
   ]
  }
 ],
 "metadata": {
  "kernelspec": {
   "display_name": "Python 3",
   "language": "python",
   "name": "python3"
  },
  "language_info": {
   "codemirror_mode": {
    "name": "ipython",
    "version": 3
   },
   "file_extension": ".py",
   "mimetype": "text/x-python",
   "name": "python",
   "nbconvert_exporter": "python",
   "pygments_lexer": "ipython3",
   "version": "3.6.7"
  }
 },
 "nbformat": 4,
 "nbformat_minor": 2
}
