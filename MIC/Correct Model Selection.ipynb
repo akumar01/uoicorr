{
 "cells": [
  {
   "cell_type": "code",
   "execution_count": 1,
   "metadata": {},
   "outputs": [],
   "source": [
    "import sys, os\n",
    "import numpy as np\n",
    "import matplotlib.pyplot as plt\n",
    "import time\n",
    "import pdb\n",
    "\n",
    "sys.path.append('..')\n",
    "\n",
    "from utils import gen_covariance, gen_beta2, gen_data, get_cov_list\n",
    "from utils import selection_accuracy\n",
    "from sklearn.linear_model import LassoLars, lasso_path, LinearRegression\n",
    "\n",
    "from pyuoi.linear_model import UoI_Lasso"
   ]
  },
  {
   "cell_type": "code",
   "execution_count": 2,
   "metadata": {},
   "outputs": [],
   "source": [
    "import itertools, scipy, risk"
   ]
  },
  {
   "cell_type": "markdown",
   "metadata": {},
   "source": [
    "### Consider a paired down, 10 feature linear regression problem. There is an optimal \"correct\" model living in a particular 4 feature subspace of the full parameter space. There are 1024 distinct model supports. Some large subset of these model supports will also contain \"correct\" models. The problem with using a likelihood based risk function is that the resultant estimated distributions will exhibit nearly the same risk. Let's illustrate this explicitly:"
   ]
  },
  {
   "cell_type": "code",
   "execution_count": 3,
   "metadata": {},
   "outputs": [],
   "source": [
    "n_features = 10\n",
    "n_samples = 50\n",
    "\n",
    "# Diagonal covariance\n",
    "sigma = gen_covariance(n_features, 0, n_features, 1, 0)\n",
    "\n",
    "# Beta \n",
    "beta = gen_beta2(n_features, n_features, 0.3)\n",
    "\n",
    "# Data\n",
    "X, X_test, y, y_test, ss = gen_data(n_samples, n_features, covariance = sigma, beta = beta, kappa = 1)"
   ]
  },
  {
   "cell_type": "code",
   "execution_count": 4,
   "metadata": {},
   "outputs": [],
   "source": [
    "# Search through all possible models and narrow it down to correct models\n",
    "supports = list(itertools.product([0, 1], repeat = 10))\n",
    "correct = np.zeros(len(supports))\n",
    "for i, s in enumerate(supports):\n",
    "    if np.array_equal(np.bitwise_and(beta.ravel() != 0, s), beta.ravel() != 0):\n",
    "        correct[i] = 1"
   ]
  },
  {
   "cell_type": "code",
   "execution_count": 5,
   "metadata": {},
   "outputs": [],
   "source": [
    "# For all correct models, fit OLS models. \n",
    "correct_supports = np.array(supports)[correct.astype(bool)].astype(bool)\n",
    "models = np.zeros(correct_supports.shape)\n",
    "intercepts = np.zeros(correct_supports.shape[0])\n",
    "for i in range(correct_supports.shape[0]):\n",
    "    cs = correct_supports[i, :]\n",
    "    m = LinearRegression().fit(X[:, cs], y)\n",
    "    models[i, cs] = m.coef_.ravel()\n",
    "    intercepts[i] = m.intercept_"
   ]
  },
  {
   "cell_type": "code",
   "execution_count": 6,
   "metadata": {},
   "outputs": [],
   "source": [
    "# For all incorrect models, fit OLS models.\n",
    "incorrect_supports = np.array(supports)[np.invert(correct.astype(bool))].astype(bool)\n",
    "imodels = np.zeros(incorrect_supports.shape)\n",
    "iintercepts = np.zeros(incorrect_supports.shape[0])\n",
    "for i in range(incorrect_supports.shape[0]):\n",
    "    ics = incorrect_supports[i, :]\n",
    "    if X[:, ics].size == 0:\n",
    "        pass\n",
    "    else:\n",
    "        m = LinearRegression().fit(X[:, ics], y)\n",
    "        imodels[i, ics] = m.coef_.ravel()\n",
    "        iintercepts[i] = m.intercept_"
   ]
  },
  {
   "cell_type": "code",
   "execution_count": 7,
   "metadata": {},
   "outputs": [],
   "source": [
    "# Assess the ordinary risk on all models\n",
    "exact_risk = np.zeros(models.shape[0])\n",
    "exact_risk_test = np.zeros(models.shape[0])\n",
    "\n",
    "iexact_risk = np.zeros(imodels.shape[0])\n",
    "iexact_risk_test = np.zeros(imodels.shape[0])\n",
    "\n",
    "empirical_risk = np.zeros(models.shape[0])\n",
    "empirical_risk_test = np.zeros(models.shape[0])\n",
    "\n",
    "iempirical_risk = np.zeros(imodels.shape[0])\n",
    "iempirical_risk_test = np.zeros(imodels.shape[0])\n",
    "\n",
    "for i in range(models.shape[0]):\n",
    "    y_pred = X @ models[i, :] + intercepts[i]\n",
    "    sigma_hat = np.mean(np.linalg.norm(y - y_pred))\n",
    "    exact_risk[i] = risk.calc_KL_div(y_pred, np.sqrt(sigma_hat), np.sqrt(ss))\n",
    "    empirical_risk[i] = risk.empirical_KL_estimate(y, y_pred, np.sqrt(sigma_hat))\n",
    "    \n",
    "    y_pred = X_test @ models[i, :] + intercepts[i]\n",
    "    sigma_hat = np.mean(np.linalg.norm(y_test - y_pred))\n",
    "    exact_risk_test[i] = risk.calc_KL_div(y_pred, np.sqrt(sigma_hat), np.sqrt(ss))\n",
    "    empirical_risk_test[i] = risk.empirical_KL_estimate(y_test, y_pred, np.sqrt(sigma_hat))\n",
    "    \n",
    "for i in range(imodels.shape[0]):\n",
    "    y_pred = X @ imodels[i, :] + iintercepts[i]                        \n",
    "    sigma_hat = np.mean(np.linalg.norm(y - y_pred))\n",
    "    iexact_risk[i] = risk.calc_KL_div(y_pred, np.sqrt(sigma_hat), np.sqrt(ss))\n",
    "    iempirical_risk[i] = risk.empirical_KL_estimate(y, y_pred, np.sqrt(sigma_hat))\n",
    "    \n",
    "    y_pred = X @ imodels[i, :] + iintercepts[i]\n",
    "    sigma_hat = np.mean(np.linalg.norm(y_test - y_pred))\n",
    "    iexact_risk_test[i] = risk.calc_KL_div(y_pred, np.sqrt(sigma_hat), np.sqrt(ss))\n",
    "    iempirical_risk_test[i] = risk.empirical_KL_estimate(y_test, y_pred, np.sqrt(sigma_hat))\n"
   ]
  },
  {
   "cell_type": "code",
   "execution_count": 8,
   "metadata": {},
   "outputs": [],
   "source": [
    "# Distribution of the exact risk as a function of selection_accuracy\n",
    "support_sa = selection_accuracy(beta.ravel(), models)\n",
    "isupport_sa = selection_accuracy(beta.ravel(), imodels)"
   ]
  },
  {
   "cell_type": "code",
   "execution_count": 9,
   "metadata": {},
   "outputs": [
    {
     "data": {
      "text/plain": [
       "<matplotlib.collections.PathCollection at 0x16f575ac828>"
      ]
     },
     "execution_count": 9,
     "metadata": {},
     "output_type": "execute_result"
    },
    {
     "data": {
      "image/png": "[encoded data removed]",
      "text/plain": [
       "<Figure size 432x288 with 1 Axes>"
      ]
     },
     "metadata": {
      "needs_background": "light"
     },
     "output_type": "display_data"
    }
   ],
   "source": [
    "plt.scatter(support_sa, exact_risk, alpha = 0.5)\n",
    "plt.scatter(isupport_sa, iexact_risk, alpha = 0.5)"
   ]
  },
  {
   "cell_type": "code",
   "execution_count": 10,
   "metadata": {},
   "outputs": [
    {
     "data": {
      "text/plain": [
       "<matplotlib.collections.PathCollection at 0x16f578f98d0>"
      ]
     },
     "execution_count": 10,
     "metadata": {},
     "output_type": "execute_result"
    },
    {
     "data": {
      "image/png": "[encoded data removed]",
      "text/plain": [
       "<Figure size 432x288 with 1 Axes>"
      ]
     },
     "metadata": {
      "needs_background": "light"
     },
     "output_type": "display_data"
    }
   ],
   "source": [
    "plt.scatter(support_sa, empirical_risk_test, alpha = 0.5)\n",
    "plt.scatter(isupport_sa, iempirical_risk_test, alpha = 0.5)"
   ]
  },
  {
   "cell_type": "markdown",
   "metadata": {},
   "source": [
    "### The results are clear - the ordinary risk leads to near-optimal results w.r.t selecting the smallest correct model,  but does not perform adequately when the incorrect models are included in the candidate model set. Can we design a penalized likelihood function that acts like an oracle for the true support? ###"
   ]
  },
  {
   "cell_type": "code",
   "execution_count": 11,
   "metadata": {},
   "outputs": [],
   "source": [
    "# Assess the ordinary risk on all models\n",
    "exact_penalized_risk = np.zeros(models.shape[0])\n",
    "exact_penalized_risk_test = np.zeros(models.shape[0])\n",
    "\n",
    "iexact_penalized_risk = np.zeros(imodels.shape[0])\n",
    "iexact_penalized_risk_test = np.zeros(imodels.shape[0])\n",
    "\n",
    "for i in range(models.shape[0]):\n",
    "    y_pred = X @ models[i, :] + intercepts[i]\n",
    "    sigma_hat = np.mean(np.linalg.norm(y - y_pred))\n",
    "    exact_penalized_risk[i] = risk.exact_penalized_KL(models[i, :], 2, \n",
    "                                            y_pred, np.sqrt(sigma_hat), np.sqrt(ss))\n",
    "\n",
    "    y_pred = X_test @ models[i, :] + intercepts[i]\n",
    "    sigma_hat = np.mean(np.linalg.norm(y_test - y_pred))\n",
    "    exact_penalized_risk_test[i] = risk.exact_penalized_KL(models[i, :], 2,\n",
    "                                                y_pred, np.sqrt(sigma_hat), np.sqrt(ss))\n",
    "    \n",
    "for i in range(imodels.shape[0]):\n",
    "    y_pred = X @ imodels[i, :] + iintercepts[i]\n",
    "    sigma_hat = np.mean(np.linalg.norm(y - y_pred))\n",
    "    iexact_penalized_risk[i] = risk.exact_penalized_KL(imodels[i, :], 2,\n",
    "                                             y_pred, np.sqrt(sigma_hat), np.sqrt(ss))\n",
    "\n",
    "    y_pred = X_test @ imodels[i, :] + iintercepts[i]\n",
    "    sigma_hat = np.mean(np.linalg.norm(y_test - y_pred))\n",
    "    iexact_penalized_risk_test[i] = risk.exact_penalized_KL(imodels[i, :], 2,\n",
    "                                                  y_pred, np.sqrt(sigma_hat), np.sqrt(ss))"
   ]
  },
  {
   "cell_type": "code",
   "execution_count": 12,
   "metadata": {},
   "outputs": [
    {
     "data": {
      "text/plain": [
       "<matplotlib.collections.PathCollection at 0x16f579824a8>"
      ]
     },
     "execution_count": 12,
     "metadata": {},
     "output_type": "execute_result"
    },
    {
     "data": {
      "image/png": "[encoded data removed]",
      "text/plain": [
       "<Figure size 432x288 with 1 Axes>"
      ]
     },
     "metadata": {
      "needs_background": "light"
     },
     "output_type": "display_data"
    }
   ],
   "source": [
    "plt.scatter(support_sa, exact_penalized_risk)\n",
    "plt.scatter(isupport_sa, iexact_penalized_risk)"
   ]
  },
  {
   "cell_type": "code",
   "execution_count": 13,
   "metadata": {},
   "outputs": [
    {
     "data": {
      "text/plain": [
       "<matplotlib.collections.PathCollection at 0x16f578cb400>"
      ]
     },
     "execution_count": 13,
     "metadata": {},
     "output_type": "execute_result"
    },
    {
     "data": {
      "image/png": "[encoded data removed]",
      "text/plain": [
       "<Figure size 432x288 with 1 Axes>"
      ]
     },
     "metadata": {
      "needs_background": "light"
     },
     "output_type": "display_data"
    }
   ],
   "source": [
    "plt.scatter(support_sa, exact_penalized_risk_test)\n",
    "plt.scatter(isupport_sa, iexact_penalized_risk_test)"
   ]
  },
  {
   "cell_type": "markdown",
   "metadata": {},
   "source": [
    "### Instead of considering all possible subsets, use UoI to do feature selection"
   ]
  },
  {
   "cell_type": "code",
   "execution_count": 14,
   "metadata": {},
   "outputs": [
    {
     "data": {
      "text/plain": [
       "UoI_Lasso(comm=None, copy_X=True, eps=0.001, estimation_frac=0.9,\n",
       "     estimation_score='AIC', fit_intercept=True, manual_penalty=2,\n",
       "     max_iter=None, n_boots_est=48, n_boots_sel=48, n_lambdas=48,\n",
       "     normalize=True,\n",
       "     random_state=<module 'numpy.random' from 'C:\\\\Users\\\\Ankit\\\\Miniconda3\\\\envs\\\\nse\\\\lib\\\\site-packages\\\\numpy\\\\random\\\\__init__.py'>,\n",
       "     selection_frac=0.9, stability_selection=1.0, warm_start=None)"
      ]
     },
     "execution_count": 14,
     "metadata": {},
     "output_type": "execute_result"
    }
   ],
   "source": [
    "uoil = UoI_Lasso(estimation_score = 'AIC')\n",
    "uoil.fit(X, y)"
   ]
  },
  {
   "cell_type": "code",
   "execution_count": 15,
   "metadata": {},
   "outputs": [
    {
     "data": {
      "text/plain": [
       "array([0.9])"
      ]
     },
     "execution_count": 15,
     "metadata": {},
     "output_type": "execute_result"
    }
   ],
   "source": [
    "selection_accuracy(beta.ravel(), uoil.coef_)"
   ]
  },
  {
   "cell_type": "code",
   "execution_count": 16,
   "metadata": {},
   "outputs": [
    {
     "data": {
      "text/plain": [
       "array([0.85])"
      ]
     },
     "execution_count": 16,
     "metadata": {},
     "output_type": "execute_result"
    }
   ],
   "source": [
    "selection_accuracy(beta.ravel(), uoil.alt_coef_)"
   ]
  },
  {
   "cell_type": "code",
   "execution_count": 17,
   "metadata": {},
   "outputs": [
    {
     "data": {
      "text/plain": [
       "array([[0.        ],\n",
       "       [1.2946818 ],\n",
       "       [0.        ],\n",
       "       [0.        ],\n",
       "       [0.        ],\n",
       "       [5.53285227],\n",
       "       [0.        ],\n",
       "       [6.80744779],\n",
       "       [0.        ],\n",
       "       [0.        ]])"
      ]
     },
     "execution_count": 17,
     "metadata": {},
     "output_type": "execute_result"
    }
   ],
   "source": [
    "beta"
   ]
  },
  {
   "cell_type": "code",
   "execution_count": 18,
   "metadata": {},
   "outputs": [
    {
     "data": {
      "text/plain": [
       "array([1.39865747, 2.81312678, 0.        , 0.        , 0.        ,\n",
       "       3.67252233, 0.        , 2.83841335, 0.        , 3.00379229])"
      ]
     },
     "execution_count": 18,
     "metadata": {},
     "output_type": "execute_result"
    }
   ],
   "source": [
    "uoil.coef_"
   ]
  },
  {
   "cell_type": "code",
   "execution_count": 19,
   "metadata": {},
   "outputs": [
    {
     "data": {
      "text/plain": [
       "(10, 10)"
      ]
     },
     "execution_count": 19,
     "metadata": {},
     "output_type": "execute_result"
    }
   ],
   "source": [
    "uoil.supports_.shape"
   ]
  },
  {
   "cell_type": "code",
   "execution_count": 20,
   "metadata": {},
   "outputs": [],
   "source": [
    "# Fit OLS to the uoi supports \n",
    "uoi_models = np.zeros(uoil.supports_.shape)\n",
    "uoi_intercepts = np.zeros(uoil.supports_.shape[0])\n",
    "for i in range(uoil.supports_.shape[0]):\n",
    "    s = uoil.supports_[i, :]\n",
    "    if X[:, s].size == 0:\n",
    "        pass\n",
    "    else:\n",
    "        m = LinearRegression().fit(X[:, s], y)\n",
    "        uoi_models[i, s] = m.coef_.ravel()\n",
    "        uoi_intercepts[i] = m.intercept_"
   ]
  },
  {
   "cell_type": "code",
   "execution_count": 21,
   "metadata": {},
   "outputs": [],
   "source": [
    "# Assess the ordinary risk on uoi_models\n",
    "uoi_exact_risk = np.zeros(uoi_models.shape[0])\n",
    "uoi_exact_risk_test = np.zeros(uoi_models.shape[0])\n",
    "\n",
    "uoi_empirical_risk = np.zeros(uoi_models.shape[0])\n",
    "uoi_empirical_risk_test = np.zeros(uoi_models.shape[0])\n",
    "\n",
    "uoi_MIC = np.zeros(uoi_models.shape[0])\n",
    "uoi_MIC_test = np.zeros(uoi_models.shape[0])\n",
    "\n",
    "for i in range(uoi_models.shape[0]):\n",
    "    y_pred = X @ uoi_models[i, :] + uoi_intercepts[i]\n",
    "    sigma_hat = np.mean(np.linalg.norm(y - y_pred))\n",
    "    uoi_exact_risk[i] = risk.calc_KL_div(y_pred, np.sqrt(sigma_hat), np.sqrt(ss))\n",
    "    \n",
    "    uoi_empirical_risk[i] = risk.empirical_KL_estimate(y, y_pred, np.sqrt(sigma_hat))\n",
    "    uoi_MIC[i] = risk.MIC(y, y_pred, np.sqrt(sigma_hat), np.count_nonzero(uoi_models[i, :]), 2)\n",
    "    \n",
    "    y_pred = X_test @ uoi_models[i, :] + uoi_intercepts[i]\n",
    "    sigma_hat = np.mean(np.linalg.norm(y_test - y_pred))\n",
    "    uoi_exact_risk_test[i] = risk.calc_KL_div(y_pred, np.sqrt(sigma_hat), np.sqrt(ss))\n",
    "    uoi_empirical_risk_test[i] = risk.empirical_KL_estimate(y_test, y_pred, np.sqrt(sigma_hat))\n",
    "    uoi_MIC_test[i] = risk.MIC(y_test, y_pred, np.sqrt(sigma_hat), np.count_nonzero(uoi_models[i, :]), 2)\n"
   ]
  },
  {
   "cell_type": "code",
   "execution_count": 22,
   "metadata": {},
   "outputs": [],
   "source": [
    "uoi_sa = selection_accuracy(beta.ravel(), uoi_models)"
   ]
  },
  {
   "cell_type": "code",
   "execution_count": 23,
   "metadata": {},
   "outputs": [
    {
     "data": {
      "text/plain": [
       "<matplotlib.collections.PathCollection at 0x16f57aa6550>"
      ]
     },
     "execution_count": 23,
     "metadata": {},
     "output_type": "execute_result"
    },
    {
     "data": {
      "image/png": "[encoded data removed]",
      "text/plain": [
       "<Figure size 432x288 with 1 Axes>"
      ]
     },
     "metadata": {
      "needs_background": "light"
     },
     "output_type": "display_data"
    }
   ],
   "source": [
    "plt.scatter(uoi_sa, uoi_exact_risk)"
   ]
  },
  {
   "cell_type": "markdown",
   "metadata": {},
   "source": [
    "### Can think about coloring these points by whether they belong to \"correct\" models or not."
   ]
  },
  {
   "cell_type": "code",
   "execution_count": 24,
   "metadata": {},
   "outputs": [
    {
     "data": {
      "text/plain": [
       "<matplotlib.collections.PathCollection at 0x16f57b07160>"
      ]
     },
     "execution_count": 24,
     "metadata": {},
     "output_type": "execute_result"
    },
    {
     "data": {
      "image/png": "[encoded data removed]",
      "text/plain": [
       "<Figure size 432x288 with 1 Axes>"
      ]
     },
     "metadata": {
      "needs_background": "light"
     },
     "output_type": "display_data"
    }
   ],
   "source": [
    "plt.scatter(uoi_sa, uoi_MIC_test)"
   ]
  },
  {
   "cell_type": "code",
   "execution_count": 25,
   "metadata": {},
   "outputs": [
    {
     "data": {
      "text/plain": [
       "array([False, False, False, False, False,  True, False,  True, False,\n",
       "        True])"
      ]
     },
     "execution_count": 25,
     "metadata": {},
     "output_type": "execute_result"
    }
   ],
   "source": [
    "uoil.supports_[3, :]"
   ]
  },
  {
   "cell_type": "code",
   "execution_count": 26,
   "metadata": {},
   "outputs": [
    {
     "data": {
      "text/plain": [
       "array([5, 5, 5, 4, 6, 4, 5, 4, 4, 4, 5, 4, 5, 4, 6, 6, 4, 5, 4, 5, 6, 5,\n",
       "       6, 6, 4, 4, 5, 6, 6, 5, 6, 4, 4, 4, 4, 5, 4, 5, 4, 4, 4, 6, 6, 5,\n",
       "       5, 5, 5, 4], dtype=int64)"
      ]
     },
     "execution_count": 26,
     "metadata": {},
     "output_type": "execute_result"
    }
   ],
   "source": [
    "uoil.rp_max_idx_"
   ]
  },
  {
   "cell_type": "code",
   "execution_count": 27,
   "metadata": {},
   "outputs": [
    {
     "data": {
      "text/plain": [
       "array([284.70331789, 286.9745517 , 287.25983128, 286.32656372,\n",
       "       285.66754569, 284.09163764, 282.37339861, 280.43399035,\n",
       "       278.47985249, 276.48003409])"
      ]
     },
     "execution_count": 27,
     "metadata": {},
     "output_type": "execute_result"
    }
   ],
   "source": [
    "uoi_MIC"
   ]
  },
  {
   "cell_type": "code",
   "execution_count": 28,
   "metadata": {},
   "outputs": [
    {
     "data": {
      "text/plain": [
       "<matplotlib.collections.PathCollection at 0x16f57b663c8>"
      ]
     },
     "execution_count": 28,
     "metadata": {},
     "output_type": "execute_result"
    },
    {
     "data": {
      "image/png": "[encoded data removed]",
      "text/plain": [
       "<Figure size 432x288 with 1 Axes>"
      ]
     },
     "metadata": {
      "needs_background": "light"
     },
     "output_type": "display_data"
    }
   ],
   "source": [
    "plt.scatter(uoi_sa, uoi_MIC)"
   ]
  },
  {
   "cell_type": "code",
   "execution_count": 29,
   "metadata": {},
   "outputs": [
    {
     "data": {
      "text/plain": [
       "(48,)"
      ]
     },
     "execution_count": 29,
     "metadata": {},
     "output_type": "execute_result"
    }
   ],
   "source": [
    "uoil.rp_max_idx_.shape"
   ]
  },
  {
   "cell_type": "code",
   "execution_count": 30,
   "metadata": {},
   "outputs": [
    {
     "data": {
      "text/plain": [
       "(10, 10)"
      ]
     },
     "execution_count": 30,
     "metadata": {},
     "output_type": "execute_result"
    }
   ],
   "source": [
    "uoil.supports_.shape"
   ]
  },
  {
   "cell_type": "code",
   "execution_count": 31,
   "metadata": {},
   "outputs": [
    {
     "data": {
      "text/plain": [
       "(48, 10)"
      ]
     },
     "execution_count": 31,
     "metadata": {},
     "output_type": "execute_result"
    }
   ],
   "source": [
    "uoil.scores_.shape"
   ]
  },
  {
   "cell_type": "code",
   "execution_count": 32,
   "metadata": {},
   "outputs": [
    {
     "data": {
      "text/plain": [
       "<matplotlib.collections.PathCollection at 0x16f57bbd908>"
      ]
     },
     "execution_count": 32,
     "metadata": {},
     "output_type": "execute_result"
    },
    {
     "data": {
      "image/png": "[encoded data removed]",
      "text/plain": [
       "<Figure size 432x288 with 1 Axes>"
      ]
     },
     "metadata": {
      "needs_background": "light"
     },
     "output_type": "display_data"
    }
   ],
   "source": [
    "x = np.zeros(uoil.scores_.shape)\n",
    "for i in range(uoil.scores_.shape[0]):\n",
    "    for j in range(uoil.scores_.shape[1]):\n",
    "        x[i, j] = uoi_sa[j]\n",
    "y = uoil.scores_[np.arange(48), uoil.rp_max_idx_]\n",
    "plt.scatter(x.ravel(), uoil.scores_.ravel())"
   ]
  },
  {
   "cell_type": "markdown",
   "metadata": {},
   "source": [
    "### We are missing something here. Few things to try out  - how does AIC and other estimators (incl. MIC) behave differently to the picture above? Are we sure that our risk function is correct? Seems inappropriate to be pointing towarsd the null model. Then, there is the issue of the size of the test data set being 1/10 the size of the train data set. Does this play into it?"
   ]
  },
  {
   "cell_type": "code",
   "execution_count": 20,
   "metadata": {},
   "outputs": [],
   "source": [
    "from sklearn.model_selection import train_test_split\n",
    "from sklearn.linear_model import LinearRegression"
   ]
  },
  {
   "cell_type": "code",
   "execution_count": 24,
   "metadata": {},
   "outputs": [],
   "source": [
    "# Reproduce the situation above, but now fit the models on 90 % of the data and evaluate test scores on the remaining 10 %.\n",
    "\n",
    "# Create bootstraps\n",
    "n_boots = 48\n",
    "\n",
    "boot_exact_risk = np.zeros((uoil.supports_.shape[0], n_boots))\n",
    "boot_exact_risk_test = np.zeros((uoil.supports_.shape[0], n_boots))\n",
    "\n",
    "boot_empirical_risk = np.zeros((uoil.supports_.shape[0], n_boots))\n",
    "boot_empirical_risk_test = np.zeros((uoil.supports_.shape[0], n_boots))\n",
    "\n",
    "boot_MIC = np.zeros((uoil.supports_.shape[0], n_boots))\n",
    "boot_MIC_test = np.zeros((uoil.supports_.shape[0], n_boots))\n",
    "\n",
    "boot_sa = np.zeros((uoil.supports_.shape[0], n_boots))\n",
    "\n",
    "boot_models = np.zeros(((uoil.supports_.shape) + (n_boots,)))\n",
    "\n",
    "for i in range(uoil.supports_.shape[0]):\n",
    "\n",
    "    s = uoil.supports_[i, :]\n",
    "    \n",
    "    for boot in range(n_boots):\n",
    "        \n",
    "        # Bootstrap the data:\n",
    "        train_idxs, test_idxs = train_test_split(np.arange(X.shape[0]),\n",
    "                                                test_size = 0.1)\n",
    "        X_b = X[train_idxs]\n",
    "        X_t = X[test_idxs]\n",
    "        y_b = y[train_idxs]\n",
    "        y_t = y[test_idxs]\n",
    "                \n",
    "        # Fit OLS model\n",
    "       \n",
    "        \n",
    "        m = np.zeros(n_features)\n",
    "        m[s] = mm.ravel()\n",
    "        boot_models[i, s, boot] = mm.ravel()\n",
    "        \n",
    "        # Calculate risks on bootstrap and test samples:\n",
    "        y_pred = X_b @ m.ravel() \n",
    "        sigma_hat = np.mean(np.linalg.norm(y_b - X_b @ m.ravel()))\n",
    "        boot_exact_risk[i, boot] = risk.calc_KL_div(X_b @ m.ravel(), np.sqrt(sigma_hat), np.sqrt(ss))\n",
    "\n",
    "        boot_empirical_risk[i, boot] = risk.empirical_KL_estimate(y_b, X_b @ m.ravel(), np.sqrt(sigma_hat))\n",
    "        boot_MIC[i, boot] = risk.MIC(y_b, X_b @ m.ravel(), np.sqrt(sigma_hat), np.count_nonzero(m.ravel()), 2)\n",
    "\n",
    "        sigma_hat = np.mean(np.linalg.norm(y_t - X_t @ m.ravel()))\n",
    "        boot_exact_risk_test[i, boot] = risk.calc_KL_div(X_t @ m.ravel(), np.sqrt(sigma_hat), np.sqrt(ss))\n",
    "        boot_empirical_risk_test[i, boot] = risk.empirical_KL_estimate(y_t, X_t @ m.ravel(), np.sqrt(sigma_hat))\n",
    "        boot_MIC_test[i, boot] = risk.MIC(y_t, X_t @ m.ravel(), np.sqrt(sigma_hat), np.count_nonzero(m.ravel()), 2)\n",
    "\n",
    "        boot_sa[i, boot] = selection_accuracy(beta.ravel(), m)"
   ]
  },
  {
   "cell_type": "code",
   "execution_count": 25,
   "metadata": {},
   "outputs": [
    {
     "data": {
      "text/plain": [
       "array([ 0.        ,  0.        ,  0.        ,  4.47360669,  7.27347493,\n",
       "        0.        , -6.14595958,  4.28289664,  0.        ,  0.        ])"
      ]
     },
     "execution_count": 25,
     "metadata": {},
     "output_type": "execute_result"
    }
   ],
   "source": [
    "uoil.estimates_[40, 4, :]"
   ]
  },
  {
   "cell_type": "code",
   "execution_count": 26,
   "metadata": {},
   "outputs": [
    {
     "data": {
      "text/plain": [
       "array([ 0.        ,  0.        ,  0.        ,  4.90370166,  6.67966151,\n",
       "        0.        , -4.47852035,  4.31226915,  0.        ,  0.        ])"
      ]
     },
     "execution_count": 26,
     "metadata": {},
     "output_type": "execute_result"
    }
   ],
   "source": [
    "boot_models[4, :, 40]"
   ]
  },
  {
   "cell_type": "markdown",
   "metadata": {},
   "source": [
    "#### WTF is going on with these estimates above? --> fixed, has to do with preprocess data"
   ]
  },
  {
   "cell_type": "code",
   "execution_count": 68,
   "metadata": {},
   "outputs": [],
   "source": [
    "# Compare the output of sklearn Linear Regression with scipy lstsq\n",
    "\n",
    "s = uoil.supports_[4, :]\n",
    "\n",
    "# Draw a bootstrap sample:\n",
    "train_idxs, test_idxs = train_test_split(np.arange(X.shape[0]),\n",
    "                                        test_size = 0.1)\n",
    "# Draw a bootstrap sample:\n",
    "X_b = X[train_idxs]\n",
    "X_t = X[test_idxs]\n",
    "y_b = y[train_idxs]\n",
    "y_t = y[test_idxs]\n",
    "\n",
    "mm, _, _, _ = scipy.linalg.lstsq(X_b[:, s], y_b)\n",
    "\n",
    "lin_model = LinearRegression().fit(X_b[:, s], y_b)\n"
   ]
  },
  {
   "cell_type": "code",
   "execution_count": 29,
   "metadata": {},
   "outputs": [
    {
     "data": {
      "text/plain": [
       "<matplotlib.collections.PathCollection at 0x1ce2cc79978>"
      ]
     },
     "execution_count": 29,
     "metadata": {},
     "output_type": "execute_result"
    },
    {
     "data": {
      "image/png": "[encoded data removed]",
      "text/plain": [
       "<Figure size 432x288 with 1 Axes>"
      ]
     },
     "metadata": {
      "needs_background": "light"
     },
     "output_type": "display_data"
    }
   ],
   "source": [
    "plt.scatter(boot_sa[:, 35].ravel(), boot_MIC_test[:, 35].ravel())"
   ]
  },
  {
   "cell_type": "code",
   "execution_count": null,
   "metadata": {},
   "outputs": [],
   "source": [
    "# What is the selection accuracy across individual best estimates?"
   ]
  },
  {
   "cell_type": "code",
   "execution_count": 33,
   "metadata": {},
   "outputs": [
    {
     "data": {
      "text/plain": [
       "array([[False],\n",
       "       [ True],\n",
       "       [False],\n",
       "       [ True],\n",
       "       [ True],\n",
       "       [False],\n",
       "       [False],\n",
       "       [ True],\n",
       "       [False],\n",
       "       [False]])"
      ]
     },
     "execution_count": 33,
     "metadata": {},
     "output_type": "execute_result"
    }
   ],
   "source": [
    "beta != 0"
   ]
  },
  {
   "cell_type": "code",
   "execution_count": 35,
   "metadata": {},
   "outputs": [
    {
     "data": {
      "text/plain": [
       "array([2, 2, 3, 2, 7, 6, 7, 4, 5, 1, 1, 6, 5, 1, 0, 1, 2, 7, 4, 4, 1, 0,\n",
       "       4, 3, 5, 3, 4, 2, 0, 5, 4, 2, 7, 4, 3, 0, 7, 1, 3, 4, 3, 7, 3, 2,\n",
       "       5, 4, 2, 1], dtype=int64)"
      ]
     },
     "execution_count": 35,
     "metadata": {},
     "output_type": "execute_result"
    }
   ],
   "source": [
    "uoil.alt_rp_max_idx_"
   ]
  },
  {
   "cell_type": "code",
   "execution_count": 31,
   "metadata": {},
   "outputs": [
    {
     "data": {
      "text/plain": [
       "array([ True, False,  True,  True,  True, False,  True,  True,  True,\n",
       "        True])"
      ]
     },
     "execution_count": 31,
     "metadata": {},
     "output_type": "execute_result"
    }
   ],
   "source": [
    "buoil.supports_[8, :]"
   ]
  },
  {
   "cell_type": "markdown",
   "metadata": {},
   "source": [
    "### Really do cross-validation as opposed to this single fold"
   ]
  },
  {
   "cell_type": "markdown",
   "metadata": {},
   "source": [
    "### Get at the asymptotics, just to make sure we understand what is going on --> even if it isn't necessarily useful"
   ]
  },
  {
   "cell_type": "code",
   "execution_count": null,
   "metadata": {},
   "outputs": [],
   "source": [
    "# First thing to do - MIC on the train data with a much wider range of penalties. Does this lead to good performance?"
   ]
  }
 ],
 "metadata": {
  "kernelspec": {
   "display_name": "Python 3",
   "language": "python",
   "name": "python3"
  },
  "language_info": {
   "codemirror_mode": {
    "name": "ipython",
    "version": 3
   },
   "file_extension": ".py",
   "mimetype": "text/x-python",
   "name": "python",
   "nbconvert_exporter": "python",
   "pygments_lexer": "ipython3",
   "version": "3.6.6"
  }
 },
 "nbformat": 4,
 "nbformat_minor": 2
}
