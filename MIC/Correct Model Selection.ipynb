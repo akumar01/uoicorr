{
 "cells": [
  {
   "cell_type": "code",
   "execution_count": 1,
   "metadata": {},
   "outputs": [],
   "source": [
    "import sys, os\n",
    "import numpy as np\n",
    "import matplotlib.pyplot as plt\n",
    "import time\n",
    "import pdb\n",
    "\n",
    "sys.path.append('..')\n",
    "\n",
    "from utils import gen_covariance, gen_beta2, gen_data, get_cov_list\n",
    "from utils import selection_accuracy\n",
    "from sklearn.linear_model import LassoLars, lasso_path, LinearRegression\n",
    "\n",
    "from pyuoi.linear_model import UoI_Lasso"
   ]
  },
  {
   "cell_type": "code",
   "execution_count": 2,
   "metadata": {},
   "outputs": [],
   "source": [
    "import itertools, scipy, risk"
   ]
  },
  {
   "cell_type": "markdown",
   "metadata": {},
   "source": [
    "### Consider a paired down, 10 feature linear regression problem. There is an optimal \"correct\" model living in a particular 4 feature subspace of the full parameter space. There are 1024 distinct model supports. Some large subset of these model supports will also contain \"correct\" models. The problem with using a likelihood based risk function is that the resultant estimated distributions will exhibit nearly the same risk. Let's illustrate this explicitly:"
   ]
  },
  {
   "cell_type": "code",
   "execution_count": 3,
   "metadata": {},
   "outputs": [],
   "source": [
    "n_features = 10\n",
    "n_samples = 50\n",
    "\n",
    "# Diagonal covariance\n",
    "sigma = gen_covariance(n_features, 0, n_features, 1, 0)\n",
    "\n",
    "# Beta \n",
    "beta = gen_beta2(n_features, n_features, 0.4)\n",
    "\n",
    "# Data\n",
    "X, X_test, y, y_test, ss = gen_data(n_samples, n_features, covariance = sigma, beta = beta, kappa = 100)\n",
    "\n",
    "# Center the generated data:\n",
    "y -= np.mean(y)\n",
    "# Normalize the predictors to have unit variance\n",
    "X -= np.mean(X, axis = 0)\n",
    "X /= np.std(X, axis = 0)"
   ]
  },
  {
   "cell_type": "code",
   "execution_count": 4,
   "metadata": {},
   "outputs": [],
   "source": [
    "# Search through all possible models and narrow it down to correct models\n",
    "supports = list(itertools.product([0, 1], repeat = 10))\n",
    "correct = np.zeros(len(supports))\n",
    "for i, s in enumerate(supports):\n",
    "    if np.array_equal(np.bitwise_and(beta.ravel() != 0, s), beta.ravel() != 0):\n",
    "        correct[i] = 1"
   ]
  },
  {
   "cell_type": "code",
   "execution_count": 5,
   "metadata": {},
   "outputs": [],
   "source": [
    "# For all correct models, fit OLS models. \n",
    "correct_supports = np.array(supports)[correct.astype(bool)].astype(bool)\n",
    "models = np.zeros(correct_supports.shape)\n",
    "intercepts = np.zeros(correct_supports.shape[0])\n",
    "for i in range(correct_supports.shape[0]):\n",
    "    cs = correct_supports[i, :]\n",
    "    if X[:, cs].size > 0:\n",
    "        linmodel = LinearRegression().fit(X[:, cs], y)\n",
    "        models[i, cs] = linmodel.coef_.ravel()\n",
    "        intercepts[i] = linmodel.intercept_ "
   ]
  },
  {
   "cell_type": "code",
   "execution_count": 6,
   "metadata": {},
   "outputs": [],
   "source": [
    "# For all incorrect models, fit OLS models.\n",
    "incorrect_supports = np.array(supports)[np.invert(correct.astype(bool))].astype(bool)\n",
    "imodels = np.zeros(incorrect_supports.shape)\n",
    "iintercepts = np.zeros(incorrect_supports.shape[0])\n",
    "for i in range(incorrect_supports.shape[0]):\n",
    "    ics = incorrect_supports[i, :]\n",
    "    if X[:, ics].size > 0:\n",
    "        linmodel = LinearRegression().fit(X[:, ics], y)\n",
    "        imodels[i, ics] = linmodel.coef_.ravel()\n",
    "        iintercepts[i] = linmodel.intercept_ "
   ]
  },
  {
   "cell_type": "code",
   "execution_count": 7,
   "metadata": {},
   "outputs": [],
   "source": [
    "# Assess the ordinary risk on all models\n",
    "exact_risk = np.zeros(models.shape[0])\n",
    "exact_risk_test = np.zeros(models.shape[0])\n",
    "\n",
    "iexact_risk = np.zeros(imodels.shape[0])\n",
    "iexact_risk_test = np.zeros(imodels.shape[0])\n",
    "\n",
    "empirical_risk = np.zeros(models.shape[0])\n",
    "empirical_risk_test = np.zeros(models.shape[0])\n",
    "\n",
    "iempirical_risk = np.zeros(imodels.shape[0])\n",
    "iempirical_risk_test = np.zeros(imodels.shape[0])\n",
    "\n",
    "for i in range(models.shape[0]):\n",
    "    y_pred = X @ models[i, :] + intercepts[i]\n",
    "    sigma_hat = np.mean((y - y_pred)**2)\n",
    "    exact_risk[i] = risk.calc_KL_div(y_pred, np.sqrt(sigma_hat), np.sqrt(ss))\n",
    "    empirical_risk[i] = risk.MIC(y, y_pred, np.sqrt(sigma_hat), \n",
    "                                 np.count_nonzero(models[i, :]), 1)\n",
    "    \n",
    "#     sigma_hat = np.mean(np.linalg.norm(y_test - X_test @ models[i, :]))\n",
    "#     exact_risk_test[i] = risk.calc_KL_div(X_test @ models[i, :], np.sqrt(sigma_hat), np.sqrt(ss))\n",
    "#     empirical_risk_test[i] = risk.empirical_KL_estimate(y_test, X_test @ models[i, :], np.sqrt(sigma_hat))\n",
    "    \n",
    "for i in range(imodels.shape[0]):\n",
    "    y_pred = X @ imodels[i, :] + iintercepts[i]\n",
    "    sigma_hat = np.mean((y - y_pred)**2)\n",
    "    iexact_risk[i] = risk.calc_KL_div(y_pred, np.sqrt(sigma_hat), np.sqrt(ss))\n",
    "    iempirical_risk[i] = risk.MIC(y, y_pred, np.sqrt(sigma_hat),\n",
    "                                  np.count_nonzero(imodels[i, :]), 1)\n",
    "        \n",
    "#     sigma_hat = np.mean(np.linalg.norm(y_test - X_test @ imodels[i, :]))\n",
    "#     iexact_risk_test[i] = risk.calc_KL_div(X_test @ imodels[i, :], np.sqrt(sigma_hat), np.sqrt(ss))\n",
    "#     iempirical_risk_test[i] = risk.empirical_KL_estimate(y_test, X_test @ imodels[i, :], np.sqrt(sigma_hat))\n"
   ]
  },
  {
   "cell_type": "code",
   "execution_count": 8,
   "metadata": {},
   "outputs": [],
   "source": [
    "# Distribution of the exact risk as a function of selection_accuracy\n",
    "support_sa = selection_accuracy(beta.ravel(), models)\n",
    "isupport_sa = selection_accuracy(beta.ravel(), imodels)"
   ]
  },
  {
   "cell_type": "code",
   "execution_count": 9,
   "metadata": {},
   "outputs": [
    {
     "data": {
      "text/plain": [
       "array([[2.61307953],\n",
       "       [0.        ],\n",
       "       [0.        ],\n",
       "       [8.28094507],\n",
       "       [0.        ],\n",
       "       [9.82872119],\n",
       "       [0.        ],\n",
       "       [0.        ],\n",
       "       [0.        ],\n",
       "       [9.23047372]])"
      ]
     },
     "execution_count": 9,
     "metadata": {},
     "output_type": "execute_result"
    }
   ],
   "source": [
    "beta"
   ]
  },
  {
   "cell_type": "code",
   "execution_count": 10,
   "metadata": {},
   "outputs": [
    {
     "data": {
      "text/plain": [
       "<matplotlib.collections.PathCollection at 0x7f23dc1a74a8>"
      ]
     },
     "execution_count": 10,
     "metadata": {},
     "output_type": "execute_result"
    },
    {
     "data": {
      "image/png": "[encoded data removed]",
      "text/plain": [
       "<Figure size 432x288 with 1 Axes>"
      ]
     },
     "metadata": {
      "needs_background": "light"
     },
     "output_type": "display_data"
    }
   ],
   "source": [
    "plt.scatter(support_sa, exact_risk, alpha = 0.5)\n",
    "plt.scatter(isupport_sa, iexact_risk, alpha = 0.5)"
   ]
  },
  {
   "cell_type": "code",
   "execution_count": 11,
   "metadata": {},
   "outputs": [
    {
     "data": {
      "text/plain": [
       "array([[2.61307953],\n",
       "       [0.        ],\n",
       "       [0.        ],\n",
       "       [8.28094507],\n",
       "       [0.        ],\n",
       "       [9.82872119],\n",
       "       [0.        ],\n",
       "       [0.        ],\n",
       "       [0.        ],\n",
       "       [9.23047372]])"
      ]
     },
     "execution_count": 11,
     "metadata": {},
     "output_type": "execute_result"
    }
   ],
   "source": [
    "beta"
   ]
  },
  {
   "cell_type": "code",
   "execution_count": 12,
   "metadata": {},
   "outputs": [],
   "source": [
    "# How do we make sense of the null model having the best risk? Does y truly have mean 0? Can we fix this through \n",
    "# some kind of standardization?"
   ]
  },
  {
   "cell_type": "code",
   "execution_count": 13,
   "metadata": {},
   "outputs": [],
   "source": [
    "# For MPI: Need to do 2-3 reps, and see if switching to the lowercase function fixes our problem"
   ]
  },
  {
   "cell_type": "code",
   "execution_count": 14,
   "metadata": {},
   "outputs": [
    {
     "data": {
      "text/plain": [
       "array([2.66324556, 0.        , 0.        , 7.55495649, 0.        ,\n",
       "       8.83839153, 0.        , 0.        , 0.        , 9.20318898])"
      ]
     },
     "execution_count": 14,
     "metadata": {},
     "output_type": "execute_result"
    }
   ],
   "source": [
    "models[np.argmax(support_sa)]"
   ]
  },
  {
   "cell_type": "code",
   "execution_count": 15,
   "metadata": {},
   "outputs": [],
   "source": [
    "y_pred = X @ models[np.argmax(support_sa)]\n",
    "sigma_hat2 = np.mean((y.ravel() - y_pred)**2)"
   ]
  },
  {
   "cell_type": "code",
   "execution_count": 16,
   "metadata": {},
   "outputs": [
    {
     "data": {
      "text/plain": [
       "(50,)"
      ]
     },
     "execution_count": 16,
     "metadata": {},
     "output_type": "execute_result"
    }
   ],
   "source": [
    "y_pred.shape"
   ]
  },
  {
   "cell_type": "code",
   "execution_count": 17,
   "metadata": {},
   "outputs": [
    {
     "data": {
      "text/plain": [
       "111.92054941736725"
      ]
     },
     "execution_count": 17,
     "metadata": {},
     "output_type": "execute_result"
    }
   ],
   "source": [
    "np.linalg.norm(y_pred)"
   ]
  },
  {
   "cell_type": "code",
   "execution_count": 18,
   "metadata": {},
   "outputs": [
    {
     "data": {
      "text/plain": [
       "56.11590183531253"
      ]
     },
     "execution_count": 18,
     "metadata": {},
     "output_type": "execute_result"
    }
   ],
   "source": [
    "np.linalg.norm(beta - models[np.argmax(support_sa)])"
   ]
  },
  {
   "cell_type": "code",
   "execution_count": 19,
   "metadata": {},
   "outputs": [
    {
     "data": {
      "text/plain": [
       "253.0516721856002"
      ]
     },
     "execution_count": 19,
     "metadata": {},
     "output_type": "execute_result"
    }
   ],
   "source": [
    "np.mean(y**2)"
   ]
  },
  {
   "cell_type": "code",
   "execution_count": 20,
   "metadata": {},
   "outputs": [
    {
     "data": {
      "text/plain": [
       "12652.583609280011"
      ]
     },
     "execution_count": 20,
     "metadata": {},
     "output_type": "execute_result"
    }
   ],
   "source": [
    "np.linalg.norm(y)**2"
   ]
  },
  {
   "cell_type": "code",
   "execution_count": 21,
   "metadata": {},
   "outputs": [
    {
     "data": {
      "text/plain": [
       "2.527484547893643"
      ]
     },
     "execution_count": 21,
     "metadata": {},
     "output_type": "execute_result"
    }
   ],
   "source": [
    "np.mean((y.ravel() - y_pred)**2)"
   ]
  },
  {
   "cell_type": "code",
   "execution_count": 22,
   "metadata": {},
   "outputs": [],
   "source": [
    "sigma_hat = np.mean(y**2)"
   ]
  },
  {
   "cell_type": "code",
   "execution_count": 23,
   "metadata": {},
   "outputs": [
    {
     "data": {
      "text/plain": [
       "<matplotlib.collections.PathCollection at 0x7f23dc0b0ef0>"
      ]
     },
     "execution_count": 23,
     "metadata": {},
     "output_type": "execute_result"
    },
    {
     "data": {
      "image/png": "[encoded data removed]",
      "text/plain": [
       "<Figure size 432x288 with 1 Axes>"
      ]
     },
     "metadata": {
      "needs_background": "light"
     },
     "output_type": "display_data"
    }
   ],
   "source": [
    "plt.scatter(support_sa, empirical_risk, alpha = 0.5)\n",
    "plt.scatter(isupport_sa, iempirical_risk, alpha = 0.5)"
   ]
  },
  {
   "cell_type": "markdown",
   "metadata": {},
   "source": [
    "### The results are clear - the ordinary risk leads to near-optimal results w.r.t selecting the smallest correct model,  but does not perform adequately when the incorrect models are included in the candidate model set. Can we design a penalized likelihood function that acts like an oracle for the true support? ###"
   ]
  },
  {
   "cell_type": "code",
   "execution_count": 24,
   "metadata": {},
   "outputs": [],
   "source": [
    "# Assess the ordinary risk on all models\n",
    "exact_penalized_risk = np.zeros(models.shape[0])\n",
    "exact_penalized_risk_test = np.zeros(models.shape[0])\n",
    "\n",
    "iexact_penalized_risk = np.zeros(imodels.shape[0])\n",
    "iexact_penalized_risk_test = np.zeros(imodels.shape[0])\n",
    "\n",
    "for i in range(models.shape[0]):\n",
    "    sigma_hat = np.mean(np.linalg.norm(y - X @ models[i, :]))\n",
    "    exact_penalized_risk[i] = risk.exact_penalized_KL(models[i, :], 50, \n",
    "                                            X @ models[i, :], np.sqrt(sigma_hat), np.sqrt(ss))\n",
    "    \n",
    "    sigma_hat = np.mean(np.linalg.norm(y_test - X_test @ models[i, :]))\n",
    "    exact_penalized_risk_test[i] = risk.exact_penalized_KL(models[i, :], 50,\n",
    "                                                X_test @ models[i, :], np.sqrt(sigma_hat), np.sqrt(ss))\n",
    "    \n",
    "for i in range(imodels.shape[0]):\n",
    "    sigma_hat = np.mean(np.linalg.norm(y - X @ imodels[i, :]))\n",
    "    iexact_penalized_risk[i] = risk.exact_penalized_KL(imodels[i, :], 50,\n",
    "                                             X @ imodels[i, :], np.sqrt(sigma_hat), np.sqrt(ss))\n",
    "    \n",
    "    sigma_hat = np.mean(np.linalg.norm(y_test - X_test @ imodels[i, :]))\n",
    "    iexact_penalized_risk_test[i] = risk.exact_penalized_KL(imodels[i, :], 50,\n",
    "                                                  X_test @ imodels[i, :], np.sqrt(sigma_hat), np.sqrt(ss))"
   ]
  },
  {
   "cell_type": "code",
   "execution_count": 25,
   "metadata": {},
   "outputs": [
    {
     "data": {
      "text/plain": [
       "<matplotlib.collections.PathCollection at 0x7f23dc09add8>"
      ]
     },
     "execution_count": 25,
     "metadata": {},
     "output_type": "execute_result"
    },
    {
     "data": {
      "image/png": "[encoded data removed]",
      "text/plain": [
       "<Figure size 432x288 with 1 Axes>"
      ]
     },
     "metadata": {
      "needs_background": "light"
     },
     "output_type": "display_data"
    }
   ],
   "source": [
    "plt.scatter(support_sa, exact_penalized_risk)\n",
    "plt.scatter(isupport_sa, iexact_penalized_risk)"
   ]
  },
  {
   "cell_type": "markdown",
   "metadata": {},
   "source": [
    "### Instead of considering all possible subsets, use UoI to do feature selection"
   ]
  },
  {
   "cell_type": "code",
   "execution_count": 26,
   "metadata": {},
   "outputs": [
    {
     "data": {
      "text/plain": [
       "UoI_Lasso(comm=None, copy_X=True, eps=0.001, estimation_frac=0.9,\n",
       "     estimation_score='MIC', fit_intercept=True, manual_penalty=1,\n",
       "     max_iter=None, n_boots_est=48, n_boots_sel=48, n_lambdas=48,\n",
       "     noise_level=0, normalize=True,\n",
       "     random_state=<module 'numpy.random' from '/home/akumar/anaconda3/envs/nse/lib/python3.6/site-packages/numpy/random/__init__.py'>,\n",
       "     selection_frac=0.9, stability_selection=1.0, warm_start=None)"
      ]
     },
     "execution_count": 26,
     "metadata": {},
     "output_type": "execute_result"
    }
   ],
   "source": [
    "uoil = UoI_Lasso(fit_intercept = True, estimation_score = 'MIC', manual_penalty = 1)\n",
    "uoil.fit(X, y)"
   ]
  },
  {
   "cell_type": "code",
   "execution_count": 27,
   "metadata": {},
   "outputs": [
    {
     "data": {
      "text/plain": [
       "array([0.88888889])"
      ]
     },
     "execution_count": 27,
     "metadata": {},
     "output_type": "execute_result"
    }
   ],
   "source": [
    "selection_accuracy(beta.ravel(), uoil.coef_)"
   ]
  },
  {
   "cell_type": "code",
   "execution_count": null,
   "metadata": {},
   "outputs": [],
   "source": [
    "beta"
   ]
  },
  {
   "cell_type": "code",
   "execution_count": null,
   "metadata": {},
   "outputs": [],
   "source": [
    "uoil.alt_coef_"
   ]
  },
  {
   "cell_type": "code",
   "execution_count": null,
   "metadata": {},
   "outputs": [],
   "source": [
    "uoil.supports_.shape"
   ]
  },
  {
   "cell_type": "code",
   "execution_count": null,
   "metadata": {},
   "outputs": [],
   "source": [
    "# Fit OLS to the uoi supports \n",
    "uoi_models = np.zeros(uoil.supports_.shape)\n",
    "for i in range(uoil.supports_.shape[0]):\n",
    "    s = uoil.supports_[i, :]\n",
    "    m, _, _, _ = scipy.linalg.lstsq(X[:, s], y)\n",
    "    uoi_models[i, s] = m.ravel() "
   ]
  },
  {
   "cell_type": "code",
   "execution_count": null,
   "metadata": {},
   "outputs": [],
   "source": [
    "# Assess the ordinary risk on uoi_models\n",
    "uoi_exact_risk = np.zeros(uoi_models.shape[0])\n",
    "uoi_exact_risk_test = np.zeros(uoi_models.shape[0])\n",
    "\n",
    "uoi_empirical_risk = np.zeros(uoi_models.shape[0])\n",
    "uoi_empirical_risk_test = np.zeros(uoi_models.shape[0])\n",
    "\n",
    "uoi_MIC = np.zeros(uoi_models.shape[0])\n",
    "uoi_MIC_test = np.zeros(uoi_models.shape[0])\n",
    "\n",
    "for i in range(uoi_models.shape[0]):\n",
    "    sigma_hat = np.mean(np.linalg.norm(y - X @ uoi_models[i, :]))\n",
    "    uoi_exact_risk[i] = risk.calc_KL_div(X @ uoi_models[i, :], np.sqrt(sigma_hat), np.sqrt(ss))\n",
    "    \n",
    "    uoi_empirical_risk[i] = risk.empirical_KL_estimate(y, X @ uoi_models[i, :], np.sqrt(sigma_hat))\n",
    "    uoi_MIC[i] = risk.MIC(y, X @ uoi_models[i, :], np.sqrt(sigma_hat), np.count_nonzero(uoi_models[i, :]), 2)\n",
    "    \n",
    "    sigma_hat = np.mean(np.linalg.norm(y_test - X_test @ uoi_models[i, :]))\n",
    "    uoi_exact_risk_test[i] = risk.calc_KL_div(X_test @ uoi_models[i, :], np.sqrt(sigma_hat), np.sqrt(ss))\n",
    "    uoi_empirical_risk_test[i] = risk.empirical_KL_estimate(y_test, X_test @ uoi_models[i, :], np.sqrt(sigma_hat))\n",
    "    uoi_MIC_test[i] = risk.MIC(y_test, X_test @ uoi_models[i, :], np.sqrt(sigma_hat), np.count_nonzero(uoi_models[i, :]), 2)\n"
   ]
  },
  {
   "cell_type": "code",
   "execution_count": null,
   "metadata": {},
   "outputs": [],
   "source": [
    "# Color code UoI supports as 'correct' vs incorrect"
   ]
  },
  {
   "cell_type": "code",
   "execution_count": null,
   "metadata": {},
   "outputs": [],
   "source": [
    "uoi_sa = selection_accuracy(beta.ravel(), uoi_models)"
   ]
  },
  {
   "cell_type": "code",
   "execution_count": null,
   "metadata": {},
   "outputs": [],
   "source": [
    "plt.scatter(uoi_sa, uoi_exact_risk)"
   ]
  },
  {
   "cell_type": "code",
   "execution_count": null,
   "metadata": {},
   "outputs": [],
   "source": [
    "plt.scatter(uoi_sa, uoi_MIC)"
   ]
  },
  {
   "cell_type": "code",
   "execution_count": null,
   "metadata": {},
   "outputs": [],
   "source": [
    "plt.scatter(uoi_sa, uoi_MIC_test)"
   ]
  },
  {
   "cell_type": "markdown",
   "metadata": {},
   "source": [
    "### We are missing something here. Few things to try out  - how does AIC and other estimators (incl. MIC) behave differently to the picture above? Are we sure that our risk function is correct? Seems inappropriate to be pointing towarsd the null model. Then, there is the issue of the size of the test data set being 1/10 the size of the train data set. Does this play into it?"
   ]
  },
  {
   "cell_type": "code",
   "execution_count": 40,
   "metadata": {},
   "outputs": [],
   "source": [
    "from sklearn.model_selection import train_test_split\n",
    "from sklearn.linear_model import LinearRegression"
   ]
  },
  {
   "cell_type": "code",
   "execution_count": 53,
   "metadata": {},
   "outputs": [],
   "source": [
    "# Reproduce the situation above, but now fit the models on 90 % of the data and evaluate test scores on the remaining 10 %.\n",
    "\n",
    "# Create bootstraps\n",
    "n_boots = 48\n",
    "\n",
    "boot_exact_risk = np.zeros((uoil.supports_.shape[0], n_boots))\n",
    "boot_exact_risk_test = np.zeros((uoil.supports_.shape[0], n_boots))\n",
    "\n",
    "boot_empirical_risk = np.zeros((uoil.supports_.shape[0], n_boots))\n",
    "boot_empirical_risk_test = np.zeros((uoil.supports_.shape[0], n_boots))\n",
    "\n",
    "boot_MIC = np.zeros((uoil.supports_.shape[0], n_boots))\n",
    "boot_MIC_test = np.zeros((uoil.supports_.shape[0], n_boots))\n",
    "\n",
    "boot_sa = np.zeros((uoil.supports_.shape[0], n_boots))\n",
    "\n",
    "boot_models = np.zeros(((uoil.supports_.shape) + (n_boots,)))\n",
    "\n",
    "for i in range(uoil.supports_.shape[0]):\n",
    "\n",
    "    s = uoil.supports_[i, :]\n",
    "    \n",
    "    for boot in range(n_boots):\n",
    "        \n",
    "        # Bootstrap the data:\n",
    "        train_idxs, test_idxs = train_test_split(np.arange(X.shape[0]),\n",
    "                                                test_size = 0.1)\n",
    "        X_b = X[train_idxs]\n",
    "        X_t = X[test_idxs]\n",
    "        y_b = y[train_idxs]\n",
    "        y_t = y[test_idxs]\n",
    "                \n",
    "\n",
    "        m = np.zeros(n_features)\n",
    "        \n",
    "        if X_b[:, s].size > 0:\n",
    "            # Fit OLS model\n",
    "            mm = LinearRegression().fit(X_b[:, s], y_b)\n",
    "            m[s] = mm.coef_.ravel()\n",
    "            y_pred = mm.predict(X_b[:, s]) - mm.intercept_\n",
    "        else:\n",
    "            y_pred = np.zeros(y_b.shape)\n",
    "        \n",
    "        # Calculate risks on bootstrap and test samples:\n",
    "        sigma_hat = np.mean((y_b - y_pred)**2)\n",
    "        boot_exact_risk[i, boot] = risk.calc_KL_div(y_pred, np.sqrt(sigma_hat), np.sqrt(ss))\n",
    "\n",
    "        boot_empirical_risk[i, boot] = risk.empirical_KL_estimate(y_b, y_pred, np.sqrt(sigma_hat))\n",
    "        boot_MIC[i, boot] = risk.MIC(y_b, y_pred, np.sqrt(sigma_hat), np.count_nonzero(m.ravel()), 1)\n",
    "\n",
    "        sigma_hat = np.mean(np.linalg.norm(y_t - X_t @ m.ravel()))\n",
    "        boot_exact_risk_test[i, boot] = risk.calc_KL_div(X_t @ m.ravel(), np.sqrt(sigma_hat), np.sqrt(ss))\n",
    "        boot_empirical_risk_test[i, boot] = risk.empirical_KL_estimate(y_t, X_t @ m.ravel(), np.sqrt(sigma_hat))\n",
    "        boot_MIC_test[i, boot] = risk.MIC(y_t, X_t @ m.ravel(), np.sqrt(sigma_hat), np.count_nonzero(m.ravel()), 1)\n",
    "\n",
    "        boot_sa[i, boot] = selection_accuracy(beta.ravel(), m)"
   ]
  },
  {
   "cell_type": "code",
   "execution_count": null,
   "metadata": {},
   "outputs": [],
   "source": [
    "uoil.estimates_.shape"
   ]
  },
  {
   "cell_type": "code",
   "execution_count": 29,
   "metadata": {},
   "outputs": [],
   "source": [
    "uoil_sa = np.zeros((uoil.estimates_.shape[0], uoil.estimates_.shape[1]))\n",
    "for i in range(uoil.estimates_.shape[0]):\n",
    "    for j in range(uoil.estimates_.shape[1]):\n",
    "        uoil_sa[i, j] = selection_accuracy(beta.ravel(), uoil.estimates_[i, j, :])"
   ]
  },
  {
   "cell_type": "code",
   "execution_count": 54,
   "metadata": {},
   "outputs": [
    {
     "data": {
      "text/plain": [
       "<matplotlib.collections.PathCollection at 0x7f23d7822da0>"
      ]
     },
     "execution_count": 54,
     "metadata": {},
     "output_type": "execute_result"
    },
    {
     "data": {
      "image/png": "[encoded data removed]",
      "text/plain": [
       "<Figure size 432x288 with 1 Axes>"
      ]
     },
     "metadata": {
      "needs_background": "light"
     },
     "output_type": "display_data"
    }
   ],
   "source": [
    "plt.scatter(boot_sa.ravel(), boot_exact_risk.ravel())"
   ]
  },
  {
   "cell_type": "code",
   "execution_count": 55,
   "metadata": {},
   "outputs": [
    {
     "data": {
      "text/plain": [
       "<matplotlib.collections.PathCollection at 0x7f23d7787780>"
      ]
     },
     "execution_count": 55,
     "metadata": {},
     "output_type": "execute_result"
    },
    {
     "data": {
      "image/png": "[encoded data removed]",
      "text/plain": [
       "<Figure size 432x288 with 1 Axes>"
      ]
     },
     "metadata": {
      "needs_background": "light"
     },
     "output_type": "display_data"
    }
   ],
   "source": [
    "plt.scatter(boot_sa.ravel(), boot_MIC.ravel())\n",
    "plt.scatter(uoil_sa.ravel(), -uoil.scores_.ravel())"
   ]
  },
  {
   "cell_type": "code",
   "execution_count": null,
   "metadata": {},
   "outputs": [],
   "source": [
    "# What would be the equivalent of rp_max_idx_ for us?\n",
    "rp_max_idx_ = np.argmin(boot_MIC, axis = 0)"
   ]
  },
  {
   "cell_type": "code",
   "execution_count": null,
   "metadata": {},
   "outputs": [],
   "source": [
    "rp_max_idx_"
   ]
  },
  {
   "cell_type": "code",
   "execution_count": null,
   "metadata": {},
   "outputs": [],
   "source": [
    "uoil.rp_max_idx_"
   ]
  },
  {
   "cell_type": "code",
   "execution_count": null,
   "metadata": {},
   "outputs": [],
   "source": [
    "uoil.alt_rp_max_idx_"
   ]
  },
  {
   "cell_type": "code",
   "execution_count": 30,
   "metadata": {},
   "outputs": [
    {
     "data": {
      "text/plain": [
       "<matplotlib.collections.PathCollection at 0x7f23d7ba3f28>"
      ]
     },
     "execution_count": 30,
     "metadata": {},
     "output_type": "execute_result"
    },
    {
     "data": {
      "image/png": "[encoded data removed]",
      "text/plain": [
       "<Figure size 432x288 with 1 Axes>"
      ]
     },
     "metadata": {
      "needs_background": "light"
     },
     "output_type": "display_data"
    }
   ],
   "source": [
    "plt.scatter(uoil_sa.ravel(), uoil.scores_.ravel())"
   ]
  },
  {
   "cell_type": "code",
   "execution_count": 38,
   "metadata": {},
   "outputs": [
    {
     "data": {
      "text/plain": [
       "array([7, 7, 7, 7, 7, 7, 7, 7, 7, 7, 7, 7, 7, 7, 7, 7, 7, 7, 7, 7, 7, 7,\n",
       "       7, 7, 7, 7, 7, 7, 7, 7, 7, 7, 7, 7, 7, 7, 7, 7, 7, 7, 7, 7, 7, 7,\n",
       "       7, 7, 7, 7])"
      ]
     },
     "execution_count": 38,
     "metadata": {},
     "output_type": "execute_result"
    }
   ],
   "source": [
    "np.argmin(uoil.alt_scores_, axis = 1)"
   ]
  },
  {
   "cell_type": "code",
   "execution_count": 35,
   "metadata": {},
   "outputs": [
    {
     "data": {
      "text/plain": [
       "array([5, 3, 4, 4, 3, 4, 5, 3, 5, 5, 4, 4, 5, 3, 3, 5, 3, 4, 5, 4, 4, 3,\n",
       "       3, 3, 4, 5, 3, 6, 4, 3, 4, 4, 3, 5, 5, 4, 3, 4, 3, 4, 3, 3, 5, 3,\n",
       "       4, 3, 4, 3])"
      ]
     },
     "execution_count": 35,
     "metadata": {},
     "output_type": "execute_result"
    }
   ],
   "source": [
    "uoil.rp_max_idx_"
   ]
  },
  {
   "cell_type": "code",
   "execution_count": 31,
   "metadata": {},
   "outputs": [
    {
     "data": {
      "text/plain": [
       "<matplotlib.collections.PathCollection at 0x7f23d7b777f0>"
      ]
     },
     "execution_count": 31,
     "metadata": {},
     "output_type": "execute_result"
    },
    {
     "data": {
      "image/png": "[encoded data removed]",
      "text/plain": [
       "<Figure size 432x288 with 1 Axes>"
      ]
     },
     "metadata": {
      "needs_background": "light"
     },
     "output_type": "display_data"
    }
   ],
   "source": [
    "plt.scatter(uoil_sa.ravel(), uoil.alt_scores_.ravel())"
   ]
  },
  {
   "cell_type": "code",
   "execution_count": null,
   "metadata": {},
   "outputs": [],
   "source": [
    "uoil.alt_rp_max_idx_"
   ]
  },
  {
   "cell_type": "code",
   "execution_count": null,
   "metadata": {},
   "outputs": [],
   "source": [
    "uoil.rp_max_idx_"
   ]
  },
  {
   "cell_type": "code",
   "execution_count": null,
   "metadata": {},
   "outputs": [],
   "source": [
    "plt.scatter(uoil_sa.ravel(), uoil.alt_scores_.ravel())"
   ]
  },
  {
   "cell_type": "code",
   "execution_count": null,
   "metadata": {},
   "outputs": [],
   "source": []
  },
  {
   "cell_type": "code",
   "execution_count": null,
   "metadata": {},
   "outputs": [],
   "source": [
    "# Ensure that the ordering of models suggested by our method corresponds to the ordering of models suggested by UoI's AIC/MIC"
   ]
  },
  {
   "cell_type": "markdown",
   "metadata": {},
   "source": [
    "### Really do cross-validation as opposed to this single fold"
   ]
  },
  {
   "cell_type": "markdown",
   "metadata": {},
   "source": [
    "### Get at the asymptotics, just to make sure we understand what is going on --> even if it isn't necessarily useful"
   ]
  },
  {
   "cell_type": "code",
   "execution_count": null,
   "metadata": {},
   "outputs": [],
   "source": [
    "# First thing to do - MIC on the train data with a much wider range of penalties. Does this lead to good performance?"
   ]
  },
  {
   "cell_type": "code",
   "execution_count": null,
   "metadata": {},
   "outputs": [],
   "source": [
    "# Is the goal of good support recovery well-aligned with risk minimization?"
   ]
  }
 ],
 "metadata": {
  "kernelspec": {
   "display_name": "Python 3",
   "language": "python",
   "name": "python3"
  },
  "language_info": {
   "codemirror_mode": {
    "name": "ipython",
    "version": 3
   },
   "file_extension": ".py",
   "mimetype": "text/x-python",
   "name": "python",
   "nbconvert_exporter": "python",
   "pygments_lexer": "ipython3",
   "version": "3.6.7"
  }
 },
 "nbformat": 4,
 "nbformat_minor": 2
}
