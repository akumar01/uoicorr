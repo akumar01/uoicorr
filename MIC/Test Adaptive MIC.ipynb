{
 "cells": [
  {
   "cell_type": "code",
   "execution_count": 1,
   "metadata": {},
   "outputs": [],
   "source": [
    "import sys, os\n",
    "import numpy as np\n",
    "import matplotlib.pyplot as plt\n",
    "import time\n",
    "import pdb\n",
    "\n",
    "sys.path.append('..')\n",
    "\n",
    "from utils import gen_covariance, gen_beta2, gen_data, get_cov_list\n",
    "from utils import selection_accuracy\n",
    "from sklearn.linear_model import LassoLars, lasso_path, LinearRegression\n",
    "\n",
    "from pyuoi.linear_model import UoI_Lasso"
   ]
  },
  {
   "cell_type": "code",
   "execution_count": 2,
   "metadata": {},
   "outputs": [],
   "source": [
    "# %load ../loaders/datgen.py\n",
    "n_features = 50\n",
    "n_samples = 150\n",
    "\n",
    "sigma = gen_covariance(n_features, 0, n_features, 1, 0)\n",
    "beta = gen_beta2(n_features, n_features, sparsity = 0.2, betawidth = np.inf)\n",
    "X, X_test, y, y_test, ss = gen_data(n_samples, n_features, kappa = 100, \n",
    "\t\t\t\t\t\t\t\t\tcovariance = sigma, beta = beta)"
   ]
  },
  {
   "cell_type": "code",
   "execution_count": 3,
   "metadata": {},
   "outputs": [],
   "source": [
    "# See if penalty is adaptive to the sparsity of the true model\n",
    "uoi = UoI_Lasso(estimation_score = 'MIC', manual_penalty = np.linspace(0, 8, 80),\n",
    "                true_support = beta.ravel())"
   ]
  },
  {
   "cell_type": "code",
   "execution_count": 4,
   "metadata": {},
   "outputs": [
    {
     "data": {
      "text/plain": [
       "UoI_Lasso(comm=None, copy_X=None, eps=0.001, estimation_frac=0.9,\n",
       "     estimation_score='MIC', fit_intercept=True,\n",
       "     manual_penalty=array([0.     , 0.10127, ..., 7.89873, 8.     ]),\n",
       "     max_iter=1000, n_boots_est=48, n_boots_sel=48, n_lambdas=48,\n",
       "     random_state=<module 'numpy.random' from '/home/akumar/anaconda3/envs/nse/lib/python3.6/site-packages/numpy/random/__init__.py'>,\n",
       "     selection_frac=0.9, stability_selection=1.0, standardize=True,\n",
       "     true_support=None, warm_start=None)"
      ]
     },
     "execution_count": 4,
     "metadata": {},
     "output_type": "execute_result"
    }
   ],
   "source": [
    "uoi.fit(X, y)"
   ]
  },
  {
   "cell_type": "code",
   "execution_count": 6,
   "metadata": {},
   "outputs": [
    {
     "data": {
      "text/plain": [
       "array([5.26582278, 3.94936709, 5.46835443, 4.75949367, 6.58227848,\n",
       "       5.7721519 , 6.17721519, 5.67088608, 4.75949367, 7.79746835,\n",
       "       5.56962025, 5.67088608, 6.58227848, 6.98734177, 4.55696203,\n",
       "       6.58227848, 6.58227848, 5.06329114, 6.48101266, 6.17721519,\n",
       "       6.6835443 , 6.37974684, 6.88607595, 4.35443038, 5.87341772,\n",
       "       5.67088608, 7.59493671, 5.67088608, 6.98734177, 4.96202532,\n",
       "       4.4556962 , 6.17721519, 5.56962025, 6.78481013, 6.58227848,\n",
       "       5.7721519 , 4.86075949, 4.35443038, 5.7721519 , 5.36708861,\n",
       "       5.56962025, 4.96202532, 4.55696203, 4.86075949, 4.96202532,\n",
       "       5.67088608, 6.17721519, 7.39240506])"
      ]
     },
     "execution_count": 6,
     "metadata": {},
     "output_type": "execute_result"
    }
   ],
   "source": [
    "uoi.penalty_"
   ]
  },
  {
   "cell_type": "code",
   "execution_count": 8,
   "metadata": {},
   "outputs": [
    {
     "data": {
      "text/plain": [
       "array([0.57142857])"
      ]
     },
     "execution_count": 8,
     "metadata": {},
     "output_type": "execute_result"
    }
   ],
   "source": [
    "selection_accuracy(beta.ravel(), uoi.coef_)"
   ]
  }
 ],
 "metadata": {
  "kernelspec": {
   "display_name": "Python 3",
   "language": "python",
   "name": "python3"
  },
  "language_info": {
   "codemirror_mode": {
    "name": "ipython",
    "version": 3
   },
   "file_extension": ".py",
   "mimetype": "text/x-python",
   "name": "python",
   "nbconvert_exporter": "python",
   "pygments_lexer": "ipython3",
   "version": "3.6.7"
  }
 },
 "nbformat": 4,
 "nbformat_minor": 2
}
