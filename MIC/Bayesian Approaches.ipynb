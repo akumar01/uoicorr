{
 "cells": [
  {
   "cell_type": "code",
   "execution_count": 1,
   "metadata": {},
   "outputs": [],
   "source": [
    "# %load ../loaders/imports.py\n",
    "import sys, os\n",
    "import numpy as np\n",
    "import matplotlib.pyplot as plt\n",
    "import time\n",
    "import pdb\n",
    "\n",
    "sys.path.append('..')\n",
    "\n",
    "from utils import gen_covariance, gen_beta2, gen_data, get_cov_list\n",
    "from utils import selection_accuracy\n",
    "from sklearn.linear_model import LassoLars, lasso_path, LinearRegression\n",
    "\n",
    "from pyuoi.linear_model import UoI_Lasso\n",
    "from pyuoi.linear_model.adaptive import mBIC, eBIC, mBIC2, BIC, MIC"
   ]
  },
  {
   "cell_type": "code",
   "execution_count": 2,
   "metadata": {},
   "outputs": [],
   "source": [
    "from sklearn.linear_model import lars_path"
   ]
  },
  {
   "cell_type": "code",
   "execution_count": 3,
   "metadata": {},
   "outputs": [],
   "source": [
    "from sklearn.preprocessing import StandardScaler"
   ]
  },
  {
   "cell_type": "code",
   "execution_count": 12,
   "metadata": {},
   "outputs": [],
   "source": [
    "# %load ../loaders/datgen.py\n",
    "n_features = 50\n",
    "n_samples = 200\n",
    "\n",
    "\n",
    "# Iterate over sparsity. Yield a sequences of models using LARS. Choose a model using the various extensions \n",
    "# of the BIC. \n",
    "\n",
    "sparsity = np.linspace(0.05, 1, 11)\n",
    "sigma = gen_covariance(n_features, 0, n_features, 5, 1)\n",
    "\n",
    "oracle_penalty = np.zeros(sparsity.size)\n",
    "MIC_oracle_sa = np.zeros(sparsity.size)\n",
    "\n",
    "BIC_scores = []\n",
    "mBIC_scores = []\n",
    "eBIC_scores = []\n",
    "mBIC2_scores = []\n",
    "\n",
    "# Oracle sa\n",
    "sa = []\n",
    "\n",
    "\n",
    "for i, s in enumerate(sparsity):\n",
    "\n",
    "    beta = gen_beta2(n_features, n_features, sparsity = s, betawidth = 0)\n",
    "    X, X_test, y, y_test, ss = gen_data(n_samples, n_features, kappa = 3, \n",
    "                                        covariance = sigma, beta = beta)\n",
    "    \n",
    "    X = StandardScaler().fit_transform(X)\n",
    "    y -= np.mean(y)\n",
    "    \n",
    "    _, _, coefs  = lars_path(X, y.ravel(), method = 'lasso')\n",
    "\n",
    "    supports = (coefs.T != 0).astype(bool)\n",
    "\n",
    "    # Stick the true model in there\n",
    "    # supports = np.vstack([supports, (beta.ravel() !=0).astype(bool)])\n",
    "    \n",
    "    sa.append(selection_accuracy(beta.ravel(), supports))\n",
    "        \n",
    "    # Fit OLS models to each of the supports\n",
    "    models = []\n",
    "\n",
    "    penalties = np.linspace(0, 2 * np.log(n_samples), 80)\n",
    "    MIC_scores_ = np.zeros((supports.shape[0], penalties.size))\n",
    "    BIC_scores_ = np.zeros(supports.shape[0])\n",
    "    mBIC_scores_ = np.zeros(supports.shape[0])\n",
    "    eBIC_scores_ = np.zeros(supports.shape[0])\n",
    "    mBIC2_scores_ = np.zeros(supports.shape[0])\n",
    "    \n",
    "    for j in range(supports.shape[0]):\n",
    "        support = supports[j, :]\n",
    "        if np.count_nonzero(1 * support > 0):\n",
    "            model = LinearRegression().fit(X[:, support] , y)\n",
    "            models.append(model)        \n",
    "            y_pred = model.predict(X[:, support])\n",
    "\n",
    "        else:\n",
    "            models.append(np.nan)\n",
    "            y_pred = np.zeros(y.size)\n",
    "                        \n",
    "        MIC_scores_[j, :] =  np.array([MIC(y, y_pred, np.count_nonzero(1 * support), penalty) \n",
    "                                       for penalty in penalties])\n",
    "        \n",
    "        BIC_scores_[j] = BIC(y, y_pred, np.count_nonzero(1 * support))\n",
    "        \n",
    "        mBIC_scores_[j] = mBIC(y, y_pred, np.count_nonzero(1 * support), s)\n",
    "        \n",
    "        eBIC_scores_[j] = eBIC(y, y_pred, X.shape[1], np.count_nonzero(1 * support))\n",
    "        \n",
    "        mBIC2_scores_[j] = mBIC2(y, y_pred, np.count_nonzero(1 * support), s)\n",
    "\n",
    "    \n",
    "    \n",
    "    # For MIC scores, record the oracle selection accuracy and the oracle penalty\n",
    "    selected_models = np.argmin(MIC_scores_, axis = 0)\n",
    "    MIC_selection_accuracies = [selection_accuracy(beta.ravel(), supports[selected_models[j], :]) \n",
    "                                for j in range(selected_models.size)]\n",
    "    oracle_penalty[i] = penalties[np.argmax(MIC_selection_accuracies)]\n",
    "    MIC_oracle_sa[i] = np.max(MIC_selection_accuracies)    \n",
    "    \n",
    "    BIC_scores.append(BIC_scores_)\n",
    "    mBIC_scores.append(mBIC_scores_)\n",
    "    eBIC_scores.append(eBIC_scores_)\n",
    "    mBIC2_scores.append(mBIC2_scores_)\n",
    "    "
   ]
  },
  {
   "cell_type": "code",
   "execution_count": 13,
   "metadata": {},
   "outputs": [
    {
     "data": {
      "text/plain": [
       "[<matplotlib.lines.Line2D at 0x7fee77af1550>]"
      ]
     },
     "execution_count": 13,
     "metadata": {},
     "output_type": "execute_result"
    },
    {
     "data": {
      "image/png": "[encoded data removed]",
      "text/plain": [
       "<Figure size 432x288 with 1 Axes>"
      ]
     },
     "metadata": {
      "needs_background": "light"
     },
     "output_type": "display_data"
    }
   ],
   "source": [
    "# Oracle sa\n",
    "plt.plot([np.max(x) for x in sa])\n",
    "\n",
    "plt.plot(MIC_oracle_sa)\n",
    "\n",
    "# BIC sa\n",
    "plt.plot([sa[i][np.argmin(BIC_scores[i])] for i in range(len(sparsity))])\n",
    "# mBIC sa\n",
    "plt.plot([sa[i][np.argmin(mBIC_scores[i])] for i in range(len(sparsity))])\n",
    "# eBIC sa\n",
    "# plt.plot([sa[i][np.argmin(eBIC_scores[i])] for i in range(len(sparsity))])\n",
    "# mBIC2 sa\n",
    "plt.plot([sa[i][np.argmin(mBIC2_scores[i])] for i in range(len(sparsity))])"
   ]
  },
  {
   "cell_type": "code",
   "execution_count": 14,
   "metadata": {},
   "outputs": [
    {
     "data": {
      "text/plain": [
       "[<matplotlib.lines.Line2D at 0x7fee77a52080>]"
      ]
     },
     "execution_count": 14,
     "metadata": {},
     "output_type": "execute_result"
    },
    {
     "data": {
      "image/png": "[encoded data removed]",
      "text/plain": [
       "<Figure size 432x288 with 1 Axes>"
      ]
     },
     "metadata": {
      "needs_background": "light"
     },
     "output_type": "display_data"
    }
   ],
   "source": [
    "plt.plot(oracle_penalty)"
   ]
  },
  {
   "cell_type": "code",
   "execution_count": 6,
   "metadata": {},
   "outputs": [],
   "source": [
    "# Now, estimate the sparsity !!!"
   ]
  }
 ],
 "metadata": {
  "kernelspec": {
   "display_name": "Python 3",
   "language": "python",
   "name": "python3"
  },
  "language_info": {
   "codemirror_mode": {
    "name": "ipython",
    "version": 3
   },
   "file_extension": ".py",
   "mimetype": "text/x-python",
   "name": "python",
   "nbconvert_exporter": "python",
   "pygments_lexer": "ipython3",
   "version": "3.6.7"
  }
 },
 "nbformat": 4,
 "nbformat_minor": 2
}
