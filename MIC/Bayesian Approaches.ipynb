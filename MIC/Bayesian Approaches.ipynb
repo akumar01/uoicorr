{
 "cells": [
  {
   "cell_type": "code",
   "execution_count": 1,
   "metadata": {},
   "outputs": [],
   "source": [
    "# %load ../loaders/imports.py\n",
    "%load_ext autoreload\n",
    "%autoreload 2\n",
    "import sys, os\n",
    "import numpy as np\n",
    "import matplotlib.pyplot as plt\n",
    "import time\n",
    "import pdb\n",
    "\n",
    "sys.path.append('..')\n",
    "\n",
    "from utils import gen_covariance, gen_beta2, gen_data, get_cov_list\n",
    "from utils import selection_accuracy\n",
    "from sklearn.linear_model import LassoLars, lasso_path, LinearRegression\n",
    "\n",
    "from pyuoi.linear_model import UoI_Lasso\n",
    "from pyuoi.linear_model.adaptive import (mBIC, eBIC, mBIC2, BIC, MIC, \n",
    "bayesian_log_ll, bayesian_lambda_selection, L1_bayes)"
   ]
  },
  {
   "cell_type": "code",
   "execution_count": 2,
   "metadata": {},
   "outputs": [],
   "source": [
    "from sklearn.linear_model import lars_path"
   ]
  },
  {
   "cell_type": "code",
   "execution_count": 3,
   "metadata": {},
   "outputs": [],
   "source": [
    "from sklearn.preprocessing import StandardScaler"
   ]
  },
  {
   "cell_type": "code",
   "execution_count": 4,
   "metadata": {},
   "outputs": [],
   "source": [
    "from scipy.special import binom"
   ]
  },
  {
   "cell_type": "code",
   "execution_count": 5,
   "metadata": {},
   "outputs": [
    {
     "name": "stdout",
     "output_type": "stream",
     "text": [
      "0.15312433242797852\n",
      "0.13167023658752441\n",
      "0.1575794219970703\n",
      "0.1835927963256836\n",
      "0.1461200714111328\n",
      "0.14212846755981445\n",
      "0.19448018074035645\n",
      "0.18650102615356445\n",
      "0.14165544509887695\n",
      "0.13065028190612793\n",
      "0.16122651100158691\n",
      "0.18007254600524902\n",
      "0.13717198371887207\n",
      "0.12820076942443848\n",
      "0.1815495491027832\n",
      "0.18248271942138672\n",
      "0.1431276798248291\n",
      "0.1489100456237793\n",
      "0.16655254364013672\n",
      "0.20545148849487305\n",
      "0.1406252384185791\n",
      "0.15459370613098145\n",
      "0.14412903785705566\n",
      "0.19399261474609375\n",
      "0.14464259147644043\n",
      "0.14757776260375977\n",
      "0.2368779182434082\n",
      "0.3820033073425293\n",
      "0.2184154987335205\n",
      "0.15754318237304688\n",
      "0.18051767349243164\n",
      "0.3061854839324951\n",
      "0.19730186462402344\n",
      "0.20448613166809082\n",
      "0.17649626731872559\n",
      "0.2498159408569336\n",
      "0.16205835342407227\n",
      "0.19388747215270996\n",
      "0.19448065757751465\n",
      "0.21045327186584473\n",
      "0.2513465881347656\n",
      "0.1574239730834961\n",
      "0.17955541610717773\n",
      "0.1986856460571289\n"
     ]
    }
   ],
   "source": [
    "# Just look at the different terms in the Bayes Factor and how they scale with (1) sparsity (2) model penalty (3) number of samples\n",
    "n_features = 50\n",
    "n_samples = np.array([200, 400, 800, 1600])\n",
    "\n",
    "# Iterate over sparsity. Yield a sequences of models using LARS. Choose a model using the various extensions \n",
    "# of the BIC. \n",
    "\n",
    "sparsity = np.linspace(0.05, 1, 11)\n",
    "sigma = gen_covariance(n_features, 0, n_features, 5, 1)\n",
    "\n",
    "oracle_penalty = np.zeros((sparsity.size, n_samples.size))\n",
    "MIC_oracle_sa = np.zeros((sparsity.size, n_samples.size))\n",
    "\n",
    "bayesian_penalty = np.zeros((sparsity.size, n_samples.size))\n",
    "bMIC_sa = np.zeros((sparsity.size, n_samples.size))\n",
    "\n",
    "bayesian_penalty2 = np.zeros((sparsity.size, n_samples.size))\n",
    "bMIC_sa2 = np.zeros((sparsity.size, n_samples.size))\n",
    "\n",
    "# Oracle sa\n",
    "sa = np.empty((sparsity.size, n_samples.size), dtype =  np.dtype('O'))\n",
    "\n",
    "np1 = 80\n",
    "\n",
    "# All the different terms:\n",
    "ll = np.empty((sparsity.size, n_samples.size), dtype =  np.dtype('O'))\n",
    "p1 = np.empty((sparsity.size, n_samples.size), dtype =  np.dtype('O'))\n",
    "# BIC = np.empty((sparsity.size, n_samples.size), dtype =  np.dtype('O'))\n",
    "RSS = np.empty((sparsity.size, n_samples.size), dtype =  np.dtype('O'))\n",
    "BIC2 = np.empty((sparsity.size, n_samples.size), dtype =  np.dtype('O'))\n",
    "BIC3 = np.empty((sparsity.size, n_samples.size), dtype =  np.dtype('O'))\n",
    "M_k = np.empty((sparsity.size, n_samples.size), dtype =  np.dtype('O'))\n",
    "P_M = np.empty((sparsity.size, n_samples.size), dtype =  np.dtype('O'))\n",
    "\n",
    "for i, s in enumerate(sparsity):\n",
    "\n",
    "    for ii, ns in enumerate(n_samples):\n",
    "        \n",
    "        t0 = time.time()\n",
    "        \n",
    "        penalties = np.linspace(0, 2 * np.log(ns), np1)\n",
    "        \n",
    "        beta = gen_beta2(n_features, n_features, sparsity = s, betawidth = 0)\n",
    "        X, X_test, y, y_test, ss = gen_data(ns, n_features, kappa = 5, \n",
    "                                            covariance = sigma, beta = beta)\n",
    "\n",
    "        X = StandardScaler().fit_transform(X)\n",
    "        y -= np.mean(y)\n",
    "\n",
    "        _, _, coefs  = lars_path(X, y.ravel(), method = 'lasso')\n",
    "        \n",
    "        supports = (coefs.T != 0).astype(bool)\n",
    "\n",
    "        # Stick the true model in there\n",
    "        # supports = np.vstack([supports, (beta.ravel() !=0).astype(bool)])\n",
    "\n",
    "        sa[i, ii] = selection_accuracy(beta.ravel(), supports)\n",
    "\n",
    "        # Fit OLS models to each of the supports\n",
    "        models = []\n",
    "        \n",
    "        MIC_scores_ = np.zeros((supports.shape[0], np1))\n",
    "        \n",
    "        _ll = np.zeros(np1)\n",
    "        _p1 = np.zeros(np1)\n",
    "        _BIC = np.zeros(np1)\n",
    "        _BIC2 = np.zeros(np1)\n",
    "        _BIC3 = np.zeros(np1)\n",
    "        _M_k = np.zeros(np1)\n",
    "        _P_M = np.zeros(np1)\n",
    "                \n",
    "        exec_times = np.zeros(supports.shape[0])\n",
    "        \n",
    "        for j in range(supports.shape[0]):\n",
    "            t1 = time.time()\n",
    "\n",
    "            support = supports[j, :]\n",
    "            if np.count_nonzero(1 * support > 0):\n",
    "                model = LinearRegression().fit(X[:, support] , y)\n",
    "                models.append(model)        \n",
    "                y_pred = model.predict(X[:, support])\n",
    "            else:\n",
    "                models.append(np.nan)\n",
    "                y_pred = np.zeros(y.size)\n",
    "\n",
    "            MIC_scores_[j, :] =  np.array([MIC(y.ravel(), y_pred.ravel(), \n",
    "                                           np.count_nonzero(1 * support), penalty) \n",
    "                                           for penalty in penalties])\n",
    "            \n",
    "            exec_times[j] = time.time() - t1\n",
    "\n",
    "        selected_models = np.argmin(MIC_scores_, axis = 0)\n",
    "\n",
    "        bayes_factors = np.zeros(np1)\n",
    "        bayes_factors2 = np.zeros(np1)\n",
    "        \n",
    "        for i3, penalty in enumerate(penalties):\n",
    "            \n",
    "            support = supports[selected_models[i3], :]\n",
    "            yy = models[selected_models[i3]].predict(X[:, support])\n",
    "            # Record all Bayesian terms for each penalty\n",
    "            ll_, p1_, BIC_, BIC2_, BIC3_, M_k_, P_M_ = bayesian_lambda_selection(\n",
    "                                                       y, yy, n_features, np.count_nonzero(1 * support),\n",
    "                                                       s, penalty)\n",
    "\n",
    "            # Add things up appropriately\n",
    "            bayes_factors[i3] = 2 * ll_ - BIC_ - BIC2_ + BIC3_ - p1_ + P_M_\n",
    "            \n",
    "            _ll[i3] = ll_\n",
    "            _p1[i3] = p1_\n",
    "            _BIC[i3] = BIC_\n",
    "            _BIC2[i3] = BIC2_\n",
    "            _BIC3[i3] = BIC3_\n",
    "            _M_k[i3] = M_k_\n",
    "            _P_M[i3] = P_M_\n",
    "\n",
    "        # Select the penalty based on the highest bayes factors \n",
    "        bidx = np.argmax(bayes_factors)\n",
    "        bidx2 = np.argmax(bayes_factors2)\n",
    "        \n",
    "        # Save the penalty strength and the chosen model\n",
    "        bayesian_penalty[i, ii] = penalties[bidx]\n",
    "        \n",
    "        # For MIC scores, record the oracle selection accuracy and the oracle penalty\n",
    "        MIC_selection_accuracies = [selection_accuracy(beta.ravel(), \n",
    "                                    supports[selected_models[j], :]) \n",
    "                                    for j in range(selected_models.size)]\n",
    "        \n",
    "        # For MIC scores, record the oracle selection accuracy and the orcale penalty \n",
    "\n",
    "        oracle_penalty[i, ii] = penalties[np.argmax(MIC_selection_accuracies)]\n",
    "        MIC_oracle_sa[i, ii] = np.max(MIC_selection_accuracies)    \n",
    "        bMIC_sa[i, ii] = MIC_selection_accuracies[bidx]\n",
    "        \n",
    "        ll[i, ii] = _ll\n",
    "        p1[i, ii] = _p1\n",
    "#         BIC[i, ii] = _BIC\n",
    "        BIC2[i, ii] = _BIC2\n",
    "        BIC3[i, ii] = _BIC3\n",
    "        M_k[i, ii] = _M_k\n",
    "        P_M[i, ii] = _P_M\n",
    "        \n",
    "        print(time.time() - t0)"
   ]
  },
  {
   "cell_type": "code",
   "execution_count": 6,
   "metadata": {},
   "outputs": [
    {
     "data": {
      "text/plain": [
       "[<matplotlib.lines.Line2D at 0x23a7564de10>]"
      ]
     },
     "execution_count": 6,
     "metadata": {},
     "output_type": "execute_result"
    },
    {
     "data": {
      "image/png": "[encoded data removed]",
      "text/plain": [
       "<Figure size 432x288 with 1 Axes>"
      ]
     },
     "metadata": {
      "needs_background": "light"
     },
     "output_type": "display_data"
    }
   ],
   "source": [
    "plt.plot(MIC_oracle_sa[:, 0])\n",
    "plt.plot(bMIC_sa[:, 0])"
   ]
  },
  {
   "cell_type": "code",
   "execution_count": 7,
   "metadata": {},
   "outputs": [
    {
     "data": {
      "text/plain": [
       "[<matplotlib.lines.Line2D at 0x23a756dd1d0>]"
      ]
     },
     "execution_count": 7,
     "metadata": {},
     "output_type": "execute_result"
    },
    {
     "data": {
      "image/png": "[encoded data removed]",
      "text/plain": [
       "<Figure size 432x288 with 1 Axes>"
      ]
     },
     "metadata": {
      "needs_background": "light"
     },
     "output_type": "display_data"
    }
   ],
   "source": [
    "plt.plot(oracle_penalty[:, 3])\n",
    "plt.plot(bayesian_penalty[:, 3])"
   ]
  },
  {
   "cell_type": "code",
   "execution_count": 5,
   "metadata": {},
   "outputs": [],
   "source": [
    "from sklearn.model_selection import train_test_split"
   ]
  },
  {
   "cell_type": "code",
   "execution_count": 8,
   "metadata": {},
   "outputs": [],
   "source": [
    "from pyuoi import utils"
   ]
  },
  {
   "cell_type": "code",
   "execution_count": 10,
   "metadata": {},
   "outputs": [
    {
     "name": "stdout",
     "output_type": "stream",
     "text": [
      "4.227481126785278\n",
      "3.1090056896209717\n",
      "3.629021644592285\n",
      "2.657768487930298\n",
      "2.7777998447418213\n",
      "3.2209596633911133\n",
      "2.8459110260009766\n",
      "2.7011313438415527\n",
      "4.558057069778442\n",
      "4.777089595794678\n",
      "4.375053405761719\n",
      "3.9955389499664307\n",
      "4.197229623794556\n",
      "2.9070303440093994\n",
      "4.007694721221924\n",
      "3.244015693664551\n",
      "3.5739049911499023\n",
      "3.82670521736145\n",
      "3.3104448318481445\n",
      "3.1830265522003174\n",
      "4.177778720855713\n",
      "4.490676403045654\n"
     ]
    }
   ],
   "source": [
    "# Looks promising - How about sparsity estimation? \n",
    "\n",
    "# Just look at the different terms in the Bayes Factor and how they scale with (1) sparsity (2) model penalty (3) number of samples\n",
    "n_features = 50\n",
    "n_samples = np.array([200, 400])\n",
    "\n",
    "# Iterate over sparsity. Yield a sequences of models using LARS. Choose a model using the various extensions \n",
    "# of the BIC. \n",
    "\n",
    "sparsity = np.linspace(0.05, 1, 11)\n",
    "sigma = gen_covariance(n_features, 0, n_features, 5, 1)\n",
    "\n",
    "n_boots = 48\n",
    "train_frac = 0.75\n",
    "\n",
    "sparsity_estimates = np.zeros((sparsity.size, len(n_samples), n_boots))\n",
    "sparsity_estimates2 = np.zeros((sparsity.size, len(n_samples), n_boots))\n",
    "sparsity_estimates3 = np.zeros((sparsity.size, len(n_samples), n_boots))\n",
    "\n",
    "# Initialize the sparsity estimate with BIC on LARS paths on bootstraps\n",
    "for i, s in enumerate(sparsity):\n",
    "\n",
    "    for ii, ns in enumerate(n_samples):\n",
    "        \n",
    "        t0 = time.time()\n",
    "                \n",
    "        beta = gen_beta2(n_features, n_features, sparsity = s, betawidth = 0)\n",
    "        X, X_test, y, y_test, ss = gen_data(ns, n_features, kappa = 5, \n",
    "                                            covariance = sigma, beta = beta)\n",
    "\n",
    "                \n",
    "        for boot in range(n_boots):\n",
    "            # Draw bootstraps\n",
    "            idxs_train, idxs_test = train_test_split(np.arange(X.shape[0]), \n",
    "                                                     train_size = train_frac,\n",
    "                                                     test_size = 1 - train_frac)\n",
    "            Xb = X[idxs_train]\n",
    "            yb = y[idxs_train]\n",
    "\n",
    "            Xb = StandardScaler().fit_transform(Xb)\n",
    "            yb -= np.mean(yb)\n",
    "    \n",
    "            alphas, _, coefs  = lars_path(Xb, yb.ravel(), method = 'lasso')\n",
    "                            \n",
    "            y_pred = Xb @ coefs\n",
    "                    \n",
    "            # Assess BIC on the LARS path to estimate the sparsity. \n",
    "            BIC_scores = np.array([MIC(yb.ravel(), y_pred[:, j].ravel(),\n",
    "                                       np.count_nonzero(coefs[:, j]), np.log(ns)) \n",
    "                                   for j in range(coefs.shape[1])])  \n",
    "\n",
    "            # Use a penalized likelihood Bayes factor on with the corresponding\n",
    "            # penalty\n",
    "            BIC_scores3 = np.array([L1_bayes(yb.ravel(), y_pred[:, j].ravel(),\n",
    "                                             coefs[:, j], alphas[j]) \n",
    "                                    for j in range(coefs.shape[1])])\n",
    "\n",
    "            # Compare with using OLS estimates fit to the supports\n",
    "            supports = (coefs.T != 0).astype(bool)\n",
    "\n",
    "            BIC_scores2 = np.zeros(supports.shape[0])\n",
    "\n",
    "            for j in range(supports.shape[0]):\n",
    "\n",
    "                support = supports[j, :]\n",
    "                if np.count_nonzero(1 * support > 0):\n",
    "                    model = LinearRegression().fit(Xb[:, support] , yb)      \n",
    "                    y_pred = model.predict(Xb[:, support])\n",
    "                else:\n",
    "                    y_pred = np.zeros(yb.size)\n",
    "                \n",
    "                BIC_scores2[j] = MIC(yb.ravel(), y_pred.ravel(),\n",
    "                                     np.count_nonzero(1 * support), np.log(ns))\n",
    "    \n",
    "            sparsity_estimates[i, ii, boot] = float(np.count_nonzero(\n",
    "                                    coefs[:, np.argmin(BIC_scores)]))/float(n_features)\n",
    "            sparsity_estimates2[i, ii, boot] = float(np.count_nonzero(\n",
    "                                    coefs[:, np.argmin(BIC_scores2)]))/float(n_features)\n",
    "            sparsity_estimates3[i, ii, boot] = float(np.count_nonzero(\n",
    "                                    coefs[:, np.argmax(BIC_scores3)]))/float(n_features)\n",
    "        print(time.time() - t0)"
   ]
  },
  {
   "cell_type": "code",
   "execution_count": 12,
   "metadata": {},
   "outputs": [
    {
     "data": {
      "text/plain": [
       "[<matplotlib.lines.Line2D at 0x23a757bebe0>]"
      ]
     },
     "execution_count": 12,
     "metadata": {},
     "output_type": "execute_result"
    },
    {
     "data": {
      "image/png": "[encoded data removed]",
      "text/plain": [
       "<Figure size 432x288 with 1 Axes>"
      ]
     },
     "metadata": {
      "needs_background": "light"
     },
     "output_type": "display_data"
    }
   ],
   "source": [
    "plt.errorbar(sparsity, np.mean(sparsity_estimates[:, 0, :], axis = 1),\n",
    "             yerr = np.std(sparsity_estimates[:, 0, :], axis = 1))\n",
    "plt.errorbar(sparsity, np.mean(sparsity_estimates2[:, 0, :], axis = 1),\n",
    "             yerr = np.std(sparsity_estimates2[:, 0, :], axis = 1))\n",
    "plt.errorbar(sparsity, np.mean(sparsity_estimates3[:, 0, :], axis = 1),\n",
    "             yerr = np.std(sparsity_estimates3[:, 0, :], axis = 1))\n",
    "plt.plot(sparsity, sparsity)"
   ]
  },
  {
   "cell_type": "code",
   "execution_count": 10,
   "metadata": {},
   "outputs": [
    {
     "name": "stdout",
     "output_type": "stream",
     "text": [
      "11.829089403152466\n",
      "13.021472215652466\n",
      "12.15297818183899\n",
      "10.838577270507812\n",
      "10.071763753890991\n",
      "9.753331661224365\n",
      "10.089123487472534\n",
      "10.78699517250061\n",
      "11.748738765716553\n",
      "14.15234923362732\n",
      "19.68026328086853\n"
     ]
    }
   ],
   "source": [
    "# Roll with it!\n",
    "\n",
    "# Full procedure: \n",
    "# --> Sparsity Estimation with bootstrapping\n",
    "# --> Across a second stage of bootstraps - Optimal lambda selection via Bayesian procedure\n",
    "# --> Select best models and bag\n",
    "\n",
    "n_features = 50\n",
    "ns = 200\n",
    "sparsity = np.linspace(0.05, 1, 11)\n",
    "sigma = gen_covariance(n_features, 0, n_features, 5, 1)\n",
    "\n",
    "n_boots = 48\n",
    "train_frac = 0.75\n",
    "\n",
    "np1 = 100\n",
    "penalties = np.linspace(0, 2 * np.log(ns), np1)\n",
    "\n",
    "# Things to be recorded:\n",
    "sparsity_estimates = np.zeros((sparsity.size, n_boots))\n",
    "bayesian_penalty = np.zeros((sparsity.size, n_boots))\n",
    "oracle_penalty = np.zeros((sparsity.size, n_boots))\n",
    "MIC_oracle_sa_ = np.zeros((sparsity.size, n_boots))\n",
    "bMIC_sa_ = np.zeros((sparsity.size, n_boots))\n",
    "MIC_oracle_sa = np.zeros(sparsity.size)\n",
    "bMIC_sa = np.zeros(sparsity.size)\n",
    "\n",
    "final_bayes_estimates = np.zeros((sparsity.size, n_features))\n",
    "final_oracle_estimates = np.zeros((sparsity.size, n_features))\n",
    "\n",
    "for i, s in enumerate(sparsity):\n",
    "\n",
    "    t0 = time.time()\n",
    "\n",
    "\n",
    "    beta = gen_beta2(n_features, n_features, sparsity = s, betawidth = 0)\n",
    "    X, X_test, y, y_test, ss = gen_data(ns, n_features, kappa = 5, \n",
    "                                        covariance = sigma, beta = beta)\n",
    "\n",
    "    \n",
    "    ######################### STEP 1: SPARSITY ESTIMATION #######################\n",
    "        \n",
    "    for boot in range(n_boots):\n",
    "        # Draw bootstraps\n",
    "        idxs_train, idxs_test = train_test_split(np.arange(X.shape[0]), \n",
    "                                                 train_size = train_frac,\n",
    "                                                 test_size = 1 - train_frac)\n",
    "        Xb = X[idxs_train]\n",
    "        yb = y[idxs_train]\n",
    "\n",
    "        Xb = StandardScaler().fit_transform(Xb)\n",
    "        yb -= np.mean(yb)\n",
    "\n",
    "        alphas, _, coefs  = lars_path(Xb, yb.ravel(), method = 'lasso')\n",
    "\n",
    "        y_pred = Xb @ coefs\n",
    "\n",
    "        # Assess BIC on the LARS path to estimate the sparsity. \n",
    "        BIC_scores = np.array([MIC(yb.ravel(), y_pred[:, j].ravel(),\n",
    "                                   np.count_nonzero(coefs[:, j]), np.log(ns)) \n",
    "                               for j in range(coefs.shape[1])])  \n",
    "        \n",
    "        sparsity_estimates[i, boot] = float(np.count_nonzero(\n",
    "                            coefs[:, np.argmin(BIC_scores)]))/float(n_features)\n",
    "\n",
    "    ########################### STEP 2 : Determination of L0 Penalty ################\n",
    "    \n",
    "    estimates = np.zeros((n_boots, n_features))\n",
    "    oracle_estimates = np.zeros((n_boots, n_features))\n",
    "    \n",
    "    for boot in range(n_boots):\n",
    "        # Draw bootstraps\n",
    "        idxs_train, idxs_test = train_test_split(np.arange(X.shape[0]), \n",
    "                                                 train_size = train_frac,\n",
    "                                                 test_size = 1 - train_frac)\n",
    "        Xb = X[idxs_train]\n",
    "        yb = y[idxs_train]\n",
    "\n",
    "        Xb = StandardScaler().fit_transform(Xb)\n",
    "        yb -= np.mean(yb)\n",
    "\n",
    "        alphas, _, coefs  = lars_path(Xb, yb.ravel(), method = 'lasso')\n",
    "\n",
    "        supports = (coefs.T != 0).astype(bool)\n",
    "\n",
    "        # Stick the true model in there\n",
    "        # supports = np.vstack([supports, (beta.ravel() !=0).astype(bool)])\n",
    "\n",
    "        sa = selection_accuracy(beta.ravel(), supports)\n",
    "        # Keep track of oracle performance\n",
    "        MIC_scores_ = np.zeros((supports.shape[0], np1))\n",
    "\n",
    "        boot_estimates = np.zeros((supports.shape[0], n_features))\n",
    "                \n",
    "        models = []\n",
    "        \n",
    "        for j in range(supports.shape[0]):\n",
    "            \n",
    "            support = supports[j, :]\n",
    "\n",
    "            if np.count_nonzero(1 * support > 0):\n",
    "                model = LinearRegression().fit(X[:, support] , y)\n",
    "                boot_estimates[j, support] = model.coef_.ravel()\n",
    "                y_pred = model.predict(X[:, support])\n",
    "                models.append(model)\n",
    "            else:\n",
    "                y_pred = np.zeros(y.size)\n",
    "                models.append(np.nan)\n",
    "            MIC_scores_[j, :] =  np.array([MIC(y.ravel(), y_pred.ravel(), \n",
    "                                           np.count_nonzero(1 * support), penalty) \n",
    "                                           for penalty in penalties])\n",
    "\n",
    "        selected_models = np.argmin(MIC_scores_, axis = 0)\n",
    "\n",
    "        bayes_factors = np.zeros(np1)\n",
    "\n",
    "        for i3, penalty in enumerate(penalties):\n",
    "\n",
    "            support = supports[selected_models[i3], :]\n",
    "            yy = models[selected_models[i3]].predict(X[:, support])\n",
    "\n",
    "            ll_, p1_, BIC_, BIC2_, BIC3_, M_k_, P_M_ = bayesian_lambda_selection(\n",
    "                                                       y, yy, n_features, \n",
    "                                                       np.count_nonzero(1 * support),\n",
    "                                                       sparsity_estimates[i, :], penalty)\n",
    "\n",
    "            # Add things up appropriately\n",
    "            bayes_factors[i3] = 2 * ll_ - BIC_ - BIC2_ + BIC3_ - p1_ + P_M_\n",
    "\n",
    "\n",
    "        # Select the penalty based on the highest bayes factors \n",
    "        bidx = np.argmax(bayes_factors)\n",
    "\n",
    "        # Save the penalty strength and the chosen model\n",
    "        bayesian_penalty[i, boot] = penalties[bidx]\n",
    "\n",
    "        # For MIC scores, record the oracle selection accuracy and the oracle penalty\n",
    "        MIC_selection_accuracies = [selection_accuracy(beta.ravel(), \n",
    "                                    supports[selected_models[j], :]) \n",
    "                                    for j in range(selected_models.size)]\n",
    "\n",
    "        # For MIC scores, record the oracle selection accuracy and the orcale penalty \n",
    "\n",
    "        oracle_penalty[i, boot] = penalties[np.argmax(MIC_selection_accuracies)]\n",
    "        MIC_oracle_sa_[i, boot] = np.max(MIC_selection_accuracies)    \n",
    "        bMIC_sa_[i, boot] = MIC_selection_accuracies[bidx]\n",
    "        \n",
    "        # Record the best estimate on this bootstrap as determined by the oracle\n",
    "        # and by our procedure\n",
    "        estimates[boot, :] = boot_estimates[selected_models[bidx], :]\n",
    "        oracle_estimates[boot, :] = \\\n",
    "        boot_estimates[selected_models[np.argmax(MIC_selection_accuracies)], :]\n",
    "\n",
    "    # Take the median and record final selection accuracies\n",
    "    final_bayes_estimates[i, :] = np.median(estimates, axis = 0)\n",
    "    final_oracle_estimates[i, :] = np.median(oracle_estimates, axis = 0)\n",
    "    \n",
    "    MIC_oracle_sa[i] = selection_accuracy(beta.ravel(), final_oracle_estimates[i, :].ravel())\n",
    "    bMIC_sa[i] = selection_accuracy(beta.ravel(), final_bayes_estimates[i, :].ravel())\n",
    "    \n",
    "    print(time.time() - t0)"
   ]
  },
  {
   "cell_type": "code",
   "execution_count": 12,
   "metadata": {},
   "outputs": [
    {
     "data": {
      "text/plain": [
       "[<matplotlib.lines.Line2D at 0x264775069e8>]"
      ]
     },
     "execution_count": 12,
     "metadata": {},
     "output_type": "execute_result"
    },
    {
     "data": {
      "image/png": "[encoded data removed]",
      "text/plain": [
       "<Figure size 432x288 with 1 Axes>"
      ]
     },
     "metadata": {
      "needs_background": "light"
     },
     "output_type": "display_data"
    }
   ],
   "source": [
    "plt.plot(MIC_oracle_sa)\n",
    "plt.plot(bMIC_sa)"
   ]
  },
  {
   "cell_type": "code",
   "execution_count": null,
   "metadata": {},
   "outputs": [],
   "source": []
  }
 ],
 "metadata": {
  "kernelspec": {
   "display_name": "Python 3",
   "language": "python",
   "name": "python3"
  },
  "language_info": {
   "codemirror_mode": {
    "name": "ipython",
    "version": 3
   },
   "file_extension": ".py",
   "mimetype": "text/x-python",
   "name": "python",
   "nbconvert_exporter": "python",
   "pygments_lexer": "ipython3",
   "version": "3.6.6"
  }
 },
 "nbformat": 4,
 "nbformat_minor": 2
}
