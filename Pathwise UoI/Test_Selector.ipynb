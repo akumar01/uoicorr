{
 "cells": [
  {
   "cell_type": "code",
   "execution_count": 1,
   "metadata": {},
   "outputs": [],
   "source": [
    "%load_ext autoreload\n",
    "%autoreload 2"
   ]
  },
  {
   "cell_type": "code",
   "execution_count": 2,
   "metadata": {},
   "outputs": [],
   "source": [
    "# %load ../loaders/imports.py\n",
    "import sys, os\n",
    "import numpy as np\n",
    "import matplotlib.pyplot as plt\n",
    "import time\n",
    "import pdb\n",
    "\n",
    "sys.path.append('..')\n",
    "\n",
    "from utils import gen_covariance, gen_beta2, gen_data, get_cov_list\n",
    "from utils import selection_accuracy\n",
    "from sklearn.linear_model import LassoLars, lasso_path, LinearRegression\n",
    "\n",
    "from pyuoi.linear_model import UoI_Lasso\n",
    "from exp_types import CV_Lasso"
   ]
  },
  {
   "cell_type": "code",
   "execution_count": 3,
   "metadata": {},
   "outputs": [],
   "source": [
    "# %load ../loaders/datgen.py\n",
    "n_features = 50\n",
    "n_samples = 150\n",
    "\n",
    "sigma = gen_covariance(n_features, 0, n_features, 1, 0)\n",
    "beta = gen_beta2(n_features, n_features, sparsity = 0.2, betawidth = np.inf)\n",
    "X, X_test, y, y_test, ss = gen_data(n_samples, n_features, kappa = 100, \n",
    "\t\t\t\t\t\t\t\t\tcovariance = sigma, beta = beta)"
   ]
  },
  {
   "cell_type": "code",
   "execution_count": 19,
   "metadata": {},
   "outputs": [],
   "source": [
    "results = CV_Lasso.run(X, y, {'n_alphas' : 48, 'beta': beta.ravel()}, selection_methods = ['CV', 'AIC', 'BIC', 'eBIC', 'OIC'])"
   ]
  },
  {
   "cell_type": "code",
   "execution_count": 20,
   "metadata": {},
   "outputs": [
    {
     "data": {
      "text/plain": [
       "{'CV': {'coefs': array([ 0.        , -0.        ,  7.97773619,  0.        ,  0.05812999,\n",
       "          0.        , -0.        ,  0.        , -0.        ,  0.02355407,\n",
       "          1.23020833, -0.        , -0.        , -0.        ,  9.18303108,\n",
       "          8.89436353, -0.10015499, -0.0653442 ,  7.88015756, -0.        ,\n",
       "         -0.        ,  5.80579388, -0.26159971, -0.        , -0.        ,\n",
       "          0.        , -0.02001666,  0.        ,  3.45934896,  0.        ,\n",
       "          0.        , -0.29296548,  0.        , -0.        ,  8.51130213,\n",
       "          0.        ,  3.11119194, -0.        , -0.        ,  0.        ,\n",
       "          0.        , -0.        ,  0.20222235,  0.        , -0.04702723,\n",
       "         -0.        ,  0.        , -0.        ,  4.08751613, -0.        ]),\n",
       "  'reg_params': 0.1742758727482041},\n",
       " 'AIC': {'coefs': array([ 0.00000000e+00,  0.00000000e+00,  8.03365342e+00,  1.64741107e-02,\n",
       "          8.74036995e-02,  0.00000000e+00,  0.00000000e+00,  0.00000000e+00,\n",
       "         -4.42723445e-02,  5.28710582e-02,  1.26891742e+00,  0.00000000e+00,\n",
       "          0.00000000e+00,  0.00000000e+00,  9.23117155e+00,  8.93060770e+00,\n",
       "         -1.41384301e-01, -1.23716729e-01,  7.93505788e+00,  0.00000000e+00,\n",
       "          0.00000000e+00,  5.81937153e+00, -3.09545872e-01,  0.00000000e+00,\n",
       "          0.00000000e+00,  0.00000000e+00, -8.90680178e-02,  0.00000000e+00,\n",
       "          3.48554321e+00,  0.00000000e+00,  4.69243087e-02, -3.66733000e-01,\n",
       "          0.00000000e+00,  0.00000000e+00,  8.56733688e+00,  0.00000000e+00,\n",
       "          3.16603902e+00, -3.75004531e-03,  0.00000000e+00,  0.00000000e+00,\n",
       "          0.00000000e+00,  0.00000000e+00,  2.10385756e-01,  1.53168746e-02,\n",
       "         -7.78285525e-02,  0.00000000e+00,  0.00000000e+00,  0.00000000e+00,\n",
       "          4.13935909e+00,  0.00000000e+00]), 'reg_param': 0.12989059069846948},\n",
       " 'BIC': {'coefs': array([ 0.        ,  0.        ,  7.87271209,  0.        ,  0.01270706,\n",
       "          0.        ,  0.        ,  0.        ,  0.        ,  0.        ,\n",
       "          1.21207393,  0.        ,  0.        ,  0.        ,  9.11027966,\n",
       "          8.85845072, -0.04305936,  0.        ,  7.81076094,  0.        ,\n",
       "          0.        ,  5.78665086, -0.18637859,  0.        ,  0.        ,\n",
       "          0.        ,  0.        ,  0.        ,  3.40193595,  0.        ,\n",
       "          0.        , -0.26019692,  0.        ,  0.        ,  8.44178766,\n",
       "          0.        ,  3.0067879 ,  0.        ,  0.        ,  0.        ,\n",
       "          0.        ,  0.        ,  0.20378651,  0.        ,  0.        ,\n",
       "          0.        ,  0.        ,  0.        ,  4.02251377,  0.        ]),\n",
       "  'reg_param': 0.2338281753807292},\n",
       " 'eBIC': {'coefs': array([0.        , 0.        , 0.        , 0.        , 0.        ,\n",
       "         0.        , 0.        , 0.        , 0.        , 0.        ,\n",
       "         0.        , 0.        , 0.        , 0.        , 0.        ,\n",
       "         1.42883104, 0.        , 0.        , 0.        , 0.        ,\n",
       "         0.        , 0.        , 0.        , 0.        , 0.        ,\n",
       "         0.        , 0.        , 0.        , 0.        , 0.        ,\n",
       "         0.        , 0.        , 0.        , 0.        , 0.        ,\n",
       "         0.        , 0.        , 0.        , 0.        , 0.        ,\n",
       "         0.        , 0.        , 0.        , 0.        , 0.        ,\n",
       "         0.        , 0.        , 0.        , 0.        , 0.        ]),\n",
       "  'reg_param': 9.218102260075678},\n",
       " 'OIC': {'coefs': array([ 0.        ,  0.        ,  7.76569009,  0.        ,  0.        ,\n",
       "          0.        ,  0.        ,  0.        ,  0.        ,  0.        ,\n",
       "          1.17565572,  0.        ,  0.        ,  0.        ,  9.01277404,\n",
       "          8.78676842,  0.        ,  0.        ,  7.7253056 ,  0.        ,\n",
       "          0.        ,  5.7521374 , -0.08664107,  0.        ,  0.        ,\n",
       "          0.        ,  0.        ,  0.        ,  3.33550221,  0.        ,\n",
       "          0.        , -0.20753443,  0.        ,  0.        ,  8.36385724,\n",
       "          0.        ,  2.89249654,  0.        ,  0.        ,  0.        ,\n",
       "          0.        ,  0.        ,  0.184819  ,  0.        ,  0.        ,\n",
       "          0.        ,  0.        ,  0.        ,  3.94655325,  0.        ]),\n",
       "  'reg_param': 0.31373026420517225}}"
      ]
     },
     "execution_count": 20,
     "metadata": {},
     "output_type": "execute_result"
    }
   ],
   "source": [
    "results"
   ]
  },
  {
   "cell_type": "code",
   "execution_count": null,
   "metadata": {},
   "outputs": [],
   "source": []
  }
 ],
 "metadata": {
  "kernelspec": {
   "display_name": "Python 3",
   "language": "python",
   "name": "python3"
  },
  "language_info": {
   "codemirror_mode": {
    "name": "ipython",
    "version": 3
   },
   "file_extension": ".py",
   "mimetype": "text/x-python",
   "name": "python",
   "nbconvert_exporter": "python",
   "pygments_lexer": "ipython3",
   "version": "3.6.7"
  }
 },
 "nbformat": 4,
 "nbformat_minor": 2
}
