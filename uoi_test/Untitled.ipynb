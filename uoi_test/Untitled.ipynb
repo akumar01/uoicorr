{
 "cells": [
  {
   "cell_type": "code",
   "execution_count": 1,
   "metadata": {},
   "outputs": [],
   "source": [
    "from sklearn.linear_model import LassoCV\n",
    "from sklearn.linear_model import ElasticNetCV\n",
    "from pyuoi.linear_model import UoI_Lasso"
   ]
  },
  {
   "cell_type": "code",
   "execution_count": 2,
   "metadata": {},
   "outputs": [],
   "source": [
    "import numpy as np"
   ]
  },
  {
   "cell_type": "code",
   "execution_count": 6,
   "metadata": {},
   "outputs": [],
   "source": [
    "import matplotlib.pyplot as plt"
   ]
  },
  {
   "cell_type": "code",
   "execution_count": 3,
   "metadata": {},
   "outputs": [],
   "source": [
    "import os\n",
    "import h5py"
   ]
  },
  {
   "cell_type": "code",
   "execution_count": 3,
   "metadata": {},
   "outputs": [],
   "source": [
    "import sys\n",
    "sys.path.append('..')"
   ]
  },
  {
   "cell_type": "code",
   "execution_count": 4,
   "metadata": {},
   "outputs": [],
   "source": [
    "from utils import gen_beta2"
   ]
  },
  {
   "cell_type": "code",
   "execution_count": 6,
   "metadata": {},
   "outputs": [],
   "source": [
    "import matplotlib.pyplot as plt"
   ]
  },
  {
   "cell_type": "code",
   "execution_count": 12,
   "metadata": {},
   "outputs": [],
   "source": [
    "beta1 = gen_beta2(betawidth = -5)\n",
    "beta2 = gen_beta2(betawidth = -5)"
   ]
  },
  {
   "cell_type": "code",
   "execution_count": 15,
   "metadata": {},
   "outputs": [],
   "source": [
    "from utils import estimation_error"
   ]
  },
  {
   "cell_type": "code",
   "execution_count": 7,
   "metadata": {},
   "outputs": [],
   "source": [
    "f1 = h5py.File('dataset1.h5', 'r')"
   ]
  },
  {
   "cell_type": "code",
   "execution_count": 9,
   "metadata": {},
   "outputs": [],
   "source": [
    "uoil = UoI_Lasso(normalize = True, n_boots_sel = 48, n_boots_est = 48, estimation_score = 'r2', stability_selection = 1)"
   ]
  },
  {
   "cell_type": "code",
   "execution_count": 12,
   "metadata": {},
   "outputs": [
    {
     "data": {
      "text/plain": [
       "UoI_Lasso(comm=None, copy_X=True, eps=0.001, estimation_frac=0.9,\n",
       "     estimation_score='r2', fit_intercept=True, max_iter=None,\n",
       "     n_boots_est=48, n_boots_sel=48, n_lambdas=48, normalize=True,\n",
       "     random_state=<module 'numpy.random' from 'C:\\\\Users\\\\Ankit\\\\Miniconda3\\\\envs\\\\nse\\\\lib\\\\site-packages\\\\numpy\\\\random\\\\__init__.py'>,\n",
       "     selection_frac=0.9, stability_selection=1, warm_start=None)"
      ]
     },
     "execution_count": 12,
     "metadata": {},
     "output_type": "execute_result"
    }
   ],
   "source": [
    "uoil.fit(f1['X'][:], f1['y'][:].ravel())"
   ]
  },
  {
   "cell_type": "code",
   "execution_count": 13,
   "metadata": {},
   "outputs": [],
   "source": [
    "f2 = h5py.File('dataset2.h5', 'r')"
   ]
  },
  {
   "cell_type": "code",
   "execution_count": 14,
   "metadata": {},
   "outputs": [
    {
     "data": {
      "text/plain": [
       "UoI_Lasso(comm=None, copy_X=True, eps=0.001, estimation_frac=0.9,\n",
       "     estimation_score='r2', fit_intercept=True, max_iter=None,\n",
       "     n_boots_est=48, n_boots_sel=48, n_lambdas=48, normalize=True,\n",
       "     random_state=<module 'numpy.random' from 'C:\\\\Users\\\\Ankit\\\\Miniconda3\\\\envs\\\\nse\\\\lib\\\\site-packages\\\\numpy\\\\random\\\\__init__.py'>,\n",
       "     selection_frac=0.9, stability_selection=1, warm_start=None)"
      ]
     },
     "execution_count": 14,
     "metadata": {},
     "output_type": "execute_result"
    }
   ],
   "source": [
    "uoil2 = UoI_Lasso(normalize = True, n_boots_sel = 48, n_boots_est = 48, estimation_score = 'r2', stability_selection = 1)\n",
    "uoil2.fit(f2['X'][:], f2['y'][:].ravel())"
   ]
  },
  {
   "cell_type": "code",
   "execution_count": 4,
   "metadata": {},
   "outputs": [
    {
     "data": {
      "text/plain": [
       "UoI_Lasso(comm=None, copy_X=True, eps=0.001, estimation_frac=0.9,\n",
       "     estimation_score='r2', fit_intercept=True, max_iter=None,\n",
       "     n_boots_est=48, n_boots_sel=48, n_lambdas=48, normalize=True,\n",
       "     random_state=<module 'numpy.random' from 'C:\\\\Users\\\\Ankit\\\\Miniconda3\\\\envs\\\\nse\\\\lib\\\\site-packages\\\\numpy\\\\random\\\\__init__.py'>,\n",
       "     selection_frac=0.9, stability_selection=1, warm_start=None)"
      ]
     },
     "execution_count": 4,
     "metadata": {},
     "output_type": "execute_result"
    }
   ],
   "source": [
    "f4 = h5py.File('dataset4.h5', 'r')\n",
    "uoil4 = UoI_Lasso(normalize = True, n_boots_sel = 48, n_boots_est = 48, estimation_score = 'r2', stability_selection = 1)\n",
    "uoil4.fit(f4['X'][:], f4['y'][:].ravel())"
   ]
  },
  {
   "cell_type": "code",
   "execution_count": 7,
   "metadata": {},
   "outputs": [
    {
     "data": {
      "text/plain": [
       "(-100, 100)"
      ]
     },
     "execution_count": 7,
     "metadata": {},
     "output_type": "execute_result"
    },
    {
     "data": {
      "image/png": "[encoded data removed]",
      "text/plain": [
       "<Figure size 432x288 with 1 Axes>"
      ]
     },
     "metadata": {
      "needs_background": "light"
     },
     "output_type": "display_data"
    }
   ],
   "source": [
    "plt.plot(uoil4.coef_)\n",
    "plt.ylim([-100, 100])"
   ]
  },
  {
   "cell_type": "code",
   "execution_count": 10,
   "metadata": {},
   "outputs": [
    {
     "data": {
      "text/plain": [
       "UoI_Lasso(comm=None, copy_X=True, eps=0.001, estimation_frac=0.9,\n",
       "     estimation_score='r2', fit_intercept=True, max_iter=None,\n",
       "     n_boots_est=48, n_boots_sel=48, n_lambdas=48, normalize=True,\n",
       "     random_state=<mtrand.RandomState object at 0x000001D38A3249D8>,\n",
       "     selection_frac=0.9, stability_selection=0.5, warm_start=None)"
      ]
     },
     "execution_count": 10,
     "metadata": {},
     "output_type": "execute_result"
    }
   ],
   "source": [
    "f4 = h5py.File('dataset4.h5', 'r')\n",
    "uoil4_2 = UoI_Lasso(normalize = True, n_boots_sel = 48, n_boots_est = 48, estimation_score = 'r2', stability_selection = 0.5, random_state = 1234)\n",
    "uoil4_2.fit(f4['X'][:], f4['y'][:].ravel())"
   ]
  },
  {
   "cell_type": "code",
   "execution_count": 28,
   "metadata": {},
   "outputs": [
    {
     "data": {
      "text/plain": [
       "array([  0.        ,   0.        ,   0.        ,   0.        ,\n",
       "         6.36214633,   0.        ,   0.        ,   8.17335269,\n",
       "        36.51341328,   0.        ,   5.06634309,   0.        ,\n",
       "         0.        ,   0.        ,   4.67901667,   0.        ,\n",
       "         0.        ,   0.        ,   0.        ,   0.        ,\n",
       "         0.        ,  23.49982408,   0.        ,   0.        ,\n",
       "         0.        ,   0.        ,  28.90644159,   7.06015364,\n",
       "         0.        ,   0.        ,   0.        ,   0.        ,\n",
       "         5.27898592,  14.24704501,  19.30621289,   0.        ,\n",
       "         0.        ,   0.        ,   0.        ,   0.        ,\n",
       "        28.97044416,   0.        ,   0.56306042,   0.        ,\n",
       "         0.        ,   0.        ,  24.90479139,   0.        ,\n",
       "        46.29202008,   0.        ,   0.        ,   0.        ,\n",
       "         0.        ,   8.26630752,   0.        ,  10.52887985,\n",
       "         0.13778777,   0.        ,   0.        ,   0.        ,\n",
       "         0.        , -12.14003455,   0.        ,  40.77928083,\n",
       "         0.        ,   0.        ,   0.        ,   0.        ,\n",
       "         0.        ,   0.91399135,   0.        ,   0.        ,\n",
       "        57.08349787,   0.        ,  -5.18984049,   0.        ,\n",
       "        -0.10950235,   0.        ,   0.        ,  14.73868269,\n",
       "        11.95182253,   3.29594923,   0.        ,   0.        ,\n",
       "         0.        ,   0.        ,   0.        ,   0.        ,\n",
       "        15.69241845,   0.        ,  23.20594463,   3.90655861,\n",
       "         0.        ,   0.        ,   0.        ,   0.        ,\n",
       "        11.47698585,   0.        ,   0.        ,  25.53248422,\n",
       "         0.        ,   0.        ,  14.53135461,   1.79701586,\n",
       "         0.        ,   0.        ,   0.        ,   0.        ,\n",
       "       -20.10058439,  35.47552716,   0.        ,   0.        ,\n",
       "         0.        ,   0.        ,   9.88876292,   0.        ,\n",
       "         0.        ,   0.        ,  69.32681467,   0.        ,\n",
       "         0.        , -14.19523623,   0.        ,   0.        ,\n",
       "         0.        ,   0.        ,   0.        ,  20.45049334,\n",
       "         0.        ,  28.81299629,   0.        ,   0.        ,\n",
       "         0.        ,   0.        ,   0.        ,   0.        ,\n",
       "         0.        ,  11.84489261,  23.72088864,   0.        ,\n",
       "         0.        ,   0.        ,   0.        ,  18.35258504,\n",
       "         0.        ,   0.        ,   0.        ,  24.84676609,\n",
       "         0.        ,   0.        ,  21.1758565 ,  41.16125959,\n",
       "         0.        ,   0.        ,   0.        , -41.11175303,\n",
       "         0.        ,   0.        ,  74.64766975,   0.        ,\n",
       "       -57.73505149,   0.        ,  31.59849896,   0.        ,\n",
       "        -6.67702421,   0.        ,   6.33145198,   0.        ,\n",
       "        25.26204235,   0.        ,   0.        ,   0.        ,\n",
       "         0.        ,   0.        ,   0.        ,  23.49091296,\n",
       "         0.        ,   0.        ,   7.52788897,   0.        ,\n",
       "         0.        ,   0.        ,  21.38300019,   3.18970954,\n",
       "         0.        ,   0.        ,   0.        ,  25.19691537,\n",
       "         0.        ,   0.        ,   0.        ,   0.        ,\n",
       "        11.55325422,   0.        ,   0.        ,  22.47464947,\n",
       "         0.        ,   0.        ,   0.        ,   0.        ])"
      ]
     },
     "execution_count": 28,
     "metadata": {},
     "output_type": "execute_result"
    }
   ],
   "source": [
    "uoil4_2.coef_"
   ]
  },
  {
   "cell_type": "code",
   "execution_count": 12,
   "metadata": {},
   "outputs": [
    {
     "data": {
      "text/plain": [
       "61"
      ]
     },
     "execution_count": 12,
     "metadata": {},
     "output_type": "execute_result"
    }
   ],
   "source": [
    "np.count_nonzero(uoil4_2.coef_)"
   ]
  },
  {
   "cell_type": "code",
   "execution_count": 17,
   "metadata": {},
   "outputs": [
    {
     "data": {
      "text/plain": [
       "['X', 'X_test', 'beta', 'sigma', 'y', 'y_test']"
      ]
     },
     "execution_count": 17,
     "metadata": {},
     "output_type": "execute_result"
    }
   ],
   "source": [
    "list(f4.keys())"
   ]
  },
  {
   "cell_type": "code",
   "execution_count": 19,
   "metadata": {},
   "outputs": [],
   "source": [
    "ee4 = estimation_error(f4['beta'][:].ravel(), uoil4.coef_.ravel())"
   ]
  },
  {
   "cell_type": "code",
   "execution_count": 20,
   "metadata": {},
   "outputs": [
    {
     "data": {
      "text/plain": [
       "(array([2.83784669]), array([16.06954961]))"
      ]
     },
     "execution_count": 20,
     "metadata": {},
     "output_type": "execute_result"
    }
   ],
   "source": [
    "ee4"
   ]
  },
  {
   "cell_type": "code",
   "execution_count": 22,
   "metadata": {},
   "outputs": [],
   "source": [
    "ee4_2 = estimation_error(f4['beta'][:].ravel(), uoil4_2.coef_.ravel())"
   ]
  },
  {
   "cell_type": "code",
   "execution_count": 23,
   "metadata": {},
   "outputs": [
    {
     "data": {
      "text/plain": [
       "(array([3.48727431]), array([14.83039318]))"
      ]
     },
     "execution_count": 23,
     "metadata": {},
     "output_type": "execute_result"
    }
   ],
   "source": [
    "ee4_2"
   ]
  },
  {
   "cell_type": "code",
   "execution_count": 25,
   "metadata": {},
   "outputs": [
    {
     "data": {
      "text/plain": [
       "ElasticNetCV(alphas=None, copy_X=True, cv=5, eps=0.001, fit_intercept=True,\n",
       "       l1_ratio=0.5, max_iter=1000, n_alphas=100, n_jobs=None,\n",
       "       normalize=True, positive=False, precompute='auto',\n",
       "       random_state=None, selection='cyclic', tol=0.0001, verbose=0)"
      ]
     },
     "execution_count": 25,
     "metadata": {},
     "output_type": "execute_result"
    }
   ],
   "source": [
    "f4 = h5py.File('dataset4.h5', 'r')\n",
    "en = ElasticNetCV(cv = 5, normalize = True)\n",
    "en.fit(f4['X'][:], f4['y'][:].ravel())"
   ]
  },
  {
   "cell_type": "code",
   "execution_count": 26,
   "metadata": {},
   "outputs": [],
   "source": [
    "ee_en = estimation_error(f4['beta'][:].ravel(), en.coef_.ravel())"
   ]
  },
  {
   "cell_type": "code",
   "execution_count": 27,
   "metadata": {},
   "outputs": [
    {
     "data": {
      "text/plain": [
       "(array([0.27397435]), array([2.65966236]))"
      ]
     },
     "execution_count": 27,
     "metadata": {},
     "output_type": "execute_result"
    }
   ],
   "source": [
    "ee_en"
   ]
  },
  {
   "cell_type": "code",
   "execution_count": null,
   "metadata": {},
   "outputs": [],
   "source": []
  }
 ],
 "metadata": {
  "kernelspec": {
   "display_name": "Python 3",
   "language": "python",
   "name": "python3"
  },
  "language_info": {
   "codemirror_mode": {
    "name": "ipython",
    "version": 3
   },
   "file_extension": ".py",
   "mimetype": "text/x-python",
   "name": "python",
   "nbconvert_exporter": "python",
   "pygments_lexer": "ipython3",
   "version": "3.6.7"
  }
 },
 "nbformat": 4,
 "nbformat_minor": 2
}
