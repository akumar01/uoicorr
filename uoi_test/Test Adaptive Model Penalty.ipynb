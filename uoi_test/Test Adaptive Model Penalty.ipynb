{
 "cells": [
  {
   "cell_type": "code",
   "execution_count": 1,
   "metadata": {},
   "outputs": [],
   "source": [
    "import numpy as np \n",
    "#from pyuoi.linear_model import UoILasso\n",
    "import os, sys\n",
    "sys.path.append('..')\n",
    "from utils import gen_covariance, gen_beta2, gen_data"
   ]
  },
  {
   "cell_type": "code",
   "execution_count": 2,
   "metadata": {},
   "outputs": [],
   "source": [
    "sigma = gen_covariance(100, 0.25, 10, 1, 0)\n",
    "beta = gen_beta2(100, 10)\n",
    "X, X_test, y, y_test, sigma_sq = gen_data(500, 100, covariance = sigma, beta = beta)"
   ]
  },
  {
   "cell_type": "code",
   "execution_count": 3,
   "metadata": {},
   "outputs": [],
   "source": [
    "from pyuoi.linear_model import UoI_Lasso"
   ]
  },
  {
   "cell_type": "code",
   "execution_count": null,
   "metadata": {},
   "outputs": [],
   "source": [
    "uoil = UoI_Lasso(estimation_score = 'adaptive', random_state = 1234, n_boots_sel = 1)"
   ]
  },
  {
   "cell_type": "code",
   "execution_count": null,
   "metadata": {},
   "outputs": [
    {
     "name": "stdout",
     "output_type": "stream",
     "text": [
      "40.408947229385376\n",
      "> c:\\users\\ankit\\nse\\pyuoi\\pyuoi\\linear_model\\adaptive.py(75)adaptively_score_models()\n",
      "-> scores[idx] = loss_fn(y_true, X @ models[idx, :], sigma_squared, g_lambda)\n",
      "(Pdb) idx\n",
      "(0, 0)\n",
      "(Pdb) !idx\n",
      "(0, 0)\n",
      "(Pdb) models[idx, i].shap[e\n",
      "*** SyntaxError: unexpected EOF while parsing\n",
      "(Pdb) models[idx, i].shape\n",
      "*** NameError: name 'i' is not defined\n",
      "(Pdb) models[idx, :].shape\n",
      "(2, 38, 100)\n",
      "(Pdb) models.shape\n",
      "(48, 38, 100)\n",
      "(Pdb) models[*idx, :].shape\n",
      "*** SyntaxError: invalid syntax\n",
      "(Pdb) models[idx[0], idx[1], :].shape\n",
      "(100,)\n",
      "(Pdb) models[np.array([0, 0]), :].shape\n",
      "(2, 38, 100)\n",
      "(Pdb) models[[0], [0], :].shape\n",
      "(1, 100)\n",
      "(Pdb) models[[0, 0], :].shape\n",
      "(2, 38, 100)\n"
     ]
    }
   ],
   "source": [
    "uoil.fit(X, y)"
   ]
  },
  {
   "cell_type": "code",
   "execution_count": null,
   "metadata": {},
   "outputs": [],
   "source": []
  },
  {
   "cell_type": "code",
   "execution_count": null,
   "metadata": {},
   "outputs": [],
   "source": []
  }
 ],
 "metadata": {
  "kernelspec": {
   "display_name": "Python 3",
   "language": "python",
   "name": "python3"
  },
  "language_info": {
   "codemirror_mode": {
    "name": "ipython",
    "version": 3
   },
   "file_extension": ".py",
   "mimetype": "text/x-python",
   "name": "python",
   "nbconvert_exporter": "python",
   "pygments_lexer": "ipython3",
   "version": "3.6.6"
  }
 },
 "nbformat": 4,
 "nbformat_minor": 2
}
